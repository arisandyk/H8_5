{
 "cells": [
  {
   "cell_type": "markdown",
   "id": "1a166508",
   "metadata": {},
   "source": [
    "# Assignment 2\n",
    "```\n",
    "Kalau kita buat listnya/summary dari perintah di module kode id :\n",
    "\n",
    "A. Measure of Central Tendency: Mean     (P/N/S)\n",
    "B. Measure of Central Tendency: Median   (P/N/S)\n",
    "C. Measure of Central Tendency: Modus    (P/N/S)\n",
    "D. Measure of Spread: Range              (P/N/S)\n",
    "E. Measure of Spread: Variance           (P/N/S)\n",
    "F. Measure of Spread: Standard Deviation (P/N/S)\n",
    "G. Probability Distribution              (+C)\n",
    "H. Confidence Intervals\n",
    "I. Hypothesis Testing                    (+C)\n",
    "\n",
    "*for each (A - I):\n",
    "- Question/what data we want to look up\n",
    "- Pre-processing if needed\n",
    "\n",
    "===\n",
    "Keterangan:\n",
    "(P/N/S) : Pandas / NumPy / Scipy\n",
    "(+C)    : +Conclusion (menarik informasi/kesimpulan)\n",
    "\n",
    "===\n",
    "(*)Untuk:\n",
    "- contoh question,  ada di page/halamannya Assignment 2 \"Examples of questions can be ...\"\n",
    "- more detail tentang dekripsi kolom pada dataset & special note tentang dataset, juga ada di halaman yang sama\n",
    "```"
   ]
  },
  {
   "cell_type": "code",
   "execution_count": 1,
   "id": "36fcd760",
   "metadata": {},
   "outputs": [],
   "source": [
    "# Import Package yang diperlukan\n",
    "import math\n",
    "import statistics\n",
    "import numpy as np\n",
    "import scipy.stats\n",
    "import pandas as pd\n",
    "import matplotlib.pyplot as plt"
   ]
  },
  {
   "cell_type": "code",
   "execution_count": 2,
   "id": "7218efd9",
   "metadata": {},
   "outputs": [],
   "source": [
    "# Buat dataframe utama\n",
    "df_ds = pd.read_csv('nyc-rolling-sales.csv')"
   ]
  },
  {
   "cell_type": "markdown",
   "id": "047ec4c3",
   "metadata": {},
   "source": [
    "## Preprocessing Data : Data Cleansing"
   ]
  },
  {
   "cell_type": "code",
   "execution_count": 3,
   "id": "2f0c4bfd",
   "metadata": {},
   "outputs": [
    {
     "data": {
      "text/html": [
       "<div>\n",
       "<style scoped>\n",
       "    .dataframe tbody tr th:only-of-type {\n",
       "        vertical-align: middle;\n",
       "    }\n",
       "\n",
       "    .dataframe tbody tr th {\n",
       "        vertical-align: top;\n",
       "    }\n",
       "\n",
       "    .dataframe thead th {\n",
       "        text-align: right;\n",
       "    }\n",
       "</style>\n",
       "<table border=\"1\" class=\"dataframe\">\n",
       "  <thead>\n",
       "    <tr style=\"text-align: right;\">\n",
       "      <th></th>\n",
       "      <th>Unnamed: 0</th>\n",
       "      <th>BOROUGH</th>\n",
       "      <th>NEIGHBORHOOD</th>\n",
       "      <th>BUILDING CLASS CATEGORY</th>\n",
       "      <th>TAX CLASS AT PRESENT</th>\n",
       "      <th>BLOCK</th>\n",
       "      <th>LOT</th>\n",
       "      <th>EASE-MENT</th>\n",
       "      <th>BUILDING CLASS AT PRESENT</th>\n",
       "      <th>ADDRESS</th>\n",
       "      <th>...</th>\n",
       "      <th>RESIDENTIAL UNITS</th>\n",
       "      <th>COMMERCIAL UNITS</th>\n",
       "      <th>TOTAL UNITS</th>\n",
       "      <th>LAND SQUARE FEET</th>\n",
       "      <th>GROSS SQUARE FEET</th>\n",
       "      <th>YEAR BUILT</th>\n",
       "      <th>TAX CLASS AT TIME OF SALE</th>\n",
       "      <th>BUILDING CLASS AT TIME OF SALE</th>\n",
       "      <th>SALE PRICE</th>\n",
       "      <th>SALE DATE</th>\n",
       "    </tr>\n",
       "  </thead>\n",
       "  <tbody>\n",
       "    <tr>\n",
       "      <th>0</th>\n",
       "      <td>4</td>\n",
       "      <td>1</td>\n",
       "      <td>ALPHABET CITY</td>\n",
       "      <td>07 RENTALS - WALKUP APARTMENTS</td>\n",
       "      <td>2A</td>\n",
       "      <td>392</td>\n",
       "      <td>6</td>\n",
       "      <td></td>\n",
       "      <td>C2</td>\n",
       "      <td>153 AVENUE B</td>\n",
       "      <td>...</td>\n",
       "      <td>5</td>\n",
       "      <td>0</td>\n",
       "      <td>5</td>\n",
       "      <td>1633</td>\n",
       "      <td>6440</td>\n",
       "      <td>1900</td>\n",
       "      <td>2</td>\n",
       "      <td>C2</td>\n",
       "      <td>6625000</td>\n",
       "      <td>2017-07-19 00:00:00</td>\n",
       "    </tr>\n",
       "    <tr>\n",
       "      <th>1</th>\n",
       "      <td>5</td>\n",
       "      <td>1</td>\n",
       "      <td>ALPHABET CITY</td>\n",
       "      <td>07 RENTALS - WALKUP APARTMENTS</td>\n",
       "      <td>2</td>\n",
       "      <td>399</td>\n",
       "      <td>26</td>\n",
       "      <td></td>\n",
       "      <td>C7</td>\n",
       "      <td>234 EAST 4TH   STREET</td>\n",
       "      <td>...</td>\n",
       "      <td>28</td>\n",
       "      <td>3</td>\n",
       "      <td>31</td>\n",
       "      <td>4616</td>\n",
       "      <td>18690</td>\n",
       "      <td>1900</td>\n",
       "      <td>2</td>\n",
       "      <td>C7</td>\n",
       "      <td>-</td>\n",
       "      <td>2016-12-14 00:00:00</td>\n",
       "    </tr>\n",
       "    <tr>\n",
       "      <th>2</th>\n",
       "      <td>6</td>\n",
       "      <td>1</td>\n",
       "      <td>ALPHABET CITY</td>\n",
       "      <td>07 RENTALS - WALKUP APARTMENTS</td>\n",
       "      <td>2</td>\n",
       "      <td>399</td>\n",
       "      <td>39</td>\n",
       "      <td></td>\n",
       "      <td>C7</td>\n",
       "      <td>197 EAST 3RD   STREET</td>\n",
       "      <td>...</td>\n",
       "      <td>16</td>\n",
       "      <td>1</td>\n",
       "      <td>17</td>\n",
       "      <td>2212</td>\n",
       "      <td>7803</td>\n",
       "      <td>1900</td>\n",
       "      <td>2</td>\n",
       "      <td>C7</td>\n",
       "      <td>-</td>\n",
       "      <td>2016-12-09 00:00:00</td>\n",
       "    </tr>\n",
       "    <tr>\n",
       "      <th>3</th>\n",
       "      <td>7</td>\n",
       "      <td>1</td>\n",
       "      <td>ALPHABET CITY</td>\n",
       "      <td>07 RENTALS - WALKUP APARTMENTS</td>\n",
       "      <td>2B</td>\n",
       "      <td>402</td>\n",
       "      <td>21</td>\n",
       "      <td></td>\n",
       "      <td>C4</td>\n",
       "      <td>154 EAST 7TH STREET</td>\n",
       "      <td>...</td>\n",
       "      <td>10</td>\n",
       "      <td>0</td>\n",
       "      <td>10</td>\n",
       "      <td>2272</td>\n",
       "      <td>6794</td>\n",
       "      <td>1913</td>\n",
       "      <td>2</td>\n",
       "      <td>C4</td>\n",
       "      <td>3936272</td>\n",
       "      <td>2016-09-23 00:00:00</td>\n",
       "    </tr>\n",
       "    <tr>\n",
       "      <th>4</th>\n",
       "      <td>8</td>\n",
       "      <td>1</td>\n",
       "      <td>ALPHABET CITY</td>\n",
       "      <td>07 RENTALS - WALKUP APARTMENTS</td>\n",
       "      <td>2A</td>\n",
       "      <td>404</td>\n",
       "      <td>55</td>\n",
       "      <td></td>\n",
       "      <td>C2</td>\n",
       "      <td>301 EAST 10TH   STREET</td>\n",
       "      <td>...</td>\n",
       "      <td>6</td>\n",
       "      <td>0</td>\n",
       "      <td>6</td>\n",
       "      <td>2369</td>\n",
       "      <td>4615</td>\n",
       "      <td>1900</td>\n",
       "      <td>2</td>\n",
       "      <td>C2</td>\n",
       "      <td>8000000</td>\n",
       "      <td>2016-11-17 00:00:00</td>\n",
       "    </tr>\n",
       "  </tbody>\n",
       "</table>\n",
       "<p>5 rows × 22 columns</p>\n",
       "</div>"
      ],
      "text/plain": [
       "   Unnamed: 0  BOROUGH   NEIGHBORHOOD  \\\n",
       "0           4        1  ALPHABET CITY   \n",
       "1           5        1  ALPHABET CITY   \n",
       "2           6        1  ALPHABET CITY   \n",
       "3           7        1  ALPHABET CITY   \n",
       "4           8        1  ALPHABET CITY   \n",
       "\n",
       "                       BUILDING CLASS CATEGORY TAX CLASS AT PRESENT  BLOCK  \\\n",
       "0  07 RENTALS - WALKUP APARTMENTS                                2A    392   \n",
       "1  07 RENTALS - WALKUP APARTMENTS                                 2    399   \n",
       "2  07 RENTALS - WALKUP APARTMENTS                                 2    399   \n",
       "3  07 RENTALS - WALKUP APARTMENTS                                2B    402   \n",
       "4  07 RENTALS - WALKUP APARTMENTS                                2A    404   \n",
       "\n",
       "   LOT EASE-MENT BUILDING CLASS AT PRESENT                 ADDRESS  ...  \\\n",
       "0    6                                  C2            153 AVENUE B  ...   \n",
       "1   26                                  C7   234 EAST 4TH   STREET  ...   \n",
       "2   39                                  C7   197 EAST 3RD   STREET  ...   \n",
       "3   21                                  C4     154 EAST 7TH STREET  ...   \n",
       "4   55                                  C2  301 EAST 10TH   STREET  ...   \n",
       "\n",
       "  RESIDENTIAL UNITS  COMMERCIAL UNITS  TOTAL UNITS  LAND SQUARE FEET  \\\n",
       "0                 5                 0            5              1633   \n",
       "1                28                 3           31              4616   \n",
       "2                16                 1           17              2212   \n",
       "3                10                 0           10              2272   \n",
       "4                 6                 0            6              2369   \n",
       "\n",
       "   GROSS SQUARE FEET YEAR BUILT TAX CLASS AT TIME OF SALE  \\\n",
       "0               6440       1900                         2   \n",
       "1              18690       1900                         2   \n",
       "2               7803       1900                         2   \n",
       "3               6794       1913                         2   \n",
       "4               4615       1900                         2   \n",
       "\n",
       "   BUILDING CLASS AT TIME OF SALE  SALE PRICE            SALE DATE  \n",
       "0                              C2     6625000  2017-07-19 00:00:00  \n",
       "1                              C7         -    2016-12-14 00:00:00  \n",
       "2                              C7         -    2016-12-09 00:00:00  \n",
       "3                              C4     3936272  2016-09-23 00:00:00  \n",
       "4                              C2     8000000  2016-11-17 00:00:00  \n",
       "\n",
       "[5 rows x 22 columns]"
      ]
     },
     "execution_count": 3,
     "metadata": {},
     "output_type": "execute_result"
    }
   ],
   "source": [
    "# Cek Missing value\n",
    "df_ds.head()"
   ]
  },
  {
   "cell_type": "code",
   "execution_count": 4,
   "id": "017b69fc",
   "metadata": {},
   "outputs": [
    {
     "name": "stdout",
     "output_type": "stream",
     "text": [
      "<class 'pandas.core.frame.DataFrame'>\n",
      "RangeIndex: 84548 entries, 0 to 84547\n",
      "Data columns (total 22 columns):\n",
      " #   Column                          Non-Null Count  Dtype \n",
      "---  ------                          --------------  ----- \n",
      " 0   Unnamed: 0                      84548 non-null  int64 \n",
      " 1   BOROUGH                         84548 non-null  int64 \n",
      " 2   NEIGHBORHOOD                    84548 non-null  object\n",
      " 3   BUILDING CLASS CATEGORY         84548 non-null  object\n",
      " 4   TAX CLASS AT PRESENT            84548 non-null  object\n",
      " 5   BLOCK                           84548 non-null  int64 \n",
      " 6   LOT                             84548 non-null  int64 \n",
      " 7   EASE-MENT                       84548 non-null  object\n",
      " 8   BUILDING CLASS AT PRESENT       84548 non-null  object\n",
      " 9   ADDRESS                         84548 non-null  object\n",
      " 10  APARTMENT NUMBER                84548 non-null  object\n",
      " 11  ZIP CODE                        84548 non-null  int64 \n",
      " 12  RESIDENTIAL UNITS               84548 non-null  int64 \n",
      " 13  COMMERCIAL UNITS                84548 non-null  int64 \n",
      " 14  TOTAL UNITS                     84548 non-null  int64 \n",
      " 15  LAND SQUARE FEET                84548 non-null  object\n",
      " 16  GROSS SQUARE FEET               84548 non-null  object\n",
      " 17  YEAR BUILT                      84548 non-null  int64 \n",
      " 18  TAX CLASS AT TIME OF SALE       84548 non-null  int64 \n",
      " 19  BUILDING CLASS AT TIME OF SALE  84548 non-null  object\n",
      " 20  SALE PRICE                      84548 non-null  object\n",
      " 21  SALE DATE                       84548 non-null  object\n",
      "dtypes: int64(10), object(12)\n",
      "memory usage: 14.2+ MB\n"
     ]
    }
   ],
   "source": [
    "df_ds.info()"
   ]
  },
  {
   "cell_type": "markdown",
   "id": "78d5ee70",
   "metadata": {},
   "source": [
    "Pada pengecekan menggunakan .info missing value tidak ditemukan (tidak ada), tapi pada kolom sale price terdapat tanda \"-\" yang menunjukkan data kosong yang harus diganti atau replace dengan nan."
   ]
  },
  {
   "cell_type": "code",
   "execution_count": 5,
   "id": "ef98d8bc",
   "metadata": {},
   "outputs": [
    {
     "data": {
      "text/plain": [
       "(84548, 22)"
      ]
     },
     "execution_count": 5,
     "metadata": {},
     "output_type": "execute_result"
    }
   ],
   "source": [
    "df_ds.shape"
   ]
  },
  {
   "cell_type": "code",
   "execution_count": 6,
   "id": "989b68e5",
   "metadata": {},
   "outputs": [],
   "source": [
    "# Mengganti tanda \"-\" dengan nan\n",
    "df_ds = df_ds.replace(' -  ', np.nan)\n",
    "df_ds = df_ds.replace('', np.nan)"
   ]
  },
  {
   "cell_type": "code",
   "execution_count": 7,
   "id": "1f72b413",
   "metadata": {},
   "outputs": [
    {
     "data": {
      "text/html": [
       "<div>\n",
       "<style scoped>\n",
       "    .dataframe tbody tr th:only-of-type {\n",
       "        vertical-align: middle;\n",
       "    }\n",
       "\n",
       "    .dataframe tbody tr th {\n",
       "        vertical-align: top;\n",
       "    }\n",
       "\n",
       "    .dataframe thead th {\n",
       "        text-align: right;\n",
       "    }\n",
       "</style>\n",
       "<table border=\"1\" class=\"dataframe\">\n",
       "  <thead>\n",
       "    <tr style=\"text-align: right;\">\n",
       "      <th></th>\n",
       "      <th>Unnamed: 0</th>\n",
       "      <th>BOROUGH</th>\n",
       "      <th>NEIGHBORHOOD</th>\n",
       "      <th>BUILDING CLASS CATEGORY</th>\n",
       "      <th>TAX CLASS AT PRESENT</th>\n",
       "      <th>BLOCK</th>\n",
       "      <th>LOT</th>\n",
       "      <th>EASE-MENT</th>\n",
       "      <th>BUILDING CLASS AT PRESENT</th>\n",
       "      <th>ADDRESS</th>\n",
       "      <th>...</th>\n",
       "      <th>RESIDENTIAL UNITS</th>\n",
       "      <th>COMMERCIAL UNITS</th>\n",
       "      <th>TOTAL UNITS</th>\n",
       "      <th>LAND SQUARE FEET</th>\n",
       "      <th>GROSS SQUARE FEET</th>\n",
       "      <th>YEAR BUILT</th>\n",
       "      <th>TAX CLASS AT TIME OF SALE</th>\n",
       "      <th>BUILDING CLASS AT TIME OF SALE</th>\n",
       "      <th>SALE PRICE</th>\n",
       "      <th>SALE DATE</th>\n",
       "    </tr>\n",
       "  </thead>\n",
       "  <tbody>\n",
       "    <tr>\n",
       "      <th>0</th>\n",
       "      <td>4</td>\n",
       "      <td>1</td>\n",
       "      <td>ALPHABET CITY</td>\n",
       "      <td>07 RENTALS - WALKUP APARTMENTS</td>\n",
       "      <td>2A</td>\n",
       "      <td>392</td>\n",
       "      <td>6</td>\n",
       "      <td></td>\n",
       "      <td>C2</td>\n",
       "      <td>153 AVENUE B</td>\n",
       "      <td>...</td>\n",
       "      <td>5</td>\n",
       "      <td>0</td>\n",
       "      <td>5</td>\n",
       "      <td>1633</td>\n",
       "      <td>6440</td>\n",
       "      <td>1900</td>\n",
       "      <td>2</td>\n",
       "      <td>C2</td>\n",
       "      <td>6625000</td>\n",
       "      <td>2017-07-19 00:00:00</td>\n",
       "    </tr>\n",
       "    <tr>\n",
       "      <th>1</th>\n",
       "      <td>5</td>\n",
       "      <td>1</td>\n",
       "      <td>ALPHABET CITY</td>\n",
       "      <td>07 RENTALS - WALKUP APARTMENTS</td>\n",
       "      <td>2</td>\n",
       "      <td>399</td>\n",
       "      <td>26</td>\n",
       "      <td></td>\n",
       "      <td>C7</td>\n",
       "      <td>234 EAST 4TH   STREET</td>\n",
       "      <td>...</td>\n",
       "      <td>28</td>\n",
       "      <td>3</td>\n",
       "      <td>31</td>\n",
       "      <td>4616</td>\n",
       "      <td>18690</td>\n",
       "      <td>1900</td>\n",
       "      <td>2</td>\n",
       "      <td>C7</td>\n",
       "      <td>NaN</td>\n",
       "      <td>2016-12-14 00:00:00</td>\n",
       "    </tr>\n",
       "    <tr>\n",
       "      <th>2</th>\n",
       "      <td>6</td>\n",
       "      <td>1</td>\n",
       "      <td>ALPHABET CITY</td>\n",
       "      <td>07 RENTALS - WALKUP APARTMENTS</td>\n",
       "      <td>2</td>\n",
       "      <td>399</td>\n",
       "      <td>39</td>\n",
       "      <td></td>\n",
       "      <td>C7</td>\n",
       "      <td>197 EAST 3RD   STREET</td>\n",
       "      <td>...</td>\n",
       "      <td>16</td>\n",
       "      <td>1</td>\n",
       "      <td>17</td>\n",
       "      <td>2212</td>\n",
       "      <td>7803</td>\n",
       "      <td>1900</td>\n",
       "      <td>2</td>\n",
       "      <td>C7</td>\n",
       "      <td>NaN</td>\n",
       "      <td>2016-12-09 00:00:00</td>\n",
       "    </tr>\n",
       "    <tr>\n",
       "      <th>3</th>\n",
       "      <td>7</td>\n",
       "      <td>1</td>\n",
       "      <td>ALPHABET CITY</td>\n",
       "      <td>07 RENTALS - WALKUP APARTMENTS</td>\n",
       "      <td>2B</td>\n",
       "      <td>402</td>\n",
       "      <td>21</td>\n",
       "      <td></td>\n",
       "      <td>C4</td>\n",
       "      <td>154 EAST 7TH STREET</td>\n",
       "      <td>...</td>\n",
       "      <td>10</td>\n",
       "      <td>0</td>\n",
       "      <td>10</td>\n",
       "      <td>2272</td>\n",
       "      <td>6794</td>\n",
       "      <td>1913</td>\n",
       "      <td>2</td>\n",
       "      <td>C4</td>\n",
       "      <td>3936272</td>\n",
       "      <td>2016-09-23 00:00:00</td>\n",
       "    </tr>\n",
       "    <tr>\n",
       "      <th>4</th>\n",
       "      <td>8</td>\n",
       "      <td>1</td>\n",
       "      <td>ALPHABET CITY</td>\n",
       "      <td>07 RENTALS - WALKUP APARTMENTS</td>\n",
       "      <td>2A</td>\n",
       "      <td>404</td>\n",
       "      <td>55</td>\n",
       "      <td></td>\n",
       "      <td>C2</td>\n",
       "      <td>301 EAST 10TH   STREET</td>\n",
       "      <td>...</td>\n",
       "      <td>6</td>\n",
       "      <td>0</td>\n",
       "      <td>6</td>\n",
       "      <td>2369</td>\n",
       "      <td>4615</td>\n",
       "      <td>1900</td>\n",
       "      <td>2</td>\n",
       "      <td>C2</td>\n",
       "      <td>8000000</td>\n",
       "      <td>2016-11-17 00:00:00</td>\n",
       "    </tr>\n",
       "  </tbody>\n",
       "</table>\n",
       "<p>5 rows × 22 columns</p>\n",
       "</div>"
      ],
      "text/plain": [
       "   Unnamed: 0  BOROUGH   NEIGHBORHOOD  \\\n",
       "0           4        1  ALPHABET CITY   \n",
       "1           5        1  ALPHABET CITY   \n",
       "2           6        1  ALPHABET CITY   \n",
       "3           7        1  ALPHABET CITY   \n",
       "4           8        1  ALPHABET CITY   \n",
       "\n",
       "                       BUILDING CLASS CATEGORY TAX CLASS AT PRESENT  BLOCK  \\\n",
       "0  07 RENTALS - WALKUP APARTMENTS                                2A    392   \n",
       "1  07 RENTALS - WALKUP APARTMENTS                                 2    399   \n",
       "2  07 RENTALS - WALKUP APARTMENTS                                 2    399   \n",
       "3  07 RENTALS - WALKUP APARTMENTS                                2B    402   \n",
       "4  07 RENTALS - WALKUP APARTMENTS                                2A    404   \n",
       "\n",
       "   LOT EASE-MENT BUILDING CLASS AT PRESENT                 ADDRESS  ...  \\\n",
       "0    6                                  C2            153 AVENUE B  ...   \n",
       "1   26                                  C7   234 EAST 4TH   STREET  ...   \n",
       "2   39                                  C7   197 EAST 3RD   STREET  ...   \n",
       "3   21                                  C4     154 EAST 7TH STREET  ...   \n",
       "4   55                                  C2  301 EAST 10TH   STREET  ...   \n",
       "\n",
       "  RESIDENTIAL UNITS  COMMERCIAL UNITS  TOTAL UNITS  LAND SQUARE FEET  \\\n",
       "0                 5                 0            5              1633   \n",
       "1                28                 3           31              4616   \n",
       "2                16                 1           17              2212   \n",
       "3                10                 0           10              2272   \n",
       "4                 6                 0            6              2369   \n",
       "\n",
       "   GROSS SQUARE FEET YEAR BUILT TAX CLASS AT TIME OF SALE  \\\n",
       "0               6440       1900                         2   \n",
       "1              18690       1900                         2   \n",
       "2               7803       1900                         2   \n",
       "3               6794       1913                         2   \n",
       "4               4615       1900                         2   \n",
       "\n",
       "   BUILDING CLASS AT TIME OF SALE  SALE PRICE            SALE DATE  \n",
       "0                              C2     6625000  2017-07-19 00:00:00  \n",
       "1                              C7         NaN  2016-12-14 00:00:00  \n",
       "2                              C7         NaN  2016-12-09 00:00:00  \n",
       "3                              C4     3936272  2016-09-23 00:00:00  \n",
       "4                              C2     8000000  2016-11-17 00:00:00  \n",
       "\n",
       "[5 rows x 22 columns]"
      ]
     },
     "execution_count": 7,
     "metadata": {},
     "output_type": "execute_result"
    }
   ],
   "source": [
    "df_ds.head()"
   ]
  },
  {
   "cell_type": "code",
   "execution_count": 8,
   "id": "3c12e3ca",
   "metadata": {},
   "outputs": [
    {
     "data": {
      "text/plain": [
       "Unnamed: 0                            0\n",
       "BOROUGH                               0\n",
       "NEIGHBORHOOD                          0\n",
       "BUILDING CLASS CATEGORY               0\n",
       "TAX CLASS AT PRESENT                  0\n",
       "BLOCK                                 0\n",
       "LOT                                   0\n",
       "EASE-MENT                             0\n",
       "BUILDING CLASS AT PRESENT             0\n",
       "ADDRESS                               0\n",
       "APARTMENT NUMBER                      0\n",
       "ZIP CODE                              0\n",
       "RESIDENTIAL UNITS                     0\n",
       "COMMERCIAL UNITS                      0\n",
       "TOTAL UNITS                           0\n",
       "LAND SQUARE FEET                  26252\n",
       "GROSS SQUARE FEET                 27612\n",
       "YEAR BUILT                            0\n",
       "TAX CLASS AT TIME OF SALE             0\n",
       "BUILDING CLASS AT TIME OF SALE        0\n",
       "SALE PRICE                        14561\n",
       "SALE DATE                             0\n",
       "dtype: int64"
      ]
     },
     "execution_count": 8,
     "metadata": {},
     "output_type": "execute_result"
    }
   ],
   "source": [
    "# Pengecekan lebih lanjut menggunakan .isnull\n",
    "df_ds.isnull().sum()"
   ]
  },
  {
   "cell_type": "code",
   "execution_count": 9,
   "id": "6f12ca87",
   "metadata": {},
   "outputs": [],
   "source": [
    "# Handling Missing Value menggunakan median\n",
    "df_ds['LAND SQUARE FEET'].fillna(df_ds['LAND SQUARE FEET'].median(),inplace=True)\n",
    "df_ds['GROSS SQUARE FEET'].fillna(df_ds['GROSS SQUARE FEET'].median(),inplace=True)\n",
    "df_ds['SALE PRICE'].fillna(df_ds['SALE PRICE'].median(),inplace=True)"
   ]
  },
  {
   "cell_type": "code",
   "execution_count": 10,
   "id": "15886517",
   "metadata": {},
   "outputs": [
    {
     "data": {
      "text/plain": [
       "Unnamed: 0                        0\n",
       "BOROUGH                           0\n",
       "NEIGHBORHOOD                      0\n",
       "BUILDING CLASS CATEGORY           0\n",
       "TAX CLASS AT PRESENT              0\n",
       "BLOCK                             0\n",
       "LOT                               0\n",
       "EASE-MENT                         0\n",
       "BUILDING CLASS AT PRESENT         0\n",
       "ADDRESS                           0\n",
       "APARTMENT NUMBER                  0\n",
       "ZIP CODE                          0\n",
       "RESIDENTIAL UNITS                 0\n",
       "COMMERCIAL UNITS                  0\n",
       "TOTAL UNITS                       0\n",
       "LAND SQUARE FEET                  0\n",
       "GROSS SQUARE FEET                 0\n",
       "YEAR BUILT                        0\n",
       "TAX CLASS AT TIME OF SALE         0\n",
       "BUILDING CLASS AT TIME OF SALE    0\n",
       "SALE PRICE                        0\n",
       "SALE DATE                         0\n",
       "dtype: int64"
      ]
     },
     "execution_count": 10,
     "metadata": {},
     "output_type": "execute_result"
    }
   ],
   "source": [
    "df_ds.isnull().sum()"
   ]
  },
  {
   "cell_type": "code",
   "execution_count": 11,
   "id": "6cc798f2",
   "metadata": {},
   "outputs": [
    {
     "data": {
      "text/plain": [
       "0        False\n",
       "1        False\n",
       "2        False\n",
       "3        False\n",
       "4        False\n",
       "         ...  \n",
       "84543    False\n",
       "84544    False\n",
       "84545    False\n",
       "84546    False\n",
       "84547    False\n",
       "Length: 84548, dtype: bool"
      ]
     },
     "execution_count": 11,
     "metadata": {},
     "output_type": "execute_result"
    }
   ],
   "source": [
    "# Identify Rows for duplicate data\n",
    "dle = df_ds.duplicated()\n",
    "dle"
   ]
  },
  {
   "cell_type": "code",
   "execution_count": 12,
   "id": "cf9e7829",
   "metadata": {},
   "outputs": [
    {
     "name": "stdout",
     "output_type": "stream",
     "text": [
      "False\n"
     ]
    }
   ],
   "source": [
    "print(dle.any())"
   ]
  },
  {
   "cell_type": "markdown",
   "id": "521972e0",
   "metadata": {},
   "source": [
    "Tidak terdapat duplikasi data"
   ]
  },
  {
   "cell_type": "code",
   "execution_count": 13,
   "id": "b2414ef6",
   "metadata": {},
   "outputs": [
    {
     "name": "stdout",
     "output_type": "stream",
     "text": [
      "<class 'pandas.core.frame.DataFrame'>\n",
      "RangeIndex: 84548 entries, 0 to 84547\n",
      "Data columns (total 22 columns):\n",
      " #   Column                          Non-Null Count  Dtype \n",
      "---  ------                          --------------  ----- \n",
      " 0   Unnamed: 0                      84548 non-null  int64 \n",
      " 1   BOROUGH                         84548 non-null  int64 \n",
      " 2   NEIGHBORHOOD                    84548 non-null  object\n",
      " 3   BUILDING CLASS CATEGORY         84548 non-null  object\n",
      " 4   TAX CLASS AT PRESENT            84548 non-null  object\n",
      " 5   BLOCK                           84548 non-null  int64 \n",
      " 6   LOT                             84548 non-null  int64 \n",
      " 7   EASE-MENT                       84548 non-null  object\n",
      " 8   BUILDING CLASS AT PRESENT       84548 non-null  object\n",
      " 9   ADDRESS                         84548 non-null  object\n",
      " 10  APARTMENT NUMBER                84548 non-null  object\n",
      " 11  ZIP CODE                        84548 non-null  int64 \n",
      " 12  RESIDENTIAL UNITS               84548 non-null  int64 \n",
      " 13  COMMERCIAL UNITS                84548 non-null  int64 \n",
      " 14  TOTAL UNITS                     84548 non-null  int64 \n",
      " 15  LAND SQUARE FEET                84548 non-null  object\n",
      " 16  GROSS SQUARE FEET               84548 non-null  object\n",
      " 17  YEAR BUILT                      84548 non-null  int64 \n",
      " 18  TAX CLASS AT TIME OF SALE       84548 non-null  int64 \n",
      " 19  BUILDING CLASS AT TIME OF SALE  84548 non-null  object\n",
      " 20  SALE PRICE                      84548 non-null  object\n",
      " 21  SALE DATE                       84548 non-null  object\n",
      "dtypes: int64(10), object(12)\n",
      "memory usage: 14.2+ MB\n"
     ]
    }
   ],
   "source": [
    "# Merubah variabel bertipe object kedalam category\n",
    "# Agar dapat dipoperasikan\n",
    "df_ds.info()"
   ]
  },
  {
   "cell_type": "code",
   "execution_count": 14,
   "id": "062f30b8",
   "metadata": {},
   "outputs": [],
   "source": [
    "df_ds['BUILDING CLASS AT PRESENT'] = df_ds['BUILDING CLASS AT PRESENT'].astype('category')\n",
    "df_ds['NEIGHBORHOOD'] = df_ds['NEIGHBORHOOD'].astype('category')\n",
    "df_ds['BUILDING CLASS CATEGORY'] = df_ds['BUILDING CLASS CATEGORY'].astype('category')\n",
    "df_ds['TAX CLASS AT PRESENT'] = df_ds['TAX CLASS AT PRESENT'].astype('category')\n",
    "df_ds['ADDRESS'] = df_ds['ADDRESS'].astype('category')\n",
    "df_ds['BUILDING CLASS AT TIME OF SALE'] = df_ds['BUILDING CLASS AT TIME OF SALE'].astype('category')"
   ]
  },
  {
   "cell_type": "code",
   "execution_count": 15,
   "id": "920ae374",
   "metadata": {},
   "outputs": [],
   "source": [
    "df_ds['BUILDING CLASS AT PRESENT_new'] = pd.core.arrays.categorical.Categorical(df_ds['BUILDING CLASS AT PRESENT']).codes\n",
    "df_ds['NEIGHBORHOOD_new'] = pd.core.arrays.categorical.Categorical(df_ds['NEIGHBORHOOD']).codes\n",
    "df_ds['BUILDING CLASS CATEGORY_new'] = pd.core.arrays.categorical.Categorical(df_ds['BUILDING CLASS CATEGORY']).codes\n",
    "df_ds['TAX CLASS AT PRESENT_new'] =pd.core.arrays.categorical.Categorical(df_ds['TAX CLASS AT PRESENT']).codes\n",
    "df_ds['ADDRESS_new'] = pd.core.arrays.categorical.Categorical(df_ds['ADDRESS']).codes\n",
    "df_ds['BUILDING CLASS AT TIME OF SALE_new'] = pd.core.arrays.categorical.Categorical(df_ds['BUILDING CLASS AT TIME OF SALE']).codes"
   ]
  },
  {
   "cell_type": "code",
   "execution_count": 16,
   "id": "ac3f2434",
   "metadata": {},
   "outputs": [
    {
     "data": {
      "text/plain": [
       "(84548, 28)"
      ]
     },
     "execution_count": 16,
     "metadata": {},
     "output_type": "execute_result"
    }
   ],
   "source": [
    "df_ds.shape"
   ]
  },
  {
   "cell_type": "code",
   "execution_count": 17,
   "id": "bb8ef9b4",
   "metadata": {},
   "outputs": [
    {
     "name": "stdout",
     "output_type": "stream",
     "text": [
      "<class 'pandas.core.frame.DataFrame'>\n",
      "RangeIndex: 84548 entries, 0 to 84547\n",
      "Data columns (total 28 columns):\n",
      " #   Column                              Non-Null Count  Dtype   \n",
      "---  ------                              --------------  -----   \n",
      " 0   Unnamed: 0                          84548 non-null  int64   \n",
      " 1   BOROUGH                             84548 non-null  int64   \n",
      " 2   NEIGHBORHOOD                        84548 non-null  category\n",
      " 3   BUILDING CLASS CATEGORY             84548 non-null  category\n",
      " 4   TAX CLASS AT PRESENT                84548 non-null  category\n",
      " 5   BLOCK                               84548 non-null  int64   \n",
      " 6   LOT                                 84548 non-null  int64   \n",
      " 7   EASE-MENT                           84548 non-null  object  \n",
      " 8   BUILDING CLASS AT PRESENT           84548 non-null  category\n",
      " 9   ADDRESS                             84548 non-null  category\n",
      " 10  APARTMENT NUMBER                    84548 non-null  object  \n",
      " 11  ZIP CODE                            84548 non-null  int64   \n",
      " 12  RESIDENTIAL UNITS                   84548 non-null  int64   \n",
      " 13  COMMERCIAL UNITS                    84548 non-null  int64   \n",
      " 14  TOTAL UNITS                         84548 non-null  int64   \n",
      " 15  LAND SQUARE FEET                    84548 non-null  object  \n",
      " 16  GROSS SQUARE FEET                   84548 non-null  object  \n",
      " 17  YEAR BUILT                          84548 non-null  int64   \n",
      " 18  TAX CLASS AT TIME OF SALE           84548 non-null  int64   \n",
      " 19  BUILDING CLASS AT TIME OF SALE      84548 non-null  category\n",
      " 20  SALE PRICE                          84548 non-null  object  \n",
      " 21  SALE DATE                           84548 non-null  object  \n",
      " 22  BUILDING CLASS AT PRESENT_new       84548 non-null  int16   \n",
      " 23  NEIGHBORHOOD_new                    84548 non-null  int16   \n",
      " 24  BUILDING CLASS CATEGORY_new         84548 non-null  int8    \n",
      " 25  TAX CLASS AT PRESENT_new            84548 non-null  int8    \n",
      " 26  ADDRESS_new                         84548 non-null  int32   \n",
      " 27  BUILDING CLASS AT TIME OF SALE_new  84548 non-null  int16   \n",
      "dtypes: category(6), int16(3), int32(1), int64(10), int8(2), object(6)\n",
      "memory usage: 14.8+ MB\n"
     ]
    }
   ],
   "source": [
    "df_ds.info()"
   ]
  },
  {
   "cell_type": "code",
   "execution_count": 18,
   "id": "a7a30257",
   "metadata": {},
   "outputs": [],
   "source": [
    "# Menghapus kolom yang tidak diperlukan\n",
    "# EASE-MENT, APARTMENT NUMBER, Unnamed: 0, dan ZIP CODE\n",
    "df_ds.drop(['EASE-MENT','APARTMENT NUMBER','Unnamed: 0','ZIP CODE'],axis=1, inplace=True)"
   ]
  },
  {
   "cell_type": "code",
   "execution_count": 19,
   "id": "dcb5a973",
   "metadata": {},
   "outputs": [
    {
     "data": {
      "text/html": [
       "<div>\n",
       "<style scoped>\n",
       "    .dataframe tbody tr th:only-of-type {\n",
       "        vertical-align: middle;\n",
       "    }\n",
       "\n",
       "    .dataframe tbody tr th {\n",
       "        vertical-align: top;\n",
       "    }\n",
       "\n",
       "    .dataframe thead th {\n",
       "        text-align: right;\n",
       "    }\n",
       "</style>\n",
       "<table border=\"1\" class=\"dataframe\">\n",
       "  <thead>\n",
       "    <tr style=\"text-align: right;\">\n",
       "      <th></th>\n",
       "      <th>BOROUGH</th>\n",
       "      <th>NEIGHBORHOOD</th>\n",
       "      <th>BUILDING CLASS CATEGORY</th>\n",
       "      <th>TAX CLASS AT PRESENT</th>\n",
       "      <th>BLOCK</th>\n",
       "      <th>LOT</th>\n",
       "      <th>BUILDING CLASS AT PRESENT</th>\n",
       "      <th>ADDRESS</th>\n",
       "      <th>RESIDENTIAL UNITS</th>\n",
       "      <th>COMMERCIAL UNITS</th>\n",
       "      <th>...</th>\n",
       "      <th>TAX CLASS AT TIME OF SALE</th>\n",
       "      <th>BUILDING CLASS AT TIME OF SALE</th>\n",
       "      <th>SALE PRICE</th>\n",
       "      <th>SALE DATE</th>\n",
       "      <th>BUILDING CLASS AT PRESENT_new</th>\n",
       "      <th>NEIGHBORHOOD_new</th>\n",
       "      <th>BUILDING CLASS CATEGORY_new</th>\n",
       "      <th>TAX CLASS AT PRESENT_new</th>\n",
       "      <th>ADDRESS_new</th>\n",
       "      <th>BUILDING CLASS AT TIME OF SALE_new</th>\n",
       "    </tr>\n",
       "  </thead>\n",
       "  <tbody>\n",
       "    <tr>\n",
       "      <th>0</th>\n",
       "      <td>1</td>\n",
       "      <td>ALPHABET CITY</td>\n",
       "      <td>07 RENTALS - WALKUP APARTMENTS</td>\n",
       "      <td>2A</td>\n",
       "      <td>392</td>\n",
       "      <td>6</td>\n",
       "      <td>C2</td>\n",
       "      <td>153 AVENUE B</td>\n",
       "      <td>5</td>\n",
       "      <td>0</td>\n",
       "      <td>...</td>\n",
       "      <td>2</td>\n",
       "      <td>C2</td>\n",
       "      <td>6625000</td>\n",
       "      <td>2017-07-19 00:00:00</td>\n",
       "      <td>16</td>\n",
       "      <td>1</td>\n",
       "      <td>6</td>\n",
       "      <td>6</td>\n",
       "      <td>14889</td>\n",
       "      <td>15</td>\n",
       "    </tr>\n",
       "    <tr>\n",
       "      <th>1</th>\n",
       "      <td>1</td>\n",
       "      <td>ALPHABET CITY</td>\n",
       "      <td>07 RENTALS - WALKUP APARTMENTS</td>\n",
       "      <td>2</td>\n",
       "      <td>399</td>\n",
       "      <td>26</td>\n",
       "      <td>C7</td>\n",
       "      <td>234 EAST 4TH   STREET</td>\n",
       "      <td>28</td>\n",
       "      <td>3</td>\n",
       "      <td>...</td>\n",
       "      <td>2</td>\n",
       "      <td>C7</td>\n",
       "      <td>530000.0</td>\n",
       "      <td>2016-12-14 00:00:00</td>\n",
       "      <td>21</td>\n",
       "      <td>1</td>\n",
       "      <td>6</td>\n",
       "      <td>5</td>\n",
       "      <td>28592</td>\n",
       "      <td>20</td>\n",
       "    </tr>\n",
       "    <tr>\n",
       "      <th>2</th>\n",
       "      <td>1</td>\n",
       "      <td>ALPHABET CITY</td>\n",
       "      <td>07 RENTALS - WALKUP APARTMENTS</td>\n",
       "      <td>2</td>\n",
       "      <td>399</td>\n",
       "      <td>39</td>\n",
       "      <td>C7</td>\n",
       "      <td>197 EAST 3RD   STREET</td>\n",
       "      <td>16</td>\n",
       "      <td>1</td>\n",
       "      <td>...</td>\n",
       "      <td>2</td>\n",
       "      <td>C7</td>\n",
       "      <td>530000.0</td>\n",
       "      <td>2016-12-09 00:00:00</td>\n",
       "      <td>21</td>\n",
       "      <td>1</td>\n",
       "      <td>6</td>\n",
       "      <td>5</td>\n",
       "      <td>22192</td>\n",
       "      <td>20</td>\n",
       "    </tr>\n",
       "    <tr>\n",
       "      <th>3</th>\n",
       "      <td>1</td>\n",
       "      <td>ALPHABET CITY</td>\n",
       "      <td>07 RENTALS - WALKUP APARTMENTS</td>\n",
       "      <td>2B</td>\n",
       "      <td>402</td>\n",
       "      <td>21</td>\n",
       "      <td>C4</td>\n",
       "      <td>154 EAST 7TH STREET</td>\n",
       "      <td>10</td>\n",
       "      <td>0</td>\n",
       "      <td>...</td>\n",
       "      <td>2</td>\n",
       "      <td>C4</td>\n",
       "      <td>3936272</td>\n",
       "      <td>2016-09-23 00:00:00</td>\n",
       "      <td>18</td>\n",
       "      <td>1</td>\n",
       "      <td>6</td>\n",
       "      <td>7</td>\n",
       "      <td>15090</td>\n",
       "      <td>17</td>\n",
       "    </tr>\n",
       "    <tr>\n",
       "      <th>4</th>\n",
       "      <td>1</td>\n",
       "      <td>ALPHABET CITY</td>\n",
       "      <td>07 RENTALS - WALKUP APARTMENTS</td>\n",
       "      <td>2A</td>\n",
       "      <td>404</td>\n",
       "      <td>55</td>\n",
       "      <td>C2</td>\n",
       "      <td>301 EAST 10TH   STREET</td>\n",
       "      <td>6</td>\n",
       "      <td>0</td>\n",
       "      <td>...</td>\n",
       "      <td>2</td>\n",
       "      <td>C2</td>\n",
       "      <td>8000000</td>\n",
       "      <td>2016-11-17 00:00:00</td>\n",
       "      <td>16</td>\n",
       "      <td>1</td>\n",
       "      <td>6</td>\n",
       "      <td>6</td>\n",
       "      <td>35431</td>\n",
       "      <td>15</td>\n",
       "    </tr>\n",
       "  </tbody>\n",
       "</table>\n",
       "<p>5 rows × 24 columns</p>\n",
       "</div>"
      ],
      "text/plain": [
       "   BOROUGH   NEIGHBORHOOD                      BUILDING CLASS CATEGORY  \\\n",
       "0        1  ALPHABET CITY  07 RENTALS - WALKUP APARTMENTS                \n",
       "1        1  ALPHABET CITY  07 RENTALS - WALKUP APARTMENTS                \n",
       "2        1  ALPHABET CITY  07 RENTALS - WALKUP APARTMENTS                \n",
       "3        1  ALPHABET CITY  07 RENTALS - WALKUP APARTMENTS                \n",
       "4        1  ALPHABET CITY  07 RENTALS - WALKUP APARTMENTS                \n",
       "\n",
       "  TAX CLASS AT PRESENT  BLOCK  LOT BUILDING CLASS AT PRESENT  \\\n",
       "0                   2A    392    6                        C2   \n",
       "1                    2    399   26                        C7   \n",
       "2                    2    399   39                        C7   \n",
       "3                   2B    402   21                        C4   \n",
       "4                   2A    404   55                        C2   \n",
       "\n",
       "                  ADDRESS  RESIDENTIAL UNITS  COMMERCIAL UNITS  ...  \\\n",
       "0            153 AVENUE B                  5                 0  ...   \n",
       "1   234 EAST 4TH   STREET                 28                 3  ...   \n",
       "2   197 EAST 3RD   STREET                 16                 1  ...   \n",
       "3     154 EAST 7TH STREET                 10                 0  ...   \n",
       "4  301 EAST 10TH   STREET                  6                 0  ...   \n",
       "\n",
       "   TAX CLASS AT TIME OF SALE BUILDING CLASS AT TIME OF SALE SALE PRICE  \\\n",
       "0                          2                             C2    6625000   \n",
       "1                          2                             C7   530000.0   \n",
       "2                          2                             C7   530000.0   \n",
       "3                          2                             C4    3936272   \n",
       "4                          2                             C2    8000000   \n",
       "\n",
       "             SALE DATE  BUILDING CLASS AT PRESENT_new NEIGHBORHOOD_new  \\\n",
       "0  2017-07-19 00:00:00                             16                1   \n",
       "1  2016-12-14 00:00:00                             21                1   \n",
       "2  2016-12-09 00:00:00                             21                1   \n",
       "3  2016-09-23 00:00:00                             18                1   \n",
       "4  2016-11-17 00:00:00                             16                1   \n",
       "\n",
       "  BUILDING CLASS CATEGORY_new TAX CLASS AT PRESENT_new  ADDRESS_new  \\\n",
       "0                           6                        6        14889   \n",
       "1                           6                        5        28592   \n",
       "2                           6                        5        22192   \n",
       "3                           6                        7        15090   \n",
       "4                           6                        6        35431   \n",
       "\n",
       "   BUILDING CLASS AT TIME OF SALE_new  \n",
       "0                                  15  \n",
       "1                                  20  \n",
       "2                                  20  \n",
       "3                                  17  \n",
       "4                                  15  \n",
       "\n",
       "[5 rows x 24 columns]"
      ]
     },
     "execution_count": 19,
     "metadata": {},
     "output_type": "execute_result"
    }
   ],
   "source": [
    "df_ds.head()"
   ]
  },
  {
   "cell_type": "markdown",
   "id": "3f25a194",
   "metadata": {},
   "source": [
    "# Descriptive Statistics"
   ]
  },
  {
   "cell_type": "markdown",
   "id": "7dfd9562",
   "metadata": {},
   "source": [
    "---\n",
    "## A. Measure of Central Tendency : Mean"
   ]
  },
  {
   "cell_type": "markdown",
   "id": "8df186fc",
   "metadata": {},
   "source": [
    "**Question**  // *Deskripsi dari informasi apa yang ingin dicari/dihitung di step 2*"
   ]
  },
  {
   "cell_type": "code",
   "execution_count": 20,
   "id": "f9ac7f09",
   "metadata": {},
   "outputs": [],
   "source": [
    "# Question: Mencari mean dari masing masing kolom pada Dataset"
   ]
  },
  {
   "cell_type": "markdown",
   "id": "dbc535b3",
   "metadata": {},
   "source": [
    "**Pre-processing if needed** // *Student melakukan preproses dataset sebelum melakukan Proses Statistik*"
   ]
  },
  {
   "cell_type": "code",
   "execution_count": 21,
   "id": "ceb78fdb",
   "metadata": {},
   "outputs": [],
   "source": [
    "# 1. pre-processing if needed"
   ]
  },
  {
   "cell_type": "code",
   "execution_count": 22,
   "id": "2a13ac40",
   "metadata": {},
   "outputs": [
    {
     "name": "stderr",
     "output_type": "stream",
     "text": [
      "C:\\Users\\ASUS\\AppData\\Local\\Temp/ipykernel_33284/4170577978.py:2: FutureWarning: Dropping of nuisance columns in DataFrame reductions (with 'numeric_only=None') is deprecated; in a future version this will raise TypeError.  Select only valid columns before calling the reduction.\n",
      "  mean = df_ds.mean()\n"
     ]
    },
    {
     "data": {
      "text/plain": [
       "BOROUGH                                   2.998758\n",
       "BLOCK                                  4237.218976\n",
       "LOT                                     376.224015\n",
       "RESIDENTIAL UNITS                         2.025264\n",
       "COMMERCIAL UNITS                          0.193559\n",
       "TOTAL UNITS                               2.249184\n",
       "YEAR BUILT                             1789.322976\n",
       "TAX CLASS AT TIME OF SALE                 1.657485\n",
       "BUILDING CLASS AT PRESENT_new            47.573284\n",
       "NEIGHBORHOOD_new                        127.367708\n",
       "BUILDING CLASS CATEGORY_new               7.455043\n",
       "TAX CLASS AT PRESENT_new                  3.526305\n",
       "ADDRESS_new                           33608.317062\n",
       "BUILDING CLASS AT TIME OF SALE_new       47.657106\n",
       "dtype: float64"
      ]
     },
     "execution_count": 22,
     "metadata": {},
     "output_type": "execute_result"
    }
   ],
   "source": [
    "# 2. Implement/try-to-use statistical method here ..\n",
    "mean = df_ds.mean()\n",
    "mean"
   ]
  },
  {
   "cell_type": "code",
   "execution_count": 23,
   "id": "406ad501",
   "metadata": {},
   "outputs": [
    {
     "data": {
      "text/plain": [
       "2.249183895538629"
      ]
     },
     "execution_count": 23,
     "metadata": {},
     "output_type": "execute_result"
    }
   ],
   "source": [
    "df_ds['TOTAL UNITS'].mean()"
   ]
  },
  {
   "cell_type": "markdown",
   "id": "7f60908c",
   "metadata": {},
   "source": [
    "**Implement statistical method** // *Mengimplementaskan Mean dari kolom/data spesifik menggunakan Pandas, NumPy, atau Scipy*"
   ]
  },
  {
   "cell_type": "markdown",
   "id": "4a193849",
   "metadata": {},
   "source": [
    "---\n",
    "## B. Measure of Central Tendency : Median"
   ]
  },
  {
   "cell_type": "code",
   "execution_count": 24,
   "id": "4d31ef2a",
   "metadata": {},
   "outputs": [],
   "source": [
    "# Question: Mencari median dari masing masing kolom pada Dataset"
   ]
  },
  {
   "cell_type": "code",
   "execution_count": 25,
   "id": "ade0039d",
   "metadata": {},
   "outputs": [],
   "source": [
    "# 1. pre-processing if needed"
   ]
  },
  {
   "cell_type": "code",
   "execution_count": 26,
   "id": "54184f49",
   "metadata": {},
   "outputs": [
    {
     "name": "stderr",
     "output_type": "stream",
     "text": [
      "C:\\Users\\ASUS\\AppData\\Local\\Temp/ipykernel_33284/1991831921.py:2: FutureWarning: Dropping of nuisance columns in DataFrame reductions (with 'numeric_only=None') is deprecated; in a future version this will raise TypeError.  Select only valid columns before calling the reduction.\n",
      "  median = df_ds.median()\n"
     ]
    },
    {
     "data": {
      "text/plain": [
       "BOROUGH                                    3.0\n",
       "BLOCK                                   3311.0\n",
       "LOT                                       50.0\n",
       "RESIDENTIAL UNITS                          1.0\n",
       "COMMERCIAL UNITS                           0.0\n",
       "TOTAL UNITS                                1.0\n",
       "LAND SQUARE FEET                        2325.0\n",
       "GROSS SQUARE FEET                       1680.0\n",
       "YEAR BUILT                              1940.0\n",
       "TAX CLASS AT TIME OF SALE                  2.0\n",
       "SALE PRICE                            530000.0\n",
       "BUILDING CLASS AT PRESENT_new             20.0\n",
       "NEIGHBORHOOD_new                         122.0\n",
       "BUILDING CLASS CATEGORY_new                6.0\n",
       "TAX CLASS AT PRESENT_new                   5.0\n",
       "ADDRESS_new                            33806.5\n",
       "BUILDING CLASS AT TIME OF SALE_new        19.0\n",
       "dtype: float64"
      ]
     },
     "execution_count": 26,
     "metadata": {},
     "output_type": "execute_result"
    }
   ],
   "source": [
    "# 2. Implement/try-to-use statistical method here ..\n",
    "median = df_ds.median()\n",
    "median"
   ]
  },
  {
   "cell_type": "markdown",
   "id": "38f3aa2b",
   "metadata": {},
   "source": [
    "---\n",
    "## C. Measure of Central Tendency: Modus "
   ]
  },
  {
   "cell_type": "code",
   "execution_count": 27,
   "id": "b0e46add",
   "metadata": {},
   "outputs": [],
   "source": [
    "# Question: Mencari modus dari masing masing kolom pada Dataset"
   ]
  },
  {
   "cell_type": "code",
   "execution_count": 28,
   "id": "7d3726d1",
   "metadata": {},
   "outputs": [],
   "source": [
    "# 1. pre-processing if needed"
   ]
  },
  {
   "cell_type": "code",
   "execution_count": 29,
   "id": "941e1f33",
   "metadata": {},
   "outputs": [
    {
     "data": {
      "text/html": [
       "<div>\n",
       "<style scoped>\n",
       "    .dataframe tbody tr th:only-of-type {\n",
       "        vertical-align: middle;\n",
       "    }\n",
       "\n",
       "    .dataframe tbody tr th {\n",
       "        vertical-align: top;\n",
       "    }\n",
       "\n",
       "    .dataframe thead th {\n",
       "        text-align: right;\n",
       "    }\n",
       "</style>\n",
       "<table border=\"1\" class=\"dataframe\">\n",
       "  <thead>\n",
       "    <tr style=\"text-align: right;\">\n",
       "      <th></th>\n",
       "      <th>BOROUGH</th>\n",
       "      <th>NEIGHBORHOOD</th>\n",
       "      <th>BUILDING CLASS CATEGORY</th>\n",
       "      <th>TAX CLASS AT PRESENT</th>\n",
       "      <th>BLOCK</th>\n",
       "      <th>LOT</th>\n",
       "      <th>BUILDING CLASS AT PRESENT</th>\n",
       "      <th>ADDRESS</th>\n",
       "      <th>RESIDENTIAL UNITS</th>\n",
       "      <th>COMMERCIAL UNITS</th>\n",
       "      <th>...</th>\n",
       "      <th>TAX CLASS AT TIME OF SALE</th>\n",
       "      <th>BUILDING CLASS AT TIME OF SALE</th>\n",
       "      <th>SALE PRICE</th>\n",
       "      <th>SALE DATE</th>\n",
       "      <th>BUILDING CLASS AT PRESENT_new</th>\n",
       "      <th>NEIGHBORHOOD_new</th>\n",
       "      <th>BUILDING CLASS CATEGORY_new</th>\n",
       "      <th>TAX CLASS AT PRESENT_new</th>\n",
       "      <th>ADDRESS_new</th>\n",
       "      <th>BUILDING CLASS AT TIME OF SALE_new</th>\n",
       "    </tr>\n",
       "  </thead>\n",
       "  <tbody>\n",
       "    <tr>\n",
       "      <th>0</th>\n",
       "      <td>4</td>\n",
       "      <td>FLUSHING-NORTH</td>\n",
       "      <td>01 ONE FAMILY DWELLINGS</td>\n",
       "      <td>1</td>\n",
       "      <td>5066</td>\n",
       "      <td>1</td>\n",
       "      <td>D4</td>\n",
       "      <td>131-05 40TH   ROAD</td>\n",
       "      <td>1</td>\n",
       "      <td>0</td>\n",
       "      <td>...</td>\n",
       "      <td>1</td>\n",
       "      <td>R4</td>\n",
       "      <td>530000.0</td>\n",
       "      <td>2017-06-29 00:00:00</td>\n",
       "      <td>29</td>\n",
       "      <td>87</td>\n",
       "      <td>0</td>\n",
       "      <td>1</td>\n",
       "      <td>8984</td>\n",
       "      <td>120</td>\n",
       "    </tr>\n",
       "  </tbody>\n",
       "</table>\n",
       "<p>1 rows × 24 columns</p>\n",
       "</div>"
      ],
      "text/plain": [
       "   BOROUGH    NEIGHBORHOOD                      BUILDING CLASS CATEGORY  \\\n",
       "0        4  FLUSHING-NORTH  01 ONE FAMILY DWELLINGS                       \n",
       "\n",
       "  TAX CLASS AT PRESENT  BLOCK  LOT BUILDING CLASS AT PRESENT  \\\n",
       "0                    1   5066    1                        D4   \n",
       "\n",
       "              ADDRESS  RESIDENTIAL UNITS  COMMERCIAL UNITS  ...  \\\n",
       "0  131-05 40TH   ROAD                  1                 0  ...   \n",
       "\n",
       "   TAX CLASS AT TIME OF SALE BUILDING CLASS AT TIME OF SALE SALE PRICE  \\\n",
       "0                          1                             R4   530000.0   \n",
       "\n",
       "             SALE DATE  BUILDING CLASS AT PRESENT_new NEIGHBORHOOD_new  \\\n",
       "0  2017-06-29 00:00:00                             29               87   \n",
       "\n",
       "  BUILDING CLASS CATEGORY_new TAX CLASS AT PRESENT_new  ADDRESS_new  \\\n",
       "0                           0                        1         8984   \n",
       "\n",
       "   BUILDING CLASS AT TIME OF SALE_new  \n",
       "0                                 120  \n",
       "\n",
       "[1 rows x 24 columns]"
      ]
     },
     "execution_count": 29,
     "metadata": {},
     "output_type": "execute_result"
    }
   ],
   "source": [
    "# 2. Implement/try-to-use statistical method here ..\n",
    "mod = df_ds.mode()\n",
    "mod"
   ]
  },
  {
   "cell_type": "code",
   "execution_count": 30,
   "id": "9d37f4f3",
   "metadata": {},
   "outputs": [
    {
     "data": {
      "text/plain": [
       "0    1\n",
       "dtype: int64"
      ]
     },
     "execution_count": 30,
     "metadata": {},
     "output_type": "execute_result"
    }
   ],
   "source": [
    "df_ds['TOTAL UNITS'].mode()"
   ]
  },
  {
   "cell_type": "markdown",
   "id": "07feedb9",
   "metadata": {},
   "source": [
    "## D. Measure of Spread: Range"
   ]
  },
  {
   "cell_type": "code",
   "execution_count": 31,
   "id": "18733941",
   "metadata": {},
   "outputs": [],
   "source": [
    "# Question: Mencari range (quantle, max, and min) dari masing masing kolom pada Dataset"
   ]
  },
  {
   "cell_type": "code",
   "execution_count": 32,
   "id": "9a541fc6",
   "metadata": {},
   "outputs": [],
   "source": [
    "# 1. pre-processing if needed"
   ]
  },
  {
   "cell_type": "code",
   "execution_count": 33,
   "id": "9e2c9f48",
   "metadata": {},
   "outputs": [
    {
     "data": {
      "text/plain": [
       "BOROUGH                                   2.00\n",
       "BLOCK                                  1322.75\n",
       "LOT                                      22.00\n",
       "RESIDENTIAL UNITS                         0.00\n",
       "COMMERCIAL UNITS                          0.00\n",
       "TOTAL UNITS                               1.00\n",
       "YEAR BUILT                             1920.00\n",
       "TAX CLASS AT TIME OF SALE                 1.00\n",
       "BUILDING CLASS AT PRESENT_new            10.00\n",
       "NEIGHBORHOOD_new                         68.00\n",
       "BUILDING CLASS CATEGORY_new               1.00\n",
       "TAX CLASS AT PRESENT_new                  1.00\n",
       "ADDRESS_new                           16840.75\n",
       "BUILDING CLASS AT TIME OF SALE_new        9.00\n",
       "Name: 0.25, dtype: float64"
      ]
     },
     "execution_count": 33,
     "metadata": {},
     "output_type": "execute_result"
    }
   ],
   "source": [
    "# 2. Implement/try-to-use statistical method here ..\n",
    "# Quantile\n",
    "df_ds.quantile(q=0.25)"
   ]
  },
  {
   "cell_type": "code",
   "execution_count": 34,
   "id": "0a437ad6",
   "metadata": {},
   "outputs": [
    {
     "data": {
      "text/plain": [
       "BOROUGH                                   2.00\n",
       "BLOCK                                  1322.75\n",
       "LOT                                      22.00\n",
       "RESIDENTIAL UNITS                         0.00\n",
       "COMMERCIAL UNITS                          0.00\n",
       "TOTAL UNITS                               1.00\n",
       "YEAR BUILT                             1920.00\n",
       "TAX CLASS AT TIME OF SALE                 1.00\n",
       "BUILDING CLASS AT PRESENT_new            10.00\n",
       "NEIGHBORHOOD_new                         68.00\n",
       "BUILDING CLASS CATEGORY_new               1.00\n",
       "TAX CLASS AT PRESENT_new                  1.00\n",
       "ADDRESS_new                           16840.75\n",
       "BUILDING CLASS AT TIME OF SALE_new        9.00\n",
       "Name: 0.25, dtype: float64"
      ]
     },
     "execution_count": 34,
     "metadata": {},
     "output_type": "execute_result"
    }
   ],
   "source": [
    "# Quantile\n",
    "df_ds.quantile(q=0.25)"
   ]
  },
  {
   "cell_type": "code",
   "execution_count": 35,
   "id": "24bb5f83",
   "metadata": {},
   "outputs": [
    {
     "data": {
      "text/plain": [
       "BOROUGH                                   3.0\n",
       "BLOCK                                  3311.0\n",
       "LOT                                      50.0\n",
       "RESIDENTIAL UNITS                         1.0\n",
       "COMMERCIAL UNITS                          0.0\n",
       "TOTAL UNITS                               1.0\n",
       "YEAR BUILT                             1940.0\n",
       "TAX CLASS AT TIME OF SALE                 2.0\n",
       "BUILDING CLASS AT PRESENT_new            20.0\n",
       "NEIGHBORHOOD_new                        122.0\n",
       "BUILDING CLASS CATEGORY_new               6.0\n",
       "TAX CLASS AT PRESENT_new                  5.0\n",
       "ADDRESS_new                           33806.5\n",
       "BUILDING CLASS AT TIME OF SALE_new       19.0\n",
       "Name: 0.5, dtype: float64"
      ]
     },
     "execution_count": 35,
     "metadata": {},
     "output_type": "execute_result"
    }
   ],
   "source": [
    "df_ds.quantile(q=0.5)"
   ]
  },
  {
   "cell_type": "code",
   "execution_count": 36,
   "id": "040ca106",
   "metadata": {},
   "outputs": [
    {
     "data": {
      "text/plain": [
       "BOROUGH                                   4.00\n",
       "BLOCK                                  6281.00\n",
       "LOT                                    1001.00\n",
       "RESIDENTIAL UNITS                         2.00\n",
       "COMMERCIAL UNITS                          0.00\n",
       "TOTAL UNITS                               2.00\n",
       "YEAR BUILT                             1965.00\n",
       "TAX CLASS AT TIME OF SALE                 2.00\n",
       "BUILDING CLASS AT PRESENT_new           120.00\n",
       "NEIGHBORHOOD_new                        195.00\n",
       "BUILDING CLASS CATEGORY_new              13.00\n",
       "TAX CLASS AT PRESENT_new                  5.00\n",
       "ADDRESS_new                           49950.25\n",
       "BUILDING CLASS AT TIME OF SALE_new      119.00\n",
       "Name: 0.75, dtype: float64"
      ]
     },
     "execution_count": 36,
     "metadata": {},
     "output_type": "execute_result"
    }
   ],
   "source": [
    "df_ds.quantile(q=0.75)"
   ]
  },
  {
   "cell_type": "code",
   "execution_count": 37,
   "id": "84538b32",
   "metadata": {},
   "outputs": [
    {
     "name": "stderr",
     "output_type": "stream",
     "text": [
      "C:\\Users\\ASUS\\AppData\\Local\\Temp/ipykernel_33284/1652076454.py:2: FutureWarning: Dropping of nuisance columns in DataFrame reductions (with 'numeric_only=None') is deprecated; in a future version this will raise TypeError.  Select only valid columns before calling the reduction.\n",
      "  Mx = df_ds.max()\n"
     ]
    },
    {
     "data": {
      "text/plain": [
       "BOROUGH                                                 5\n",
       "BLOCK                                               16322\n",
       "LOT                                                  9106\n",
       "RESIDENTIAL UNITS                                    1844\n",
       "COMMERCIAL UNITS                                     2261\n",
       "TOTAL UNITS                                          2261\n",
       "YEAR BUILT                                           2017\n",
       "TAX CLASS AT TIME OF SALE                               4\n",
       "SALE DATE                             2017-08-31 00:00:00\n",
       "BUILDING CLASS AT PRESENT_new                         166\n",
       "NEIGHBORHOOD_new                                      253\n",
       "BUILDING CLASS CATEGORY_new                            46\n",
       "TAX CLASS AT PRESENT_new                               10\n",
       "ADDRESS_new                                         67562\n",
       "BUILDING CLASS AT TIME OF SALE_new                    165\n",
       "dtype: object"
      ]
     },
     "execution_count": 37,
     "metadata": {},
     "output_type": "execute_result"
    }
   ],
   "source": [
    "# Nilai maksimum\n",
    "Mx = df_ds.max()\n",
    "Mx"
   ]
  },
  {
   "cell_type": "code",
   "execution_count": 38,
   "id": "18311bb2",
   "metadata": {},
   "outputs": [
    {
     "name": "stderr",
     "output_type": "stream",
     "text": [
      "C:\\Users\\ASUS\\AppData\\Local\\Temp/ipykernel_33284/2085442656.py:2: FutureWarning: Dropping of nuisance columns in DataFrame reductions (with 'numeric_only=None') is deprecated; in a future version this will raise TypeError.  Select only valid columns before calling the reduction.\n",
      "  Mn = df_ds.min()\n"
     ]
    },
    {
     "data": {
      "text/plain": [
       "BOROUGH                                                 1\n",
       "BLOCK                                                   1\n",
       "LOT                                                     1\n",
       "RESIDENTIAL UNITS                                       0\n",
       "COMMERCIAL UNITS                                        0\n",
       "TOTAL UNITS                                             0\n",
       "YEAR BUILT                                              0\n",
       "TAX CLASS AT TIME OF SALE                               1\n",
       "SALE DATE                             2016-09-01 00:00:00\n",
       "BUILDING CLASS AT PRESENT_new                           0\n",
       "NEIGHBORHOOD_new                                        0\n",
       "BUILDING CLASS CATEGORY_new                             0\n",
       "TAX CLASS AT PRESENT_new                                0\n",
       "ADDRESS_new                                             0\n",
       "BUILDING CLASS AT TIME OF SALE_new                      0\n",
       "dtype: object"
      ]
     },
     "execution_count": 38,
     "metadata": {},
     "output_type": "execute_result"
    }
   ],
   "source": [
    "# Nilai minimum\n",
    "Mn = df_ds.min()\n",
    "Mn"
   ]
  },
  {
   "cell_type": "code",
   "execution_count": 92,
   "id": "f8e36c20",
   "metadata": {},
   "outputs": [],
   "source": [
    "# Preparation new dataset menghilangkan kolom sale date\n",
    "df_new = df_ds.copy()\n",
    "df_new.drop(['SALE DATE'],axis=1, inplace=True)"
   ]
  },
  {
   "cell_type": "code",
   "execution_count": 93,
   "id": "6762ec34",
   "metadata": {},
   "outputs": [
    {
     "data": {
      "text/html": [
       "<div>\n",
       "<style scoped>\n",
       "    .dataframe tbody tr th:only-of-type {\n",
       "        vertical-align: middle;\n",
       "    }\n",
       "\n",
       "    .dataframe tbody tr th {\n",
       "        vertical-align: top;\n",
       "    }\n",
       "\n",
       "    .dataframe thead th {\n",
       "        text-align: right;\n",
       "    }\n",
       "</style>\n",
       "<table border=\"1\" class=\"dataframe\">\n",
       "  <thead>\n",
       "    <tr style=\"text-align: right;\">\n",
       "      <th></th>\n",
       "      <th>BOROUGH</th>\n",
       "      <th>NEIGHBORHOOD</th>\n",
       "      <th>BUILDING CLASS CATEGORY</th>\n",
       "      <th>TAX CLASS AT PRESENT</th>\n",
       "      <th>BLOCK</th>\n",
       "      <th>LOT</th>\n",
       "      <th>BUILDING CLASS AT PRESENT</th>\n",
       "      <th>ADDRESS</th>\n",
       "      <th>RESIDENTIAL UNITS</th>\n",
       "      <th>COMMERCIAL UNITS</th>\n",
       "      <th>...</th>\n",
       "      <th>YEAR BUILT</th>\n",
       "      <th>TAX CLASS AT TIME OF SALE</th>\n",
       "      <th>BUILDING CLASS AT TIME OF SALE</th>\n",
       "      <th>SALE PRICE</th>\n",
       "      <th>BUILDING CLASS AT PRESENT_new</th>\n",
       "      <th>NEIGHBORHOOD_new</th>\n",
       "      <th>BUILDING CLASS CATEGORY_new</th>\n",
       "      <th>TAX CLASS AT PRESENT_new</th>\n",
       "      <th>ADDRESS_new</th>\n",
       "      <th>BUILDING CLASS AT TIME OF SALE_new</th>\n",
       "    </tr>\n",
       "  </thead>\n",
       "  <tbody>\n",
       "    <tr>\n",
       "      <th>0</th>\n",
       "      <td>1</td>\n",
       "      <td>ALPHABET CITY</td>\n",
       "      <td>07 RENTALS - WALKUP APARTMENTS</td>\n",
       "      <td>2A</td>\n",
       "      <td>392</td>\n",
       "      <td>6</td>\n",
       "      <td>C2</td>\n",
       "      <td>153 AVENUE B</td>\n",
       "      <td>5</td>\n",
       "      <td>0</td>\n",
       "      <td>...</td>\n",
       "      <td>1900</td>\n",
       "      <td>2</td>\n",
       "      <td>C2</td>\n",
       "      <td>6625000</td>\n",
       "      <td>16</td>\n",
       "      <td>1</td>\n",
       "      <td>6</td>\n",
       "      <td>6</td>\n",
       "      <td>14889</td>\n",
       "      <td>15</td>\n",
       "    </tr>\n",
       "    <tr>\n",
       "      <th>1</th>\n",
       "      <td>1</td>\n",
       "      <td>ALPHABET CITY</td>\n",
       "      <td>07 RENTALS - WALKUP APARTMENTS</td>\n",
       "      <td>2</td>\n",
       "      <td>399</td>\n",
       "      <td>26</td>\n",
       "      <td>C7</td>\n",
       "      <td>234 EAST 4TH   STREET</td>\n",
       "      <td>28</td>\n",
       "      <td>3</td>\n",
       "      <td>...</td>\n",
       "      <td>1900</td>\n",
       "      <td>2</td>\n",
       "      <td>C7</td>\n",
       "      <td>530000.0</td>\n",
       "      <td>21</td>\n",
       "      <td>1</td>\n",
       "      <td>6</td>\n",
       "      <td>5</td>\n",
       "      <td>28592</td>\n",
       "      <td>20</td>\n",
       "    </tr>\n",
       "    <tr>\n",
       "      <th>2</th>\n",
       "      <td>1</td>\n",
       "      <td>ALPHABET CITY</td>\n",
       "      <td>07 RENTALS - WALKUP APARTMENTS</td>\n",
       "      <td>2</td>\n",
       "      <td>399</td>\n",
       "      <td>39</td>\n",
       "      <td>C7</td>\n",
       "      <td>197 EAST 3RD   STREET</td>\n",
       "      <td>16</td>\n",
       "      <td>1</td>\n",
       "      <td>...</td>\n",
       "      <td>1900</td>\n",
       "      <td>2</td>\n",
       "      <td>C7</td>\n",
       "      <td>530000.0</td>\n",
       "      <td>21</td>\n",
       "      <td>1</td>\n",
       "      <td>6</td>\n",
       "      <td>5</td>\n",
       "      <td>22192</td>\n",
       "      <td>20</td>\n",
       "    </tr>\n",
       "    <tr>\n",
       "      <th>3</th>\n",
       "      <td>1</td>\n",
       "      <td>ALPHABET CITY</td>\n",
       "      <td>07 RENTALS - WALKUP APARTMENTS</td>\n",
       "      <td>2B</td>\n",
       "      <td>402</td>\n",
       "      <td>21</td>\n",
       "      <td>C4</td>\n",
       "      <td>154 EAST 7TH STREET</td>\n",
       "      <td>10</td>\n",
       "      <td>0</td>\n",
       "      <td>...</td>\n",
       "      <td>1913</td>\n",
       "      <td>2</td>\n",
       "      <td>C4</td>\n",
       "      <td>3936272</td>\n",
       "      <td>18</td>\n",
       "      <td>1</td>\n",
       "      <td>6</td>\n",
       "      <td>7</td>\n",
       "      <td>15090</td>\n",
       "      <td>17</td>\n",
       "    </tr>\n",
       "    <tr>\n",
       "      <th>4</th>\n",
       "      <td>1</td>\n",
       "      <td>ALPHABET CITY</td>\n",
       "      <td>07 RENTALS - WALKUP APARTMENTS</td>\n",
       "      <td>2A</td>\n",
       "      <td>404</td>\n",
       "      <td>55</td>\n",
       "      <td>C2</td>\n",
       "      <td>301 EAST 10TH   STREET</td>\n",
       "      <td>6</td>\n",
       "      <td>0</td>\n",
       "      <td>...</td>\n",
       "      <td>1900</td>\n",
       "      <td>2</td>\n",
       "      <td>C2</td>\n",
       "      <td>8000000</td>\n",
       "      <td>16</td>\n",
       "      <td>1</td>\n",
       "      <td>6</td>\n",
       "      <td>6</td>\n",
       "      <td>35431</td>\n",
       "      <td>15</td>\n",
       "    </tr>\n",
       "  </tbody>\n",
       "</table>\n",
       "<p>5 rows × 23 columns</p>\n",
       "</div>"
      ],
      "text/plain": [
       "   BOROUGH   NEIGHBORHOOD                      BUILDING CLASS CATEGORY  \\\n",
       "0        1  ALPHABET CITY  07 RENTALS - WALKUP APARTMENTS                \n",
       "1        1  ALPHABET CITY  07 RENTALS - WALKUP APARTMENTS                \n",
       "2        1  ALPHABET CITY  07 RENTALS - WALKUP APARTMENTS                \n",
       "3        1  ALPHABET CITY  07 RENTALS - WALKUP APARTMENTS                \n",
       "4        1  ALPHABET CITY  07 RENTALS - WALKUP APARTMENTS                \n",
       "\n",
       "  TAX CLASS AT PRESENT  BLOCK  LOT BUILDING CLASS AT PRESENT  \\\n",
       "0                   2A    392    6                        C2   \n",
       "1                    2    399   26                        C7   \n",
       "2                    2    399   39                        C7   \n",
       "3                   2B    402   21                        C4   \n",
       "4                   2A    404   55                        C2   \n",
       "\n",
       "                  ADDRESS  RESIDENTIAL UNITS  COMMERCIAL UNITS  ...  \\\n",
       "0            153 AVENUE B                  5                 0  ...   \n",
       "1   234 EAST 4TH   STREET                 28                 3  ...   \n",
       "2   197 EAST 3RD   STREET                 16                 1  ...   \n",
       "3     154 EAST 7TH STREET                 10                 0  ...   \n",
       "4  301 EAST 10TH   STREET                  6                 0  ...   \n",
       "\n",
       "   YEAR BUILT TAX CLASS AT TIME OF SALE BUILDING CLASS AT TIME OF SALE  \\\n",
       "0        1900                         2                             C2   \n",
       "1        1900                         2                             C7   \n",
       "2        1900                         2                             C7   \n",
       "3        1913                         2                             C4   \n",
       "4        1900                         2                             C2   \n",
       "\n",
       "   SALE PRICE  BUILDING CLASS AT PRESENT_new NEIGHBORHOOD_new  \\\n",
       "0     6625000                             16                1   \n",
       "1    530000.0                             21                1   \n",
       "2    530000.0                             21                1   \n",
       "3     3936272                             18                1   \n",
       "4     8000000                             16                1   \n",
       "\n",
       "  BUILDING CLASS CATEGORY_new  TAX CLASS AT PRESENT_new  ADDRESS_new  \\\n",
       "0                           6                         6        14889   \n",
       "1                           6                         5        28592   \n",
       "2                           6                         5        22192   \n",
       "3                           6                         7        15090   \n",
       "4                           6                         6        35431   \n",
       "\n",
       "   BUILDING CLASS AT TIME OF SALE_new  \n",
       "0                                  15  \n",
       "1                                  20  \n",
       "2                                  20  \n",
       "3                                  17  \n",
       "4                                  15  \n",
       "\n",
       "[5 rows x 23 columns]"
      ]
     },
     "execution_count": 93,
     "metadata": {},
     "output_type": "execute_result"
    }
   ],
   "source": [
    "df_new.head()"
   ]
  },
  {
   "cell_type": "code",
   "execution_count": 94,
   "id": "0bf8f0b3",
   "metadata": {},
   "outputs": [
    {
     "name": "stderr",
     "output_type": "stream",
     "text": [
      "C:\\Users\\ASUS\\AppData\\Local\\Temp/ipykernel_33284/2252892444.py:1: FutureWarning: Dropping of nuisance columns in DataFrame reductions (with 'numeric_only=None') is deprecated; in a future version this will raise TypeError.  Select only valid columns before calling the reduction.\n",
      "  Mx_new = df_new.max()\n"
     ]
    },
    {
     "data": {
      "text/plain": [
       "BOROUGH                                   5\n",
       "BLOCK                                 16322\n",
       "LOT                                    9106\n",
       "RESIDENTIAL UNITS                      1844\n",
       "COMMERCIAL UNITS                       2261\n",
       "TOTAL UNITS                            2261\n",
       "YEAR BUILT                             2017\n",
       "TAX CLASS AT TIME OF SALE                 4\n",
       "BUILDING CLASS AT PRESENT_new           166\n",
       "NEIGHBORHOOD_new                        253\n",
       "BUILDING CLASS CATEGORY_new              46\n",
       "TAX CLASS AT PRESENT_new                 10\n",
       "ADDRESS_new                           67562\n",
       "BUILDING CLASS AT TIME OF SALE_new      165\n",
       "dtype: int64"
      ]
     },
     "execution_count": 94,
     "metadata": {},
     "output_type": "execute_result"
    }
   ],
   "source": [
    "# Mencari nilai maximum pada dataset baru\n",
    "Mx_new = df_new.max()\n",
    "Mx_new"
   ]
  },
  {
   "cell_type": "code",
   "execution_count": 95,
   "id": "607e1d06",
   "metadata": {},
   "outputs": [
    {
     "name": "stderr",
     "output_type": "stream",
     "text": [
      "C:\\Users\\ASUS\\AppData\\Local\\Temp/ipykernel_33284/2492960045.py:1: FutureWarning: Dropping of nuisance columns in DataFrame reductions (with 'numeric_only=None') is deprecated; in a future version this will raise TypeError.  Select only valid columns before calling the reduction.\n",
      "  Mn_new = df_new.min()\n"
     ]
    },
    {
     "data": {
      "text/plain": [
       "BOROUGH                               1\n",
       "BLOCK                                 1\n",
       "LOT                                   1\n",
       "RESIDENTIAL UNITS                     0\n",
       "COMMERCIAL UNITS                      0\n",
       "TOTAL UNITS                           0\n",
       "YEAR BUILT                            0\n",
       "TAX CLASS AT TIME OF SALE             1\n",
       "BUILDING CLASS AT PRESENT_new         0\n",
       "NEIGHBORHOOD_new                      0\n",
       "BUILDING CLASS CATEGORY_new           0\n",
       "TAX CLASS AT PRESENT_new              0\n",
       "ADDRESS_new                           0\n",
       "BUILDING CLASS AT TIME OF SALE_new    0\n",
       "dtype: int64"
      ]
     },
     "execution_count": 95,
     "metadata": {},
     "output_type": "execute_result"
    }
   ],
   "source": [
    "# Mencari nilai minimum pada dataset baru\n",
    "Mn_new = df_new.min()\n",
    "Mn_new"
   ]
  },
  {
   "cell_type": "code",
   "execution_count": 96,
   "id": "22fed54c",
   "metadata": {},
   "outputs": [
    {
     "data": {
      "text/plain": [
       "BOROUGH                                   4\n",
       "BLOCK                                 16321\n",
       "LOT                                    9105\n",
       "RESIDENTIAL UNITS                      1844\n",
       "COMMERCIAL UNITS                       2261\n",
       "TOTAL UNITS                            2261\n",
       "YEAR BUILT                             2017\n",
       "TAX CLASS AT TIME OF SALE                 3\n",
       "BUILDING CLASS AT PRESENT_new           166\n",
       "NEIGHBORHOOD_new                        253\n",
       "BUILDING CLASS CATEGORY_new              46\n",
       "TAX CLASS AT PRESENT_new                 10\n",
       "ADDRESS_new                           67562\n",
       "BUILDING CLASS AT TIME OF SALE_new      165\n",
       "dtype: int64"
      ]
     },
     "execution_count": 96,
     "metadata": {},
     "output_type": "execute_result"
    }
   ],
   "source": [
    "# Range dari new dataset\n",
    "Range = Mx_new- Mn_new\n",
    "Range"
   ]
  },
  {
   "cell_type": "code",
   "execution_count": 40,
   "id": "14e81168",
   "metadata": {},
   "outputs": [
    {
     "data": {
      "text/plain": [
       "BOROUGH                                   2.00\n",
       "BLOCK                                  4958.25\n",
       "LOT                                     979.00\n",
       "RESIDENTIAL UNITS                         2.00\n",
       "COMMERCIAL UNITS                          0.00\n",
       "TOTAL UNITS                               1.00\n",
       "YEAR BUILT                               45.00\n",
       "TAX CLASS AT TIME OF SALE                 1.00\n",
       "BUILDING CLASS AT PRESENT_new           110.00\n",
       "NEIGHBORHOOD_new                        127.00\n",
       "BUILDING CLASS CATEGORY_new              12.00\n",
       "TAX CLASS AT PRESENT_new                  4.00\n",
       "ADDRESS_new                           33109.50\n",
       "BUILDING CLASS AT TIME OF SALE_new      110.00\n",
       "dtype: float64"
      ]
     },
     "execution_count": 40,
     "metadata": {},
     "output_type": "execute_result"
    }
   ],
   "source": [
    "# Inter Quartile Range (Selisih persentil ke 75 dan 25)\n",
    "IQRange = df_ds.quantile(q=0.75)-df_ds.quantile(q=0.25)\n",
    "IQRange"
   ]
  },
  {
   "cell_type": "markdown",
   "id": "ff08502f",
   "metadata": {},
   "source": [
    "## E. Measure of Spread: Variance"
   ]
  },
  {
   "cell_type": "code",
   "execution_count": null,
   "id": "6a94d33a",
   "metadata": {},
   "outputs": [],
   "source": [
    "# Question: Menghitung variance dari Sale Price"
   ]
  },
  {
   "cell_type": "code",
   "execution_count": null,
   "id": "85254ea8",
   "metadata": {},
   "outputs": [],
   "source": [
    "# 1. pre-processing if needed"
   ]
  },
  {
   "cell_type": "code",
   "execution_count": 41,
   "id": "1b669bf9",
   "metadata": {},
   "outputs": [
    {
     "name": "stderr",
     "output_type": "stream",
     "text": [
      "C:\\Users\\ASUS\\AppData\\Local\\Temp/ipykernel_33284/917395578.py:2: FutureWarning: Dropping of nuisance columns in DataFrame reductions (with 'numeric_only=None') is deprecated; in a future version this will raise TypeError.  Select only valid columns before calling the reduction.\n",
      "  varian = df_ds.var()\n"
     ]
    },
    {
     "data": {
      "text/plain": [
       "BOROUGH                               1.663558e+00\n",
       "BLOCK                                 1.273250e+07\n",
       "LOT                                   4.331441e+05\n",
       "RESIDENTIAL UNITS                     2.795931e+02\n",
       "COMMERCIAL UNITS                      7.591956e+01\n",
       "TOTAL UNITS                           3.599590e+02\n",
       "YEAR BUILT                            2.887396e+05\n",
       "TAX CLASS AT TIME OF SALE             6.713200e-01\n",
       "BUILDING CLASS AT PRESENT_new         2.626808e+03\n",
       "NEIGHBORHOOD_new                      5.622463e+03\n",
       "BUILDING CLASS CATEGORY_new           8.141408e+01\n",
       "TAX CLASS AT PRESENT_new              7.660266e+00\n",
       "ADDRESS_new                           3.748610e+08\n",
       "BUILDING CLASS AT TIME OF SALE_new    2.656259e+03\n",
       "dtype: float64"
      ]
     },
     "execution_count": 41,
     "metadata": {},
     "output_type": "execute_result"
    }
   ],
   "source": [
    "# 2. Implement/try-to-use statistical method here ..\n",
    "varian = df_ds.var()\n",
    "varian"
   ]
  },
  {
   "cell_type": "markdown",
   "id": "9882d896",
   "metadata": {},
   "source": [
    "## F. Measure of Spread: Standard Deviation"
   ]
  },
  {
   "cell_type": "code",
   "execution_count": null,
   "id": "91fc5f49",
   "metadata": {},
   "outputs": [],
   "source": [
    "# Question: Menghitung Standard deviation dari Total Units"
   ]
  },
  {
   "cell_type": "code",
   "execution_count": null,
   "id": "1781afe7",
   "metadata": {},
   "outputs": [],
   "source": [
    "# 1. pre-processing if needed"
   ]
  },
  {
   "cell_type": "code",
   "execution_count": null,
   "id": "0f591ae4",
   "metadata": {},
   "outputs": [],
   "source": [
    "# 2. Implement/try-to-use statistical method here ..\n",
    "statistics.stdev(df_ds['TOTAL UNITS'])"
   ]
  },
  {
   "cell_type": "markdown",
   "id": "8923c347",
   "metadata": {},
   "source": [
    "## Using .describe to know overall value descriptive statistics"
   ]
  },
  {
   "cell_type": "code",
   "execution_count": null,
   "id": "5b2cf7b3",
   "metadata": {},
   "outputs": [],
   "source": [
    "# Question: Mengetahui nilai statistik deskriptif secara keseluruhan"
   ]
  },
  {
   "cell_type": "code",
   "execution_count": null,
   "id": "0f9fd951",
   "metadata": {},
   "outputs": [],
   "source": [
    "# 1. pre-processing if needed"
   ]
  },
  {
   "cell_type": "code",
   "execution_count": 42,
   "id": "1ee5d664",
   "metadata": {},
   "outputs": [
    {
     "data": {
      "text/html": [
       "<div>\n",
       "<style scoped>\n",
       "    .dataframe tbody tr th:only-of-type {\n",
       "        vertical-align: middle;\n",
       "    }\n",
       "\n",
       "    .dataframe tbody tr th {\n",
       "        vertical-align: top;\n",
       "    }\n",
       "\n",
       "    .dataframe thead th {\n",
       "        text-align: right;\n",
       "    }\n",
       "</style>\n",
       "<table border=\"1\" class=\"dataframe\">\n",
       "  <thead>\n",
       "    <tr style=\"text-align: right;\">\n",
       "      <th></th>\n",
       "      <th>count</th>\n",
       "      <th>unique</th>\n",
       "      <th>top</th>\n",
       "      <th>freq</th>\n",
       "      <th>mean</th>\n",
       "      <th>std</th>\n",
       "      <th>min</th>\n",
       "      <th>25%</th>\n",
       "      <th>50%</th>\n",
       "      <th>75%</th>\n",
       "      <th>max</th>\n",
       "    </tr>\n",
       "  </thead>\n",
       "  <tbody>\n",
       "    <tr>\n",
       "      <th>BOROUGH</th>\n",
       "      <td>84548.0</td>\n",
       "      <td>NaN</td>\n",
       "      <td>NaN</td>\n",
       "      <td>NaN</td>\n",
       "      <td>2.998758</td>\n",
       "      <td>1.28979</td>\n",
       "      <td>1.0</td>\n",
       "      <td>2.0</td>\n",
       "      <td>3.0</td>\n",
       "      <td>4.0</td>\n",
       "      <td>5.0</td>\n",
       "    </tr>\n",
       "    <tr>\n",
       "      <th>NEIGHBORHOOD</th>\n",
       "      <td>84548</td>\n",
       "      <td>254</td>\n",
       "      <td>FLUSHING-NORTH</td>\n",
       "      <td>3068</td>\n",
       "      <td>NaN</td>\n",
       "      <td>NaN</td>\n",
       "      <td>NaN</td>\n",
       "      <td>NaN</td>\n",
       "      <td>NaN</td>\n",
       "      <td>NaN</td>\n",
       "      <td>NaN</td>\n",
       "    </tr>\n",
       "    <tr>\n",
       "      <th>BUILDING CLASS CATEGORY</th>\n",
       "      <td>84548</td>\n",
       "      <td>47</td>\n",
       "      <td>01 ONE FAMILY DWELLINGS</td>\n",
       "      <td>18235</td>\n",
       "      <td>NaN</td>\n",
       "      <td>NaN</td>\n",
       "      <td>NaN</td>\n",
       "      <td>NaN</td>\n",
       "      <td>NaN</td>\n",
       "      <td>NaN</td>\n",
       "      <td>NaN</td>\n",
       "    </tr>\n",
       "    <tr>\n",
       "      <th>TAX CLASS AT PRESENT</th>\n",
       "      <td>84548</td>\n",
       "      <td>11</td>\n",
       "      <td>1</td>\n",
       "      <td>38633</td>\n",
       "      <td>NaN</td>\n",
       "      <td>NaN</td>\n",
       "      <td>NaN</td>\n",
       "      <td>NaN</td>\n",
       "      <td>NaN</td>\n",
       "      <td>NaN</td>\n",
       "      <td>NaN</td>\n",
       "    </tr>\n",
       "    <tr>\n",
       "      <th>BLOCK</th>\n",
       "      <td>84548.0</td>\n",
       "      <td>NaN</td>\n",
       "      <td>NaN</td>\n",
       "      <td>NaN</td>\n",
       "      <td>4237.218976</td>\n",
       "      <td>3568.263407</td>\n",
       "      <td>1.0</td>\n",
       "      <td>1322.75</td>\n",
       "      <td>3311.0</td>\n",
       "      <td>6281.0</td>\n",
       "      <td>16322.0</td>\n",
       "    </tr>\n",
       "    <tr>\n",
       "      <th>LOT</th>\n",
       "      <td>84548.0</td>\n",
       "      <td>NaN</td>\n",
       "      <td>NaN</td>\n",
       "      <td>NaN</td>\n",
       "      <td>376.224015</td>\n",
       "      <td>658.136814</td>\n",
       "      <td>1.0</td>\n",
       "      <td>22.0</td>\n",
       "      <td>50.0</td>\n",
       "      <td>1001.0</td>\n",
       "      <td>9106.0</td>\n",
       "    </tr>\n",
       "    <tr>\n",
       "      <th>BUILDING CLASS AT PRESENT</th>\n",
       "      <td>84548</td>\n",
       "      <td>167</td>\n",
       "      <td>D4</td>\n",
       "      <td>12663</td>\n",
       "      <td>NaN</td>\n",
       "      <td>NaN</td>\n",
       "      <td>NaN</td>\n",
       "      <td>NaN</td>\n",
       "      <td>NaN</td>\n",
       "      <td>NaN</td>\n",
       "      <td>NaN</td>\n",
       "    </tr>\n",
       "    <tr>\n",
       "      <th>ADDRESS</th>\n",
       "      <td>84548</td>\n",
       "      <td>67563</td>\n",
       "      <td>131-05 40TH   ROAD</td>\n",
       "      <td>210</td>\n",
       "      <td>NaN</td>\n",
       "      <td>NaN</td>\n",
       "      <td>NaN</td>\n",
       "      <td>NaN</td>\n",
       "      <td>NaN</td>\n",
       "      <td>NaN</td>\n",
       "      <td>NaN</td>\n",
       "    </tr>\n",
       "    <tr>\n",
       "      <th>RESIDENTIAL UNITS</th>\n",
       "      <td>84548.0</td>\n",
       "      <td>NaN</td>\n",
       "      <td>NaN</td>\n",
       "      <td>NaN</td>\n",
       "      <td>2.025264</td>\n",
       "      <td>16.721037</td>\n",
       "      <td>0.0</td>\n",
       "      <td>0.0</td>\n",
       "      <td>1.0</td>\n",
       "      <td>2.0</td>\n",
       "      <td>1844.0</td>\n",
       "    </tr>\n",
       "    <tr>\n",
       "      <th>COMMERCIAL UNITS</th>\n",
       "      <td>84548.0</td>\n",
       "      <td>NaN</td>\n",
       "      <td>NaN</td>\n",
       "      <td>NaN</td>\n",
       "      <td>0.193559</td>\n",
       "      <td>8.713183</td>\n",
       "      <td>0.0</td>\n",
       "      <td>0.0</td>\n",
       "      <td>0.0</td>\n",
       "      <td>0.0</td>\n",
       "      <td>2261.0</td>\n",
       "    </tr>\n",
       "    <tr>\n",
       "      <th>TOTAL UNITS</th>\n",
       "      <td>84548.0</td>\n",
       "      <td>NaN</td>\n",
       "      <td>NaN</td>\n",
       "      <td>NaN</td>\n",
       "      <td>2.249184</td>\n",
       "      <td>18.972584</td>\n",
       "      <td>0.0</td>\n",
       "      <td>1.0</td>\n",
       "      <td>1.0</td>\n",
       "      <td>2.0</td>\n",
       "      <td>2261.0</td>\n",
       "    </tr>\n",
       "    <tr>\n",
       "      <th>LAND SQUARE FEET</th>\n",
       "      <td>84548.0</td>\n",
       "      <td>6062.0</td>\n",
       "      <td>2325.0</td>\n",
       "      <td>26252.0</td>\n",
       "      <td>NaN</td>\n",
       "      <td>NaN</td>\n",
       "      <td>NaN</td>\n",
       "      <td>NaN</td>\n",
       "      <td>NaN</td>\n",
       "      <td>NaN</td>\n",
       "      <td>NaN</td>\n",
       "    </tr>\n",
       "    <tr>\n",
       "      <th>GROSS SQUARE FEET</th>\n",
       "      <td>84548.0</td>\n",
       "      <td>5691.0</td>\n",
       "      <td>1680.0</td>\n",
       "      <td>27612.0</td>\n",
       "      <td>NaN</td>\n",
       "      <td>NaN</td>\n",
       "      <td>NaN</td>\n",
       "      <td>NaN</td>\n",
       "      <td>NaN</td>\n",
       "      <td>NaN</td>\n",
       "      <td>NaN</td>\n",
       "    </tr>\n",
       "    <tr>\n",
       "      <th>YEAR BUILT</th>\n",
       "      <td>84548.0</td>\n",
       "      <td>NaN</td>\n",
       "      <td>NaN</td>\n",
       "      <td>NaN</td>\n",
       "      <td>1789.322976</td>\n",
       "      <td>537.344993</td>\n",
       "      <td>0.0</td>\n",
       "      <td>1920.0</td>\n",
       "      <td>1940.0</td>\n",
       "      <td>1965.0</td>\n",
       "      <td>2017.0</td>\n",
       "    </tr>\n",
       "    <tr>\n",
       "      <th>TAX CLASS AT TIME OF SALE</th>\n",
       "      <td>84548.0</td>\n",
       "      <td>NaN</td>\n",
       "      <td>NaN</td>\n",
       "      <td>NaN</td>\n",
       "      <td>1.657485</td>\n",
       "      <td>0.819341</td>\n",
       "      <td>1.0</td>\n",
       "      <td>1.0</td>\n",
       "      <td>2.0</td>\n",
       "      <td>2.0</td>\n",
       "      <td>4.0</td>\n",
       "    </tr>\n",
       "    <tr>\n",
       "      <th>BUILDING CLASS AT TIME OF SALE</th>\n",
       "      <td>84548</td>\n",
       "      <td>166</td>\n",
       "      <td>R4</td>\n",
       "      <td>12989</td>\n",
       "      <td>NaN</td>\n",
       "      <td>NaN</td>\n",
       "      <td>NaN</td>\n",
       "      <td>NaN</td>\n",
       "      <td>NaN</td>\n",
       "      <td>NaN</td>\n",
       "      <td>NaN</td>\n",
       "    </tr>\n",
       "    <tr>\n",
       "      <th>SALE PRICE</th>\n",
       "      <td>84548.0</td>\n",
       "      <td>10008.0</td>\n",
       "      <td>530000.0</td>\n",
       "      <td>14561.0</td>\n",
       "      <td>NaN</td>\n",
       "      <td>NaN</td>\n",
       "      <td>NaN</td>\n",
       "      <td>NaN</td>\n",
       "      <td>NaN</td>\n",
       "      <td>NaN</td>\n",
       "      <td>NaN</td>\n",
       "    </tr>\n",
       "    <tr>\n",
       "      <th>SALE DATE</th>\n",
       "      <td>84548</td>\n",
       "      <td>364</td>\n",
       "      <td>2017-06-29 00:00:00</td>\n",
       "      <td>544</td>\n",
       "      <td>NaN</td>\n",
       "      <td>NaN</td>\n",
       "      <td>NaN</td>\n",
       "      <td>NaN</td>\n",
       "      <td>NaN</td>\n",
       "      <td>NaN</td>\n",
       "      <td>NaN</td>\n",
       "    </tr>\n",
       "    <tr>\n",
       "      <th>BUILDING CLASS AT PRESENT_new</th>\n",
       "      <td>84548.0</td>\n",
       "      <td>NaN</td>\n",
       "      <td>NaN</td>\n",
       "      <td>NaN</td>\n",
       "      <td>47.573284</td>\n",
       "      <td>51.252398</td>\n",
       "      <td>0.0</td>\n",
       "      <td>10.0</td>\n",
       "      <td>20.0</td>\n",
       "      <td>120.0</td>\n",
       "      <td>166.0</td>\n",
       "    </tr>\n",
       "    <tr>\n",
       "      <th>NEIGHBORHOOD_new</th>\n",
       "      <td>84548.0</td>\n",
       "      <td>NaN</td>\n",
       "      <td>NaN</td>\n",
       "      <td>NaN</td>\n",
       "      <td>127.367708</td>\n",
       "      <td>74.983088</td>\n",
       "      <td>0.0</td>\n",
       "      <td>68.0</td>\n",
       "      <td>122.0</td>\n",
       "      <td>195.0</td>\n",
       "      <td>253.0</td>\n",
       "    </tr>\n",
       "    <tr>\n",
       "      <th>BUILDING CLASS CATEGORY_new</th>\n",
       "      <td>84548.0</td>\n",
       "      <td>NaN</td>\n",
       "      <td>NaN</td>\n",
       "      <td>NaN</td>\n",
       "      <td>7.455043</td>\n",
       "      <td>9.022975</td>\n",
       "      <td>0.0</td>\n",
       "      <td>1.0</td>\n",
       "      <td>6.0</td>\n",
       "      <td>13.0</td>\n",
       "      <td>46.0</td>\n",
       "    </tr>\n",
       "    <tr>\n",
       "      <th>TAX CLASS AT PRESENT_new</th>\n",
       "      <td>84548.0</td>\n",
       "      <td>NaN</td>\n",
       "      <td>NaN</td>\n",
       "      <td>NaN</td>\n",
       "      <td>3.526305</td>\n",
       "      <td>2.767719</td>\n",
       "      <td>0.0</td>\n",
       "      <td>1.0</td>\n",
       "      <td>5.0</td>\n",
       "      <td>5.0</td>\n",
       "      <td>10.0</td>\n",
       "    </tr>\n",
       "    <tr>\n",
       "      <th>ADDRESS_new</th>\n",
       "      <td>84548.0</td>\n",
       "      <td>NaN</td>\n",
       "      <td>NaN</td>\n",
       "      <td>NaN</td>\n",
       "      <td>33608.317062</td>\n",
       "      <td>19361.32817</td>\n",
       "      <td>0.0</td>\n",
       "      <td>16840.75</td>\n",
       "      <td>33806.5</td>\n",
       "      <td>49950.25</td>\n",
       "      <td>67562.0</td>\n",
       "    </tr>\n",
       "    <tr>\n",
       "      <th>BUILDING CLASS AT TIME OF SALE_new</th>\n",
       "      <td>84548.0</td>\n",
       "      <td>NaN</td>\n",
       "      <td>NaN</td>\n",
       "      <td>NaN</td>\n",
       "      <td>47.657106</td>\n",
       "      <td>51.538907</td>\n",
       "      <td>0.0</td>\n",
       "      <td>9.0</td>\n",
       "      <td>19.0</td>\n",
       "      <td>119.0</td>\n",
       "      <td>165.0</td>\n",
       "    </tr>\n",
       "  </tbody>\n",
       "</table>\n",
       "</div>"
      ],
      "text/plain": [
       "                                      count   unique  \\\n",
       "BOROUGH                             84548.0      NaN   \n",
       "NEIGHBORHOOD                          84548      254   \n",
       "BUILDING CLASS CATEGORY               84548       47   \n",
       "TAX CLASS AT PRESENT                  84548       11   \n",
       "BLOCK                               84548.0      NaN   \n",
       "LOT                                 84548.0      NaN   \n",
       "BUILDING CLASS AT PRESENT             84548      167   \n",
       "ADDRESS                               84548    67563   \n",
       "RESIDENTIAL UNITS                   84548.0      NaN   \n",
       "COMMERCIAL UNITS                    84548.0      NaN   \n",
       "TOTAL UNITS                         84548.0      NaN   \n",
       "LAND SQUARE FEET                    84548.0   6062.0   \n",
       "GROSS SQUARE FEET                   84548.0   5691.0   \n",
       "YEAR BUILT                          84548.0      NaN   \n",
       "TAX CLASS AT TIME OF SALE           84548.0      NaN   \n",
       "BUILDING CLASS AT TIME OF SALE        84548      166   \n",
       "SALE PRICE                          84548.0  10008.0   \n",
       "SALE DATE                             84548      364   \n",
       "BUILDING CLASS AT PRESENT_new       84548.0      NaN   \n",
       "NEIGHBORHOOD_new                    84548.0      NaN   \n",
       "BUILDING CLASS CATEGORY_new         84548.0      NaN   \n",
       "TAX CLASS AT PRESENT_new            84548.0      NaN   \n",
       "ADDRESS_new                         84548.0      NaN   \n",
       "BUILDING CLASS AT TIME OF SALE_new  84548.0      NaN   \n",
       "\n",
       "                                                                            top  \\\n",
       "BOROUGH                                                                     NaN   \n",
       "NEIGHBORHOOD                                                     FLUSHING-NORTH   \n",
       "BUILDING CLASS CATEGORY             01 ONE FAMILY DWELLINGS                       \n",
       "TAX CLASS AT PRESENT                                                          1   \n",
       "BLOCK                                                                       NaN   \n",
       "LOT                                                                         NaN   \n",
       "BUILDING CLASS AT PRESENT                                                    D4   \n",
       "ADDRESS                                                      131-05 40TH   ROAD   \n",
       "RESIDENTIAL UNITS                                                           NaN   \n",
       "COMMERCIAL UNITS                                                            NaN   \n",
       "TOTAL UNITS                                                                 NaN   \n",
       "LAND SQUARE FEET                                                         2325.0   \n",
       "GROSS SQUARE FEET                                                        1680.0   \n",
       "YEAR BUILT                                                                  NaN   \n",
       "TAX CLASS AT TIME OF SALE                                                   NaN   \n",
       "BUILDING CLASS AT TIME OF SALE                                               R4   \n",
       "SALE PRICE                                                             530000.0   \n",
       "SALE DATE                                                   2017-06-29 00:00:00   \n",
       "BUILDING CLASS AT PRESENT_new                                               NaN   \n",
       "NEIGHBORHOOD_new                                                            NaN   \n",
       "BUILDING CLASS CATEGORY_new                                                 NaN   \n",
       "TAX CLASS AT PRESENT_new                                                    NaN   \n",
       "ADDRESS_new                                                                 NaN   \n",
       "BUILDING CLASS AT TIME OF SALE_new                                          NaN   \n",
       "\n",
       "                                       freq          mean          std  min  \\\n",
       "BOROUGH                                 NaN      2.998758      1.28979  1.0   \n",
       "NEIGHBORHOOD                           3068           NaN          NaN  NaN   \n",
       "BUILDING CLASS CATEGORY               18235           NaN          NaN  NaN   \n",
       "TAX CLASS AT PRESENT                  38633           NaN          NaN  NaN   \n",
       "BLOCK                                   NaN   4237.218976  3568.263407  1.0   \n",
       "LOT                                     NaN    376.224015   658.136814  1.0   \n",
       "BUILDING CLASS AT PRESENT             12663           NaN          NaN  NaN   \n",
       "ADDRESS                                 210           NaN          NaN  NaN   \n",
       "RESIDENTIAL UNITS                       NaN      2.025264    16.721037  0.0   \n",
       "COMMERCIAL UNITS                        NaN      0.193559     8.713183  0.0   \n",
       "TOTAL UNITS                             NaN      2.249184    18.972584  0.0   \n",
       "LAND SQUARE FEET                    26252.0           NaN          NaN  NaN   \n",
       "GROSS SQUARE FEET                   27612.0           NaN          NaN  NaN   \n",
       "YEAR BUILT                              NaN   1789.322976   537.344993  0.0   \n",
       "TAX CLASS AT TIME OF SALE               NaN      1.657485     0.819341  1.0   \n",
       "BUILDING CLASS AT TIME OF SALE        12989           NaN          NaN  NaN   \n",
       "SALE PRICE                          14561.0           NaN          NaN  NaN   \n",
       "SALE DATE                               544           NaN          NaN  NaN   \n",
       "BUILDING CLASS AT PRESENT_new           NaN     47.573284    51.252398  0.0   \n",
       "NEIGHBORHOOD_new                        NaN    127.367708    74.983088  0.0   \n",
       "BUILDING CLASS CATEGORY_new             NaN      7.455043     9.022975  0.0   \n",
       "TAX CLASS AT PRESENT_new                NaN      3.526305     2.767719  0.0   \n",
       "ADDRESS_new                             NaN  33608.317062  19361.32817  0.0   \n",
       "BUILDING CLASS AT TIME OF SALE_new      NaN     47.657106    51.538907  0.0   \n",
       "\n",
       "                                         25%      50%       75%      max  \n",
       "BOROUGH                                  2.0      3.0       4.0      5.0  \n",
       "NEIGHBORHOOD                             NaN      NaN       NaN      NaN  \n",
       "BUILDING CLASS CATEGORY                  NaN      NaN       NaN      NaN  \n",
       "TAX CLASS AT PRESENT                     NaN      NaN       NaN      NaN  \n",
       "BLOCK                                1322.75   3311.0    6281.0  16322.0  \n",
       "LOT                                     22.0     50.0    1001.0   9106.0  \n",
       "BUILDING CLASS AT PRESENT                NaN      NaN       NaN      NaN  \n",
       "ADDRESS                                  NaN      NaN       NaN      NaN  \n",
       "RESIDENTIAL UNITS                        0.0      1.0       2.0   1844.0  \n",
       "COMMERCIAL UNITS                         0.0      0.0       0.0   2261.0  \n",
       "TOTAL UNITS                              1.0      1.0       2.0   2261.0  \n",
       "LAND SQUARE FEET                         NaN      NaN       NaN      NaN  \n",
       "GROSS SQUARE FEET                        NaN      NaN       NaN      NaN  \n",
       "YEAR BUILT                            1920.0   1940.0    1965.0   2017.0  \n",
       "TAX CLASS AT TIME OF SALE                1.0      2.0       2.0      4.0  \n",
       "BUILDING CLASS AT TIME OF SALE           NaN      NaN       NaN      NaN  \n",
       "SALE PRICE                               NaN      NaN       NaN      NaN  \n",
       "SALE DATE                                NaN      NaN       NaN      NaN  \n",
       "BUILDING CLASS AT PRESENT_new           10.0     20.0     120.0    166.0  \n",
       "NEIGHBORHOOD_new                        68.0    122.0     195.0    253.0  \n",
       "BUILDING CLASS CATEGORY_new              1.0      6.0      13.0     46.0  \n",
       "TAX CLASS AT PRESENT_new                 1.0      5.0       5.0     10.0  \n",
       "ADDRESS_new                         16840.75  33806.5  49950.25  67562.0  \n",
       "BUILDING CLASS AT TIME OF SALE_new       9.0     19.0     119.0    165.0  "
      ]
     },
     "execution_count": 42,
     "metadata": {},
     "output_type": "execute_result"
    }
   ],
   "source": [
    "# 2. Implement/try-to-use statistical method here ..\n",
    "df_ds.describe(include='all').T"
   ]
  },
  {
   "cell_type": "markdown",
   "id": "e956c9de",
   "metadata": {},
   "source": [
    "# Inferential Statistics"
   ]
  },
  {
   "cell_type": "markdown",
   "id": "b67ff8ee",
   "metadata": {},
   "source": [
    "## G. Probability Distribution"
   ]
  },
  {
   "cell_type": "code",
   "execution_count": null,
   "id": "f9488f29",
   "metadata": {},
   "outputs": [],
   "source": [
    "# Question: Menghitung probability distribution dari beberapa kolom pada dataset"
   ]
  },
  {
   "cell_type": "code",
   "execution_count": 43,
   "id": "88c6064d",
   "metadata": {},
   "outputs": [],
   "source": [
    "# 1. pre-processing if needed\n",
    "# import seaborn\n",
    "import seaborn as sns\n",
    "# settings for seaborn plotting style\n",
    "sns.set(color_codes=True)\n",
    "# settings for seaborn plot sizes\n",
    "sns.set(rc={'figure.figsize':(5,5)})"
   ]
  },
  {
   "cell_type": "code",
   "execution_count": 44,
   "id": "09303d5c",
   "metadata": {},
   "outputs": [],
   "source": [
    "# for inline plots in jupyter\n",
    "%matplotlib inline\n",
    "# import matplotlib\n",
    "import matplotlib.pyplot as plt\n",
    "# for latex equations\n",
    "from IPython.display import Math, Latex\n",
    "# for displaying images\n",
    "from IPython.core.display import Image"
   ]
  },
  {
   "cell_type": "code",
   "execution_count": null,
   "id": "52bb5c28",
   "metadata": {},
   "outputs": [],
   "source": [
    "# 2. Implement/try-to-use statistical method here .."
   ]
  },
  {
   "cell_type": "code",
   "execution_count": 45,
   "id": "0446dd34",
   "metadata": {},
   "outputs": [
    {
     "name": "stderr",
     "output_type": "stream",
     "text": [
      "C:\\ProgramData\\Anaconda3\\lib\\site-packages\\seaborn\\distributions.py:2619: FutureWarning: `distplot` is a deprecated function and will be removed in a future version. Please adapt your code to use either `displot` (a figure-level function with similar flexibility) or `histplot` (an axes-level function for histograms).\n",
      "  warnings.warn(msg, FutureWarning)\n"
     ]
    },
    {
     "data": {
      "text/plain": [
       "<AxesSubplot:xlabel='TOTAL UNITS', ylabel='Density'>"
      ]
     },
     "execution_count": 45,
     "metadata": {},
     "output_type": "execute_result"
    },
    {
     "data": {
      "image/png": "[encoded data removed]",
      "text/plain": [
       "<Figure size 432x288 with 1 Axes>"
      ]
     },
     "metadata": {
      "needs_background": "light"
     },
     "output_type": "display_data"
    }
   ],
   "source": [
    "# 3. Visualization\n",
    "# Kurva Data Total Units\n",
    "sns.distplot(df_ds['TOTAL UNITS'],\n",
    "            color='#9370D8')"
   ]
  },
  {
   "cell_type": "code",
   "execution_count": 47,
   "id": "bda12f19",
   "metadata": {},
   "outputs": [
    {
     "data": {
      "text/plain": [
       "TOTAL UNITS  TOTAL UNITS\n",
       "0            0              19762\n",
       "1            1              38356\n",
       "2            2              15914\n",
       "3            3               5412\n",
       "4            4               1498\n",
       "                            ...  \n",
       "902          902                1\n",
       "955          955                1\n",
       "1653         1653               1\n",
       "1866         1866               2\n",
       "2261         2261               1\n",
       "Name: TOTAL UNITS, Length: 192, dtype: int64"
      ]
     },
     "execution_count": 47,
     "metadata": {},
     "output_type": "execute_result"
    }
   ],
   "source": [
    "df_ds_tu = df_ds['TOTAL UNITS'].groupby(df_ds['TOTAL UNITS']).value_counts()\n",
    "df_ds_tu"
   ]
  },
  {
   "cell_type": "code",
   "execution_count": 48,
   "id": "a0c68f91",
   "metadata": {},
   "outputs": [
    {
     "name": "stderr",
     "output_type": "stream",
     "text": [
      "C:\\ProgramData\\Anaconda3\\lib\\site-packages\\seaborn\\distributions.py:2619: FutureWarning: `distplot` is a deprecated function and will be removed in a future version. Please adapt your code to use either `displot` (a figure-level function with similar flexibility) or `histplot` (an axes-level function for histograms).\n",
      "  warnings.warn(msg, FutureWarning)\n"
     ]
    },
    {
     "data": {
      "text/plain": [
       "[Text(0.5, 0, 'Distribution '), Text(0, 0.5, 'Frequency')]"
      ]
     },
     "execution_count": 48,
     "metadata": {},
     "output_type": "execute_result"
    },
    {
     "data": {
      "image/png": "[encoded data removed]",
      "text/plain": [
       "<Figure size 432x288 with 1 Axes>"
      ]
     },
     "metadata": {
      "needs_background": "light"
     },
     "output_type": "display_data"
    }
   ],
   "source": [
    "# Plot Data Total Units\n",
    "ax = sns.distplot(df_ds_tu,\n",
    "                  bins=3,\n",
    "                  kde=True,\n",
    "                  color='#9370D8',\n",
    "                  hist_kws={\"linewidth\": 10,'alpha':1})\n",
    "ax.set(xlabel='Distribution ', ylabel='Frequency')"
   ]
  },
  {
   "cell_type": "markdown",
   "id": "e596443b",
   "metadata": {},
   "source": [
    "> Berdasarkan dari visualisasi probabilition distribution pada kolom Total Units, maka variabel TOTAL UNITS\n",
    "termasuk kedalam Gamma Distribution dan Positive skew / right-skewed distribution."
   ]
  },
  {
   "cell_type": "code",
   "execution_count": 49,
   "id": "1f6609ac",
   "metadata": {},
   "outputs": [
    {
     "name": "stderr",
     "output_type": "stream",
     "text": [
      "C:\\ProgramData\\Anaconda3\\lib\\site-packages\\seaborn\\distributions.py:2619: FutureWarning: `distplot` is a deprecated function and will be removed in a future version. Please adapt your code to use either `displot` (a figure-level function with similar flexibility) or `histplot` (an axes-level function for histograms).\n",
      "  warnings.warn(msg, FutureWarning)\n"
     ]
    },
    {
     "data": {
      "text/plain": [
       "<AxesSubplot:xlabel='BOROUGH', ylabel='Density'>"
      ]
     },
     "execution_count": 49,
     "metadata": {},
     "output_type": "execute_result"
    },
    {
     "data": {
      "image/png": "[encoded data removed]",
      "text/plain": [
       "<Figure size 432x288 with 1 Axes>"
      ]
     },
     "metadata": {
      "needs_background": "light"
     },
     "output_type": "display_data"
    }
   ],
   "source": [
    "# Kurva Data Borough\n",
    "sns.distplot(df_ds['BOROUGH'],\n",
    "            color='#9370D8')"
   ]
  },
  {
   "cell_type": "code",
   "execution_count": 50,
   "id": "fe36e51c",
   "metadata": {},
   "outputs": [
    {
     "data": {
      "text/plain": [
       "BOROUGH  BOROUGH\n",
       "1        1          18306\n",
       "2        2           7049\n",
       "3        3          24047\n",
       "4        4          26736\n",
       "5        5           8410\n",
       "Name: BOROUGH, dtype: int64"
      ]
     },
     "execution_count": 50,
     "metadata": {},
     "output_type": "execute_result"
    }
   ],
   "source": [
    "# Pengelompokkan Borough\n",
    "df_ds_b = df_ds['BOROUGH'].groupby(df_ds['BOROUGH']).value_counts()\n",
    "df_ds_b"
   ]
  },
  {
   "cell_type": "code",
   "execution_count": 51,
   "id": "67828545",
   "metadata": {},
   "outputs": [
    {
     "name": "stderr",
     "output_type": "stream",
     "text": [
      "C:\\ProgramData\\Anaconda3\\lib\\site-packages\\seaborn\\distributions.py:2619: FutureWarning: `distplot` is a deprecated function and will be removed in a future version. Please adapt your code to use either `displot` (a figure-level function with similar flexibility) or `histplot` (an axes-level function for histograms).\n",
      "  warnings.warn(msg, FutureWarning)\n"
     ]
    },
    {
     "data": {
      "text/plain": [
       "[Text(0.5, 0, 'Distribution '), Text(0, 0.5, 'Frequency')]"
      ]
     },
     "execution_count": 51,
     "metadata": {},
     "output_type": "execute_result"
    },
    {
     "data": {
      "image/png": "[encoded data removed]",
      "text/plain": [
       "<Figure size 432x288 with 1 Axes>"
      ]
     },
     "metadata": {
      "needs_background": "light"
     },
     "output_type": "display_data"
    }
   ],
   "source": [
    "# Plot Data Borough\n",
    "ax = sns.distplot(df_ds_b,\n",
    "                  bins=2,\n",
    "                  kde=True,\n",
    "                  color='#9370D8',\n",
    "                  hist_kws={\"linewidth\": 15,'alpha':1}\n",
    "                 )\n",
    "ax.set(xlabel='Distribution ', ylabel='Frequency')"
   ]
  },
  {
   "cell_type": "markdown",
   "id": "5e53871c",
   "metadata": {},
   "source": [
    "> Berdasarkan dari visualisasi probabilition distribution pada kolom Borough, maka variabel BOROUGH\n",
    "termasuk kedalam distribusi Uniform dan Normal distribution."
   ]
  },
  {
   "cell_type": "code",
   "execution_count": 52,
   "id": "a2a61850",
   "metadata": {},
   "outputs": [
    {
     "name": "stderr",
     "output_type": "stream",
     "text": [
      "C:\\ProgramData\\Anaconda3\\lib\\site-packages\\seaborn\\distributions.py:2619: FutureWarning: `distplot` is a deprecated function and will be removed in a future version. Please adapt your code to use either `displot` (a figure-level function with similar flexibility) or `histplot` (an axes-level function for histograms).\n",
      "  warnings.warn(msg, FutureWarning)\n"
     ]
    },
    {
     "data": {
      "text/plain": [
       "<AxesSubplot:xlabel='LOT', ylabel='Density'>"
      ]
     },
     "execution_count": 52,
     "metadata": {},
     "output_type": "execute_result"
    },
    {
     "data": {
      "image/png": "[encoded data removed]",
      "text/plain": [
       "<Figure size 432x288 with 1 Axes>"
      ]
     },
     "metadata": {
      "needs_background": "light"
     },
     "output_type": "display_data"
    }
   ],
   "source": [
    "# Kurva Data LOT\n",
    "sns.distplot(df_ds['LOT'],\n",
    "            color='#9370D8')"
   ]
  },
  {
   "cell_type": "code",
   "execution_count": 53,
   "id": "11aecd73",
   "metadata": {},
   "outputs": [
    {
     "data": {
      "text/plain": [
       "LOT   LOT \n",
       "1     1       4125\n",
       "2     2        742\n",
       "3     3        811\n",
       "4     4        685\n",
       "5     5        805\n",
       "              ... \n",
       "9080  9080       1\n",
       "9081  9081       1\n",
       "9085  9085       1\n",
       "9099  9099       1\n",
       "9106  9106       1\n",
       "Name: LOT, Length: 2627, dtype: int64"
      ]
     },
     "execution_count": 53,
     "metadata": {},
     "output_type": "execute_result"
    }
   ],
   "source": [
    "# Pengelompokkan Lot\n",
    "df_ds_l = df_ds['LOT'].groupby(df_ds['LOT']).value_counts()\n",
    "df_ds_l"
   ]
  },
  {
   "cell_type": "code",
   "execution_count": 54,
   "id": "d9c7d4fb",
   "metadata": {},
   "outputs": [
    {
     "name": "stderr",
     "output_type": "stream",
     "text": [
      "C:\\ProgramData\\Anaconda3\\lib\\site-packages\\seaborn\\distributions.py:2619: FutureWarning: `distplot` is a deprecated function and will be removed in a future version. Please adapt your code to use either `displot` (a figure-level function with similar flexibility) or `histplot` (an axes-level function for histograms).\n",
      "  warnings.warn(msg, FutureWarning)\n"
     ]
    },
    {
     "data": {
      "text/plain": [
       "[Text(0.5, 0, 'Distribution '), Text(0, 0.5, 'Frequency')]"
      ]
     },
     "execution_count": 54,
     "metadata": {},
     "output_type": "execute_result"
    },
    {
     "data": {
      "image/png": "[encoded data removed]",
      "text/plain": [
       "<Figure size 432x288 with 1 Axes>"
      ]
     },
     "metadata": {
      "needs_background": "light"
     },
     "output_type": "display_data"
    }
   ],
   "source": [
    "# Plot Data Lot\n",
    "ax = sns.distplot(df_ds_l,\n",
    "                  bins=2,\n",
    "                  kde=True,\n",
    "                  color='#9370D8',\n",
    "                  hist_kws={\"linewidth\": 15,'alpha':1}\n",
    "                 )\n",
    "ax.set(xlabel='Distribution ', ylabel='Frequency')"
   ]
  },
  {
   "cell_type": "markdown",
   "id": "07f281aa",
   "metadata": {},
   "source": [
    "> Berdasarkan dari visualisasi probabilition distribution pada kolom LOT, maka variabel LOT\n",
    "termasuk kedalam Gamma distribution dan Eksponensial distribution."
   ]
  },
  {
   "cell_type": "markdown",
   "id": "69f02ff6",
   "metadata": {},
   "source": [
    "**Conclussion**\n",
    "\n",
    "Dari beberapa kolom atau variabel yang sudah dijabarkan mengenai probability distribution\n",
    "ditemukan bahwa terdapat variabel yang memiliki distribusi normal yaitu BOROUGH\n",
    "dan sisanya bukan termasuk kedalam distribusi normal seperti variabel TOTAL UNITS dan LOT"
   ]
  },
  {
   "cell_type": "markdown",
   "id": "54272187",
   "metadata": {},
   "source": [
    "## H. Confidence Intervals"
   ]
  },
  {
   "cell_type": "code",
   "execution_count": 56,
   "id": "824cf269",
   "metadata": {},
   "outputs": [
    {
     "data": {
      "text/html": [
       "<div>\n",
       "<style scoped>\n",
       "    .dataframe tbody tr th:only-of-type {\n",
       "        vertical-align: middle;\n",
       "    }\n",
       "\n",
       "    .dataframe tbody tr th {\n",
       "        vertical-align: top;\n",
       "    }\n",
       "\n",
       "    .dataframe thead th {\n",
       "        text-align: right;\n",
       "    }\n",
       "</style>\n",
       "<table border=\"1\" class=\"dataframe\">\n",
       "  <thead>\n",
       "    <tr style=\"text-align: right;\">\n",
       "      <th></th>\n",
       "      <th>BOROUGH</th>\n",
       "      <th>NEIGHBORHOOD</th>\n",
       "      <th>BUILDING CLASS CATEGORY</th>\n",
       "      <th>TAX CLASS AT PRESENT</th>\n",
       "      <th>BLOCK</th>\n",
       "      <th>LOT</th>\n",
       "      <th>BUILDING CLASS AT PRESENT</th>\n",
       "      <th>ADDRESS</th>\n",
       "      <th>RESIDENTIAL UNITS</th>\n",
       "      <th>COMMERCIAL UNITS</th>\n",
       "      <th>...</th>\n",
       "      <th>TAX CLASS AT TIME OF SALE</th>\n",
       "      <th>BUILDING CLASS AT TIME OF SALE</th>\n",
       "      <th>SALE PRICE</th>\n",
       "      <th>SALE DATE</th>\n",
       "      <th>BUILDING CLASS AT PRESENT_new</th>\n",
       "      <th>NEIGHBORHOOD_new</th>\n",
       "      <th>BUILDING CLASS CATEGORY_new</th>\n",
       "      <th>TAX CLASS AT PRESENT_new</th>\n",
       "      <th>ADDRESS_new</th>\n",
       "      <th>BUILDING CLASS AT TIME OF SALE_new</th>\n",
       "    </tr>\n",
       "  </thead>\n",
       "  <tbody>\n",
       "    <tr>\n",
       "      <th>0</th>\n",
       "      <td>1</td>\n",
       "      <td>ALPHABET CITY</td>\n",
       "      <td>07 RENTALS - WALKUP APARTMENTS</td>\n",
       "      <td>2A</td>\n",
       "      <td>392</td>\n",
       "      <td>6</td>\n",
       "      <td>C2</td>\n",
       "      <td>153 AVENUE B</td>\n",
       "      <td>5</td>\n",
       "      <td>0</td>\n",
       "      <td>...</td>\n",
       "      <td>2</td>\n",
       "      <td>C2</td>\n",
       "      <td>6625000</td>\n",
       "      <td>2017-07-19 00:00:00</td>\n",
       "      <td>16</td>\n",
       "      <td>1</td>\n",
       "      <td>6</td>\n",
       "      <td>6</td>\n",
       "      <td>14889</td>\n",
       "      <td>15</td>\n",
       "    </tr>\n",
       "    <tr>\n",
       "      <th>1</th>\n",
       "      <td>1</td>\n",
       "      <td>ALPHABET CITY</td>\n",
       "      <td>07 RENTALS - WALKUP APARTMENTS</td>\n",
       "      <td>2</td>\n",
       "      <td>399</td>\n",
       "      <td>26</td>\n",
       "      <td>C7</td>\n",
       "      <td>234 EAST 4TH   STREET</td>\n",
       "      <td>28</td>\n",
       "      <td>3</td>\n",
       "      <td>...</td>\n",
       "      <td>2</td>\n",
       "      <td>C7</td>\n",
       "      <td>530000.0</td>\n",
       "      <td>2016-12-14 00:00:00</td>\n",
       "      <td>21</td>\n",
       "      <td>1</td>\n",
       "      <td>6</td>\n",
       "      <td>5</td>\n",
       "      <td>28592</td>\n",
       "      <td>20</td>\n",
       "    </tr>\n",
       "    <tr>\n",
       "      <th>2</th>\n",
       "      <td>1</td>\n",
       "      <td>ALPHABET CITY</td>\n",
       "      <td>07 RENTALS - WALKUP APARTMENTS</td>\n",
       "      <td>2</td>\n",
       "      <td>399</td>\n",
       "      <td>39</td>\n",
       "      <td>C7</td>\n",
       "      <td>197 EAST 3RD   STREET</td>\n",
       "      <td>16</td>\n",
       "      <td>1</td>\n",
       "      <td>...</td>\n",
       "      <td>2</td>\n",
       "      <td>C7</td>\n",
       "      <td>530000.0</td>\n",
       "      <td>2016-12-09 00:00:00</td>\n",
       "      <td>21</td>\n",
       "      <td>1</td>\n",
       "      <td>6</td>\n",
       "      <td>5</td>\n",
       "      <td>22192</td>\n",
       "      <td>20</td>\n",
       "    </tr>\n",
       "    <tr>\n",
       "      <th>3</th>\n",
       "      <td>1</td>\n",
       "      <td>ALPHABET CITY</td>\n",
       "      <td>07 RENTALS - WALKUP APARTMENTS</td>\n",
       "      <td>2B</td>\n",
       "      <td>402</td>\n",
       "      <td>21</td>\n",
       "      <td>C4</td>\n",
       "      <td>154 EAST 7TH STREET</td>\n",
       "      <td>10</td>\n",
       "      <td>0</td>\n",
       "      <td>...</td>\n",
       "      <td>2</td>\n",
       "      <td>C4</td>\n",
       "      <td>3936272</td>\n",
       "      <td>2016-09-23 00:00:00</td>\n",
       "      <td>18</td>\n",
       "      <td>1</td>\n",
       "      <td>6</td>\n",
       "      <td>7</td>\n",
       "      <td>15090</td>\n",
       "      <td>17</td>\n",
       "    </tr>\n",
       "    <tr>\n",
       "      <th>4</th>\n",
       "      <td>1</td>\n",
       "      <td>ALPHABET CITY</td>\n",
       "      <td>07 RENTALS - WALKUP APARTMENTS</td>\n",
       "      <td>2A</td>\n",
       "      <td>404</td>\n",
       "      <td>55</td>\n",
       "      <td>C2</td>\n",
       "      <td>301 EAST 10TH   STREET</td>\n",
       "      <td>6</td>\n",
       "      <td>0</td>\n",
       "      <td>...</td>\n",
       "      <td>2</td>\n",
       "      <td>C2</td>\n",
       "      <td>8000000</td>\n",
       "      <td>2016-11-17 00:00:00</td>\n",
       "      <td>16</td>\n",
       "      <td>1</td>\n",
       "      <td>6</td>\n",
       "      <td>6</td>\n",
       "      <td>35431</td>\n",
       "      <td>15</td>\n",
       "    </tr>\n",
       "  </tbody>\n",
       "</table>\n",
       "<p>5 rows × 24 columns</p>\n",
       "</div>"
      ],
      "text/plain": [
       "   BOROUGH   NEIGHBORHOOD                      BUILDING CLASS CATEGORY  \\\n",
       "0        1  ALPHABET CITY  07 RENTALS - WALKUP APARTMENTS                \n",
       "1        1  ALPHABET CITY  07 RENTALS - WALKUP APARTMENTS                \n",
       "2        1  ALPHABET CITY  07 RENTALS - WALKUP APARTMENTS                \n",
       "3        1  ALPHABET CITY  07 RENTALS - WALKUP APARTMENTS                \n",
       "4        1  ALPHABET CITY  07 RENTALS - WALKUP APARTMENTS                \n",
       "\n",
       "  TAX CLASS AT PRESENT  BLOCK  LOT BUILDING CLASS AT PRESENT  \\\n",
       "0                   2A    392    6                        C2   \n",
       "1                    2    399   26                        C7   \n",
       "2                    2    399   39                        C7   \n",
       "3                   2B    402   21                        C4   \n",
       "4                   2A    404   55                        C2   \n",
       "\n",
       "                  ADDRESS  RESIDENTIAL UNITS  COMMERCIAL UNITS  ...  \\\n",
       "0            153 AVENUE B                  5                 0  ...   \n",
       "1   234 EAST 4TH   STREET                 28                 3  ...   \n",
       "2   197 EAST 3RD   STREET                 16                 1  ...   \n",
       "3     154 EAST 7TH STREET                 10                 0  ...   \n",
       "4  301 EAST 10TH   STREET                  6                 0  ...   \n",
       "\n",
       "   TAX CLASS AT TIME OF SALE BUILDING CLASS AT TIME OF SALE SALE PRICE  \\\n",
       "0                          2                             C2    6625000   \n",
       "1                          2                             C7   530000.0   \n",
       "2                          2                             C7   530000.0   \n",
       "3                          2                             C4    3936272   \n",
       "4                          2                             C2    8000000   \n",
       "\n",
       "             SALE DATE  BUILDING CLASS AT PRESENT_new NEIGHBORHOOD_new  \\\n",
       "0  2017-07-19 00:00:00                             16                1   \n",
       "1  2016-12-14 00:00:00                             21                1   \n",
       "2  2016-12-09 00:00:00                             21                1   \n",
       "3  2016-09-23 00:00:00                             18                1   \n",
       "4  2016-11-17 00:00:00                             16                1   \n",
       "\n",
       "  BUILDING CLASS CATEGORY_new TAX CLASS AT PRESENT_new  ADDRESS_new  \\\n",
       "0                           6                        6        14889   \n",
       "1                           6                        5        28592   \n",
       "2                           6                        5        22192   \n",
       "3                           6                        7        15090   \n",
       "4                           6                        6        35431   \n",
       "\n",
       "   BUILDING CLASS AT TIME OF SALE_new  \n",
       "0                                  15  \n",
       "1                                  20  \n",
       "2                                  20  \n",
       "3                                  17  \n",
       "4                                  15  \n",
       "\n",
       "[5 rows x 24 columns]"
      ]
     },
     "execution_count": 56,
     "metadata": {},
     "output_type": "execute_result"
    }
   ],
   "source": [
    "df_ds.head()"
   ]
  },
  {
   "cell_type": "code",
   "execution_count": 57,
   "id": "7025dc3c",
   "metadata": {},
   "outputs": [],
   "source": [
    "# Import package yang diperlukan\n",
    "\n",
    "import pandas as pd\n",
    "import seaborn as sns\n",
    "import scipy.stats as stats\n",
    "import numpy as np\n",
    "import random\n",
    "import warnings\n",
    "import matplotlib.pyplot as plt\n",
    "%matplotlib inline"
   ]
  },
  {
   "cell_type": "markdown",
   "id": "6f0fdc36",
   "metadata": {},
   "source": [
    "Menggunakan variabel **BUILDING CLASS AT PRESENT_new** dengan tujuan untuk melihat confidence intervalnya."
   ]
  },
  {
   "cell_type": "code",
   "execution_count": 58,
   "id": "fce3031b",
   "metadata": {},
   "outputs": [
    {
     "name": "stderr",
     "output_type": "stream",
     "text": [
      "C:\\ProgramData\\Anaconda3\\lib\\site-packages\\seaborn\\distributions.py:2619: FutureWarning: `distplot` is a deprecated function and will be removed in a future version. Please adapt your code to use either `displot` (a figure-level function with similar flexibility) or `histplot` (an axes-level function for histograms).\n",
      "  warnings.warn(msg, FutureWarning)\n"
     ]
    },
    {
     "data": {
      "text/plain": [
       "<AxesSubplot:xlabel='BUILDING CLASS AT PRESENT_new', ylabel='Density'>"
      ]
     },
     "execution_count": 58,
     "metadata": {},
     "output_type": "execute_result"
    },
    {
     "data": {
      "image/png": "[encoded data removed]",
      "text/plain": [
       "<Figure size 432x288 with 1 Axes>"
      ]
     },
     "metadata": {
      "needs_background": "light"
     },
     "output_type": "display_data"
    }
   ],
   "source": [
    "# Kurva data building class at present\n",
    "sns.distplot(df_ds['BUILDING CLASS AT PRESENT_new'],\n",
    "            color='#9370D8')"
   ]
  },
  {
   "cell_type": "code",
   "execution_count": 59,
   "id": "50c704cf",
   "metadata": {},
   "outputs": [
    {
     "data": {
      "text/plain": [
       "BUILDING CLASS AT PRESENT_new  BUILDING CLASS AT PRESENT_new\n",
       "0                              0                                 738\n",
       "1                              1                                 469\n",
       "2                              2                                6753\n",
       "3                              3                                2821\n",
       "4                              4                                 389\n",
       "                                                                ... \n",
       "162                            162                                14\n",
       "163                            163                                 4\n",
       "164                            164                                 2\n",
       "165                            165                                 1\n",
       "166                            166                               150\n",
       "Name: BUILDING CLASS AT PRESENT_new, Length: 167, dtype: int64"
      ]
     },
     "execution_count": 59,
     "metadata": {},
     "output_type": "execute_result"
    }
   ],
   "source": [
    "# Memfilter untuk mengelompokkan value dari BUILDING CLASS AT PRESENT_new\n",
    "df_ds_bcap = df_ds['BUILDING CLASS AT PRESENT_new'].groupby(df_ds['BUILDING CLASS AT PRESENT_new']).value_counts()\n",
    "df_ds_bcap"
   ]
  },
  {
   "cell_type": "code",
   "execution_count": 60,
   "id": "cb40a852",
   "metadata": {},
   "outputs": [
    {
     "name": "stderr",
     "output_type": "stream",
     "text": [
      "C:\\ProgramData\\Anaconda3\\lib\\site-packages\\seaborn\\distributions.py:2619: FutureWarning: `distplot` is a deprecated function and will be removed in a future version. Please adapt your code to use either `displot` (a figure-level function with similar flexibility) or `histplot` (an axes-level function for histograms).\n",
      "  warnings.warn(msg, FutureWarning)\n"
     ]
    },
    {
     "data": {
      "text/plain": [
       "[Text(0.5, 0, 'BUILDING CLASS AT PRESENT_new'), Text(0, 0.5, 'Density')]"
      ]
     },
     "execution_count": 60,
     "metadata": {},
     "output_type": "execute_result"
    },
    {
     "data": {
      "image/png": "[encoded data removed]",
      "text/plain": [
       "<Figure size 432x288 with 1 Axes>"
      ]
     },
     "metadata": {
      "needs_background": "light"
     },
     "output_type": "display_data"
    }
   ],
   "source": [
    "# Plot data BUILDING CLASS AT PRESENT_new\n",
    "ax = sns.distplot(df_ds_bcap,\n",
    "                  bins=10,\n",
    "                  kde=True,\n",
    "                  color='#74959A',\n",
    "                  hist_kws={\"linewidth\": 15,'alpha':1})\n",
    "ax.set(xlabel='BUILDING CLASS AT PRESENT_new', ylabel='Density')"
   ]
  },
  {
   "cell_type": "markdown",
   "id": "48ee16c0",
   "metadata": {},
   "source": [
    "Sulit untuk mengkarakterisasi distribusi yang terbentuk, karena distribusi ini tidak merepresentasikan distribusi normal."
   ]
  },
  {
   "cell_type": "code",
   "execution_count": 61,
   "id": "73d28b22",
   "metadata": {},
   "outputs": [
    {
     "data": {
      "text/plain": [
       "47.57328381511094"
      ]
     },
     "execution_count": 61,
     "metadata": {},
     "output_type": "execute_result"
    }
   ],
   "source": [
    "# Calculation Population Mean\n",
    "pop_mean = df_ds['BUILDING CLASS AT PRESENT_new'].mean()\n",
    "pop_mean"
   ]
  },
  {
   "cell_type": "code",
   "execution_count": 62,
   "id": "70408096",
   "metadata": {},
   "outputs": [
    {
     "data": {
      "text/plain": [
       "51.25239771498638"
      ]
     },
     "execution_count": 62,
     "metadata": {},
     "output_type": "execute_result"
    }
   ],
   "source": [
    "# Calculate Population Standard Deviation\n",
    "pop_std_dev= df_ds['BUILDING CLASS AT PRESENT_new'].std()\n",
    "pop_std_dev"
   ]
  },
  {
   "cell_type": "markdown",
   "id": "c0ed8d01",
   "metadata": {},
   "source": [
    "Akan diambil 300 sampel masing-masing dari 25 nilai acak. Untuk setiap sampel akan dihitung rata-rata sampel yang akan disimpan pada list sample_means."
   ]
  },
  {
   "cell_type": "code",
   "execution_count": 63,
   "id": "d7cb0804",
   "metadata": {},
   "outputs": [],
   "source": [
    "sample_means = []\n",
    "n = 25\n",
    "for sample in range(0, 300):\n",
    "    # random sampling done with replacement\n",
    "    sample_values = np.random.choice(a=df_ds['BUILDING CLASS AT PRESENT_new'], size=n)    \n",
    "    sample_mean = np.mean(sample_values)\n",
    "    sample_means.append(sample_mean)"
   ]
  },
  {
   "cell_type": "code",
   "execution_count": 64,
   "id": "84efe89b",
   "metadata": {},
   "outputs": [
    {
     "name": "stderr",
     "output_type": "stream",
     "text": [
      "C:\\ProgramData\\Anaconda3\\lib\\site-packages\\seaborn\\distributions.py:2619: FutureWarning: `distplot` is a deprecated function and will be removed in a future version. Please adapt your code to use either `displot` (a figure-level function with similar flexibility) or `histplot` (an axes-level function for histograms).\n",
      "  warnings.warn(msg, FutureWarning)\n"
     ]
    },
    {
     "data": {
      "image/png": "[encoded data removed]",
      "text/plain": [
       "<Figure size 432x288 with 1 Axes>"
      ]
     },
     "metadata": {
      "needs_background": "light"
     },
     "output_type": "display_data"
    }
   ],
   "source": [
    "# View Distribution of Sample Means (Otherwise Called Sampling Distribution)\n",
    "sns.distplot(sample_means)\n",
    "plt.title(\"Distribution of Sample Means ($n=25$) of BUILDING CLASS AT PRESENT\", y=1.015, fontsize=20)\n",
    "plt.xlabel(\"sample mean [pounds]\", labelpad=14)\n",
    "plt.ylabel(\"frequency of occurence\", labelpad=14);"
   ]
  },
  {
   "cell_type": "markdown",
   "id": "0132535f",
   "metadata": {},
   "source": [
    "Apabila dilihat dari bentuk kurva yang terbentuk, terlihat sudah cukup simestris."
   ]
  },
  {
   "cell_type": "markdown",
   "id": "4eddb539",
   "metadata": {},
   "source": [
    "---\n",
    "Dilakukan perhitungan mean, median, varians, dan standar deviasi dari sample yang terpilih."
   ]
  },
  {
   "cell_type": "code",
   "execution_count": 65,
   "id": "2691bba9",
   "metadata": {},
   "outputs": [
    {
     "data": {
      "text/plain": [
       "47.269466666666666"
      ]
     },
     "execution_count": 65,
     "metadata": {},
     "output_type": "execute_result"
    }
   ],
   "source": [
    "# Calculate Median of Sample Means\n",
    "median_of_sample_means = np.mean(sample_means)\n",
    "median_of_sample_means"
   ]
  },
  {
   "cell_type": "code",
   "execution_count": 66,
   "id": "29823ce0",
   "metadata": {},
   "outputs": [
    {
     "data": {
      "text/plain": [
       "47.459999999999994"
      ]
     },
     "execution_count": 66,
     "metadata": {},
     "output_type": "execute_result"
    }
   ],
   "source": [
    "# Calculate Mean of Sample Means\n",
    "mean_of_sample_means = np.median(sample_means)\n",
    "mean_of_sample_means"
   ]
  },
  {
   "cell_type": "code",
   "execution_count": 67,
   "id": "8cbfd94d",
   "metadata": {},
   "outputs": [
    {
     "data": {
      "text/plain": [
       "92.96693438222222"
      ]
     },
     "execution_count": 67,
     "metadata": {},
     "output_type": "execute_result"
    }
   ],
   "source": [
    "# Calculate Standard Deviation of Sample Means\n",
    "var_of_sample_means = np.var(sample_means)\n",
    "var_of_sample_means"
   ]
  },
  {
   "cell_type": "code",
   "execution_count": 68,
   "id": "64da655b",
   "metadata": {},
   "outputs": [
    {
     "data": {
      "text/plain": [
       "9.641936236162435"
      ]
     },
     "execution_count": 68,
     "metadata": {},
     "output_type": "execute_result"
    }
   ],
   "source": [
    "# Calculate Standard Deviation of Sample Means\n",
    "std_dev_of_sample_means = np.std(sample_means)\n",
    "std_dev_of_sample_means"
   ]
  },
  {
   "cell_type": "markdown",
   "id": "61013b29",
   "metadata": {},
   "source": [
    "---\n",
    "Dilakukan juga perhitungan standard error (SE) dari distribusi sampelnya."
   ]
  },
  {
   "cell_type": "code",
   "execution_count": 69,
   "id": "2cf2056a",
   "metadata": {},
   "outputs": [
    {
     "data": {
      "text/plain": [
       "10.250479542997276"
      ]
     },
     "execution_count": 69,
     "metadata": {},
     "output_type": "execute_result"
    }
   ],
   "source": [
    "standard_error = pop_std_dev/np.sqrt(n)\n",
    "standard_error"
   ]
  },
  {
   "cell_type": "code",
   "execution_count": 70,
   "id": "b93fc809",
   "metadata": {},
   "outputs": [
    {
     "data": {
      "text/plain": [
       "9.641936236162435"
      ]
     },
     "execution_count": 70,
     "metadata": {},
     "output_type": "execute_result"
    }
   ],
   "source": [
    "std_dev_of_sample_means"
   ]
  },
  {
   "cell_type": "markdown",
   "id": "aac068b8",
   "metadata": {},
   "source": [
    "---\n",
    "Nilai z-score two-tailed dengan nilai alpha sebesar 0.5, didapatkan nilai sebesar 1.96 sehingga dapat digunakan untuk mencari nilai kritis dari z-score."
   ]
  },
  {
   "cell_type": "code",
   "execution_count": 71,
   "id": "e7669822",
   "metadata": {},
   "outputs": [
    {
     "data": {
      "text/plain": [
       "0.024997895148220484"
      ]
     },
     "execution_count": 71,
     "metadata": {},
     "output_type": "execute_result"
    }
   ],
   "source": [
    "tail = 1 - stats.norm.cdf(1.96)\n",
    "tail"
   ]
  },
  {
   "cell_type": "code",
   "execution_count": 72,
   "id": "e82eb022",
   "metadata": {},
   "outputs": [
    {
     "data": {
      "text/plain": [
       "0.950004209703559"
      ]
     },
     "execution_count": 72,
     "metadata": {},
     "output_type": "execute_result"
    }
   ],
   "source": [
    "# The area under the curve between the z-critcal scores is approximately 0.95\n",
    "1 - (tail * 2)"
   ]
  },
  {
   "cell_type": "code",
   "execution_count": 73,
   "id": "ab6c7226",
   "metadata": {},
   "outputs": [
    {
     "data": {
      "text/plain": [
       "27.369060095725334"
      ]
     },
     "execution_count": 73,
     "metadata": {},
     "output_type": "execute_result"
    }
   ],
   "source": [
    "lower_95_perc_bound = mean_of_sample_means - 1.96*standard_error\n",
    "lower_95_perc_bound"
   ]
  },
  {
   "cell_type": "code",
   "execution_count": 74,
   "id": "a17eb722",
   "metadata": {},
   "outputs": [
    {
     "data": {
      "text/plain": [
       "67.55093990427466"
      ]
     },
     "execution_count": 74,
     "metadata": {},
     "output_type": "execute_result"
    }
   ],
   "source": [
    "upper_95_perc_bound = mean_of_sample_means + 1.96*standard_error\n",
    "upper_95_perc_bound"
   ]
  },
  {
   "cell_type": "code",
   "execution_count": 75,
   "id": "23c3047c",
   "metadata": {},
   "outputs": [
    {
     "data": {
      "image/png": "[encoded data removed]",
      "text/plain": [
       "<Figure size 432x288 with 1 Axes>"
      ]
     },
     "metadata": {
      "needs_background": "light"
     },
     "output_type": "display_data"
    }
   ],
   "source": [
    "kde = stats.gaussian_kde(sample_means)\n",
    "pos = np.linspace(np.min(sample_means), np.max(sample_means), 10000)\n",
    "plt.plot(pos, kde(pos), color='teal')\n",
    "shade = np.linspace(lower_95_perc_bound, upper_95_perc_bound, 300)\n",
    "plt.fill_between(shade, kde(shade), alpha=0.45, color='teal',)\n",
    "plt.text(x=154, y=.01, horizontalalignment='center', fontsize=17, \n",
    "         s=\"95% of sample means fall within\\nthis shaded area of plus or minus\\n1.96 z-scores from the mean\", \n",
    "         bbox=dict(facecolor='whitesmoke', boxstyle=\"round, pad=0.1\"))\n",
    "plt.title(\"Distribution of Sample Means ($n=25$) of People's Mass in Pounds\", y=1.015, fontsize=20)\n",
    "plt.xlabel(\"sample mean mass [pounds]\", labelpad=14)\n",
    "plt.ylabel(\"frequency of occurence\", labelpad=14);"
   ]
  },
  {
   "cell_type": "markdown",
   "id": "7d097914",
   "metadata": {},
   "source": [
    "**Conclussion**\n",
    "\n",
    "Berdasarkan hasil perhitungan di atas, didapatkam nilai \n",
    "lower 95% bound sebesar 28.04906009572534 dan upper 95% bound sebesar 68.23093990427466,\n",
    "yang berarti nilai yang dihasilkan berada diantara 28.04906009572534 < x < 68.23093990427466."
   ]
  },
  {
   "cell_type": "markdown",
   "id": "913e7d77",
   "metadata": {},
   "source": [
    "## Hypothesis Testing"
   ]
  },
  {
   "cell_type": "code",
   "execution_count": 77,
   "id": "687e2dff",
   "metadata": {},
   "outputs": [],
   "source": [
    "import statsmodels.api as sm\n",
    "import numpy as np\n",
    "import matplotlib.pyplot as plt\n",
    "import pandas as pd"
   ]
  },
  {
   "cell_type": "code",
   "execution_count": 78,
   "id": "aefbceb9",
   "metadata": {},
   "outputs": [
    {
     "name": "stdout",
     "output_type": "stream",
     "text": [
      "<class 'pandas.core.frame.DataFrame'>\n",
      "RangeIndex: 84548 entries, 0 to 84547\n",
      "Data columns (total 24 columns):\n",
      " #   Column                              Non-Null Count  Dtype   \n",
      "---  ------                              --------------  -----   \n",
      " 0   BOROUGH                             84548 non-null  int64   \n",
      " 1   NEIGHBORHOOD                        84548 non-null  category\n",
      " 2   BUILDING CLASS CATEGORY             84548 non-null  category\n",
      " 3   TAX CLASS AT PRESENT                84548 non-null  category\n",
      " 4   BLOCK                               84548 non-null  int64   \n",
      " 5   LOT                                 84548 non-null  int64   \n",
      " 6   BUILDING CLASS AT PRESENT           84548 non-null  category\n",
      " 7   ADDRESS                             84548 non-null  category\n",
      " 8   RESIDENTIAL UNITS                   84548 non-null  int64   \n",
      " 9   COMMERCIAL UNITS                    84548 non-null  int64   \n",
      " 10  TOTAL UNITS                         84548 non-null  int64   \n",
      " 11  LAND SQUARE FEET                    84548 non-null  object  \n",
      " 12  GROSS SQUARE FEET                   84548 non-null  object  \n",
      " 13  YEAR BUILT                          84548 non-null  int64   \n",
      " 14  TAX CLASS AT TIME OF SALE           84548 non-null  int64   \n",
      " 15  BUILDING CLASS AT TIME OF SALE      84548 non-null  category\n",
      " 16  SALE PRICE                          84548 non-null  object  \n",
      " 17  SALE DATE                           84548 non-null  object  \n",
      " 18  BUILDING CLASS AT PRESENT_new       84548 non-null  int16   \n",
      " 19  NEIGHBORHOOD_new                    84548 non-null  int16   \n",
      " 20  BUILDING CLASS CATEGORY_new         84548 non-null  int8    \n",
      " 21  TAX CLASS AT PRESENT_new            84548 non-null  int8    \n",
      " 22  ADDRESS_new                         84548 non-null  int32   \n",
      " 23  BUILDING CLASS AT TIME OF SALE_new  84548 non-null  int16   \n",
      "dtypes: category(6), int16(3), int32(1), int64(8), int8(2), object(4)\n",
      "memory usage: 12.2+ MB\n"
     ]
    }
   ],
   "source": [
    "df_ds.info()"
   ]
  },
  {
   "cell_type": "code",
   "execution_count": 79,
   "id": "c9b6054b",
   "metadata": {},
   "outputs": [
    {
     "data": {
      "text/html": [
       "<div>\n",
       "<style scoped>\n",
       "    .dataframe tbody tr th:only-of-type {\n",
       "        vertical-align: middle;\n",
       "    }\n",
       "\n",
       "    .dataframe tbody tr th {\n",
       "        vertical-align: top;\n",
       "    }\n",
       "\n",
       "    .dataframe thead th {\n",
       "        text-align: right;\n",
       "    }\n",
       "</style>\n",
       "<table border=\"1\" class=\"dataframe\">\n",
       "  <thead>\n",
       "    <tr style=\"text-align: right;\">\n",
       "      <th></th>\n",
       "      <th>BOROUGH</th>\n",
       "      <th>NEIGHBORHOOD</th>\n",
       "      <th>BUILDING CLASS CATEGORY</th>\n",
       "      <th>TAX CLASS AT PRESENT</th>\n",
       "      <th>BLOCK</th>\n",
       "      <th>LOT</th>\n",
       "      <th>BUILDING CLASS AT PRESENT</th>\n",
       "      <th>ADDRESS</th>\n",
       "      <th>RESIDENTIAL UNITS</th>\n",
       "      <th>COMMERCIAL UNITS</th>\n",
       "      <th>...</th>\n",
       "      <th>TAX CLASS AT TIME OF SALE</th>\n",
       "      <th>BUILDING CLASS AT TIME OF SALE</th>\n",
       "      <th>SALE PRICE</th>\n",
       "      <th>SALE DATE</th>\n",
       "      <th>BUILDING CLASS AT PRESENT_new</th>\n",
       "      <th>NEIGHBORHOOD_new</th>\n",
       "      <th>BUILDING CLASS CATEGORY_new</th>\n",
       "      <th>TAX CLASS AT PRESENT_new</th>\n",
       "      <th>ADDRESS_new</th>\n",
       "      <th>BUILDING CLASS AT TIME OF SALE_new</th>\n",
       "    </tr>\n",
       "  </thead>\n",
       "  <tbody>\n",
       "    <tr>\n",
       "      <th>0</th>\n",
       "      <td>1</td>\n",
       "      <td>ALPHABET CITY</td>\n",
       "      <td>07 RENTALS - WALKUP APARTMENTS</td>\n",
       "      <td>2A</td>\n",
       "      <td>392</td>\n",
       "      <td>6</td>\n",
       "      <td>C2</td>\n",
       "      <td>153 AVENUE B</td>\n",
       "      <td>5</td>\n",
       "      <td>0</td>\n",
       "      <td>...</td>\n",
       "      <td>2</td>\n",
       "      <td>C2</td>\n",
       "      <td>6625000</td>\n",
       "      <td>2017-07-19 00:00:00</td>\n",
       "      <td>16</td>\n",
       "      <td>1</td>\n",
       "      <td>6</td>\n",
       "      <td>6</td>\n",
       "      <td>14889</td>\n",
       "      <td>15</td>\n",
       "    </tr>\n",
       "    <tr>\n",
       "      <th>1</th>\n",
       "      <td>1</td>\n",
       "      <td>ALPHABET CITY</td>\n",
       "      <td>07 RENTALS - WALKUP APARTMENTS</td>\n",
       "      <td>2</td>\n",
       "      <td>399</td>\n",
       "      <td>26</td>\n",
       "      <td>C7</td>\n",
       "      <td>234 EAST 4TH   STREET</td>\n",
       "      <td>28</td>\n",
       "      <td>3</td>\n",
       "      <td>...</td>\n",
       "      <td>2</td>\n",
       "      <td>C7</td>\n",
       "      <td>530000.0</td>\n",
       "      <td>2016-12-14 00:00:00</td>\n",
       "      <td>21</td>\n",
       "      <td>1</td>\n",
       "      <td>6</td>\n",
       "      <td>5</td>\n",
       "      <td>28592</td>\n",
       "      <td>20</td>\n",
       "    </tr>\n",
       "    <tr>\n",
       "      <th>2</th>\n",
       "      <td>1</td>\n",
       "      <td>ALPHABET CITY</td>\n",
       "      <td>07 RENTALS - WALKUP APARTMENTS</td>\n",
       "      <td>2</td>\n",
       "      <td>399</td>\n",
       "      <td>39</td>\n",
       "      <td>C7</td>\n",
       "      <td>197 EAST 3RD   STREET</td>\n",
       "      <td>16</td>\n",
       "      <td>1</td>\n",
       "      <td>...</td>\n",
       "      <td>2</td>\n",
       "      <td>C7</td>\n",
       "      <td>530000.0</td>\n",
       "      <td>2016-12-09 00:00:00</td>\n",
       "      <td>21</td>\n",
       "      <td>1</td>\n",
       "      <td>6</td>\n",
       "      <td>5</td>\n",
       "      <td>22192</td>\n",
       "      <td>20</td>\n",
       "    </tr>\n",
       "    <tr>\n",
       "      <th>3</th>\n",
       "      <td>1</td>\n",
       "      <td>ALPHABET CITY</td>\n",
       "      <td>07 RENTALS - WALKUP APARTMENTS</td>\n",
       "      <td>2B</td>\n",
       "      <td>402</td>\n",
       "      <td>21</td>\n",
       "      <td>C4</td>\n",
       "      <td>154 EAST 7TH STREET</td>\n",
       "      <td>10</td>\n",
       "      <td>0</td>\n",
       "      <td>...</td>\n",
       "      <td>2</td>\n",
       "      <td>C4</td>\n",
       "      <td>3936272</td>\n",
       "      <td>2016-09-23 00:00:00</td>\n",
       "      <td>18</td>\n",
       "      <td>1</td>\n",
       "      <td>6</td>\n",
       "      <td>7</td>\n",
       "      <td>15090</td>\n",
       "      <td>17</td>\n",
       "    </tr>\n",
       "    <tr>\n",
       "      <th>4</th>\n",
       "      <td>1</td>\n",
       "      <td>ALPHABET CITY</td>\n",
       "      <td>07 RENTALS - WALKUP APARTMENTS</td>\n",
       "      <td>2A</td>\n",
       "      <td>404</td>\n",
       "      <td>55</td>\n",
       "      <td>C2</td>\n",
       "      <td>301 EAST 10TH   STREET</td>\n",
       "      <td>6</td>\n",
       "      <td>0</td>\n",
       "      <td>...</td>\n",
       "      <td>2</td>\n",
       "      <td>C2</td>\n",
       "      <td>8000000</td>\n",
       "      <td>2016-11-17 00:00:00</td>\n",
       "      <td>16</td>\n",
       "      <td>1</td>\n",
       "      <td>6</td>\n",
       "      <td>6</td>\n",
       "      <td>35431</td>\n",
       "      <td>15</td>\n",
       "    </tr>\n",
       "  </tbody>\n",
       "</table>\n",
       "<p>5 rows × 24 columns</p>\n",
       "</div>"
      ],
      "text/plain": [
       "   BOROUGH   NEIGHBORHOOD                      BUILDING CLASS CATEGORY  \\\n",
       "0        1  ALPHABET CITY  07 RENTALS - WALKUP APARTMENTS                \n",
       "1        1  ALPHABET CITY  07 RENTALS - WALKUP APARTMENTS                \n",
       "2        1  ALPHABET CITY  07 RENTALS - WALKUP APARTMENTS                \n",
       "3        1  ALPHABET CITY  07 RENTALS - WALKUP APARTMENTS                \n",
       "4        1  ALPHABET CITY  07 RENTALS - WALKUP APARTMENTS                \n",
       "\n",
       "  TAX CLASS AT PRESENT  BLOCK  LOT BUILDING CLASS AT PRESENT  \\\n",
       "0                   2A    392    6                        C2   \n",
       "1                    2    399   26                        C7   \n",
       "2                    2    399   39                        C7   \n",
       "3                   2B    402   21                        C4   \n",
       "4                   2A    404   55                        C2   \n",
       "\n",
       "                  ADDRESS  RESIDENTIAL UNITS  COMMERCIAL UNITS  ...  \\\n",
       "0            153 AVENUE B                  5                 0  ...   \n",
       "1   234 EAST 4TH   STREET                 28                 3  ...   \n",
       "2   197 EAST 3RD   STREET                 16                 1  ...   \n",
       "3     154 EAST 7TH STREET                 10                 0  ...   \n",
       "4  301 EAST 10TH   STREET                  6                 0  ...   \n",
       "\n",
       "   TAX CLASS AT TIME OF SALE BUILDING CLASS AT TIME OF SALE SALE PRICE  \\\n",
       "0                          2                             C2    6625000   \n",
       "1                          2                             C7   530000.0   \n",
       "2                          2                             C7   530000.0   \n",
       "3                          2                             C4    3936272   \n",
       "4                          2                             C2    8000000   \n",
       "\n",
       "             SALE DATE  BUILDING CLASS AT PRESENT_new NEIGHBORHOOD_new  \\\n",
       "0  2017-07-19 00:00:00                             16                1   \n",
       "1  2016-12-14 00:00:00                             21                1   \n",
       "2  2016-12-09 00:00:00                             21                1   \n",
       "3  2016-09-23 00:00:00                             18                1   \n",
       "4  2016-11-17 00:00:00                             16                1   \n",
       "\n",
       "  BUILDING CLASS CATEGORY_new TAX CLASS AT PRESENT_new  ADDRESS_new  \\\n",
       "0                           6                        6        14889   \n",
       "1                           6                        5        28592   \n",
       "2                           6                        5        22192   \n",
       "3                           6                        7        15090   \n",
       "4                           6                        6        35431   \n",
       "\n",
       "   BUILDING CLASS AT TIME OF SALE_new  \n",
       "0                                  15  \n",
       "1                                  20  \n",
       "2                                  20  \n",
       "3                                  17  \n",
       "4                                  15  \n",
       "\n",
       "[5 rows x 24 columns]"
      ]
     },
     "execution_count": 79,
     "metadata": {},
     "output_type": "execute_result"
    }
   ],
   "source": [
    "df_ds.head()"
   ]
  },
  {
   "cell_type": "markdown",
   "id": "c5133d47",
   "metadata": {},
   "source": [
    "Pertanyaan yang digunakan :\n",
    "\n",
    "apakah ada perbedaan unit yang terjual berdasarkan class category at present bangunan?\n",
    "\n",
    "- alpha : 0.05\n",
    "> Hipotesis\n",
    "- H0 : Terdapat Perbedaan unit yang terjual berdasarkan class category at present bangunan\n",
    "- H1 : Tidan Terdapat Perbedaan unit yang terjual berdasarkan class category at present bangunan\n",
    "> Kriteria Uji\n",
    "- Data memiliki korelasi apabila angka korelasi yang dihasilkan =! 0"
   ]
  },
  {
   "cell_type": "code",
   "execution_count": 80,
   "id": "219480f1",
   "metadata": {},
   "outputs": [
    {
     "data": {
      "text/html": [
       "<div>\n",
       "<style scoped>\n",
       "    .dataframe tbody tr th:only-of-type {\n",
       "        vertical-align: middle;\n",
       "    }\n",
       "\n",
       "    .dataframe tbody tr th {\n",
       "        vertical-align: top;\n",
       "    }\n",
       "\n",
       "    .dataframe thead th {\n",
       "        text-align: right;\n",
       "    }\n",
       "</style>\n",
       "<table border=\"1\" class=\"dataframe\">\n",
       "  <thead>\n",
       "    <tr style=\"text-align: right;\">\n",
       "      <th></th>\n",
       "      <th>BOROUGH</th>\n",
       "      <th>BLOCK</th>\n",
       "      <th>LOT</th>\n",
       "      <th>RESIDENTIAL UNITS</th>\n",
       "      <th>COMMERCIAL UNITS</th>\n",
       "      <th>TOTAL UNITS</th>\n",
       "      <th>YEAR BUILT</th>\n",
       "      <th>TAX CLASS AT TIME OF SALE</th>\n",
       "      <th>BUILDING CLASS AT PRESENT_new</th>\n",
       "      <th>NEIGHBORHOOD_new</th>\n",
       "      <th>BUILDING CLASS CATEGORY_new</th>\n",
       "      <th>TAX CLASS AT PRESENT_new</th>\n",
       "      <th>ADDRESS_new</th>\n",
       "      <th>BUILDING CLASS AT TIME OF SALE_new</th>\n",
       "    </tr>\n",
       "  </thead>\n",
       "  <tbody>\n",
       "    <tr>\n",
       "      <th>BOROUGH</th>\n",
       "      <td>1.000000</td>\n",
       "      <td>0.417001</td>\n",
       "      <td>-0.277848</td>\n",
       "      <td>-0.023229</td>\n",
       "      <td>-0.005503</td>\n",
       "      <td>-0.023346</td>\n",
       "      <td>0.108303</td>\n",
       "      <td>-0.315163</td>\n",
       "      <td>-0.303971</td>\n",
       "      <td>-0.144981</td>\n",
       "      <td>-0.317936</td>\n",
       "      <td>-0.361609</td>\n",
       "      <td>0.040622</td>\n",
       "      <td>-0.311548</td>\n",
       "    </tr>\n",
       "    <tr>\n",
       "      <th>BLOCK</th>\n",
       "      <td>0.417001</td>\n",
       "      <td>1.000000</td>\n",
       "      <td>-0.229118</td>\n",
       "      <td>-0.015628</td>\n",
       "      <td>-0.003517</td>\n",
       "      <td>-0.015888</td>\n",
       "      <td>0.071262</td>\n",
       "      <td>-0.287300</td>\n",
       "      <td>-0.296627</td>\n",
       "      <td>-0.015612</td>\n",
       "      <td>-0.292885</td>\n",
       "      <td>-0.336206</td>\n",
       "      <td>-0.121320</td>\n",
       "      <td>-0.300279</td>\n",
       "    </tr>\n",
       "    <tr>\n",
       "      <th>LOT</th>\n",
       "      <td>-0.277848</td>\n",
       "      <td>-0.229118</td>\n",
       "      <td>1.000000</td>\n",
       "      <td>-0.034303</td>\n",
       "      <td>-0.010953</td>\n",
       "      <td>-0.033169</td>\n",
       "      <td>-0.289463</td>\n",
       "      <td>0.296680</td>\n",
       "      <td>0.657077</td>\n",
       "      <td>0.064599</td>\n",
       "      <td>0.450135</td>\n",
       "      <td>0.319449</td>\n",
       "      <td>-0.041106</td>\n",
       "      <td>0.681074</td>\n",
       "    </tr>\n",
       "    <tr>\n",
       "      <th>RESIDENTIAL UNITS</th>\n",
       "      <td>-0.023229</td>\n",
       "      <td>-0.015628</td>\n",
       "      <td>-0.034303</td>\n",
       "      <td>1.000000</td>\n",
       "      <td>0.015653</td>\n",
       "      <td>0.888309</td>\n",
       "      <td>0.025380</td>\n",
       "      <td>-0.001074</td>\n",
       "      <td>-0.033562</td>\n",
       "      <td>-0.008771</td>\n",
       "      <td>-0.024709</td>\n",
       "      <td>0.009022</td>\n",
       "      <td>0.003751</td>\n",
       "      <td>-0.035447</td>\n",
       "    </tr>\n",
       "    <tr>\n",
       "      <th>COMMERCIAL UNITS</th>\n",
       "      <td>-0.005503</td>\n",
       "      <td>-0.003517</td>\n",
       "      <td>-0.010953</td>\n",
       "      <td>0.015653</td>\n",
       "      <td>1.000000</td>\n",
       "      <td>0.472998</td>\n",
       "      <td>0.006428</td>\n",
       "      <td>0.049586</td>\n",
       "      <td>0.019020</td>\n",
       "      <td>-0.003299</td>\n",
       "      <td>0.030697</td>\n",
       "      <td>0.041650</td>\n",
       "      <td>0.003258</td>\n",
       "      <td>0.019494</td>\n",
       "    </tr>\n",
       "    <tr>\n",
       "      <th>TOTAL UNITS</th>\n",
       "      <td>-0.023346</td>\n",
       "      <td>-0.015888</td>\n",
       "      <td>-0.033169</td>\n",
       "      <td>0.888309</td>\n",
       "      <td>0.472998</td>\n",
       "      <td>1.000000</td>\n",
       "      <td>0.024568</td>\n",
       "      <td>0.026429</td>\n",
       "      <td>-0.018224</td>\n",
       "      <td>-0.009389</td>\n",
       "      <td>-0.001565</td>\n",
       "      <td>0.030853</td>\n",
       "      <td>0.004766</td>\n",
       "      <td>-0.019723</td>\n",
       "    </tr>\n",
       "    <tr>\n",
       "      <th>YEAR BUILT</th>\n",
       "      <td>0.108303</td>\n",
       "      <td>0.071262</td>\n",
       "      <td>-0.289463</td>\n",
       "      <td>0.025380</td>\n",
       "      <td>0.006428</td>\n",
       "      <td>0.024568</td>\n",
       "      <td>1.000000</td>\n",
       "      <td>-0.187609</td>\n",
       "      <td>-0.359724</td>\n",
       "      <td>-0.034196</td>\n",
       "      <td>-0.258683</td>\n",
       "      <td>-0.152360</td>\n",
       "      <td>-0.034959</td>\n",
       "      <td>-0.425983</td>\n",
       "    </tr>\n",
       "    <tr>\n",
       "      <th>TAX CLASS AT TIME OF SALE</th>\n",
       "      <td>-0.315163</td>\n",
       "      <td>-0.287300</td>\n",
       "      <td>0.296680</td>\n",
       "      <td>-0.001074</td>\n",
       "      <td>0.049586</td>\n",
       "      <td>0.026429</td>\n",
       "      <td>-0.187609</td>\n",
       "      <td>1.000000</td>\n",
       "      <td>0.510355</td>\n",
       "      <td>0.036727</td>\n",
       "      <td>0.935198</td>\n",
       "      <td>0.932756</td>\n",
       "      <td>0.009978</td>\n",
       "      <td>0.525264</td>\n",
       "    </tr>\n",
       "    <tr>\n",
       "      <th>BUILDING CLASS AT PRESENT_new</th>\n",
       "      <td>-0.303971</td>\n",
       "      <td>-0.296627</td>\n",
       "      <td>0.657077</td>\n",
       "      <td>-0.033562</td>\n",
       "      <td>0.019020</td>\n",
       "      <td>-0.018224</td>\n",
       "      <td>-0.359724</td>\n",
       "      <td>0.510355</td>\n",
       "      <td>1.000000</td>\n",
       "      <td>0.022864</td>\n",
       "      <td>0.644088</td>\n",
       "      <td>0.586269</td>\n",
       "      <td>0.022476</td>\n",
       "      <td>0.973161</td>\n",
       "    </tr>\n",
       "    <tr>\n",
       "      <th>NEIGHBORHOOD_new</th>\n",
       "      <td>-0.144981</td>\n",
       "      <td>-0.015612</td>\n",
       "      <td>0.064599</td>\n",
       "      <td>-0.008771</td>\n",
       "      <td>-0.003299</td>\n",
       "      <td>-0.009389</td>\n",
       "      <td>-0.034196</td>\n",
       "      <td>0.036727</td>\n",
       "      <td>0.022864</td>\n",
       "      <td>1.000000</td>\n",
       "      <td>0.034504</td>\n",
       "      <td>0.040401</td>\n",
       "      <td>-0.037837</td>\n",
       "      <td>0.023519</td>\n",
       "    </tr>\n",
       "    <tr>\n",
       "      <th>BUILDING CLASS CATEGORY_new</th>\n",
       "      <td>-0.317936</td>\n",
       "      <td>-0.292885</td>\n",
       "      <td>0.450135</td>\n",
       "      <td>-0.024709</td>\n",
       "      <td>0.030697</td>\n",
       "      <td>-0.001565</td>\n",
       "      <td>-0.258683</td>\n",
       "      <td>0.935198</td>\n",
       "      <td>0.644088</td>\n",
       "      <td>0.034504</td>\n",
       "      <td>1.000000</td>\n",
       "      <td>0.863094</td>\n",
       "      <td>0.005826</td>\n",
       "      <td>0.666040</td>\n",
       "    </tr>\n",
       "    <tr>\n",
       "      <th>TAX CLASS AT PRESENT_new</th>\n",
       "      <td>-0.361609</td>\n",
       "      <td>-0.336206</td>\n",
       "      <td>0.319449</td>\n",
       "      <td>0.009022</td>\n",
       "      <td>0.041650</td>\n",
       "      <td>0.030853</td>\n",
       "      <td>-0.152360</td>\n",
       "      <td>0.932756</td>\n",
       "      <td>0.586269</td>\n",
       "      <td>0.040401</td>\n",
       "      <td>0.863094</td>\n",
       "      <td>1.000000</td>\n",
       "      <td>0.021864</td>\n",
       "      <td>0.556027</td>\n",
       "    </tr>\n",
       "    <tr>\n",
       "      <th>ADDRESS_new</th>\n",
       "      <td>0.040622</td>\n",
       "      <td>-0.121320</td>\n",
       "      <td>-0.041106</td>\n",
       "      <td>0.003751</td>\n",
       "      <td>0.003258</td>\n",
       "      <td>0.004766</td>\n",
       "      <td>-0.034959</td>\n",
       "      <td>0.009978</td>\n",
       "      <td>0.022476</td>\n",
       "      <td>-0.037837</td>\n",
       "      <td>0.005826</td>\n",
       "      <td>0.021864</td>\n",
       "      <td>1.000000</td>\n",
       "      <td>0.018563</td>\n",
       "    </tr>\n",
       "    <tr>\n",
       "      <th>BUILDING CLASS AT TIME OF SALE_new</th>\n",
       "      <td>-0.311548</td>\n",
       "      <td>-0.300279</td>\n",
       "      <td>0.681074</td>\n",
       "      <td>-0.035447</td>\n",
       "      <td>0.019494</td>\n",
       "      <td>-0.019723</td>\n",
       "      <td>-0.425983</td>\n",
       "      <td>0.525264</td>\n",
       "      <td>0.973161</td>\n",
       "      <td>0.023519</td>\n",
       "      <td>0.666040</td>\n",
       "      <td>0.556027</td>\n",
       "      <td>0.018563</td>\n",
       "      <td>1.000000</td>\n",
       "    </tr>\n",
       "  </tbody>\n",
       "</table>\n",
       "</div>"
      ],
      "text/plain": [
       "                                     BOROUGH     BLOCK       LOT  \\\n",
       "BOROUGH                             1.000000  0.417001 -0.277848   \n",
       "BLOCK                               0.417001  1.000000 -0.229118   \n",
       "LOT                                -0.277848 -0.229118  1.000000   \n",
       "RESIDENTIAL UNITS                  -0.023229 -0.015628 -0.034303   \n",
       "COMMERCIAL UNITS                   -0.005503 -0.003517 -0.010953   \n",
       "TOTAL UNITS                        -0.023346 -0.015888 -0.033169   \n",
       "YEAR BUILT                          0.108303  0.071262 -0.289463   \n",
       "TAX CLASS AT TIME OF SALE          -0.315163 -0.287300  0.296680   \n",
       "BUILDING CLASS AT PRESENT_new      -0.303971 -0.296627  0.657077   \n",
       "NEIGHBORHOOD_new                   -0.144981 -0.015612  0.064599   \n",
       "BUILDING CLASS CATEGORY_new        -0.317936 -0.292885  0.450135   \n",
       "TAX CLASS AT PRESENT_new           -0.361609 -0.336206  0.319449   \n",
       "ADDRESS_new                         0.040622 -0.121320 -0.041106   \n",
       "BUILDING CLASS AT TIME OF SALE_new -0.311548 -0.300279  0.681074   \n",
       "\n",
       "                                    RESIDENTIAL UNITS  COMMERCIAL UNITS  \\\n",
       "BOROUGH                                     -0.023229         -0.005503   \n",
       "BLOCK                                       -0.015628         -0.003517   \n",
       "LOT                                         -0.034303         -0.010953   \n",
       "RESIDENTIAL UNITS                            1.000000          0.015653   \n",
       "COMMERCIAL UNITS                             0.015653          1.000000   \n",
       "TOTAL UNITS                                  0.888309          0.472998   \n",
       "YEAR BUILT                                   0.025380          0.006428   \n",
       "TAX CLASS AT TIME OF SALE                   -0.001074          0.049586   \n",
       "BUILDING CLASS AT PRESENT_new               -0.033562          0.019020   \n",
       "NEIGHBORHOOD_new                            -0.008771         -0.003299   \n",
       "BUILDING CLASS CATEGORY_new                 -0.024709          0.030697   \n",
       "TAX CLASS AT PRESENT_new                     0.009022          0.041650   \n",
       "ADDRESS_new                                  0.003751          0.003258   \n",
       "BUILDING CLASS AT TIME OF SALE_new          -0.035447          0.019494   \n",
       "\n",
       "                                    TOTAL UNITS  YEAR BUILT  \\\n",
       "BOROUGH                               -0.023346    0.108303   \n",
       "BLOCK                                 -0.015888    0.071262   \n",
       "LOT                                   -0.033169   -0.289463   \n",
       "RESIDENTIAL UNITS                      0.888309    0.025380   \n",
       "COMMERCIAL UNITS                       0.472998    0.006428   \n",
       "TOTAL UNITS                            1.000000    0.024568   \n",
       "YEAR BUILT                             0.024568    1.000000   \n",
       "TAX CLASS AT TIME OF SALE              0.026429   -0.187609   \n",
       "BUILDING CLASS AT PRESENT_new         -0.018224   -0.359724   \n",
       "NEIGHBORHOOD_new                      -0.009389   -0.034196   \n",
       "BUILDING CLASS CATEGORY_new           -0.001565   -0.258683   \n",
       "TAX CLASS AT PRESENT_new               0.030853   -0.152360   \n",
       "ADDRESS_new                            0.004766   -0.034959   \n",
       "BUILDING CLASS AT TIME OF SALE_new    -0.019723   -0.425983   \n",
       "\n",
       "                                    TAX CLASS AT TIME OF SALE  \\\n",
       "BOROUGH                                             -0.315163   \n",
       "BLOCK                                               -0.287300   \n",
       "LOT                                                  0.296680   \n",
       "RESIDENTIAL UNITS                                   -0.001074   \n",
       "COMMERCIAL UNITS                                     0.049586   \n",
       "TOTAL UNITS                                          0.026429   \n",
       "YEAR BUILT                                          -0.187609   \n",
       "TAX CLASS AT TIME OF SALE                            1.000000   \n",
       "BUILDING CLASS AT PRESENT_new                        0.510355   \n",
       "NEIGHBORHOOD_new                                     0.036727   \n",
       "BUILDING CLASS CATEGORY_new                          0.935198   \n",
       "TAX CLASS AT PRESENT_new                             0.932756   \n",
       "ADDRESS_new                                          0.009978   \n",
       "BUILDING CLASS AT TIME OF SALE_new                   0.525264   \n",
       "\n",
       "                                    BUILDING CLASS AT PRESENT_new  \\\n",
       "BOROUGH                                                 -0.303971   \n",
       "BLOCK                                                   -0.296627   \n",
       "LOT                                                      0.657077   \n",
       "RESIDENTIAL UNITS                                       -0.033562   \n",
       "COMMERCIAL UNITS                                         0.019020   \n",
       "TOTAL UNITS                                             -0.018224   \n",
       "YEAR BUILT                                              -0.359724   \n",
       "TAX CLASS AT TIME OF SALE                                0.510355   \n",
       "BUILDING CLASS AT PRESENT_new                            1.000000   \n",
       "NEIGHBORHOOD_new                                         0.022864   \n",
       "BUILDING CLASS CATEGORY_new                              0.644088   \n",
       "TAX CLASS AT PRESENT_new                                 0.586269   \n",
       "ADDRESS_new                                              0.022476   \n",
       "BUILDING CLASS AT TIME OF SALE_new                       0.973161   \n",
       "\n",
       "                                    NEIGHBORHOOD_new  \\\n",
       "BOROUGH                                    -0.144981   \n",
       "BLOCK                                      -0.015612   \n",
       "LOT                                         0.064599   \n",
       "RESIDENTIAL UNITS                          -0.008771   \n",
       "COMMERCIAL UNITS                           -0.003299   \n",
       "TOTAL UNITS                                -0.009389   \n",
       "YEAR BUILT                                 -0.034196   \n",
       "TAX CLASS AT TIME OF SALE                   0.036727   \n",
       "BUILDING CLASS AT PRESENT_new               0.022864   \n",
       "NEIGHBORHOOD_new                            1.000000   \n",
       "BUILDING CLASS CATEGORY_new                 0.034504   \n",
       "TAX CLASS AT PRESENT_new                    0.040401   \n",
       "ADDRESS_new                                -0.037837   \n",
       "BUILDING CLASS AT TIME OF SALE_new          0.023519   \n",
       "\n",
       "                                    BUILDING CLASS CATEGORY_new  \\\n",
       "BOROUGH                                               -0.317936   \n",
       "BLOCK                                                 -0.292885   \n",
       "LOT                                                    0.450135   \n",
       "RESIDENTIAL UNITS                                     -0.024709   \n",
       "COMMERCIAL UNITS                                       0.030697   \n",
       "TOTAL UNITS                                           -0.001565   \n",
       "YEAR BUILT                                            -0.258683   \n",
       "TAX CLASS AT TIME OF SALE                              0.935198   \n",
       "BUILDING CLASS AT PRESENT_new                          0.644088   \n",
       "NEIGHBORHOOD_new                                       0.034504   \n",
       "BUILDING CLASS CATEGORY_new                            1.000000   \n",
       "TAX CLASS AT PRESENT_new                               0.863094   \n",
       "ADDRESS_new                                            0.005826   \n",
       "BUILDING CLASS AT TIME OF SALE_new                     0.666040   \n",
       "\n",
       "                                    TAX CLASS AT PRESENT_new  ADDRESS_new  \\\n",
       "BOROUGH                                            -0.361609     0.040622   \n",
       "BLOCK                                              -0.336206    -0.121320   \n",
       "LOT                                                 0.319449    -0.041106   \n",
       "RESIDENTIAL UNITS                                   0.009022     0.003751   \n",
       "COMMERCIAL UNITS                                    0.041650     0.003258   \n",
       "TOTAL UNITS                                         0.030853     0.004766   \n",
       "YEAR BUILT                                         -0.152360    -0.034959   \n",
       "TAX CLASS AT TIME OF SALE                           0.932756     0.009978   \n",
       "BUILDING CLASS AT PRESENT_new                       0.586269     0.022476   \n",
       "NEIGHBORHOOD_new                                    0.040401    -0.037837   \n",
       "BUILDING CLASS CATEGORY_new                         0.863094     0.005826   \n",
       "TAX CLASS AT PRESENT_new                            1.000000     0.021864   \n",
       "ADDRESS_new                                         0.021864     1.000000   \n",
       "BUILDING CLASS AT TIME OF SALE_new                  0.556027     0.018563   \n",
       "\n",
       "                                    BUILDING CLASS AT TIME OF SALE_new  \n",
       "BOROUGH                                                      -0.311548  \n",
       "BLOCK                                                        -0.300279  \n",
       "LOT                                                           0.681074  \n",
       "RESIDENTIAL UNITS                                            -0.035447  \n",
       "COMMERCIAL UNITS                                              0.019494  \n",
       "TOTAL UNITS                                                  -0.019723  \n",
       "YEAR BUILT                                                   -0.425983  \n",
       "TAX CLASS AT TIME OF SALE                                     0.525264  \n",
       "BUILDING CLASS AT PRESENT_new                                 0.973161  \n",
       "NEIGHBORHOOD_new                                              0.023519  \n",
       "BUILDING CLASS CATEGORY_new                                   0.666040  \n",
       "TAX CLASS AT PRESENT_new                                      0.556027  \n",
       "ADDRESS_new                                                   0.018563  \n",
       "BUILDING CLASS AT TIME OF SALE_new                            1.000000  "
      ]
     },
     "execution_count": 80,
     "metadata": {},
     "output_type": "execute_result"
    }
   ],
   "source": [
    "df_ds.corr()"
   ]
  },
  {
   "cell_type": "markdown",
   "id": "246d36a1",
   "metadata": {},
   "source": [
    "Pada data NYC Rolling sales untuk variabel unit yang terjual dan kategori kelas saat ini pada bangunan memiliki angka korelasi 0.973161 yang berarti unit yang terjual berdasarkan kategori kelas saat ini pada bangunan memiliki korelasi yang paling besar yaitu sebesar 0.973161. Akan dilihat melalui scatter plot terlebih dahulu."
   ]
  },
  {
   "cell_type": "code",
   "execution_count": 81,
   "id": "df8f4f23",
   "metadata": {},
   "outputs": [
    {
     "data": {
      "text/plain": [
       "<AxesSubplot:xlabel='BUILDING CLASS AT PRESENT_new', ylabel='BUILDING CLASS AT TIME OF SALE_new'>"
      ]
     },
     "execution_count": 81,
     "metadata": {},
     "output_type": "execute_result"
    },
    {
     "data": {
      "image/png": "[encoded data removed]",
      "text/plain": [
       "<Figure size 432x288 with 1 Axes>"
      ]
     },
     "metadata": {
      "needs_background": "light"
     },
     "output_type": "display_data"
    }
   ],
   "source": [
    "sns.scatterplot(x=df_ds[\"BUILDING CLASS AT PRESENT_new\"], y=df_ds[\"BUILDING CLASS AT TIME OF SALE_new\"], \n",
    "data=df_ds)"
   ]
  },
  {
   "cell_type": "markdown",
   "id": "e256557c",
   "metadata": {},
   "source": [
    "Dari scatter plot yang terbentuk, dapat dilihat bahwa penyebaran data yang dihasikan cuku terlihat liniear yang berarti data BUILDING CLASS AT PRESENT_new dan BUILDING CLASS AT TIME OF SALE_new berkorelasi poitif."
   ]
  },
  {
   "cell_type": "markdown",
   "id": "e6641265",
   "metadata": {},
   "source": [
    "**Akan dilakukan analisis korelasi menggunakan Rank Spearmann**\n",
    "> digunakan library scipy.\n",
    "\n",
    "**Asumsi :**\n",
    "- Data berdistribusi Normal, iid\n",
    "\n",
    "- alpha : 0.05\n",
    "\n",
    "**Hipotesis**\n",
    "- H0 : BUILDING CLASS AT PRESENT_new dan BUILDING CLASS AT TIME OF SALE_new independen\n",
    "- H1 : BUILDING CLASS AT PRESENT_new dan BUILDING CLASS AT TIME OF SALE_new dependen\n",
    "\n",
    "**Kriteria Uji**\n",
    "- Tolak H0 apabila p-value < alpha"
   ]
  },
  {
   "cell_type": "code",
   "execution_count": 82,
   "id": "11456def",
   "metadata": {},
   "outputs": [],
   "source": [
    "from scipy.stats import spearmanr"
   ]
  },
  {
   "cell_type": "code",
   "execution_count": 84,
   "id": "3f3376f4",
   "metadata": {},
   "outputs": [],
   "source": [
    "stat, p = spearmanr(df_ds[\"BUILDING CLASS AT PRESENT_new\"], df_ds[\"BUILDING CLASS AT TIME OF SALE_new\"])"
   ]
  },
  {
   "cell_type": "code",
   "execution_count": 85,
   "id": "feea99c5",
   "metadata": {},
   "outputs": [
    {
     "data": {
      "text/plain": [
       "(0.960554847768511, 0.0)"
      ]
     },
     "execution_count": 85,
     "metadata": {},
     "output_type": "execute_result"
    }
   ],
   "source": [
    "stat, p"
   ]
  },
  {
   "cell_type": "code",
   "execution_count": 86,
   "id": "bf4dfffc",
   "metadata": {},
   "outputs": [
    {
     "name": "stdout",
     "output_type": "stream",
     "text": [
      "stat=0.961, p=0.000\n",
      "Probably dependent\n"
     ]
    }
   ],
   "source": [
    "print('stat=%.3f, p=%.3f' % (stat, p))\n",
    "if p > 0.05:\n",
    "    print('Probably independent')\n",
    "else:\n",
    "    print('Probably dependent')"
   ]
  },
  {
   "cell_type": "markdown",
   "id": "737e5657",
   "metadata": {},
   "source": [
    "**Conclussion**\n",
    "\n",
    "berdasarkan hasil perhitungan di atas, didapatkan nilai p-value sebesar 0.00 < alpha = 0.05 yang berarti H0 di tolak atau BUILDING CLASS AT PRESENT_new dan BUILDING CLASS AT TIME OF SALE_new dependen (saling berhubungan)."
   ]
  }
 ],
 "metadata": {
  "kernelspec": {
   "display_name": "Python 3 (ipykernel)",
   "language": "python",
   "name": "python3"
  },
  "language_info": {
   "codemirror_mode": {
    "name": "ipython",
    "version": 3
   },
   "file_extension": ".py",
   "mimetype": "text/x-python",
   "name": "python",
   "nbconvert_exporter": "python",
   "pygments_lexer": "ipython3",
   "version": "3.9.7"
  },
  "toc": {
   "base_numbering": 1,
   "nav_menu": {},
   "number_sections": true,
   "sideBar": true,
   "skip_h1_title": false,
   "title_cell": "Table of Contents",
   "title_sidebar": "Contents",
   "toc_cell": false,
   "toc_position": {},
   "toc_section_display": true,
   "toc_window_display": true
  }
 },
 "nbformat": 4,
 "nbformat_minor": 5
}
