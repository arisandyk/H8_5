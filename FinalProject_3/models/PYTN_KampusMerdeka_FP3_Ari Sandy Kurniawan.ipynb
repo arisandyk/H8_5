{
  "nbformat": 4,
  "nbformat_minor": 0,
  "metadata": {
    "colab": {
      "name": "PYTN_KampusMerdeka_FP3_05_01",
      "provenance": [],
      "collapsed_sections": [
        "ms6Np4ODb4sB",
        "ANsAThH4cNQt",
        "HJA90OWqXqP2",
        "Gcd4WZD3AaVW",
        "zNjhXhp4ZO7G",
        "Cgwq6gxeaxPh",
        "6WCUHMckbbbe",
        "ce7qV55mbfeO",
        "4w-HoJLoBXL2",
        "OgjUt8mIEYVp",
        "ZJEi_tiMEmaZ",
        "Q1lIZfd8EmBL",
        "_tlgfNSFBmZB",
        "foJ7TEjmdOre",
        "bfppqguj0HC2",
        "Cd3uGw0Lp4jg",
        "I1hj1BJveP4L",
        "o8w-TmiqrBTo",
        "OZbDrc3isO4J",
        "xp0ar7vqmwtr"
      ],
      "toc_visible": true
    },
    "kernelspec": {
      "name": "python3",
      "display_name": "Python 3"
    },
    "language_info": {
      "name": "python"
    }
  },
  "cells": [
    {
      "cell_type": "markdown",
      "source": [
        "<img src = \"https://rec-data.kalibrr.com/www.kalibrr.ph/logos/SSYTB3EN2CEV9HZDWPPE4JHP8X2T7CNC6SDZST8Y-5d0b4f4b.png\" width = 600>"
      ],
      "metadata": {
        "id": "9q_3kvBlAt8N"
      }
    },
    {
      "cell_type": "markdown",
      "metadata": {
        "id": "9lfb15Mpa1yH"
      },
      "source": [
        "**Kelompok 01 - Final Project 3 (Introduction to Python Kampus Merdeka)**<br>\n",
        "\n",
        "Anggota Kelompok:\n",
        "\n",
        "1. Aditya Gumilar<br>\n",
        "PYTN-KS05-002\n",
        "\n",
        "2. Ari Sandy Kurniawan<br>\n",
        "PYTN-KS05-005"
      ]
    },
    {
      "cell_type": "markdown",
      "metadata": {
        "id": "ms6Np4ODb4sB"
      },
      "source": [
        "## A. Perkenalan"
      ]
    },
    {
      "cell_type": "markdown",
      "metadata": {
        "id": "QTn-9FTec9q8"
      },
      "source": [
        "1. Latar belakang\n",
        "\n",
        "Penyakit kardiovaskular (CVD) adalah penyebab kematian nomor 1 secara global, mengambil sekitar 17,9 juta jiwa setiap tahun, yang menyumbang 31% dari semua kematian di seluruh dunia. Gagal jantung adalah peristiwa umum yang disebabkan oleh CVD dan dataset ini berisi 12 fitur yang dapat digunakan untuk memprediksi kematian akibat gagal jantung. Sebagian besar penyakit kardiovaskular dapat dicegah dengan mengatasi faktor risiko perilaku seperti penggunaan tembakau, diet dan obesitas yang tidak sehat, aktivitas fisik dan penggunaan alkohol yang berbahaya menggunakan strategi di seluruh populasi. Orang dengan penyakit kardiovaskular atau yang berada pada risiko kardiovaskular tinggi (karena adanya satu atau lebih faktor risiko seperti hipertensi, diabetes, hiperlipidaemia atau penyakit yang sudah mapan) memerlukan deteksi dini dan manajemen di mana model pembelajaran mesin dapat sangat membantu.\n",
        "\n",
        "2. Data yang digunakan\n",
        "\n",
        "Dataset ini terdiri dari 13 atribut dengan 299 rows. Dalam kasus ini target dari hasil prediksi keselamatan pasien dari penyakit jantung adalah death_event atau kematian. <br>\n",
        "\n",
        "* Age: Umur Pasien \n",
        "* Anaemia: Apakah Ada Pengurangan Haemoglobin\n",
        "* Creatinine_phosphokinase: Level Enzim CPK Dalam Mcg/L\n",
        "* Diabetes: Apakah Pasien Punya Riwayat Diabetes\n",
        "* Ejection_fraction: Persentase Darah Yang Meninggalkan Jantung Dalam Persentasi * Di Setiap Kontraksi Jantung\n",
        "* High_blood_pressure: Apakah Pasien Punya Darah Tinggi\n",
        "* Platelets: Jumlah Platelet Di Darah Dalam Kiloplatelets/ML\n",
        "* Serum_creatinine: Level Serum Creatinine Di Darah Dalam Mg/DL\n",
        "* Serum_sodium: Level Serum Sodium Di Darah Dalam MEq/L\n",
        "* Sex: Apakah Pasien Pria Atau Wanita\n",
        "* Smoking: Apakah Pasien Merokok\n",
        "* Time: Waktu Dalam Hari Untuk Follow-Up\n",
        "* death_event: Apakah Pasien Sudah Meninggal Saat Waktu Follow-Up\n",
        "\n",
        "3. Objective yang ingin dicapai\n",
        "\n",
        "*   Mampu Memahami Konsep Classification Dengan Ensemble Model\n",
        "*   Mampu Mempersiapkan Data Untuk Digunakan Dalam Ensemble Model\n",
        "*   Mampu Mengimplementasikan Ensemble Model Untuk Membuat Prediksi"
      ]
    },
    {
      "cell_type": "markdown",
      "metadata": {
        "id": "ANsAThH4cNQt"
      },
      "source": [
        "## B. Library yang Dibutuhkan"
      ]
    },
    {
      "cell_type": "markdown",
      "source": [
        "Import Library yang sekiranya akan dibutuhkan pada pembuatan program"
      ],
      "metadata": {
        "id": "iFkW3lU3IMLk"
      }
    },
    {
      "cell_type": "code",
      "source": [
        "import pandas as pd\n",
        "import numpy as np\n",
        "import matplotlib.pyplot as plt\n",
        "import seaborn as sns\n",
        "import missingno as msno\n",
        "import plotly.express as px\n",
        "import folium\n",
        "\n",
        "\n",
        "from sklearn.linear_model import LogisticRegression\n",
        "from sklearn.model_selection import train_test_split\n",
        "from sklearn import svm\n",
        "import sklearn.metrics as metrics\n",
        "\n",
        "from time import time\n",
        "from six import StringIO\n",
        "from sklearn import tree\n",
        "import sklearn.tree as tree\n",
        "from IPython.display import Image\n",
        "import pydotplus\n",
        "import joblib\n",
        "import pickle\n",
        "from sklearn.preprocessing import StandardScaler\n",
        "\n",
        "import warnings\n",
        "warnings.filterwarnings('ignore')\n",
        "\n",
        "from IPython.display import Image\n",
        "plt.style.use(\"ggplot\")"
      ],
      "metadata": {
        "id": "z7E-Q9eTDYCs"
      },
      "execution_count": null,
      "outputs": []
    },
    {
      "cell_type": "markdown",
      "metadata": {
        "id": "bAj0bwwKcTQv"
      },
      "source": [
        "## C. Load Data Set"
      ]
    },
    {
      "cell_type": "markdown",
      "source": [
        "Memanggil dataset yang akan digunakan"
      ],
      "metadata": {
        "id": "Phua1WTlIXcE"
      }
    },
    {
      "cell_type": "code",
      "source": [
        "data = pd.read_csv('https://raw.githubusercontent.com/adityagum/dataset/main/heart_failure_clinical_records_dataset.csv')\n",
        "data"
      ],
      "metadata": {
        "colab": {
          "base_uri": "https://localhost:8080/"
        },
        "id": "Dc7HQrLsv8b-",
        "outputId": "a4bc17ca-a13e-4183-f8f3-3a19cf8bbf37"
      },
      "execution_count": null,
      "outputs": [
        {
          "output_type": "execute_result",
          "data": {
            "text/plain": [
              "      age  anaemia  creatinine_phosphokinase  diabetes  ejection_fraction  \\\n",
              "0    75.0        0                       582         0                 20   \n",
              "1    55.0        0                      7861         0                 38   \n",
              "2    65.0        0                       146         0                 20   \n",
              "3    50.0        1                       111         0                 20   \n",
              "4    65.0        1                       160         1                 20   \n",
              "..    ...      ...                       ...       ...                ...   \n",
              "294  62.0        0                        61         1                 38   \n",
              "295  55.0        0                      1820         0                 38   \n",
              "296  45.0        0                      2060         1                 60   \n",
              "297  45.0        0                      2413         0                 38   \n",
              "298  50.0        0                       196         0                 45   \n",
              "\n",
              "     high_blood_pressure  platelets  serum_creatinine  serum_sodium  sex  \\\n",
              "0                      1  265000.00               1.9           130    1   \n",
              "1                      0  263358.03               1.1           136    1   \n",
              "2                      0  162000.00               1.3           129    1   \n",
              "3                      0  210000.00               1.9           137    1   \n",
              "4                      0  327000.00               2.7           116    0   \n",
              "..                   ...        ...               ...           ...  ...   \n",
              "294                    1  155000.00               1.1           143    1   \n",
              "295                    0  270000.00               1.2           139    0   \n",
              "296                    0  742000.00               0.8           138    0   \n",
              "297                    0  140000.00               1.4           140    1   \n",
              "298                    0  395000.00               1.6           136    1   \n",
              "\n",
              "     smoking  time  DEATH_EVENT  \n",
              "0          0     4            1  \n",
              "1          0     6            1  \n",
              "2          1     7            1  \n",
              "3          0     7            1  \n",
              "4          0     8            1  \n",
              "..       ...   ...          ...  \n",
              "294        1   270            0  \n",
              "295        0   271            0  \n",
              "296        0   278            0  \n",
              "297        1   280            0  \n",
              "298        1   285            0  \n",
              "\n",
              "[299 rows x 13 columns]"
            ],
            "text/html": [
              "\n",
              "  <div id=\"df-d25f2f52-1bdf-42a3-98b0-1f023ac30853\">\n",
              "    <div class=\"colab-df-container\">\n",
              "      <div>\n",
              "<style scoped>\n",
              "    .dataframe tbody tr th:only-of-type {\n",
              "        vertical-align: middle;\n",
              "    }\n",
              "\n",
              "    .dataframe tbody tr th {\n",
              "        vertical-align: top;\n",
              "    }\n",
              "\n",
              "    .dataframe thead th {\n",
              "        text-align: right;\n",
              "    }\n",
              "</style>\n",
              "<table border=\"1\" class=\"dataframe\">\n",
              "  <thead>\n",
              "    <tr style=\"text-align: right;\">\n",
              "      <th></th>\n",
              "      <th>age</th>\n",
              "      <th>anaemia</th>\n",
              "      <th>creatinine_phosphokinase</th>\n",
              "      <th>diabetes</th>\n",
              "      <th>ejection_fraction</th>\n",
              "      <th>high_blood_pressure</th>\n",
              "      <th>platelets</th>\n",
              "      <th>serum_creatinine</th>\n",
              "      <th>serum_sodium</th>\n",
              "      <th>sex</th>\n",
              "      <th>smoking</th>\n",
              "      <th>time</th>\n",
              "      <th>DEATH_EVENT</th>\n",
              "    </tr>\n",
              "  </thead>\n",
              "  <tbody>\n",
              "    <tr>\n",
              "      <th>0</th>\n",
              "      <td>75.0</td>\n",
              "      <td>0</td>\n",
              "      <td>582</td>\n",
              "      <td>0</td>\n",
              "      <td>20</td>\n",
              "      <td>1</td>\n",
              "      <td>265000.00</td>\n",
              "      <td>1.9</td>\n",
              "      <td>130</td>\n",
              "      <td>1</td>\n",
              "      <td>0</td>\n",
              "      <td>4</td>\n",
              "      <td>1</td>\n",
              "    </tr>\n",
              "    <tr>\n",
              "      <th>1</th>\n",
              "      <td>55.0</td>\n",
              "      <td>0</td>\n",
              "      <td>7861</td>\n",
              "      <td>0</td>\n",
              "      <td>38</td>\n",
              "      <td>0</td>\n",
              "      <td>263358.03</td>\n",
              "      <td>1.1</td>\n",
              "      <td>136</td>\n",
              "      <td>1</td>\n",
              "      <td>0</td>\n",
              "      <td>6</td>\n",
              "      <td>1</td>\n",
              "    </tr>\n",
              "    <tr>\n",
              "      <th>2</th>\n",
              "      <td>65.0</td>\n",
              "      <td>0</td>\n",
              "      <td>146</td>\n",
              "      <td>0</td>\n",
              "      <td>20</td>\n",
              "      <td>0</td>\n",
              "      <td>162000.00</td>\n",
              "      <td>1.3</td>\n",
              "      <td>129</td>\n",
              "      <td>1</td>\n",
              "      <td>1</td>\n",
              "      <td>7</td>\n",
              "      <td>1</td>\n",
              "    </tr>\n",
              "    <tr>\n",
              "      <th>3</th>\n",
              "      <td>50.0</td>\n",
              "      <td>1</td>\n",
              "      <td>111</td>\n",
              "      <td>0</td>\n",
              "      <td>20</td>\n",
              "      <td>0</td>\n",
              "      <td>210000.00</td>\n",
              "      <td>1.9</td>\n",
              "      <td>137</td>\n",
              "      <td>1</td>\n",
              "      <td>0</td>\n",
              "      <td>7</td>\n",
              "      <td>1</td>\n",
              "    </tr>\n",
              "    <tr>\n",
              "      <th>4</th>\n",
              "      <td>65.0</td>\n",
              "      <td>1</td>\n",
              "      <td>160</td>\n",
              "      <td>1</td>\n",
              "      <td>20</td>\n",
              "      <td>0</td>\n",
              "      <td>327000.00</td>\n",
              "      <td>2.7</td>\n",
              "      <td>116</td>\n",
              "      <td>0</td>\n",
              "      <td>0</td>\n",
              "      <td>8</td>\n",
              "      <td>1</td>\n",
              "    </tr>\n",
              "    <tr>\n",
              "      <th>...</th>\n",
              "      <td>...</td>\n",
              "      <td>...</td>\n",
              "      <td>...</td>\n",
              "      <td>...</td>\n",
              "      <td>...</td>\n",
              "      <td>...</td>\n",
              "      <td>...</td>\n",
              "      <td>...</td>\n",
              "      <td>...</td>\n",
              "      <td>...</td>\n",
              "      <td>...</td>\n",
              "      <td>...</td>\n",
              "      <td>...</td>\n",
              "    </tr>\n",
              "    <tr>\n",
              "      <th>294</th>\n",
              "      <td>62.0</td>\n",
              "      <td>0</td>\n",
              "      <td>61</td>\n",
              "      <td>1</td>\n",
              "      <td>38</td>\n",
              "      <td>1</td>\n",
              "      <td>155000.00</td>\n",
              "      <td>1.1</td>\n",
              "      <td>143</td>\n",
              "      <td>1</td>\n",
              "      <td>1</td>\n",
              "      <td>270</td>\n",
              "      <td>0</td>\n",
              "    </tr>\n",
              "    <tr>\n",
              "      <th>295</th>\n",
              "      <td>55.0</td>\n",
              "      <td>0</td>\n",
              "      <td>1820</td>\n",
              "      <td>0</td>\n",
              "      <td>38</td>\n",
              "      <td>0</td>\n",
              "      <td>270000.00</td>\n",
              "      <td>1.2</td>\n",
              "      <td>139</td>\n",
              "      <td>0</td>\n",
              "      <td>0</td>\n",
              "      <td>271</td>\n",
              "      <td>0</td>\n",
              "    </tr>\n",
              "    <tr>\n",
              "      <th>296</th>\n",
              "      <td>45.0</td>\n",
              "      <td>0</td>\n",
              "      <td>2060</td>\n",
              "      <td>1</td>\n",
              "      <td>60</td>\n",
              "      <td>0</td>\n",
              "      <td>742000.00</td>\n",
              "      <td>0.8</td>\n",
              "      <td>138</td>\n",
              "      <td>0</td>\n",
              "      <td>0</td>\n",
              "      <td>278</td>\n",
              "      <td>0</td>\n",
              "    </tr>\n",
              "    <tr>\n",
              "      <th>297</th>\n",
              "      <td>45.0</td>\n",
              "      <td>0</td>\n",
              "      <td>2413</td>\n",
              "      <td>0</td>\n",
              "      <td>38</td>\n",
              "      <td>0</td>\n",
              "      <td>140000.00</td>\n",
              "      <td>1.4</td>\n",
              "      <td>140</td>\n",
              "      <td>1</td>\n",
              "      <td>1</td>\n",
              "      <td>280</td>\n",
              "      <td>0</td>\n",
              "    </tr>\n",
              "    <tr>\n",
              "      <th>298</th>\n",
              "      <td>50.0</td>\n",
              "      <td>0</td>\n",
              "      <td>196</td>\n",
              "      <td>0</td>\n",
              "      <td>45</td>\n",
              "      <td>0</td>\n",
              "      <td>395000.00</td>\n",
              "      <td>1.6</td>\n",
              "      <td>136</td>\n",
              "      <td>1</td>\n",
              "      <td>1</td>\n",
              "      <td>285</td>\n",
              "      <td>0</td>\n",
              "    </tr>\n",
              "  </tbody>\n",
              "</table>\n",
              "<p>299 rows × 13 columns</p>\n",
              "</div>\n",
              "      <button class=\"colab-df-convert\" onclick=\"convertToInteractive('df-d25f2f52-1bdf-42a3-98b0-1f023ac30853')\"\n",
              "              title=\"Convert this dataframe to an interactive table.\"\n",
              "              style=\"display:none;\">\n",
              "        \n",
              "  <svg xmlns=\"http://www.w3.org/2000/svg\" height=\"24px\"viewBox=\"0 0 24 24\"\n",
              "       width=\"24px\">\n",
              "    <path d=\"M0 0h24v24H0V0z\" fill=\"none\"/>\n",
              "    <path d=\"M18.56 5.44l.94 2.06.94-2.06 2.06-.94-2.06-.94-.94-2.06-.94 2.06-2.06.94zm-11 1L8.5 8.5l.94-2.06 2.06-.94-2.06-.94L8.5 2.5l-.94 2.06-2.06.94zm10 10l.94 2.06.94-2.06 2.06-.94-2.06-.94-.94-2.06-.94 2.06-2.06.94z\"/><path d=\"M17.41 7.96l-1.37-1.37c-.4-.4-.92-.59-1.43-.59-.52 0-1.04.2-1.43.59L10.3 9.45l-7.72 7.72c-.78.78-.78 2.05 0 2.83L4 21.41c.39.39.9.59 1.41.59.51 0 1.02-.2 1.41-.59l7.78-7.78 2.81-2.81c.8-.78.8-2.07 0-2.86zM5.41 20L4 18.59l7.72-7.72 1.47 1.35L5.41 20z\"/>\n",
              "  </svg>\n",
              "      </button>\n",
              "      \n",
              "  <style>\n",
              "    .colab-df-container {\n",
              "      display:flex;\n",
              "      flex-wrap:wrap;\n",
              "      gap: 12px;\n",
              "    }\n",
              "\n",
              "    .colab-df-convert {\n",
              "      background-color: #E8F0FE;\n",
              "      border: none;\n",
              "      border-radius: 50%;\n",
              "      cursor: pointer;\n",
              "      display: none;\n",
              "      fill: #1967D2;\n",
              "      height: 32px;\n",
              "      padding: 0 0 0 0;\n",
              "      width: 32px;\n",
              "    }\n",
              "\n",
              "    .colab-df-convert:hover {\n",
              "      background-color: #E2EBFA;\n",
              "      box-shadow: 0px 1px 2px rgba(60, 64, 67, 0.3), 0px 1px 3px 1px rgba(60, 64, 67, 0.15);\n",
              "      fill: #174EA6;\n",
              "    }\n",
              "\n",
              "    [theme=dark] .colab-df-convert {\n",
              "      background-color: #3B4455;\n",
              "      fill: #D2E3FC;\n",
              "    }\n",
              "\n",
              "    [theme=dark] .colab-df-convert:hover {\n",
              "      background-color: #434B5C;\n",
              "      box-shadow: 0px 1px 3px 1px rgba(0, 0, 0, 0.15);\n",
              "      filter: drop-shadow(0px 1px 2px rgba(0, 0, 0, 0.3));\n",
              "      fill: #FFFFFF;\n",
              "    }\n",
              "  </style>\n",
              "\n",
              "      <script>\n",
              "        const buttonEl =\n",
              "          document.querySelector('#df-d25f2f52-1bdf-42a3-98b0-1f023ac30853 button.colab-df-convert');\n",
              "        buttonEl.style.display =\n",
              "          google.colab.kernel.accessAllowed ? 'block' : 'none';\n",
              "\n",
              "        async function convertToInteractive(key) {\n",
              "          const element = document.querySelector('#df-d25f2f52-1bdf-42a3-98b0-1f023ac30853');\n",
              "          const dataTable =\n",
              "            await google.colab.kernel.invokeFunction('convertToInteractive',\n",
              "                                                     [key], {});\n",
              "          if (!dataTable) return;\n",
              "\n",
              "          const docLinkHtml = 'Like what you see? Visit the ' +\n",
              "            '<a target=\"_blank\" href=https://colab.research.google.com/notebooks/data_table.ipynb>data table notebook</a>'\n",
              "            + ' to learn more about interactive tables.';\n",
              "          element.innerHTML = '';\n",
              "          dataTable['output_type'] = 'display_data';\n",
              "          await google.colab.output.renderOutput(dataTable, element);\n",
              "          const docLink = document.createElement('div');\n",
              "          docLink.innerHTML = docLinkHtml;\n",
              "          element.appendChild(docLink);\n",
              "        }\n",
              "      </script>\n",
              "    </div>\n",
              "  </div>\n",
              "  "
            ]
          },
          "metadata": {},
          "execution_count": 2
        }
      ]
    },
    {
      "cell_type": "code",
      "source": [
        "df = data.copy()\n",
        "df.head()"
      ],
      "metadata": {
        "colab": {
          "base_uri": "https://localhost:8080/"
        },
        "id": "ULjVNr1MEM72",
        "outputId": "97b02da2-8b17-4aec-9946-6b7d51e5d4d9"
      },
      "execution_count": null,
      "outputs": [
        {
          "output_type": "execute_result",
          "data": {
            "text/plain": [
              "    age  anaemia  creatinine_phosphokinase  diabetes  ejection_fraction  \\\n",
              "0  75.0        0                       582         0                 20   \n",
              "1  55.0        0                      7861         0                 38   \n",
              "2  65.0        0                       146         0                 20   \n",
              "3  50.0        1                       111         0                 20   \n",
              "4  65.0        1                       160         1                 20   \n",
              "\n",
              "   high_blood_pressure  platelets  serum_creatinine  serum_sodium  sex  \\\n",
              "0                    1  265000.00               1.9           130    1   \n",
              "1                    0  263358.03               1.1           136    1   \n",
              "2                    0  162000.00               1.3           129    1   \n",
              "3                    0  210000.00               1.9           137    1   \n",
              "4                    0  327000.00               2.7           116    0   \n",
              "\n",
              "   smoking  time  DEATH_EVENT  \n",
              "0        0     4            1  \n",
              "1        0     6            1  \n",
              "2        1     7            1  \n",
              "3        0     7            1  \n",
              "4        0     8            1  "
            ],
            "text/html": [
              "\n",
              "  <div id=\"df-0a906b73-b8bc-408a-a975-b3d6c9688a3a\">\n",
              "    <div class=\"colab-df-container\">\n",
              "      <div>\n",
              "<style scoped>\n",
              "    .dataframe tbody tr th:only-of-type {\n",
              "        vertical-align: middle;\n",
              "    }\n",
              "\n",
              "    .dataframe tbody tr th {\n",
              "        vertical-align: top;\n",
              "    }\n",
              "\n",
              "    .dataframe thead th {\n",
              "        text-align: right;\n",
              "    }\n",
              "</style>\n",
              "<table border=\"1\" class=\"dataframe\">\n",
              "  <thead>\n",
              "    <tr style=\"text-align: right;\">\n",
              "      <th></th>\n",
              "      <th>age</th>\n",
              "      <th>anaemia</th>\n",
              "      <th>creatinine_phosphokinase</th>\n",
              "      <th>diabetes</th>\n",
              "      <th>ejection_fraction</th>\n",
              "      <th>high_blood_pressure</th>\n",
              "      <th>platelets</th>\n",
              "      <th>serum_creatinine</th>\n",
              "      <th>serum_sodium</th>\n",
              "      <th>sex</th>\n",
              "      <th>smoking</th>\n",
              "      <th>time</th>\n",
              "      <th>DEATH_EVENT</th>\n",
              "    </tr>\n",
              "  </thead>\n",
              "  <tbody>\n",
              "    <tr>\n",
              "      <th>0</th>\n",
              "      <td>75.0</td>\n",
              "      <td>0</td>\n",
              "      <td>582</td>\n",
              "      <td>0</td>\n",
              "      <td>20</td>\n",
              "      <td>1</td>\n",
              "      <td>265000.00</td>\n",
              "      <td>1.9</td>\n",
              "      <td>130</td>\n",
              "      <td>1</td>\n",
              "      <td>0</td>\n",
              "      <td>4</td>\n",
              "      <td>1</td>\n",
              "    </tr>\n",
              "    <tr>\n",
              "      <th>1</th>\n",
              "      <td>55.0</td>\n",
              "      <td>0</td>\n",
              "      <td>7861</td>\n",
              "      <td>0</td>\n",
              "      <td>38</td>\n",
              "      <td>0</td>\n",
              "      <td>263358.03</td>\n",
              "      <td>1.1</td>\n",
              "      <td>136</td>\n",
              "      <td>1</td>\n",
              "      <td>0</td>\n",
              "      <td>6</td>\n",
              "      <td>1</td>\n",
              "    </tr>\n",
              "    <tr>\n",
              "      <th>2</th>\n",
              "      <td>65.0</td>\n",
              "      <td>0</td>\n",
              "      <td>146</td>\n",
              "      <td>0</td>\n",
              "      <td>20</td>\n",
              "      <td>0</td>\n",
              "      <td>162000.00</td>\n",
              "      <td>1.3</td>\n",
              "      <td>129</td>\n",
              "      <td>1</td>\n",
              "      <td>1</td>\n",
              "      <td>7</td>\n",
              "      <td>1</td>\n",
              "    </tr>\n",
              "    <tr>\n",
              "      <th>3</th>\n",
              "      <td>50.0</td>\n",
              "      <td>1</td>\n",
              "      <td>111</td>\n",
              "      <td>0</td>\n",
              "      <td>20</td>\n",
              "      <td>0</td>\n",
              "      <td>210000.00</td>\n",
              "      <td>1.9</td>\n",
              "      <td>137</td>\n",
              "      <td>1</td>\n",
              "      <td>0</td>\n",
              "      <td>7</td>\n",
              "      <td>1</td>\n",
              "    </tr>\n",
              "    <tr>\n",
              "      <th>4</th>\n",
              "      <td>65.0</td>\n",
              "      <td>1</td>\n",
              "      <td>160</td>\n",
              "      <td>1</td>\n",
              "      <td>20</td>\n",
              "      <td>0</td>\n",
              "      <td>327000.00</td>\n",
              "      <td>2.7</td>\n",
              "      <td>116</td>\n",
              "      <td>0</td>\n",
              "      <td>0</td>\n",
              "      <td>8</td>\n",
              "      <td>1</td>\n",
              "    </tr>\n",
              "  </tbody>\n",
              "</table>\n",
              "</div>\n",
              "      <button class=\"colab-df-convert\" onclick=\"convertToInteractive('df-0a906b73-b8bc-408a-a975-b3d6c9688a3a')\"\n",
              "              title=\"Convert this dataframe to an interactive table.\"\n",
              "              style=\"display:none;\">\n",
              "        \n",
              "  <svg xmlns=\"http://www.w3.org/2000/svg\" height=\"24px\"viewBox=\"0 0 24 24\"\n",
              "       width=\"24px\">\n",
              "    <path d=\"M0 0h24v24H0V0z\" fill=\"none\"/>\n",
              "    <path d=\"M18.56 5.44l.94 2.06.94-2.06 2.06-.94-2.06-.94-.94-2.06-.94 2.06-2.06.94zm-11 1L8.5 8.5l.94-2.06 2.06-.94-2.06-.94L8.5 2.5l-.94 2.06-2.06.94zm10 10l.94 2.06.94-2.06 2.06-.94-2.06-.94-.94-2.06-.94 2.06-2.06.94z\"/><path d=\"M17.41 7.96l-1.37-1.37c-.4-.4-.92-.59-1.43-.59-.52 0-1.04.2-1.43.59L10.3 9.45l-7.72 7.72c-.78.78-.78 2.05 0 2.83L4 21.41c.39.39.9.59 1.41.59.51 0 1.02-.2 1.41-.59l7.78-7.78 2.81-2.81c.8-.78.8-2.07 0-2.86zM5.41 20L4 18.59l7.72-7.72 1.47 1.35L5.41 20z\"/>\n",
              "  </svg>\n",
              "      </button>\n",
              "      \n",
              "  <style>\n",
              "    .colab-df-container {\n",
              "      display:flex;\n",
              "      flex-wrap:wrap;\n",
              "      gap: 12px;\n",
              "    }\n",
              "\n",
              "    .colab-df-convert {\n",
              "      background-color: #E8F0FE;\n",
              "      border: none;\n",
              "      border-radius: 50%;\n",
              "      cursor: pointer;\n",
              "      display: none;\n",
              "      fill: #1967D2;\n",
              "      height: 32px;\n",
              "      padding: 0 0 0 0;\n",
              "      width: 32px;\n",
              "    }\n",
              "\n",
              "    .colab-df-convert:hover {\n",
              "      background-color: #E2EBFA;\n",
              "      box-shadow: 0px 1px 2px rgba(60, 64, 67, 0.3), 0px 1px 3px 1px rgba(60, 64, 67, 0.15);\n",
              "      fill: #174EA6;\n",
              "    }\n",
              "\n",
              "    [theme=dark] .colab-df-convert {\n",
              "      background-color: #3B4455;\n",
              "      fill: #D2E3FC;\n",
              "    }\n",
              "\n",
              "    [theme=dark] .colab-df-convert:hover {\n",
              "      background-color: #434B5C;\n",
              "      box-shadow: 0px 1px 3px 1px rgba(0, 0, 0, 0.15);\n",
              "      filter: drop-shadow(0px 1px 2px rgba(0, 0, 0, 0.3));\n",
              "      fill: #FFFFFF;\n",
              "    }\n",
              "  </style>\n",
              "\n",
              "      <script>\n",
              "        const buttonEl =\n",
              "          document.querySelector('#df-0a906b73-b8bc-408a-a975-b3d6c9688a3a button.colab-df-convert');\n",
              "        buttonEl.style.display =\n",
              "          google.colab.kernel.accessAllowed ? 'block' : 'none';\n",
              "\n",
              "        async function convertToInteractive(key) {\n",
              "          const element = document.querySelector('#df-0a906b73-b8bc-408a-a975-b3d6c9688a3a');\n",
              "          const dataTable =\n",
              "            await google.colab.kernel.invokeFunction('convertToInteractive',\n",
              "                                                     [key], {});\n",
              "          if (!dataTable) return;\n",
              "\n",
              "          const docLinkHtml = 'Like what you see? Visit the ' +\n",
              "            '<a target=\"_blank\" href=https://colab.research.google.com/notebooks/data_table.ipynb>data table notebook</a>'\n",
              "            + ' to learn more about interactive tables.';\n",
              "          element.innerHTML = '';\n",
              "          dataTable['output_type'] = 'display_data';\n",
              "          await google.colab.output.renderOutput(dataTable, element);\n",
              "          const docLink = document.createElement('div');\n",
              "          docLink.innerHTML = docLinkHtml;\n",
              "          element.appendChild(docLink);\n",
              "        }\n",
              "      </script>\n",
              "    </div>\n",
              "  </div>\n",
              "  "
            ]
          },
          "metadata": {},
          "execution_count": 3
        }
      ]
    },
    {
      "cell_type": "markdown",
      "source": [
        "Mengecek dimensi dataset"
      ],
      "metadata": {
        "id": "R51MnSvWIeZ9"
      }
    },
    {
      "cell_type": "code",
      "source": [
        "df.shape"
      ],
      "metadata": {
        "colab": {
          "base_uri": "https://localhost:8080/"
        },
        "id": "I0Cdghm9AYZ-",
        "outputId": "804a4a63-ad9b-4529-9789-ffb5a97f2b90"
      },
      "execution_count": null,
      "outputs": [
        {
          "output_type": "execute_result",
          "data": {
            "text/plain": [
              "(299, 13)"
            ]
          },
          "metadata": {},
          "execution_count": 4
        }
      ]
    },
    {
      "cell_type": "markdown",
      "source": [
        "Menampilkan informasi dari dataset, bisa penjelasan mengenai kolom yang ada, bagaimana tipe datanya, jumlah missing values dari setiap kolom atau atribut"
      ],
      "metadata": {
        "id": "ZlyeV4V4IiXM"
      }
    },
    {
      "cell_type": "code",
      "source": [
        "df.info()"
      ],
      "metadata": {
        "colab": {
          "base_uri": "https://localhost:8080/"
        },
        "id": "670v7AIXEjRq",
        "outputId": "d569c5d4-f2ba-4cf1-9108-f1bba931f3cf"
      },
      "execution_count": null,
      "outputs": [
        {
          "output_type": "stream",
          "name": "stdout",
          "text": [
            "<class 'pandas.core.frame.DataFrame'>\n",
            "RangeIndex: 299 entries, 0 to 298\n",
            "Data columns (total 13 columns):\n",
            " #   Column                    Non-Null Count  Dtype  \n",
            "---  ------                    --------------  -----  \n",
            " 0   age                       299 non-null    float64\n",
            " 1   anaemia                   299 non-null    int64  \n",
            " 2   creatinine_phosphokinase  299 non-null    int64  \n",
            " 3   diabetes                  299 non-null    int64  \n",
            " 4   ejection_fraction         299 non-null    int64  \n",
            " 5   high_blood_pressure       299 non-null    int64  \n",
            " 6   platelets                 299 non-null    float64\n",
            " 7   serum_creatinine          299 non-null    float64\n",
            " 8   serum_sodium              299 non-null    int64  \n",
            " 9   sex                       299 non-null    int64  \n",
            " 10  smoking                   299 non-null    int64  \n",
            " 11  time                      299 non-null    int64  \n",
            " 12  DEATH_EVENT               299 non-null    int64  \n",
            "dtypes: float64(3), int64(10)\n",
            "memory usage: 30.5 KB\n"
          ]
        }
      ]
    },
    {
      "cell_type": "markdown",
      "source": [
        "Mengubah nama kolom death_event menjadi death_event"
      ],
      "metadata": {
        "id": "-IwDxZZLJeuf"
      }
    },
    {
      "cell_type": "code",
      "source": [
        "df = df.rename(columns={'DEATH_EVENT':'death_event'})"
      ],
      "metadata": {
        "id": "V_kB0mFhJYPW"
      },
      "execution_count": null,
      "outputs": []
    },
    {
      "cell_type": "code",
      "source": [
        "df.describe().T"
      ],
      "metadata": {
        "colab": {
          "base_uri": "https://localhost:8080/"
        },
        "id": "EdtHy6cOExea",
        "outputId": "fbbb54f5-f1d7-4b5b-fc49-25dfdda76b61"
      },
      "execution_count": null,
      "outputs": [
        {
          "output_type": "execute_result",
          "data": {
            "text/plain": [
              "                          count           mean           std      min  \\\n",
              "age                       299.0      60.833893     11.894809     40.0   \n",
              "anaemia                   299.0       0.431438      0.496107      0.0   \n",
              "creatinine_phosphokinase  299.0     581.839465    970.287881     23.0   \n",
              "diabetes                  299.0       0.418060      0.494067      0.0   \n",
              "ejection_fraction         299.0      38.083612     11.834841     14.0   \n",
              "high_blood_pressure       299.0       0.351171      0.478136      0.0   \n",
              "platelets                 299.0  263358.029264  97804.236869  25100.0   \n",
              "serum_creatinine          299.0       1.393880      1.034510      0.5   \n",
              "serum_sodium              299.0     136.625418      4.412477    113.0   \n",
              "sex                       299.0       0.648829      0.478136      0.0   \n",
              "smoking                   299.0       0.321070      0.467670      0.0   \n",
              "time                      299.0     130.260870     77.614208      4.0   \n",
              "death_event               299.0       0.321070      0.467670      0.0   \n",
              "\n",
              "                               25%       50%       75%       max  \n",
              "age                           51.0      60.0      70.0      95.0  \n",
              "anaemia                        0.0       0.0       1.0       1.0  \n",
              "creatinine_phosphokinase     116.5     250.0     582.0    7861.0  \n",
              "diabetes                       0.0       0.0       1.0       1.0  \n",
              "ejection_fraction             30.0      38.0      45.0      80.0  \n",
              "high_blood_pressure            0.0       0.0       1.0       1.0  \n",
              "platelets                 212500.0  262000.0  303500.0  850000.0  \n",
              "serum_creatinine               0.9       1.1       1.4       9.4  \n",
              "serum_sodium                 134.0     137.0     140.0     148.0  \n",
              "sex                            0.0       1.0       1.0       1.0  \n",
              "smoking                        0.0       0.0       1.0       1.0  \n",
              "time                          73.0     115.0     203.0     285.0  \n",
              "death_event                    0.0       0.0       1.0       1.0  "
            ],
            "text/html": [
              "\n",
              "  <div id=\"df-dc75d6b4-add7-4e9a-9b9a-6391d9bb31bd\">\n",
              "    <div class=\"colab-df-container\">\n",
              "      <div>\n",
              "<style scoped>\n",
              "    .dataframe tbody tr th:only-of-type {\n",
              "        vertical-align: middle;\n",
              "    }\n",
              "\n",
              "    .dataframe tbody tr th {\n",
              "        vertical-align: top;\n",
              "    }\n",
              "\n",
              "    .dataframe thead th {\n",
              "        text-align: right;\n",
              "    }\n",
              "</style>\n",
              "<table border=\"1\" class=\"dataframe\">\n",
              "  <thead>\n",
              "    <tr style=\"text-align: right;\">\n",
              "      <th></th>\n",
              "      <th>count</th>\n",
              "      <th>mean</th>\n",
              "      <th>std</th>\n",
              "      <th>min</th>\n",
              "      <th>25%</th>\n",
              "      <th>50%</th>\n",
              "      <th>75%</th>\n",
              "      <th>max</th>\n",
              "    </tr>\n",
              "  </thead>\n",
              "  <tbody>\n",
              "    <tr>\n",
              "      <th>age</th>\n",
              "      <td>299.0</td>\n",
              "      <td>60.833893</td>\n",
              "      <td>11.894809</td>\n",
              "      <td>40.0</td>\n",
              "      <td>51.0</td>\n",
              "      <td>60.0</td>\n",
              "      <td>70.0</td>\n",
              "      <td>95.0</td>\n",
              "    </tr>\n",
              "    <tr>\n",
              "      <th>anaemia</th>\n",
              "      <td>299.0</td>\n",
              "      <td>0.431438</td>\n",
              "      <td>0.496107</td>\n",
              "      <td>0.0</td>\n",
              "      <td>0.0</td>\n",
              "      <td>0.0</td>\n",
              "      <td>1.0</td>\n",
              "      <td>1.0</td>\n",
              "    </tr>\n",
              "    <tr>\n",
              "      <th>creatinine_phosphokinase</th>\n",
              "      <td>299.0</td>\n",
              "      <td>581.839465</td>\n",
              "      <td>970.287881</td>\n",
              "      <td>23.0</td>\n",
              "      <td>116.5</td>\n",
              "      <td>250.0</td>\n",
              "      <td>582.0</td>\n",
              "      <td>7861.0</td>\n",
              "    </tr>\n",
              "    <tr>\n",
              "      <th>diabetes</th>\n",
              "      <td>299.0</td>\n",
              "      <td>0.418060</td>\n",
              "      <td>0.494067</td>\n",
              "      <td>0.0</td>\n",
              "      <td>0.0</td>\n",
              "      <td>0.0</td>\n",
              "      <td>1.0</td>\n",
              "      <td>1.0</td>\n",
              "    </tr>\n",
              "    <tr>\n",
              "      <th>ejection_fraction</th>\n",
              "      <td>299.0</td>\n",
              "      <td>38.083612</td>\n",
              "      <td>11.834841</td>\n",
              "      <td>14.0</td>\n",
              "      <td>30.0</td>\n",
              "      <td>38.0</td>\n",
              "      <td>45.0</td>\n",
              "      <td>80.0</td>\n",
              "    </tr>\n",
              "    <tr>\n",
              "      <th>high_blood_pressure</th>\n",
              "      <td>299.0</td>\n",
              "      <td>0.351171</td>\n",
              "      <td>0.478136</td>\n",
              "      <td>0.0</td>\n",
              "      <td>0.0</td>\n",
              "      <td>0.0</td>\n",
              "      <td>1.0</td>\n",
              "      <td>1.0</td>\n",
              "    </tr>\n",
              "    <tr>\n",
              "      <th>platelets</th>\n",
              "      <td>299.0</td>\n",
              "      <td>263358.029264</td>\n",
              "      <td>97804.236869</td>\n",
              "      <td>25100.0</td>\n",
              "      <td>212500.0</td>\n",
              "      <td>262000.0</td>\n",
              "      <td>303500.0</td>\n",
              "      <td>850000.0</td>\n",
              "    </tr>\n",
              "    <tr>\n",
              "      <th>serum_creatinine</th>\n",
              "      <td>299.0</td>\n",
              "      <td>1.393880</td>\n",
              "      <td>1.034510</td>\n",
              "      <td>0.5</td>\n",
              "      <td>0.9</td>\n",
              "      <td>1.1</td>\n",
              "      <td>1.4</td>\n",
              "      <td>9.4</td>\n",
              "    </tr>\n",
              "    <tr>\n",
              "      <th>serum_sodium</th>\n",
              "      <td>299.0</td>\n",
              "      <td>136.625418</td>\n",
              "      <td>4.412477</td>\n",
              "      <td>113.0</td>\n",
              "      <td>134.0</td>\n",
              "      <td>137.0</td>\n",
              "      <td>140.0</td>\n",
              "      <td>148.0</td>\n",
              "    </tr>\n",
              "    <tr>\n",
              "      <th>sex</th>\n",
              "      <td>299.0</td>\n",
              "      <td>0.648829</td>\n",
              "      <td>0.478136</td>\n",
              "      <td>0.0</td>\n",
              "      <td>0.0</td>\n",
              "      <td>1.0</td>\n",
              "      <td>1.0</td>\n",
              "      <td>1.0</td>\n",
              "    </tr>\n",
              "    <tr>\n",
              "      <th>smoking</th>\n",
              "      <td>299.0</td>\n",
              "      <td>0.321070</td>\n",
              "      <td>0.467670</td>\n",
              "      <td>0.0</td>\n",
              "      <td>0.0</td>\n",
              "      <td>0.0</td>\n",
              "      <td>1.0</td>\n",
              "      <td>1.0</td>\n",
              "    </tr>\n",
              "    <tr>\n",
              "      <th>time</th>\n",
              "      <td>299.0</td>\n",
              "      <td>130.260870</td>\n",
              "      <td>77.614208</td>\n",
              "      <td>4.0</td>\n",
              "      <td>73.0</td>\n",
              "      <td>115.0</td>\n",
              "      <td>203.0</td>\n",
              "      <td>285.0</td>\n",
              "    </tr>\n",
              "    <tr>\n",
              "      <th>death_event</th>\n",
              "      <td>299.0</td>\n",
              "      <td>0.321070</td>\n",
              "      <td>0.467670</td>\n",
              "      <td>0.0</td>\n",
              "      <td>0.0</td>\n",
              "      <td>0.0</td>\n",
              "      <td>1.0</td>\n",
              "      <td>1.0</td>\n",
              "    </tr>\n",
              "  </tbody>\n",
              "</table>\n",
              "</div>\n",
              "      <button class=\"colab-df-convert\" onclick=\"convertToInteractive('df-dc75d6b4-add7-4e9a-9b9a-6391d9bb31bd')\"\n",
              "              title=\"Convert this dataframe to an interactive table.\"\n",
              "              style=\"display:none;\">\n",
              "        \n",
              "  <svg xmlns=\"http://www.w3.org/2000/svg\" height=\"24px\"viewBox=\"0 0 24 24\"\n",
              "       width=\"24px\">\n",
              "    <path d=\"M0 0h24v24H0V0z\" fill=\"none\"/>\n",
              "    <path d=\"M18.56 5.44l.94 2.06.94-2.06 2.06-.94-2.06-.94-.94-2.06-.94 2.06-2.06.94zm-11 1L8.5 8.5l.94-2.06 2.06-.94-2.06-.94L8.5 2.5l-.94 2.06-2.06.94zm10 10l.94 2.06.94-2.06 2.06-.94-2.06-.94-.94-2.06-.94 2.06-2.06.94z\"/><path d=\"M17.41 7.96l-1.37-1.37c-.4-.4-.92-.59-1.43-.59-.52 0-1.04.2-1.43.59L10.3 9.45l-7.72 7.72c-.78.78-.78 2.05 0 2.83L4 21.41c.39.39.9.59 1.41.59.51 0 1.02-.2 1.41-.59l7.78-7.78 2.81-2.81c.8-.78.8-2.07 0-2.86zM5.41 20L4 18.59l7.72-7.72 1.47 1.35L5.41 20z\"/>\n",
              "  </svg>\n",
              "      </button>\n",
              "      \n",
              "  <style>\n",
              "    .colab-df-container {\n",
              "      display:flex;\n",
              "      flex-wrap:wrap;\n",
              "      gap: 12px;\n",
              "    }\n",
              "\n",
              "    .colab-df-convert {\n",
              "      background-color: #E8F0FE;\n",
              "      border: none;\n",
              "      border-radius: 50%;\n",
              "      cursor: pointer;\n",
              "      display: none;\n",
              "      fill: #1967D2;\n",
              "      height: 32px;\n",
              "      padding: 0 0 0 0;\n",
              "      width: 32px;\n",
              "    }\n",
              "\n",
              "    .colab-df-convert:hover {\n",
              "      background-color: #E2EBFA;\n",
              "      box-shadow: 0px 1px 2px rgba(60, 64, 67, 0.3), 0px 1px 3px 1px rgba(60, 64, 67, 0.15);\n",
              "      fill: #174EA6;\n",
              "    }\n",
              "\n",
              "    [theme=dark] .colab-df-convert {\n",
              "      background-color: #3B4455;\n",
              "      fill: #D2E3FC;\n",
              "    }\n",
              "\n",
              "    [theme=dark] .colab-df-convert:hover {\n",
              "      background-color: #434B5C;\n",
              "      box-shadow: 0px 1px 3px 1px rgba(0, 0, 0, 0.15);\n",
              "      filter: drop-shadow(0px 1px 2px rgba(0, 0, 0, 0.3));\n",
              "      fill: #FFFFFF;\n",
              "    }\n",
              "  </style>\n",
              "\n",
              "      <script>\n",
              "        const buttonEl =\n",
              "          document.querySelector('#df-dc75d6b4-add7-4e9a-9b9a-6391d9bb31bd button.colab-df-convert');\n",
              "        buttonEl.style.display =\n",
              "          google.colab.kernel.accessAllowed ? 'block' : 'none';\n",
              "\n",
              "        async function convertToInteractive(key) {\n",
              "          const element = document.querySelector('#df-dc75d6b4-add7-4e9a-9b9a-6391d9bb31bd');\n",
              "          const dataTable =\n",
              "            await google.colab.kernel.invokeFunction('convertToInteractive',\n",
              "                                                     [key], {});\n",
              "          if (!dataTable) return;\n",
              "\n",
              "          const docLinkHtml = 'Like what you see? Visit the ' +\n",
              "            '<a target=\"_blank\" href=https://colab.research.google.com/notebooks/data_table.ipynb>data table notebook</a>'\n",
              "            + ' to learn more about interactive tables.';\n",
              "          element.innerHTML = '';\n",
              "          dataTable['output_type'] = 'display_data';\n",
              "          await google.colab.output.renderOutput(dataTable, element);\n",
              "          const docLink = document.createElement('div');\n",
              "          docLink.innerHTML = docLinkHtml;\n",
              "          element.appendChild(docLink);\n",
              "        }\n",
              "      </script>\n",
              "    </div>\n",
              "  </div>\n",
              "  "
            ]
          },
          "metadata": {},
          "execution_count": 7
        }
      ]
    },
    {
      "cell_type": "markdown",
      "source": [
        "Berdasarkan hasil describe diatas, dapat disimpulkan bahwa:<br>\n",
        "**1. Age** <br>\n",
        "Rata-rata Usia pada <b>Pasien Penyakit Jantung</b> yakni kisaran 60 tahun, usia terendah berada pada umur 40 Tahun dan Usia tertinggi berada pada umur 95 Tahun\n",
        "\n",
        "**2. Anaemia** <br>\n",
        "Rata-rata nilai Anemia pada <b>Pasien Penyakit Jantung</b> berada di 0.431438, untuk nilai terendah di 0 dan nilai tertinggi berada di 1.0\n",
        "\n",
        "**3. creatinine_phosphokinase** <br>\n",
        "Rata-rata creatinine_phosphokinase pada <b>Pasien Penyakit Jantung</b> berada di 581.839465, nilai terendah berada di 23.00 dan nilai tertinggi berada di 7861.00\n",
        "\n",
        "**4. diabetes** <br>\n",
        "Rata-rata nilai Diabetes pada <b>Pasien Penyakit Jantung</b> berada di 0.418060, untuk nilai terendah ada di 0 dan nilai tertinggi berada di angka 1.\n",
        "\n",
        "**5. ejection_fraction** <br>\n",
        "Rata-rata ejection_fraction pada <b>Pasien Penyakit Jantung</b> berada di 38.083612, nilai terendah berada di 14.00 dan nilai tertinggi berada di 80.00\n",
        "\n",
        "**dst..**"
      ],
      "metadata": {
        "id": "8GA52tdiJzVE"
      }
    },
    {
      "cell_type": "markdown",
      "source": [
        "Mengecek jumlah missing values pada dataset"
      ],
      "metadata": {
        "id": "a2hcpy9dMrQ1"
      }
    },
    {
      "cell_type": "code",
      "source": [
        "df.isnull().sum()"
      ],
      "metadata": {
        "colab": {
          "base_uri": "https://localhost:8080/"
        },
        "id": "9nmZsDp2FN6m",
        "outputId": "32a134a9-00fc-48d5-f1e2-aea190602157"
      },
      "execution_count": null,
      "outputs": [
        {
          "output_type": "execute_result",
          "data": {
            "text/plain": [
              "age                         0\n",
              "anaemia                     0\n",
              "creatinine_phosphokinase    0\n",
              "diabetes                    0\n",
              "ejection_fraction           0\n",
              "high_blood_pressure         0\n",
              "platelets                   0\n",
              "serum_creatinine            0\n",
              "serum_sodium                0\n",
              "sex                         0\n",
              "smoking                     0\n",
              "time                        0\n",
              "death_event                 0\n",
              "dtype: int64"
            ]
          },
          "metadata": {},
          "execution_count": 8
        }
      ]
    },
    {
      "cell_type": "markdown",
      "source": [
        "> Memastikan bahwa tidak ada data duplikasi"
      ],
      "metadata": {
        "id": "pWcxVdxdFxg2"
      }
    },
    {
      "cell_type": "code",
      "source": [
        "dup = df.duplicated()\n",
        "dup.sum()"
      ],
      "metadata": {
        "colab": {
          "base_uri": "https://localhost:8080/"
        },
        "id": "X5Rr9_pmF3VH",
        "outputId": "58bcff3f-65dd-4274-80d1-02bf01c3f204"
      },
      "execution_count": null,
      "outputs": [
        {
          "output_type": "execute_result",
          "data": {
            "text/plain": [
              "0"
            ]
          },
          "metadata": {},
          "execution_count": 9
        }
      ]
    },
    {
      "cell_type": "markdown",
      "source": [
        "Hasil tersebut menunjukkan bahawa tidak ada data duplikasi pada dataset tersebut."
      ],
      "metadata": {
        "id": "JnprBPGQF_rz"
      }
    },
    {
      "cell_type": "markdown",
      "source": [
        "Selanjutnya melakukan pengecekan unique values berdasarkan masing-masing kolom"
      ],
      "metadata": {
        "id": "uZagLErRM_E1"
      }
    },
    {
      "cell_type": "code",
      "source": [
        "unique_col = df.nunique().sort_values(ascending=False)\n",
        "unique_col = pd.DataFrame(unique_col, columns = [\"Count\"])\n",
        "unique_col"
      ],
      "metadata": {
        "colab": {
          "base_uri": "https://localhost:8080/"
        },
        "id": "BPBdAQCI6d4p",
        "outputId": "e0b499d1-ca5f-411f-9870-c8dcd8e84908"
      },
      "execution_count": null,
      "outputs": [
        {
          "output_type": "execute_result",
          "data": {
            "text/plain": [
              "                          Count\n",
              "creatinine_phosphokinase    208\n",
              "platelets                   176\n",
              "time                        148\n",
              "age                          47\n",
              "serum_creatinine             40\n",
              "serum_sodium                 27\n",
              "ejection_fraction            17\n",
              "anaemia                       2\n",
              "diabetes                      2\n",
              "high_blood_pressure           2\n",
              "sex                           2\n",
              "smoking                       2\n",
              "death_event                   2"
            ],
            "text/html": [
              "\n",
              "  <div id=\"df-c07350fa-aeb3-44ee-a4e6-bd21b6b55425\">\n",
              "    <div class=\"colab-df-container\">\n",
              "      <div>\n",
              "<style scoped>\n",
              "    .dataframe tbody tr th:only-of-type {\n",
              "        vertical-align: middle;\n",
              "    }\n",
              "\n",
              "    .dataframe tbody tr th {\n",
              "        vertical-align: top;\n",
              "    }\n",
              "\n",
              "    .dataframe thead th {\n",
              "        text-align: right;\n",
              "    }\n",
              "</style>\n",
              "<table border=\"1\" class=\"dataframe\">\n",
              "  <thead>\n",
              "    <tr style=\"text-align: right;\">\n",
              "      <th></th>\n",
              "      <th>Count</th>\n",
              "    </tr>\n",
              "  </thead>\n",
              "  <tbody>\n",
              "    <tr>\n",
              "      <th>creatinine_phosphokinase</th>\n",
              "      <td>208</td>\n",
              "    </tr>\n",
              "    <tr>\n",
              "      <th>platelets</th>\n",
              "      <td>176</td>\n",
              "    </tr>\n",
              "    <tr>\n",
              "      <th>time</th>\n",
              "      <td>148</td>\n",
              "    </tr>\n",
              "    <tr>\n",
              "      <th>age</th>\n",
              "      <td>47</td>\n",
              "    </tr>\n",
              "    <tr>\n",
              "      <th>serum_creatinine</th>\n",
              "      <td>40</td>\n",
              "    </tr>\n",
              "    <tr>\n",
              "      <th>serum_sodium</th>\n",
              "      <td>27</td>\n",
              "    </tr>\n",
              "    <tr>\n",
              "      <th>ejection_fraction</th>\n",
              "      <td>17</td>\n",
              "    </tr>\n",
              "    <tr>\n",
              "      <th>anaemia</th>\n",
              "      <td>2</td>\n",
              "    </tr>\n",
              "    <tr>\n",
              "      <th>diabetes</th>\n",
              "      <td>2</td>\n",
              "    </tr>\n",
              "    <tr>\n",
              "      <th>high_blood_pressure</th>\n",
              "      <td>2</td>\n",
              "    </tr>\n",
              "    <tr>\n",
              "      <th>sex</th>\n",
              "      <td>2</td>\n",
              "    </tr>\n",
              "    <tr>\n",
              "      <th>smoking</th>\n",
              "      <td>2</td>\n",
              "    </tr>\n",
              "    <tr>\n",
              "      <th>death_event</th>\n",
              "      <td>2</td>\n",
              "    </tr>\n",
              "  </tbody>\n",
              "</table>\n",
              "</div>\n",
              "      <button class=\"colab-df-convert\" onclick=\"convertToInteractive('df-c07350fa-aeb3-44ee-a4e6-bd21b6b55425')\"\n",
              "              title=\"Convert this dataframe to an interactive table.\"\n",
              "              style=\"display:none;\">\n",
              "        \n",
              "  <svg xmlns=\"http://www.w3.org/2000/svg\" height=\"24px\"viewBox=\"0 0 24 24\"\n",
              "       width=\"24px\">\n",
              "    <path d=\"M0 0h24v24H0V0z\" fill=\"none\"/>\n",
              "    <path d=\"M18.56 5.44l.94 2.06.94-2.06 2.06-.94-2.06-.94-.94-2.06-.94 2.06-2.06.94zm-11 1L8.5 8.5l.94-2.06 2.06-.94-2.06-.94L8.5 2.5l-.94 2.06-2.06.94zm10 10l.94 2.06.94-2.06 2.06-.94-2.06-.94-.94-2.06-.94 2.06-2.06.94z\"/><path d=\"M17.41 7.96l-1.37-1.37c-.4-.4-.92-.59-1.43-.59-.52 0-1.04.2-1.43.59L10.3 9.45l-7.72 7.72c-.78.78-.78 2.05 0 2.83L4 21.41c.39.39.9.59 1.41.59.51 0 1.02-.2 1.41-.59l7.78-7.78 2.81-2.81c.8-.78.8-2.07 0-2.86zM5.41 20L4 18.59l7.72-7.72 1.47 1.35L5.41 20z\"/>\n",
              "  </svg>\n",
              "      </button>\n",
              "      \n",
              "  <style>\n",
              "    .colab-df-container {\n",
              "      display:flex;\n",
              "      flex-wrap:wrap;\n",
              "      gap: 12px;\n",
              "    }\n",
              "\n",
              "    .colab-df-convert {\n",
              "      background-color: #E8F0FE;\n",
              "      border: none;\n",
              "      border-radius: 50%;\n",
              "      cursor: pointer;\n",
              "      display: none;\n",
              "      fill: #1967D2;\n",
              "      height: 32px;\n",
              "      padding: 0 0 0 0;\n",
              "      width: 32px;\n",
              "    }\n",
              "\n",
              "    .colab-df-convert:hover {\n",
              "      background-color: #E2EBFA;\n",
              "      box-shadow: 0px 1px 2px rgba(60, 64, 67, 0.3), 0px 1px 3px 1px rgba(60, 64, 67, 0.15);\n",
              "      fill: #174EA6;\n",
              "    }\n",
              "\n",
              "    [theme=dark] .colab-df-convert {\n",
              "      background-color: #3B4455;\n",
              "      fill: #D2E3FC;\n",
              "    }\n",
              "\n",
              "    [theme=dark] .colab-df-convert:hover {\n",
              "      background-color: #434B5C;\n",
              "      box-shadow: 0px 1px 3px 1px rgba(0, 0, 0, 0.15);\n",
              "      filter: drop-shadow(0px 1px 2px rgba(0, 0, 0, 0.3));\n",
              "      fill: #FFFFFF;\n",
              "    }\n",
              "  </style>\n",
              "\n",
              "      <script>\n",
              "        const buttonEl =\n",
              "          document.querySelector('#df-c07350fa-aeb3-44ee-a4e6-bd21b6b55425 button.colab-df-convert');\n",
              "        buttonEl.style.display =\n",
              "          google.colab.kernel.accessAllowed ? 'block' : 'none';\n",
              "\n",
              "        async function convertToInteractive(key) {\n",
              "          const element = document.querySelector('#df-c07350fa-aeb3-44ee-a4e6-bd21b6b55425');\n",
              "          const dataTable =\n",
              "            await google.colab.kernel.invokeFunction('convertToInteractive',\n",
              "                                                     [key], {});\n",
              "          if (!dataTable) return;\n",
              "\n",
              "          const docLinkHtml = 'Like what you see? Visit the ' +\n",
              "            '<a target=\"_blank\" href=https://colab.research.google.com/notebooks/data_table.ipynb>data table notebook</a>'\n",
              "            + ' to learn more about interactive tables.';\n",
              "          element.innerHTML = '';\n",
              "          dataTable['output_type'] = 'display_data';\n",
              "          await google.colab.output.renderOutput(dataTable, element);\n",
              "          const docLink = document.createElement('div');\n",
              "          docLink.innerHTML = docLinkHtml;\n",
              "          element.appendChild(docLink);\n",
              "        }\n",
              "      </script>\n",
              "    </div>\n",
              "  </div>\n",
              "  "
            ]
          },
          "metadata": {},
          "execution_count": 10
        }
      ]
    },
    {
      "cell_type": "code",
      "source": [
        "for col in df.columns:\n",
        "    print(col,': ')\n",
        "    print(df[col].value_counts())\n",
        "    print(\"  \")\n",
        "    print(\"  \")"
      ],
      "metadata": {
        "colab": {
          "base_uri": "https://localhost:8080/"
        },
        "id": "bVNo1PMs65Lg",
        "outputId": "61ae8e6e-a1df-4109-cd67-4f6239f74317"
      },
      "execution_count": null,
      "outputs": [
        {
          "output_type": "stream",
          "name": "stdout",
          "text": [
            "age : \n",
            "60.000    33\n",
            "50.000    27\n",
            "65.000    26\n",
            "70.000    25\n",
            "45.000    19\n",
            "55.000    17\n",
            "75.000    11\n",
            "53.000    10\n",
            "58.000    10\n",
            "63.000     8\n",
            "80.000     7\n",
            "72.000     7\n",
            "40.000     7\n",
            "42.000     7\n",
            "85.000     6\n",
            "68.000     5\n",
            "52.000     5\n",
            "62.000     5\n",
            "51.000     4\n",
            "59.000     4\n",
            "61.000     4\n",
            "73.000     4\n",
            "49.000     4\n",
            "69.000     3\n",
            "46.000     3\n",
            "64.000     3\n",
            "82.000     3\n",
            "90.000     3\n",
            "78.000     2\n",
            "60.667     2\n",
            "54.000     2\n",
            "77.000     2\n",
            "57.000     2\n",
            "66.000     2\n",
            "44.000     2\n",
            "67.000     2\n",
            "95.000     2\n",
            "48.000     2\n",
            "43.000     1\n",
            "86.000     1\n",
            "81.000     1\n",
            "79.000     1\n",
            "41.000     1\n",
            "94.000     1\n",
            "87.000     1\n",
            "47.000     1\n",
            "56.000     1\n",
            "Name: age, dtype: int64\n",
            "  \n",
            "  \n",
            "anaemia : \n",
            "0    170\n",
            "1    129\n",
            "Name: anaemia, dtype: int64\n",
            "  \n",
            "  \n",
            "creatinine_phosphokinase : \n",
            "582     47\n",
            "66       4\n",
            "129      4\n",
            "231      3\n",
            "69       3\n",
            "        ..\n",
            "748      1\n",
            "1876     1\n",
            "936      1\n",
            "292      1\n",
            "2413     1\n",
            "Name: creatinine_phosphokinase, Length: 208, dtype: int64\n",
            "  \n",
            "  \n",
            "diabetes : \n",
            "0    174\n",
            "1    125\n",
            "Name: diabetes, dtype: int64\n",
            "  \n",
            "  \n",
            "ejection_fraction : \n",
            "35    49\n",
            "38    40\n",
            "40    37\n",
            "25    36\n",
            "30    34\n",
            "60    31\n",
            "50    21\n",
            "45    20\n",
            "20    18\n",
            "55     3\n",
            "15     2\n",
            "62     2\n",
            "17     2\n",
            "65     1\n",
            "14     1\n",
            "80     1\n",
            "70     1\n",
            "Name: ejection_fraction, dtype: int64\n",
            "  \n",
            "  \n",
            "high_blood_pressure : \n",
            "0    194\n",
            "1    105\n",
            "Name: high_blood_pressure, dtype: int64\n",
            "  \n",
            "  \n",
            "platelets : \n",
            "263358.03    25\n",
            "221000.00     4\n",
            "279000.00     4\n",
            "271000.00     4\n",
            "305000.00     4\n",
            "             ..\n",
            "227000.00     1\n",
            "289000.00     1\n",
            "300000.00     1\n",
            "217000.00     1\n",
            "742000.00     1\n",
            "Name: platelets, Length: 176, dtype: int64\n",
            "  \n",
            "  \n",
            "serum_creatinine : \n",
            "1.00    50\n",
            "1.10    32\n",
            "0.90    32\n",
            "1.20    24\n",
            "0.80    24\n",
            "1.30    20\n",
            "0.70    19\n",
            "1.18    11\n",
            "1.40     9\n",
            "1.70     9\n",
            "1.83     8\n",
            "1.60     6\n",
            "1.90     5\n",
            "2.10     5\n",
            "1.50     5\n",
            "0.60     4\n",
            "1.80     4\n",
            "2.30     3\n",
            "2.70     3\n",
            "2.50     3\n",
            "3.50     2\n",
            "2.40     2\n",
            "3.00     2\n",
            "0.50     1\n",
            "5.00     1\n",
            "0.75     1\n",
            "6.10     1\n",
            "3.40     1\n",
            "3.70     1\n",
            "9.00     1\n",
            "4.00     1\n",
            "3.20     1\n",
            "5.80     1\n",
            "2.90     1\n",
            "2.00     1\n",
            "2.20     1\n",
            "6.80     1\n",
            "9.40     1\n",
            "4.40     1\n",
            "3.80     1\n",
            "Name: serum_creatinine, dtype: int64\n",
            "  \n",
            "  \n",
            "serum_sodium : \n",
            "136    40\n",
            "137    38\n",
            "140    35\n",
            "134    32\n",
            "138    23\n",
            "139    22\n",
            "135    16\n",
            "132    14\n",
            "141    12\n",
            "142    11\n",
            "133    10\n",
            "145     9\n",
            "130     9\n",
            "144     5\n",
            "131     5\n",
            "127     3\n",
            "143     3\n",
            "128     2\n",
            "129     2\n",
            "121     1\n",
            "116     1\n",
            "146     1\n",
            "126     1\n",
            "124     1\n",
            "113     1\n",
            "125     1\n",
            "148     1\n",
            "Name: serum_sodium, dtype: int64\n",
            "  \n",
            "  \n",
            "sex : \n",
            "1    194\n",
            "0    105\n",
            "Name: sex, dtype: int64\n",
            "  \n",
            "  \n",
            "smoking : \n",
            "0    203\n",
            "1     96\n",
            "Name: smoking, dtype: int64\n",
            "  \n",
            "  \n",
            "time : \n",
            "250    7\n",
            "187    7\n",
            "10     6\n",
            "186    6\n",
            "107    6\n",
            "      ..\n",
            "97     1\n",
            "96     1\n",
            "86     1\n",
            "77     1\n",
            "285    1\n",
            "Name: time, Length: 148, dtype: int64\n",
            "  \n",
            "  \n",
            "death_event : \n",
            "0    203\n",
            "1     96\n",
            "Name: death_event, dtype: int64\n",
            "  \n",
            "  \n"
          ]
        }
      ]
    },
    {
      "cell_type": "markdown",
      "metadata": {
        "id": "Ii2zzAcdcepO"
      },
      "source": [
        "## D. Eksplorasi Data Analysis"
      ]
    },
    {
      "cell_type": "code",
      "source": [
        "# mengecek distribusi masing-masing kolom / atribut\n",
        "df.hist(figsize=(15,10));"
      ],
      "metadata": {
        "colab": {
          "base_uri": "https://localhost:8080/"
        },
        "id": "GEKUFgp8DcbN",
        "outputId": "2a85f9ba-f146-4d89-8cc3-5000906441f5"
      },
      "execution_count": null,
      "outputs": [
        {
          "output_type": "display_data",
          "data": {
            "text/plain": [
              "<Figure size 1080x720 with 16 Axes>"
            ],
            "image/png": "[encoded data removed]"
          },
          "metadata": {
            "needs_background": "light"
          }
        }
      ]
    },
    {
      "cell_type": "markdown",
      "source": [
        "Visualisasi histogram diatas menunjukan distribusi masing-masing kolom, salah satu contohnya adalah Pada kolom **age**, dapat ditarik kesimpulan bahwa pasien yang berumur 60 tahun itu memiliki jumlah paling banyak yaitu berkisar 50-60 pasien"
      ],
      "metadata": {
        "id": "rnDRlvW4OGXz"
      }
    },
    {
      "cell_type": "code",
      "source": [
        "# Mengecek jumlah kematian pada pasien dengan barchart\n",
        "print(df['death_event'].value_counts())\n",
        "sns.catplot(x = 'death_event', kind = 'count', data = df)\n",
        "plt.legend(labels=[\"Tidak\",\"Legend_Day2\"])"
      ],
      "metadata": {
        "colab": {
          "base_uri": "https://localhost:8080/"
        },
        "id": "tNVGNkR9GqtF",
        "outputId": "a2366cbd-5e22-4e40-ccda-5019472d6767"
      },
      "execution_count": null,
      "outputs": [
        {
          "output_type": "stream",
          "name": "stdout",
          "text": [
            "0    203\n",
            "1     96\n",
            "Name: death_event, dtype: int64\n"
          ]
        },
        {
          "output_type": "execute_result",
          "data": {
            "text/plain": [
              "<matplotlib.legend.Legend at 0x7fe788791450>"
            ]
          },
          "metadata": {},
          "execution_count": 13
        },
        {
          "output_type": "display_data",
          "data": {
            "text/plain": [
              "<Figure size 360x360 with 1 Axes>"
            ],
            "image/png": "[encoded data removed]"
          },
          "metadata": {
            "needs_background": "light"
          }
        }
      ]
    },
    {
      "cell_type": "code",
      "source": [
        "# Menampilkan jumlah kematian dalam bentuk pie chart, untuk melihat presentasenya\n",
        "df['death_event'].value_counts().plot(\n",
        "    kind='pie',\n",
        "    autopct='%.2f%%',\n",
        "    explode=[0,0.05], \n",
        "    cmap='YlGn',\n",
        "    shadow=False,\n",
        ")"
      ],
      "metadata": {
        "colab": {
          "base_uri": "https://localhost:8080/"
        },
        "id": "FWAOAA7iDyak",
        "outputId": "2540f11a-b04a-4ae2-b170-42c1582cc6c1"
      },
      "execution_count": null,
      "outputs": [
        {
          "output_type": "execute_result",
          "data": {
            "text/plain": [
              "<matplotlib.axes._subplots.AxesSubplot at 0x7fe78a316150>"
            ]
          },
          "metadata": {},
          "execution_count": 14
        },
        {
          "output_type": "display_data",
          "data": {
            "text/plain": [
              "<Figure size 432x288 with 1 Axes>"
            ],
            "image/png": "[encoded data removed]"
          },
          "metadata": {}
        }
      ]
    },
    {
      "cell_type": "markdown",
      "source": [
        "Dari kedua visualisasi diatas, jumlah pasien yang tidak meninggal lebih tinggi daripada jumlah pasien yang meninggal. Jika dilihat dari bentuk visualisasi pie chart, jumlah yang tidak meninggal ada sekitar 67,89% dan untuk pasien yang meninggal sekitar 32,11%. Jumlah perbedaannya cukup terlihat signifikan dan menyebabkan data ini menjadi imbalanced"
      ],
      "metadata": {
        "id": "fTuocBeFSxPd"
      }
    },
    {
      "cell_type": "code",
      "source": [
        "# Melihat korelasi antara data feature dengan data target\n",
        "plt.figure(figsize=(8, 12))\n",
        "hm1 = sns.heatmap(df.corr()[['death_event']].sort_values(by='death_event', ascending=False), vmin=-1, vmax=1, annot=True, cmap='inferno')\n",
        "hm1.set_title('Fitur yang berkorelasi dengan data target', fontdict={'fontsize':18}, pad=16);"
      ],
      "metadata": {
        "colab": {
          "base_uri": "https://localhost:8080/"
        },
        "id": "Bxjh0GgWJYSk",
        "outputId": "9f24907a-061e-4735-b81a-1668858b0f85"
      },
      "execution_count": null,
      "outputs": [
        {
          "output_type": "display_data",
          "data": {
            "text/plain": [
              "<Figure size 576x864 with 2 Axes>"
            ],
            "image/png": "[encoded data removed]"
          },
          "metadata": {
            "needs_background": "light"
          }
        }
      ]
    },
    {
      "cell_type": "markdown",
      "source": [
        "Berdasarkan visualisasi di atas terdapat lima atribut yang memiliki nilai korelasi lebih unggul dari beberapat atribut lainnya. Tetapi pada tahap ini, kami belum menentukan mana saja atribut yang akan digunakan karena berdasarkan konsep dari korelasi, ketika nilainya semakin mendekati 0 maka dapat dikatakan bahwa korelasinya semakin lemah. Dan sebaliknya.\n",
        "Jadi untuk tahap ini kita hanya mengecek saja, belum ada perubahan atau mendrop beberapa kolom karena nilai korelasi yang kecil."
      ],
      "metadata": {
        "id": "2whj9NhsJtHI"
      }
    },
    {
      "cell_type": "code",
      "source": [
        "# Jumlah penderita Anemia\n",
        "anemia=len(df[df['anaemia']==1])\n",
        "not_anemia=len(df[df['anaemia']==0])\n",
        "\n",
        "# Jumlah penderita Diabetes\n",
        "diabet=len(df[df['diabetes']==1])\n",
        "not_diabet=len(df[df['diabetes']==0])\n",
        "\n",
        "# Jumlah penderita Darah Tinggi\n",
        "hypertensi=len(df[df['high_blood_pressure']==1])\n",
        "not_hypertensi=len(df[df['high_blood_pressure']==0])\n",
        "\n",
        "# Jumlah pasien yang merokok\n",
        "smok=len(df[df['smoking']==1])\n",
        "not_smok=len(df[df['smoking']==0])\n",
        "\n",
        "\n",
        "\n",
        "\n",
        "\n",
        "# Membuat dataframe dari jumlah penderita anemia dan high_blood_pressure\n",
        "adhs = pd.DataFrame({'Keterangan': ['anaemia', 'diabetes', 'high_blood_pressure', 'smoking'], \n",
        "                         'No':[not_anemia, not_diabet, not_hypertensi, not_smok],\n",
        "                         'Yes':[anemia, diabet, hypertensi, smok]})\n",
        "\n",
        "adhs = adhs.set_index('Keterangan')\n",
        "adhs"
      ],
      "metadata": {
        "colab": {
          "base_uri": "https://localhost:8080/"
        },
        "id": "sLoVCqIkEF2C",
        "outputId": "92b2ddf7-4c31-4c23-813a-b6d816cef0f2"
      },
      "execution_count": null,
      "outputs": [
        {
          "output_type": "execute_result",
          "data": {
            "text/plain": [
              "                      No  Yes\n",
              "Keterangan                   \n",
              "anaemia              170  129\n",
              "diabetes             174  125\n",
              "high_blood_pressure  194  105\n",
              "smoking              203   96"
            ],
            "text/html": [
              "\n",
              "  <div id=\"df-a7f10fd8-4467-4dfb-bc51-e69b4578f2b2\">\n",
              "    <div class=\"colab-df-container\">\n",
              "      <div>\n",
              "<style scoped>\n",
              "    .dataframe tbody tr th:only-of-type {\n",
              "        vertical-align: middle;\n",
              "    }\n",
              "\n",
              "    .dataframe tbody tr th {\n",
              "        vertical-align: top;\n",
              "    }\n",
              "\n",
              "    .dataframe thead th {\n",
              "        text-align: right;\n",
              "    }\n",
              "</style>\n",
              "<table border=\"1\" class=\"dataframe\">\n",
              "  <thead>\n",
              "    <tr style=\"text-align: right;\">\n",
              "      <th></th>\n",
              "      <th>No</th>\n",
              "      <th>Yes</th>\n",
              "    </tr>\n",
              "    <tr>\n",
              "      <th>Keterangan</th>\n",
              "      <th></th>\n",
              "      <th></th>\n",
              "    </tr>\n",
              "  </thead>\n",
              "  <tbody>\n",
              "    <tr>\n",
              "      <th>anaemia</th>\n",
              "      <td>170</td>\n",
              "      <td>129</td>\n",
              "    </tr>\n",
              "    <tr>\n",
              "      <th>diabetes</th>\n",
              "      <td>174</td>\n",
              "      <td>125</td>\n",
              "    </tr>\n",
              "    <tr>\n",
              "      <th>high_blood_pressure</th>\n",
              "      <td>194</td>\n",
              "      <td>105</td>\n",
              "    </tr>\n",
              "    <tr>\n",
              "      <th>smoking</th>\n",
              "      <td>203</td>\n",
              "      <td>96</td>\n",
              "    </tr>\n",
              "  </tbody>\n",
              "</table>\n",
              "</div>\n",
              "      <button class=\"colab-df-convert\" onclick=\"convertToInteractive('df-a7f10fd8-4467-4dfb-bc51-e69b4578f2b2')\"\n",
              "              title=\"Convert this dataframe to an interactive table.\"\n",
              "              style=\"display:none;\">\n",
              "        \n",
              "  <svg xmlns=\"http://www.w3.org/2000/svg\" height=\"24px\"viewBox=\"0 0 24 24\"\n",
              "       width=\"24px\">\n",
              "    <path d=\"M0 0h24v24H0V0z\" fill=\"none\"/>\n",
              "    <path d=\"M18.56 5.44l.94 2.06.94-2.06 2.06-.94-2.06-.94-.94-2.06-.94 2.06-2.06.94zm-11 1L8.5 8.5l.94-2.06 2.06-.94-2.06-.94L8.5 2.5l-.94 2.06-2.06.94zm10 10l.94 2.06.94-2.06 2.06-.94-2.06-.94-.94-2.06-.94 2.06-2.06.94z\"/><path d=\"M17.41 7.96l-1.37-1.37c-.4-.4-.92-.59-1.43-.59-.52 0-1.04.2-1.43.59L10.3 9.45l-7.72 7.72c-.78.78-.78 2.05 0 2.83L4 21.41c.39.39.9.59 1.41.59.51 0 1.02-.2 1.41-.59l7.78-7.78 2.81-2.81c.8-.78.8-2.07 0-2.86zM5.41 20L4 18.59l7.72-7.72 1.47 1.35L5.41 20z\"/>\n",
              "  </svg>\n",
              "      </button>\n",
              "      \n",
              "  <style>\n",
              "    .colab-df-container {\n",
              "      display:flex;\n",
              "      flex-wrap:wrap;\n",
              "      gap: 12px;\n",
              "    }\n",
              "\n",
              "    .colab-df-convert {\n",
              "      background-color: #E8F0FE;\n",
              "      border: none;\n",
              "      border-radius: 50%;\n",
              "      cursor: pointer;\n",
              "      display: none;\n",
              "      fill: #1967D2;\n",
              "      height: 32px;\n",
              "      padding: 0 0 0 0;\n",
              "      width: 32px;\n",
              "    }\n",
              "\n",
              "    .colab-df-convert:hover {\n",
              "      background-color: #E2EBFA;\n",
              "      box-shadow: 0px 1px 2px rgba(60, 64, 67, 0.3), 0px 1px 3px 1px rgba(60, 64, 67, 0.15);\n",
              "      fill: #174EA6;\n",
              "    }\n",
              "\n",
              "    [theme=dark] .colab-df-convert {\n",
              "      background-color: #3B4455;\n",
              "      fill: #D2E3FC;\n",
              "    }\n",
              "\n",
              "    [theme=dark] .colab-df-convert:hover {\n",
              "      background-color: #434B5C;\n",
              "      box-shadow: 0px 1px 3px 1px rgba(0, 0, 0, 0.15);\n",
              "      filter: drop-shadow(0px 1px 2px rgba(0, 0, 0, 0.3));\n",
              "      fill: #FFFFFF;\n",
              "    }\n",
              "  </style>\n",
              "\n",
              "      <script>\n",
              "        const buttonEl =\n",
              "          document.querySelector('#df-a7f10fd8-4467-4dfb-bc51-e69b4578f2b2 button.colab-df-convert');\n",
              "        buttonEl.style.display =\n",
              "          google.colab.kernel.accessAllowed ? 'block' : 'none';\n",
              "\n",
              "        async function convertToInteractive(key) {\n",
              "          const element = document.querySelector('#df-a7f10fd8-4467-4dfb-bc51-e69b4578f2b2');\n",
              "          const dataTable =\n",
              "            await google.colab.kernel.invokeFunction('convertToInteractive',\n",
              "                                                     [key], {});\n",
              "          if (!dataTable) return;\n",
              "\n",
              "          const docLinkHtml = 'Like what you see? Visit the ' +\n",
              "            '<a target=\"_blank\" href=https://colab.research.google.com/notebooks/data_table.ipynb>data table notebook</a>'\n",
              "            + ' to learn more about interactive tables.';\n",
              "          element.innerHTML = '';\n",
              "          dataTable['output_type'] = 'display_data';\n",
              "          await google.colab.output.renderOutput(dataTable, element);\n",
              "          const docLink = document.createElement('div');\n",
              "          docLink.innerHTML = docLinkHtml;\n",
              "          element.appendChild(docLink);\n",
              "        }\n",
              "      </script>\n",
              "    </div>\n",
              "  </div>\n",
              "  "
            ]
          },
          "metadata": {},
          "execution_count": 16
        }
      ]
    },
    {
      "cell_type": "code",
      "source": [
        "# Visualisasi jumlah penderita anemia, diabetes, hipertensi\n",
        "adhs.plot(kind='bar', figsize=(10,6))\n",
        "plt.title('Penderita Anemia, diabetes, high blood pressure dan pasien yang merokok', fontsize=18)\n",
        "ax = plt.gca()\n",
        "ax.tick_params(axis='x', labelrotation = 0)\n",
        "plt.show()"
      ],
      "metadata": {
        "colab": {
          "base_uri": "https://localhost:8080/"
        },
        "id": "BJfgH6DAEF0C",
        "outputId": "b4ffedbb-5a3a-4f85-f6ba-c411e7751b20"
      },
      "execution_count": null,
      "outputs": [
        {
          "output_type": "display_data",
          "data": {
            "text/plain": [
              "<Figure size 720x432 with 1 Axes>"
            ],
            "image/png": "[encoded data removed]"
          },
          "metadata": {
            "needs_background": "light"
          }
        }
      ]
    },
    {
      "cell_type": "markdown",
      "source": [
        "Dari hasil Visualisasi barchart diatas, bahwa  lebih banyak pasien kardiovaskular yang tidak menderita anemia, diabetes dan hipertensi. Selain itu, pasien kardiovaskular kebanyakan tidak merokok"
      ],
      "metadata": {
        "id": "ytvBf8ypYAgz"
      }
    },
    {
      "cell_type": "code",
      "source": [
        "# Probablitas kematian pada pasien yang memiliki riwayat penyakit anemia, diabetes, high blood pressure dan yang merokok\n",
        "df_AH = df.loc[(df['anaemia']==1)  & (df['diabetes']==1) & (df['high_blood_pressure']==1) & (df['smoking']==1)]\n",
        "death_AH = len(df_AH[df_AH['death_event']==1])\n",
        "not_death_AH = len(df_AH[df_AH['death_event']==0])\n",
        "print('Meninggal :',death_AH)\n",
        "print('Tidak meninggal :', not_death_AH)"
      ],
      "metadata": {
        "colab": {
          "base_uri": "https://localhost:8080/"
        },
        "id": "JQKR6TTzEFwt",
        "outputId": "565d9c78-13bf-46ea-cbec-da58e9b5767b"
      },
      "execution_count": null,
      "outputs": [
        {
          "output_type": "stream",
          "name": "stdout",
          "text": [
            "Meninggal : 0\n",
            "Tidak meninggal : 2\n"
          ]
        }
      ]
    },
    {
      "cell_type": "markdown",
      "source": [
        "Jika dilihat dari hasil output bahwa pasien kardiovaskular yang menderita anemia, diabetes, hipertensi dan sering merokok itu jumlah kematiannya adalah 0. Sehingga dapat ditarik kesimpulan bahwa kematian pada pasien kardiovaskular disebabkan karena penderita anemia, diabetes, hipertensi dan seorang perokok."
      ],
      "metadata": {
        "id": "H4WxMJfBZwjU"
      }
    },
    {
      "cell_type": "code",
      "source": [
        "# Probablitas kematian pada pasien yang memiliki riwayat penyakit anemia, diabetes, high blood pressure dan yang merokok\n",
        "df_AH = df.loc[(df['anaemia']==1)  & (df['diabetes']==1) & (df['high_blood_pressure']==1) & (df['smoking']==0)]\n",
        "death_AH = len(df_AH[df_AH['death_event']==1])\n",
        "not_death_AH = len(df_AH[df_AH['death_event']==0])\n",
        "print('Meninggal :',death_AH)\n",
        "print('Tidak meninggal :', not_death_AH)"
      ],
      "metadata": {
        "colab": {
          "base_uri": "https://localhost:8080/"
        },
        "id": "wRWC9v1SbGuy",
        "outputId": "61b79ce3-b263-4c5c-bd50-2b105e35e18c"
      },
      "execution_count": null,
      "outputs": [
        {
          "output_type": "stream",
          "name": "stdout",
          "text": [
            "Meninggal : 6\n",
            "Tidak meninggal : 9\n"
          ]
        }
      ]
    },
    {
      "cell_type": "markdown",
      "source": [
        "Jika dilihat dari hasil output bahwa pasien kardiovaskular yang menderita anemia, diabetes, hipertensi jumlah kematiannya adalah 6. Sehingga dapat ditarik kesimpulan bahwa kematian pada pasien kardiovaskular bisa disebabkan karena penderita anemia, diabetes, hipertensi, tetapi pasien tersebut tidak merokok"
      ],
      "metadata": {
        "id": "tm7eeXrUbM0z"
      }
    },
    {
      "cell_type": "markdown",
      "source": [
        "## Data Preprocessing"
      ],
      "metadata": {
        "id": "g-OWTXyzd7WO"
      }
    },
    {
      "cell_type": "markdown",
      "source": [
        "Selanjutnya akan mengambil beberapa data atribut yang memiliki nilai kontinue (bukan 0 dan 1) untuk ditampilkan kedalam visualisasi boxplot. Tujuannya adalah untuk mengecek keberadaan outlier"
      ],
      "metadata": {
        "id": "KwUBwfQbbtSy"
      }
    },
    {
      "cell_type": "code",
      "source": [
        "# Mengambil atribut yang memiliki value data kontinu\n",
        "kontinu = ['age', 'creatinine_phosphokinase', 'ejection_fraction', 'platelets', 'serum_creatinine', 'serum_sodium', 'time']\n",
        "df_kontinu = df[kontinu]\n",
        "df_kontinu.head()"
      ],
      "metadata": {
        "colab": {
          "base_uri": "https://localhost:8080/"
        },
        "id": "HobKVu7qEFuE",
        "outputId": "c325d493-cf9a-4a71-facf-5ec286cc33a6"
      },
      "execution_count": null,
      "outputs": [
        {
          "output_type": "execute_result",
          "data": {
            "text/plain": [
              "    age  creatinine_phosphokinase  ejection_fraction  platelets  \\\n",
              "0  75.0                       582                 20  265000.00   \n",
              "1  55.0                      7861                 38  263358.03   \n",
              "2  65.0                       146                 20  162000.00   \n",
              "3  50.0                       111                 20  210000.00   \n",
              "4  65.0                       160                 20  327000.00   \n",
              "\n",
              "   serum_creatinine  serum_sodium  time  \n",
              "0               1.9           130     4  \n",
              "1               1.1           136     6  \n",
              "2               1.3           129     7  \n",
              "3               1.9           137     7  \n",
              "4               2.7           116     8  "
            ],
            "text/html": [
              "\n",
              "  <div id=\"df-4cb93f63-1511-4e92-9b01-c43832a1ed6e\">\n",
              "    <div class=\"colab-df-container\">\n",
              "      <div>\n",
              "<style scoped>\n",
              "    .dataframe tbody tr th:only-of-type {\n",
              "        vertical-align: middle;\n",
              "    }\n",
              "\n",
              "    .dataframe tbody tr th {\n",
              "        vertical-align: top;\n",
              "    }\n",
              "\n",
              "    .dataframe thead th {\n",
              "        text-align: right;\n",
              "    }\n",
              "</style>\n",
              "<table border=\"1\" class=\"dataframe\">\n",
              "  <thead>\n",
              "    <tr style=\"text-align: right;\">\n",
              "      <th></th>\n",
              "      <th>age</th>\n",
              "      <th>creatinine_phosphokinase</th>\n",
              "      <th>ejection_fraction</th>\n",
              "      <th>platelets</th>\n",
              "      <th>serum_creatinine</th>\n",
              "      <th>serum_sodium</th>\n",
              "      <th>time</th>\n",
              "    </tr>\n",
              "  </thead>\n",
              "  <tbody>\n",
              "    <tr>\n",
              "      <th>0</th>\n",
              "      <td>75.0</td>\n",
              "      <td>582</td>\n",
              "      <td>20</td>\n",
              "      <td>265000.00</td>\n",
              "      <td>1.9</td>\n",
              "      <td>130</td>\n",
              "      <td>4</td>\n",
              "    </tr>\n",
              "    <tr>\n",
              "      <th>1</th>\n",
              "      <td>55.0</td>\n",
              "      <td>7861</td>\n",
              "      <td>38</td>\n",
              "      <td>263358.03</td>\n",
              "      <td>1.1</td>\n",
              "      <td>136</td>\n",
              "      <td>6</td>\n",
              "    </tr>\n",
              "    <tr>\n",
              "      <th>2</th>\n",
              "      <td>65.0</td>\n",
              "      <td>146</td>\n",
              "      <td>20</td>\n",
              "      <td>162000.00</td>\n",
              "      <td>1.3</td>\n",
              "      <td>129</td>\n",
              "      <td>7</td>\n",
              "    </tr>\n",
              "    <tr>\n",
              "      <th>3</th>\n",
              "      <td>50.0</td>\n",
              "      <td>111</td>\n",
              "      <td>20</td>\n",
              "      <td>210000.00</td>\n",
              "      <td>1.9</td>\n",
              "      <td>137</td>\n",
              "      <td>7</td>\n",
              "    </tr>\n",
              "    <tr>\n",
              "      <th>4</th>\n",
              "      <td>65.0</td>\n",
              "      <td>160</td>\n",
              "      <td>20</td>\n",
              "      <td>327000.00</td>\n",
              "      <td>2.7</td>\n",
              "      <td>116</td>\n",
              "      <td>8</td>\n",
              "    </tr>\n",
              "  </tbody>\n",
              "</table>\n",
              "</div>\n",
              "      <button class=\"colab-df-convert\" onclick=\"convertToInteractive('df-4cb93f63-1511-4e92-9b01-c43832a1ed6e')\"\n",
              "              title=\"Convert this dataframe to an interactive table.\"\n",
              "              style=\"display:none;\">\n",
              "        \n",
              "  <svg xmlns=\"http://www.w3.org/2000/svg\" height=\"24px\"viewBox=\"0 0 24 24\"\n",
              "       width=\"24px\">\n",
              "    <path d=\"M0 0h24v24H0V0z\" fill=\"none\"/>\n",
              "    <path d=\"M18.56 5.44l.94 2.06.94-2.06 2.06-.94-2.06-.94-.94-2.06-.94 2.06-2.06.94zm-11 1L8.5 8.5l.94-2.06 2.06-.94-2.06-.94L8.5 2.5l-.94 2.06-2.06.94zm10 10l.94 2.06.94-2.06 2.06-.94-2.06-.94-.94-2.06-.94 2.06-2.06.94z\"/><path d=\"M17.41 7.96l-1.37-1.37c-.4-.4-.92-.59-1.43-.59-.52 0-1.04.2-1.43.59L10.3 9.45l-7.72 7.72c-.78.78-.78 2.05 0 2.83L4 21.41c.39.39.9.59 1.41.59.51 0 1.02-.2 1.41-.59l7.78-7.78 2.81-2.81c.8-.78.8-2.07 0-2.86zM5.41 20L4 18.59l7.72-7.72 1.47 1.35L5.41 20z\"/>\n",
              "  </svg>\n",
              "      </button>\n",
              "      \n",
              "  <style>\n",
              "    .colab-df-container {\n",
              "      display:flex;\n",
              "      flex-wrap:wrap;\n",
              "      gap: 12px;\n",
              "    }\n",
              "\n",
              "    .colab-df-convert {\n",
              "      background-color: #E8F0FE;\n",
              "      border: none;\n",
              "      border-radius: 50%;\n",
              "      cursor: pointer;\n",
              "      display: none;\n",
              "      fill: #1967D2;\n",
              "      height: 32px;\n",
              "      padding: 0 0 0 0;\n",
              "      width: 32px;\n",
              "    }\n",
              "\n",
              "    .colab-df-convert:hover {\n",
              "      background-color: #E2EBFA;\n",
              "      box-shadow: 0px 1px 2px rgba(60, 64, 67, 0.3), 0px 1px 3px 1px rgba(60, 64, 67, 0.15);\n",
              "      fill: #174EA6;\n",
              "    }\n",
              "\n",
              "    [theme=dark] .colab-df-convert {\n",
              "      background-color: #3B4455;\n",
              "      fill: #D2E3FC;\n",
              "    }\n",
              "\n",
              "    [theme=dark] .colab-df-convert:hover {\n",
              "      background-color: #434B5C;\n",
              "      box-shadow: 0px 1px 3px 1px rgba(0, 0, 0, 0.15);\n",
              "      filter: drop-shadow(0px 1px 2px rgba(0, 0, 0, 0.3));\n",
              "      fill: #FFFFFF;\n",
              "    }\n",
              "  </style>\n",
              "\n",
              "      <script>\n",
              "        const buttonEl =\n",
              "          document.querySelector('#df-4cb93f63-1511-4e92-9b01-c43832a1ed6e button.colab-df-convert');\n",
              "        buttonEl.style.display =\n",
              "          google.colab.kernel.accessAllowed ? 'block' : 'none';\n",
              "\n",
              "        async function convertToInteractive(key) {\n",
              "          const element = document.querySelector('#df-4cb93f63-1511-4e92-9b01-c43832a1ed6e');\n",
              "          const dataTable =\n",
              "            await google.colab.kernel.invokeFunction('convertToInteractive',\n",
              "                                                     [key], {});\n",
              "          if (!dataTable) return;\n",
              "\n",
              "          const docLinkHtml = 'Like what you see? Visit the ' +\n",
              "            '<a target=\"_blank\" href=https://colab.research.google.com/notebooks/data_table.ipynb>data table notebook</a>'\n",
              "            + ' to learn more about interactive tables.';\n",
              "          element.innerHTML = '';\n",
              "          dataTable['output_type'] = 'display_data';\n",
              "          await google.colab.output.renderOutput(dataTable, element);\n",
              "          const docLink = document.createElement('div');\n",
              "          docLink.innerHTML = docLinkHtml;\n",
              "          element.appendChild(docLink);\n",
              "        }\n",
              "      </script>\n",
              "    </div>\n",
              "  </div>\n",
              "  "
            ]
          },
          "metadata": {},
          "execution_count": 20
        }
      ]
    },
    {
      "cell_type": "code",
      "source": [
        "# Memvisualisasikan kedalam bentuk boxplot untuk melihat outlier pada setiap atribut kontinu\n",
        "fig=plt.figure(figsize=(15,15))\n",
        "ax1=fig.add_subplot(2,3,1)\n",
        "ax2=fig.add_subplot(2,3,2)\n",
        "ax3=fig.add_subplot(2,3,3)\n",
        "ax4=fig.add_subplot(2,3,4)\n",
        "ax5=fig.add_subplot(2,3,5)\n",
        "ax6=fig.add_subplot(2,3,6)\n",
        "\n",
        "df_kontinu.age.plot(kind='box', ax=ax1)\n",
        "df_kontinu.creatinine_phosphokinase.plot(kind='box', ax=ax2)\n",
        "df_kontinu.ejection_fraction.plot(kind='box', ax=ax3)\n",
        "df_kontinu.platelets.plot(kind='box', ax=ax4)\n",
        "df_kontinu.serum_creatinine.plot(kind='box', ax=ax5)\n",
        "df_kontinu.serum_sodium.plot(kind='box', ax=ax6)\n",
        "plt.show()"
      ],
      "metadata": {
        "colab": {
          "base_uri": "https://localhost:8080/"
        },
        "id": "klyo48tjEFpj",
        "outputId": "f8a6317d-e54e-4b0c-aa10-164158e82d2b"
      },
      "execution_count": null,
      "outputs": [
        {
          "output_type": "display_data",
          "data": {
            "text/plain": [
              "<Figure size 1080x1080 with 6 Axes>"
            ],
            "image/png": "[encoded data removed]"
          },
          "metadata": {
            "needs_background": "light"
          }
        }
      ]
    },
    {
      "cell_type": "markdown",
      "source": [
        "Berdasarkan visualisasi box plot diatas, terdapat beberapa kolom yang memiliki outlier. Tetapi hanya ada 3 kolom yang memiliki outlier tinggi, yaitu creatinine, platelets dan serum_creatinine. Untuk meminimalisir tejadinya outlier, maka akan dilakukan teknik untuk menghandling outlier pada ketiga kolom tersebut. Cara yang dilakukan adalah kita menghapus nilai outliernya berdasarkan range nilai tertentu. Untuk lebih jelasnya bisa liat komentar pada setiap code"
      ],
      "metadata": {
        "id": "GF075UeFqsEN"
      }
    },
    {
      "cell_type": "code",
      "source": [
        "# Menganalisis nilai outlier pada fitur creatinine_phosphokinase\n",
        "Q1_CP=df.creatinine_phosphokinase.quantile(0.25)\n",
        "Q3_CP=df.creatinine_phosphokinase.quantile(0.75)\n",
        "IQR_CP=1.5*(Q3_CP-Q1_CP)\n",
        "low_CP=Q1_CP-IQR_CP\n",
        "high_CP=Q3_CP+IQR_CP\n",
        "\n",
        "# Remove outlier pada fitur creatinine_phosphokinase yang memiliki nilai kurang dari low CP atau lebih dari high CP\n",
        "df=df[~((df.creatinine_phosphokinase < low_CP) | (df.creatinine_phosphokinase > high_CP))]\n",
        "\n",
        "# Tampilkan kembali visualisasi histogram dan boxplot\n",
        "fig=plt.figure(figsize=(12,6))\n",
        "ax1=fig.add_subplot(1,2,1)\n",
        "ax2=fig.add_subplot(1,2,2)\n",
        "df.creatinine_phosphokinase.hist(ax=ax1)\n",
        "df.creatinine_phosphokinase.plot(kind='box', ax=ax2)\n",
        "plt.show()"
      ],
      "metadata": {
        "colab": {
          "base_uri": "https://localhost:8080/"
        },
        "id": "KdWyRuCfEFmb",
        "outputId": "9de89b76-7d51-43cb-a72c-e75070e57731"
      },
      "execution_count": null,
      "outputs": [
        {
          "output_type": "display_data",
          "data": {
            "text/plain": [
              "<Figure size 864x432 with 2 Axes>"
            ],
            "image/png": "[encoded data removed]"
          },
          "metadata": {
            "needs_background": "light"
          }
        }
      ]
    },
    {
      "cell_type": "markdown",
      "source": [
        "Tampilan histogram dan boxplot setelah dilakukan removing outlier pada kolom atau fitur creatinine_phosphokinase"
      ],
      "metadata": {
        "id": "TDErc9vzsL4o"
      }
    },
    {
      "cell_type": "code",
      "source": [
        "# Menganalisis nilai outlier pada fitur serum_creatinine\n",
        "Q1_SC=df.serum_creatinine.quantile(0.25)\n",
        "Q3_SC=df.serum_creatinine.quantile(0.75)\n",
        "IQR_SC=1.5*(Q3_SC-Q1_SC)\n",
        "low_SC=Q1_SC-IQR_SC\n",
        "high_SC=Q3_SC+IQR_SC\n",
        "\n",
        "# Meremove outlier fitur serum_creatinine yang memiliki nilai kurang dari low CP atau lebih dari high CP\n",
        "df=df[~((df.serum_creatinine < low_SC) | (df.serum_creatinine > high_SC))]\n",
        "\n",
        "# Tampilkan kembali visualisasi histogram dan boxplot\n",
        "fig=plt.figure(figsize=(12,6))\n",
        "ax1=fig.add_subplot(1,2,1)\n",
        "ax2=fig.add_subplot(1,2,2)\n",
        "df.serum_creatinine.hist(ax=ax1)\n",
        "df.serum_creatinine.plot(kind='box', ax=ax2)\n",
        "plt.show()"
      ],
      "metadata": {
        "colab": {
          "base_uri": "https://localhost:8080/"
        },
        "id": "IfzUV5vPEFkF",
        "outputId": "67c114c8-6193-46e0-dd11-3d82b7207a93"
      },
      "execution_count": null,
      "outputs": [
        {
          "output_type": "display_data",
          "data": {
            "text/plain": [
              "<Figure size 864x432 with 2 Axes>"
            ],
            "image/png": "[encoded data removed]"
          },
          "metadata": {
            "needs_background": "light"
          }
        }
      ]
    },
    {
      "cell_type": "markdown",
      "source": [
        "Tampilan histogram dan boxplot setelah dilakukan removing outlier pada kolom atau fitur serum_creatinine. Masih terdapat outlier, tetapi setidaknya jumlahnya tidak sebanyak sebelum dilakukan remove outlier"
      ],
      "metadata": {
        "id": "aUeZXitusdOb"
      }
    },
    {
      "cell_type": "markdown",
      "source": [
        "Pada atribut platelets, akan dilakukan teknik winsorize untuk menghandling outliernya. Winsorization adalah proses penggantian nilai ekstrim dari data statistik untuk membatasi efek dari outlier pada perhitungan atau hasil yang diperoleh dengan menggunakan data tersebut. Nilai rata-rata yang dihitung setelah penggantian nilai ekstrim tersebut disebut rata-rata winorized. https://www.geeksforgeeks.org/winsorization/"
      ],
      "metadata": {
        "id": "v0TrEop8c_yy"
      }
    },
    {
      "cell_type": "code",
      "source": [
        "from scipy.stats.mstats import winsorize\n",
        "# Menganalisis nilai outlier pada fitur platelets\n",
        "Q1_P=df.platelets.quantile(0.25)\n",
        "Q3_P=df.platelets.quantile(0.75)\n",
        "IQR_P=1.5*(Q3_P-Q1_P)\n",
        "low_P=Q1_P-IQR_P\n",
        "high_P=Q3_P+IQR_P\n",
        "\n",
        "# Menetapkan batasan nilai minimum dan maximum fitur data platelets\n",
        "df['platelets']= winsorize(df['platelets'],(0.025,0.05))\n",
        "\n",
        "# Tampilkan kembali visualisasi histogram dan boxplot\n",
        "fig=plt.figure(figsize=(12,6))\n",
        "ax1=fig.add_subplot(1,2,1)\n",
        "ax2=fig.add_subplot(1,2,2)\n",
        "df.platelets.hist(ax=ax1)\n",
        "df.platelets.plot(kind='box', ax=ax2)\n",
        "plt.show()"
      ],
      "metadata": {
        "colab": {
          "base_uri": "https://localhost:8080/"
        },
        "id": "dB5-i-t9Q5eq",
        "outputId": "91b692ab-a7f1-4078-e4c0-8ea34ccaba5d"
      },
      "execution_count": null,
      "outputs": [
        {
          "output_type": "display_data",
          "data": {
            "text/plain": [
              "<Figure size 864x432 with 2 Axes>"
            ],
            "image/png": "[encoded data removed]"
          },
          "metadata": {
            "needs_background": "light"
          }
        }
      ]
    },
    {
      "cell_type": "markdown",
      "source": [
        "Tampilan histogram dan boxplot setelah dilakukan removing outlier pada kolom atau fitur platelets"
      ],
      "metadata": {
        "id": "2mEoBKLqtYx7"
      }
    },
    {
      "cell_type": "code",
      "source": [
        "sns.relplot(x='time', y='age', hue='death_event', data=df[df['death_event']==1])"
      ],
      "metadata": {
        "colab": {
          "base_uri": "https://localhost:8080/"
        },
        "id": "JGCNnGDYEFhP",
        "outputId": "b26a8ec9-0464-4eeb-b4f9-affd252ccd45"
      },
      "execution_count": null,
      "outputs": [
        {
          "output_type": "execute_result",
          "data": {
            "text/plain": [
              "<seaborn.axisgrid.FacetGrid at 0x7fe788f07c10>"
            ]
          },
          "metadata": {},
          "execution_count": 25
        },
        {
          "output_type": "display_data",
          "data": {
            "text/plain": [
              "<Figure size 430.25x360 with 1 Axes>"
            ],
            "image/png": "[encoded data removed]"
          },
          "metadata": {
            "needs_background": "light"
          }
        }
      ]
    },
    {
      "cell_type": "markdown",
      "source": [
        "Berdasarkan visualisasi scatter plot diatas, lebih banyak pasien pengidap penyakit jantung yang mengalami kematian ketika melakukan follow up sebelum kurun waktu 100 hari\n"
      ],
      "metadata": {
        "id": "vgRNbaf6tmLk"
      }
    },
    {
      "cell_type": "code",
      "source": [
        "# Melihat korelasi antara data feature dengan data target\n",
        "plt.figure(figsize=(8, 12))\n",
        "hm1 = sns.heatmap(df.corr()[['death_event']].sort_values(by='death_event', ascending=False), vmin=-1, vmax=1, annot=True, cmap='inferno')\n",
        "hm1.set_title('Fitur yang berkorelasi dengan data target', fontdict={'fontsize':18}, pad=16);"
      ],
      "metadata": {
        "colab": {
          "base_uri": "https://localhost:8080/"
        },
        "id": "oU5njWaDEFe4",
        "outputId": "dc63500e-716b-4d7c-97e8-75fed9a2f41d"
      },
      "execution_count": null,
      "outputs": [
        {
          "output_type": "display_data",
          "data": {
            "text/plain": [
              "<Figure size 576x864 with 2 Axes>"
            ],
            "image/png": "[encoded data removed]"
          },
          "metadata": {
            "needs_background": "light"
          }
        }
      ]
    },
    {
      "cell_type": "markdown",
      "source": [
        "Setelah melalui tahap data cleaning dan data preprocessing, nilai korelasi antara data feature dan target berubah. Visualisasi diatas lebih banyak menunjukan fitur yang memiliki nilai korelasi lebih dari 0 (Tidak minus). Dari yang awalnya hanya ada 5 atribut, sekarang bertambah menjadi 7. Tetapi tetap saja jika berdasarkan konsep pada korelasi, jika nilainya mendekati 0 maka itu semakin lemah.\n",
        "\n",
        "Tetapi karena dataset yang digunakan jumlahnya recordnya tidak terlalu banyak, maka kami memutuskan untuk menggunakan semua atribut yang ada pada dataset, karena nantinya akan dijadikan sebagai data input pada saat dilakukan pengujian. "
      ],
      "metadata": {
        "id": "ANGcV5_Buxe_"
      }
    },
    {
      "cell_type": "markdown",
      "source": [
        "## E. Modelling"
      ],
      "metadata": {
        "id": "w4KgNFw3W0Ye"
      }
    },
    {
      "cell_type": "markdown",
      "source": [
        "Setelah melewati tahap preprocessing data, kita akan melakukan scalling data untuk merubah distribusinya menjadi distribusi normal. Scalling ini dilakukan pada keseluruhan atribut, kecuali data targetnya ('Death_event')"
      ],
      "metadata": {
        "id": "nZYvMGCefEpp"
      }
    },
    {
      "cell_type": "code",
      "source": [
        "# result scaling digunakan untuk menampung semua atribut pada dataset, kecuali data targetnya\n",
        "result_scaling = [i for i in df.columns if i != 'death_event']"
      ],
      "metadata": {
        "id": "RxHAd20fFHIl"
      },
      "execution_count": null,
      "outputs": []
    },
    {
      "cell_type": "code",
      "source": [
        "# Dilakukan standarisasi data berdasarkan resul scaling\n",
        "sc = StandardScaler()\n",
        "df[result_scaling] = sc.fit_transform(df[result_scaling])\n",
        "df.head()"
      ],
      "metadata": {
        "id": "rxbu5AiRUrfg",
        "colab": {
          "base_uri": "https://localhost:8080/",
          "height": 206
        },
        "outputId": "dd84ae9f-34b1-4af2-fa2a-bd6ca8803586"
      },
      "execution_count": null,
      "outputs": [
        {
          "output_type": "execute_result",
          "data": {
            "text/plain": [
              "        age   anaemia  creatinine_phosphokinase  diabetes  ejection_fraction  \\\n",
              "0  1.184794 -0.907485                  0.875822  -0.87831          -1.530746   \n",
              "2  0.347356 -0.907485                 -0.696891  -0.87831          -1.530746   \n",
              "3 -0.908800  1.101946                 -0.823141  -0.87831          -1.530746   \n",
              "5  2.440951  1.101946                 -1.053998  -0.87831           0.144933   \n",
              "6  1.184794  1.101946                 -0.336177  -0.87831          -1.949666   \n",
              "\n",
              "   high_blood_pressure  platelets  serum_creatinine  serum_sodium       sex  \\\n",
              "0             1.313497   0.044921          1.933734     -1.567949  0.761326   \n",
              "2            -0.761326  -1.309046          0.337752     -1.801213  0.761326   \n",
              "3            -0.761326  -0.678071          1.933734      0.064900  0.761326   \n",
              "5             1.313497  -0.756943          2.465727     -1.101421  0.761326   \n",
              "6            -0.761326  -1.769132          0.071755      0.064900  0.761326   \n",
              "\n",
              "    smoking      time  death_event  \n",
              "0 -0.690066 -1.661182            1  \n",
              "2  1.449138 -1.622150            1  \n",
              "3 -0.690066 -1.622150            1  \n",
              "5  1.449138 -1.609139            1  \n",
              "6 -0.690066 -1.583117            1  "
            ],
            "text/html": [
              "\n",
              "  <div id=\"df-5fa1a6cc-2ff8-4967-99dc-330f08f96371\">\n",
              "    <div class=\"colab-df-container\">\n",
              "      <div>\n",
              "<style scoped>\n",
              "    .dataframe tbody tr th:only-of-type {\n",
              "        vertical-align: middle;\n",
              "    }\n",
              "\n",
              "    .dataframe tbody tr th {\n",
              "        vertical-align: top;\n",
              "    }\n",
              "\n",
              "    .dataframe thead th {\n",
              "        text-align: right;\n",
              "    }\n",
              "</style>\n",
              "<table border=\"1\" class=\"dataframe\">\n",
              "  <thead>\n",
              "    <tr style=\"text-align: right;\">\n",
              "      <th></th>\n",
              "      <th>age</th>\n",
              "      <th>anaemia</th>\n",
              "      <th>creatinine_phosphokinase</th>\n",
              "      <th>diabetes</th>\n",
              "      <th>ejection_fraction</th>\n",
              "      <th>high_blood_pressure</th>\n",
              "      <th>platelets</th>\n",
              "      <th>serum_creatinine</th>\n",
              "      <th>serum_sodium</th>\n",
              "      <th>sex</th>\n",
              "      <th>smoking</th>\n",
              "      <th>time</th>\n",
              "      <th>death_event</th>\n",
              "    </tr>\n",
              "  </thead>\n",
              "  <tbody>\n",
              "    <tr>\n",
              "      <th>0</th>\n",
              "      <td>1.184794</td>\n",
              "      <td>-0.907485</td>\n",
              "      <td>0.875822</td>\n",
              "      <td>-0.87831</td>\n",
              "      <td>-1.530746</td>\n",
              "      <td>1.313497</td>\n",
              "      <td>0.044921</td>\n",
              "      <td>1.933734</td>\n",
              "      <td>-1.567949</td>\n",
              "      <td>0.761326</td>\n",
              "      <td>-0.690066</td>\n",
              "      <td>-1.661182</td>\n",
              "      <td>1</td>\n",
              "    </tr>\n",
              "    <tr>\n",
              "      <th>2</th>\n",
              "      <td>0.347356</td>\n",
              "      <td>-0.907485</td>\n",
              "      <td>-0.696891</td>\n",
              "      <td>-0.87831</td>\n",
              "      <td>-1.530746</td>\n",
              "      <td>-0.761326</td>\n",
              "      <td>-1.309046</td>\n",
              "      <td>0.337752</td>\n",
              "      <td>-1.801213</td>\n",
              "      <td>0.761326</td>\n",
              "      <td>1.449138</td>\n",
              "      <td>-1.622150</td>\n",
              "      <td>1</td>\n",
              "    </tr>\n",
              "    <tr>\n",
              "      <th>3</th>\n",
              "      <td>-0.908800</td>\n",
              "      <td>1.101946</td>\n",
              "      <td>-0.823141</td>\n",
              "      <td>-0.87831</td>\n",
              "      <td>-1.530746</td>\n",
              "      <td>-0.761326</td>\n",
              "      <td>-0.678071</td>\n",
              "      <td>1.933734</td>\n",
              "      <td>0.064900</td>\n",
              "      <td>0.761326</td>\n",
              "      <td>-0.690066</td>\n",
              "      <td>-1.622150</td>\n",
              "      <td>1</td>\n",
              "    </tr>\n",
              "    <tr>\n",
              "      <th>5</th>\n",
              "      <td>2.440951</td>\n",
              "      <td>1.101946</td>\n",
              "      <td>-1.053998</td>\n",
              "      <td>-0.87831</td>\n",
              "      <td>0.144933</td>\n",
              "      <td>1.313497</td>\n",
              "      <td>-0.756943</td>\n",
              "      <td>2.465727</td>\n",
              "      <td>-1.101421</td>\n",
              "      <td>0.761326</td>\n",
              "      <td>1.449138</td>\n",
              "      <td>-1.609139</td>\n",
              "      <td>1</td>\n",
              "    </tr>\n",
              "    <tr>\n",
              "      <th>6</th>\n",
              "      <td>1.184794</td>\n",
              "      <td>1.101946</td>\n",
              "      <td>-0.336177</td>\n",
              "      <td>-0.87831</td>\n",
              "      <td>-1.949666</td>\n",
              "      <td>-0.761326</td>\n",
              "      <td>-1.769132</td>\n",
              "      <td>0.071755</td>\n",
              "      <td>0.064900</td>\n",
              "      <td>0.761326</td>\n",
              "      <td>-0.690066</td>\n",
              "      <td>-1.583117</td>\n",
              "      <td>1</td>\n",
              "    </tr>\n",
              "  </tbody>\n",
              "</table>\n",
              "</div>\n",
              "      <button class=\"colab-df-convert\" onclick=\"convertToInteractive('df-5fa1a6cc-2ff8-4967-99dc-330f08f96371')\"\n",
              "              title=\"Convert this dataframe to an interactive table.\"\n",
              "              style=\"display:none;\">\n",
              "        \n",
              "  <svg xmlns=\"http://www.w3.org/2000/svg\" height=\"24px\"viewBox=\"0 0 24 24\"\n",
              "       width=\"24px\">\n",
              "    <path d=\"M0 0h24v24H0V0z\" fill=\"none\"/>\n",
              "    <path d=\"M18.56 5.44l.94 2.06.94-2.06 2.06-.94-2.06-.94-.94-2.06-.94 2.06-2.06.94zm-11 1L8.5 8.5l.94-2.06 2.06-.94-2.06-.94L8.5 2.5l-.94 2.06-2.06.94zm10 10l.94 2.06.94-2.06 2.06-.94-2.06-.94-.94-2.06-.94 2.06-2.06.94z\"/><path d=\"M17.41 7.96l-1.37-1.37c-.4-.4-.92-.59-1.43-.59-.52 0-1.04.2-1.43.59L10.3 9.45l-7.72 7.72c-.78.78-.78 2.05 0 2.83L4 21.41c.39.39.9.59 1.41.59.51 0 1.02-.2 1.41-.59l7.78-7.78 2.81-2.81c.8-.78.8-2.07 0-2.86zM5.41 20L4 18.59l7.72-7.72 1.47 1.35L5.41 20z\"/>\n",
              "  </svg>\n",
              "      </button>\n",
              "      \n",
              "  <style>\n",
              "    .colab-df-container {\n",
              "      display:flex;\n",
              "      flex-wrap:wrap;\n",
              "      gap: 12px;\n",
              "    }\n",
              "\n",
              "    .colab-df-convert {\n",
              "      background-color: #E8F0FE;\n",
              "      border: none;\n",
              "      border-radius: 50%;\n",
              "      cursor: pointer;\n",
              "      display: none;\n",
              "      fill: #1967D2;\n",
              "      height: 32px;\n",
              "      padding: 0 0 0 0;\n",
              "      width: 32px;\n",
              "    }\n",
              "\n",
              "    .colab-df-convert:hover {\n",
              "      background-color: #E2EBFA;\n",
              "      box-shadow: 0px 1px 2px rgba(60, 64, 67, 0.3), 0px 1px 3px 1px rgba(60, 64, 67, 0.15);\n",
              "      fill: #174EA6;\n",
              "    }\n",
              "\n",
              "    [theme=dark] .colab-df-convert {\n",
              "      background-color: #3B4455;\n",
              "      fill: #D2E3FC;\n",
              "    }\n",
              "\n",
              "    [theme=dark] .colab-df-convert:hover {\n",
              "      background-color: #434B5C;\n",
              "      box-shadow: 0px 1px 3px 1px rgba(0, 0, 0, 0.15);\n",
              "      filter: drop-shadow(0px 1px 2px rgba(0, 0, 0, 0.3));\n",
              "      fill: #FFFFFF;\n",
              "    }\n",
              "  </style>\n",
              "\n",
              "      <script>\n",
              "        const buttonEl =\n",
              "          document.querySelector('#df-5fa1a6cc-2ff8-4967-99dc-330f08f96371 button.colab-df-convert');\n",
              "        buttonEl.style.display =\n",
              "          google.colab.kernel.accessAllowed ? 'block' : 'none';\n",
              "\n",
              "        async function convertToInteractive(key) {\n",
              "          const element = document.querySelector('#df-5fa1a6cc-2ff8-4967-99dc-330f08f96371');\n",
              "          const dataTable =\n",
              "            await google.colab.kernel.invokeFunction('convertToInteractive',\n",
              "                                                     [key], {});\n",
              "          if (!dataTable) return;\n",
              "\n",
              "          const docLinkHtml = 'Like what you see? Visit the ' +\n",
              "            '<a target=\"_blank\" href=https://colab.research.google.com/notebooks/data_table.ipynb>data table notebook</a>'\n",
              "            + ' to learn more about interactive tables.';\n",
              "          element.innerHTML = '';\n",
              "          dataTable['output_type'] = 'display_data';\n",
              "          await google.colab.output.renderOutput(dataTable, element);\n",
              "          const docLink = document.createElement('div');\n",
              "          docLink.innerHTML = docLinkHtml;\n",
              "          element.appendChild(docLink);\n",
              "        }\n",
              "      </script>\n",
              "    </div>\n",
              "  </div>\n",
              "  "
            ]
          },
          "metadata": {},
          "execution_count": 28
        }
      ]
    },
    {
      "cell_type": "markdown",
      "source": [
        "Membagi data training dan testing dengan rasio 80:20"
      ],
      "metadata": {
        "id": "sj0ahkDUXL9T"
      }
    },
    {
      "cell_type": "code",
      "source": [
        "X = df.drop(columns=['death_event'])\n",
        "y = df.death_event\n",
        "\n",
        "X_train, X_test, y_train, y_test = train_test_split(X, y, test_size=0.2, random_state=5)"
      ],
      "metadata": {
        "id": "PA1BewRlW2J1"
      },
      "execution_count": null,
      "outputs": []
    },
    {
      "cell_type": "code",
      "source": [
        "print(X_train.shape) # Data Latih X\n",
        "print(X_test.shape) # Data Testing X\n",
        "print(y_train.shape) # Data Latih Y\n",
        "print(y_test.shape) # Data Testing Y"
      ],
      "metadata": {
        "colab": {
          "base_uri": "https://localhost:8080/"
        },
        "id": "wSA8ZW7NXhk9",
        "outputId": "3864cf0c-43e9-47f3-968a-50844f7a46b6"
      },
      "execution_count": null,
      "outputs": [
        {
          "output_type": "stream",
          "name": "stdout",
          "text": [
            "(198, 12)\n",
            "(50, 12)\n",
            "(198,)\n",
            "(50,)\n"
          ]
        }
      ]
    },
    {
      "cell_type": "markdown",
      "source": [
        "### Metode"
      ],
      "metadata": {
        "id": "HJA90OWqXqP2"
      }
    },
    {
      "cell_type": "markdown",
      "source": [
        "#### Tanpa Menggunakan Smote"
      ],
      "metadata": {
        "id": "Gcd4WZD3AaVW"
      }
    },
    {
      "cell_type": "markdown",
      "source": [
        "###### Random Forest"
      ],
      "metadata": {
        "id": "zNjhXhp4ZO7G"
      }
    },
    {
      "cell_type": "code",
      "source": [
        "from sklearn.ensemble import RandomForestClassifier\n",
        "from sklearn.metrics import classification_report, confusion_matrix,plot_confusion_matrix, accuracy_score, precision_score, f1_score, recall_score\n",
        "from sklearn import metrics\n",
        "from sklearn.model_selection import cross_val_score\n",
        "from numpy import mean\n",
        "bold = '\\033[1m'\n",
        "normal = '\\033[0m'\n",
        "\n",
        "\n",
        "modelRF = RandomForestClassifier(random_state=0, n_estimators=100)\n",
        "modelRF.fit(X_train,y_train)\n",
        "y_predR = modelRF.predict(X_test)\n",
        "print('Nilai akurasi Model Random Forest    : ', bold,round((accuracy_score(y_test, y_predR)),2), normal)\n",
        "print('Nilai precision Model Random Forest  : ', bold,round((precision_score(y_test, y_predR)),2), normal)\n",
        "print('Nilai recall Model Random Forest     : ', bold,round((recall_score(y_test, y_predR)),2), normal)\n",
        "print('Nilai f1-score Model Random Forest   : ', bold,round((f1_score(y_test, y_predR)),2), normal)\n",
        "print('')\n",
        "print(classification_report(y_test, y_predR))"
      ],
      "metadata": {
        "colab": {
          "base_uri": "https://localhost:8080/"
        },
        "id": "zqgINKq2XjZW",
        "outputId": "a59cec5c-656c-42c4-c699-e495b2aa2e6c"
      },
      "execution_count": null,
      "outputs": [
        {
          "output_type": "stream",
          "name": "stdout",
          "text": [
            "Nilai akurasi Model Random Forest    :  \u001b[1m 0.84 \u001b[0m\n",
            "Nilai precision Model Random Forest  :  \u001b[1m 0.82 \u001b[0m\n",
            "Nilai recall Model Random Forest     :  \u001b[1m 0.6 \u001b[0m\n",
            "Nilai f1-score Model Random Forest   :  \u001b[1m 0.69 \u001b[0m\n",
            "\n",
            "              precision    recall  f1-score   support\n",
            "\n",
            "           0       0.85      0.94      0.89        35\n",
            "           1       0.82      0.60      0.69        15\n",
            "\n",
            "    accuracy                           0.84        50\n",
            "   macro avg       0.83      0.77      0.79        50\n",
            "weighted avg       0.84      0.84      0.83        50\n",
            "\n"
          ]
        }
      ]
    },
    {
      "cell_type": "code",
      "source": [
        "cmRF = confusion_matrix(y_test, y_predR)\n",
        "\n",
        "plt.figure(figsize=(10,6))\n",
        "p = sns.heatmap(pd.DataFrame(cmRF), annot=True, cmap=\"YlGn\" ,fmt='g')\n",
        "plt.title('Confusion matrix', y=1.1)\n",
        "plt.ylabel('Actual label')\n",
        "plt.xlabel('Predicted label')"
      ],
      "metadata": {
        "colab": {
          "base_uri": "https://localhost:8080/"
        },
        "id": "KgL2ONqUYjY-",
        "outputId": "94ce8f1a-cb75-4b32-ee38-17bddca82f91"
      },
      "execution_count": null,
      "outputs": [
        {
          "output_type": "execute_result",
          "data": {
            "text/plain": [
              "Text(0.5, 33.0, 'Predicted label')"
            ]
          },
          "metadata": {},
          "execution_count": 32
        },
        {
          "output_type": "display_data",
          "data": {
            "text/plain": [
              "<Figure size 720x432 with 2 Axes>"
            ],
            "image/png": "[encoded data removed]"
          },
          "metadata": {
            "needs_background": "light"
          }
        }
      ]
    },
    {
      "cell_type": "markdown",
      "source": [
        "Model Random Forest yang ditampilkan kedalam confusion matrix. Untuk penjelasan lebih detail bisa liat di section berikutnya "
      ],
      "metadata": {
        "id": "fpVGQm0UifTp"
      }
    },
    {
      "cell_type": "markdown",
      "source": [
        "**True Positive (TP)**<br>\n",
        "Merupakan data positif yang diprediksi benar. Contohnya, pasien menderita Kardiovaskular (class 1) dan dari model yang dibangun memprediksi pasien tersebut menderita Kardiovaskular (class 1).\n",
        "\n",
        "\n",
        "**True Negative (TN)**<br>\n",
        "Merupakan data negatif yang diprediksi benar. Contohnya, pasien tidak menderita Kardiovaskular (class 2) dan dari model yang dibuat memprediksi pasien tersebut tidak menderita Kardiovaskular (class 2).\n",
        "\n",
        "\n",
        "**False Postive (FP) — Type I Error**<br>\n",
        "Merupakan data negatif(salah) namun diprediksi sebagai data positif(benar). Contohnya, pasien tidak menderita Kardiovaskular (class 2) tetapi dari model yang telah memprediksi pasien tersebut menderita Kardiovaskular (class 1).\n",
        "\n",
        "\n",
        "**False Negative (FN) — Type II Error**\n",
        "Merupakan data positif namun diprediksi sebagai data negatif. Contohnya, pasien menderita Kardiovaskular (class 1) tetapi dari model yang dibuat memprediksi pasien tersebut tidak menderita Kardiovaskular (class 2)."
      ],
      "metadata": {
        "id": "PWCdOcfUhrvp"
      }
    },
    {
      "cell_type": "markdown",
      "source": [
        "###### Ada Boost"
      ],
      "metadata": {
        "id": "Cgwq6gxeaxPh"
      }
    },
    {
      "cell_type": "code",
      "source": [
        "from sklearn.ensemble import AdaBoostClassifier\n",
        "\n",
        "modelAB = AdaBoostClassifier(random_state=0, n_estimators=100)\n",
        "modelAB.fit(X_train,y_train)\n",
        "y_predAB = modelAB.predict(X_test)\n",
        "print('Nilai akurasi Model      : ', bold,round((accuracy_score(y_test, y_predAB)),2), normal)\n",
        "print('Nilai precision Model    : ', bold,round((precision_score(y_test, y_predAB)),2), normal)\n",
        "print('Nilai recall Model       : ', bold,round((recall_score(y_test, y_predAB)),2), normal)\n",
        "print('Nilai f1-score Model     : ', bold,round((f1_score(y_test, y_predAB)),2), normal)\n",
        "print('')\n",
        "print(classification_report(y_test, y_predAB))\n"
      ],
      "metadata": {
        "colab": {
          "base_uri": "https://localhost:8080/"
        },
        "id": "Se-6dm1yaX3m",
        "outputId": "c44713af-c8b6-4c75-b63c-8fa7b05ca956"
      },
      "execution_count": null,
      "outputs": [
        {
          "output_type": "stream",
          "name": "stdout",
          "text": [
            "Nilai akurasi Model      :  \u001b[1m 0.88 \u001b[0m\n",
            "Nilai precision Model    :  \u001b[1m 0.85 \u001b[0m\n",
            "Nilai recall Model       :  \u001b[1m 0.73 \u001b[0m\n",
            "Nilai f1-score Model     :  \u001b[1m 0.79 \u001b[0m\n",
            "\n",
            "              precision    recall  f1-score   support\n",
            "\n",
            "           0       0.89      0.94      0.92        35\n",
            "           1       0.85      0.73      0.79        15\n",
            "\n",
            "    accuracy                           0.88        50\n",
            "   macro avg       0.87      0.84      0.85        50\n",
            "weighted avg       0.88      0.88      0.88        50\n",
            "\n"
          ]
        }
      ]
    },
    {
      "cell_type": "code",
      "source": [
        "cmAB = confusion_matrix(y_test, y_predAB)\n",
        "\n",
        "plt.figure(figsize=(10,6))\n",
        "p = sns.heatmap(pd.DataFrame(cmAB), annot=True, cmap=\"YlGn\" ,fmt='g')\n",
        "plt.title('Confusion matrix', y=1.1)\n",
        "plt.ylabel('Actual label')\n",
        "plt.xlabel('Predicted label')"
      ],
      "metadata": {
        "colab": {
          "base_uri": "https://localhost:8080/"
        },
        "id": "c2wAg31bjznh",
        "outputId": "3ddd0b33-3bfd-47d0-c3f6-649d2af16ecb"
      },
      "execution_count": null,
      "outputs": [
        {
          "output_type": "execute_result",
          "data": {
            "text/plain": [
              "Text(0.5, 33.0, 'Predicted label')"
            ]
          },
          "metadata": {},
          "execution_count": 34
        },
        {
          "output_type": "display_data",
          "data": {
            "text/plain": [
              "<Figure size 720x432 with 2 Axes>"
            ],
            "image/png": "[encoded data removed]"
          },
          "metadata": {
            "needs_background": "light"
          }
        }
      ]
    },
    {
      "cell_type": "markdown",
      "source": [
        "###### Extra Tress Classifier"
      ],
      "metadata": {
        "id": "6WCUHMckbbbe"
      }
    },
    {
      "cell_type": "code",
      "source": [
        "from sklearn.ensemble import ExtraTreesClassifier\n",
        "\n",
        "modelETC = ExtraTreesClassifier(random_state=0, n_estimators=100)\n",
        "modelETC.fit(X_train,y_train)\n",
        "y_predETC = modelETC.predict(X_test)\n",
        "print('Nilai akurasi Model      : ', bold,round((accuracy_score(y_test, y_predETC)),2), normal)\n",
        "print('Nilai precision Model    : ', bold,round((precision_score(y_test, y_predETC)),2), normal)\n",
        "print('Nilai recall Model       : ', bold,round((recall_score(y_test, y_predETC)),2), normal)\n",
        "print('Nilai f1-score Model     : ', bold,round((f1_score(y_test, y_predETC)),2), normal)\n",
        "print('')\n",
        "print(classification_report(y_test, y_predETC))\n"
      ],
      "metadata": {
        "colab": {
          "base_uri": "https://localhost:8080/"
        },
        "id": "vGHvUXoJa0Ve",
        "outputId": "74c2aa3c-0bd7-4e71-d131-1c3d7c3c7740"
      },
      "execution_count": null,
      "outputs": [
        {
          "output_type": "stream",
          "name": "stdout",
          "text": [
            "Nilai akurasi Model      :  \u001b[1m 0.8 \u001b[0m\n",
            "Nilai precision Model    :  \u001b[1m 0.86 \u001b[0m\n",
            "Nilai recall Model       :  \u001b[1m 0.4 \u001b[0m\n",
            "Nilai f1-score Model     :  \u001b[1m 0.55 \u001b[0m\n",
            "\n",
            "              precision    recall  f1-score   support\n",
            "\n",
            "           0       0.79      0.97      0.87        35\n",
            "           1       0.86      0.40      0.55        15\n",
            "\n",
            "    accuracy                           0.80        50\n",
            "   macro avg       0.82      0.69      0.71        50\n",
            "weighted avg       0.81      0.80      0.77        50\n",
            "\n"
          ]
        }
      ]
    },
    {
      "cell_type": "code",
      "source": [
        "cmETC = confusion_matrix(y_test, y_predETC)\n",
        "\n",
        "plt.figure(figsize=(10,6))\n",
        "p = sns.heatmap(pd.DataFrame(cmETC), annot=True, cmap=\"YlGn\" ,fmt='g')\n",
        "plt.title('Confusion matrix', y=1.1)\n",
        "plt.ylabel('Actual label')\n",
        "plt.xlabel('Predicted label')"
      ],
      "metadata": {
        "colab": {
          "base_uri": "https://localhost:8080/"
        },
        "id": "PlsyXhF_j7G5",
        "outputId": "4f107375-eb06-489f-b7c9-c09760061f61"
      },
      "execution_count": null,
      "outputs": [
        {
          "output_type": "execute_result",
          "data": {
            "text/plain": [
              "Text(0.5, 33.0, 'Predicted label')"
            ]
          },
          "metadata": {},
          "execution_count": 36
        },
        {
          "output_type": "display_data",
          "data": {
            "text/plain": [
              "<Figure size 720x432 with 2 Axes>"
            ],
            "image/png": "[encoded data removed]"
          },
          "metadata": {
            "needs_background": "light"
          }
        }
      ]
    },
    {
      "cell_type": "markdown",
      "source": [
        "###### Gradient Boosting"
      ],
      "metadata": {
        "id": "ce7qV55mbfeO"
      }
    },
    {
      "cell_type": "code",
      "source": [
        "from sklearn.ensemble import GradientBoostingClassifier\n",
        "\n",
        "modelGB = GradientBoostingClassifier(n_estimators=100, random_state=0)\n",
        "modelGB.fit(X_train,y_train)\n",
        "y_predGB = modelGB.predict(X_test)\n",
        "print('Nilai akurasi Model      : ', bold,round((accuracy_score(y_test, y_predGB)),2), normal)\n",
        "print('Nilai precision Model    : ', bold,round((precision_score(y_test, y_predGB)),2), normal)\n",
        "print('Nilai recall Model       : ', bold,round((recall_score(y_test, y_predGB)),2), normal)\n",
        "print('Nilai f1-score Model     : ', bold,round((f1_score(y_test, y_predGB)),2), normal)\n",
        "print('')\n",
        "print(classification_report(y_test, y_predGB))"
      ],
      "metadata": {
        "colab": {
          "base_uri": "https://localhost:8080/"
        },
        "id": "AJCwq6lWbMk-",
        "outputId": "143570ef-8fcf-4fbd-8764-e02a6a75fd17"
      },
      "execution_count": null,
      "outputs": [
        {
          "output_type": "stream",
          "name": "stdout",
          "text": [
            "Nilai akurasi Model      :  \u001b[1m 0.86 \u001b[0m\n",
            "Nilai precision Model    :  \u001b[1m 0.83 \u001b[0m\n",
            "Nilai recall Model       :  \u001b[1m 0.67 \u001b[0m\n",
            "Nilai f1-score Model     :  \u001b[1m 0.74 \u001b[0m\n",
            "\n",
            "              precision    recall  f1-score   support\n",
            "\n",
            "           0       0.87      0.94      0.90        35\n",
            "           1       0.83      0.67      0.74        15\n",
            "\n",
            "    accuracy                           0.86        50\n",
            "   macro avg       0.85      0.80      0.82        50\n",
            "weighted avg       0.86      0.86      0.86        50\n",
            "\n"
          ]
        }
      ]
    },
    {
      "cell_type": "code",
      "source": [
        "cmGB = confusion_matrix(y_test, y_predGB)\n",
        "\n",
        "plt.figure(figsize=(10,6))\n",
        "p = sns.heatmap(pd.DataFrame(cmGB), annot=True, cmap=\"YlGn\" ,fmt='g')\n",
        "plt.title('Confusion matrix', y=1.1)\n",
        "plt.ylabel('Actual label')\n",
        "plt.xlabel('Predicted label')"
      ],
      "metadata": {
        "colab": {
          "base_uri": "https://localhost:8080/"
        },
        "id": "_UyJSMFOkJQI",
        "outputId": "77b65460-8a6c-42f7-f209-73cb07d85ecf"
      },
      "execution_count": null,
      "outputs": [
        {
          "output_type": "execute_result",
          "data": {
            "text/plain": [
              "Text(0.5, 33.0, 'Predicted label')"
            ]
          },
          "metadata": {},
          "execution_count": 38
        },
        {
          "output_type": "display_data",
          "data": {
            "text/plain": [
              "<Figure size 720x432 with 2 Axes>"
            ],
            "image/png": "[encoded data removed]"
          },
          "metadata": {
            "needs_background": "light"
          }
        }
      ]
    },
    {
      "cell_type": "markdown",
      "source": [
        "##### XGBoost"
      ],
      "metadata": {
        "id": "4w-HoJLoBXL2"
      }
    },
    {
      "cell_type": "code",
      "source": [
        "from xgboost.sklearn import XGBClassifier\n",
        "\n",
        "modelXGB = XGBClassifier(n_estimators=100, random_state=0)\n",
        "modelXGB.fit(X_train,y_train)\n",
        "y_predXGB = modelXGB.predict(X_test)\n",
        "print('Nilai akurasi Model      : ', bold,round((accuracy_score(y_test, y_predXGB)),2), normal)\n",
        "print('Nilai precision Model    : ', bold,round((precision_score(y_test, y_predXGB)),2), normal)\n",
        "print('Nilai recall Model       : ', bold,round((recall_score(y_test, y_predXGB)),2), normal)\n",
        "print('Nilai f1-score Model     : ', bold,round((f1_score(y_test, y_predXGB)),2), normal)\n",
        "print('')\n",
        "print(classification_report(y_test, y_predXGB))"
      ],
      "metadata": {
        "colab": {
          "base_uri": "https://localhost:8080/"
        },
        "id": "dn93MnRZBZyr",
        "outputId": "3579e7ea-0a84-44b3-f901-0d1789c42d87"
      },
      "execution_count": null,
      "outputs": [
        {
          "output_type": "stream",
          "name": "stdout",
          "text": [
            "Nilai akurasi Model      :  \u001b[1m 0.82 \u001b[0m\n",
            "Nilai precision Model    :  \u001b[1m 0.71 \u001b[0m\n",
            "Nilai recall Model       :  \u001b[1m 0.67 \u001b[0m\n",
            "Nilai f1-score Model     :  \u001b[1m 0.69 \u001b[0m\n",
            "\n",
            "              precision    recall  f1-score   support\n",
            "\n",
            "           0       0.86      0.89      0.87        35\n",
            "           1       0.71      0.67      0.69        15\n",
            "\n",
            "    accuracy                           0.82        50\n",
            "   macro avg       0.79      0.78      0.78        50\n",
            "weighted avg       0.82      0.82      0.82        50\n",
            "\n"
          ]
        }
      ]
    },
    {
      "cell_type": "markdown",
      "source": [
        "#### Menggunakan Smote"
      ],
      "metadata": {
        "id": "AzzIozBAAd9L"
      }
    },
    {
      "cell_type": "markdown",
      "source": [
        "Teknik Smote digunakan untuk menangani data yang memiliki imbalanced. "
      ],
      "metadata": {
        "id": "CvIBRb7PXH3R"
      }
    },
    {
      "cell_type": "code",
      "source": [
        "from imblearn.over_sampling import SMOTE\n",
        "smote_method = SMOTE()\n",
        "X_s, y_s = smote_method.fit_resample(X, y)"
      ],
      "metadata": {
        "id": "nhKPMBMR8x9N"
      },
      "execution_count": null,
      "outputs": []
    },
    {
      "cell_type": "code",
      "source": [
        "X_trains, X_tests, y_trains, y_tests = train_test_split(X_s, y_s, stratify = y_s, test_size=0.2, random_state=5)"
      ],
      "metadata": {
        "id": "MoLW8rfW8_im"
      },
      "execution_count": null,
      "outputs": []
    },
    {
      "cell_type": "markdown",
      "source": [
        "##### Random Forest"
      ],
      "metadata": {
        "id": "OgjUt8mIEYVp"
      }
    },
    {
      "cell_type": "code",
      "source": [
        "modelRFs = RandomForestClassifier(random_state=5, n_estimators=100)\n",
        "modelRFs.fit(X_trains,y_trains)\n",
        "y_predRs = modelRFs.predict(X_tests)\n",
        "print('Nilai akurasi Model      : ', bold,round((accuracy_score(y_tests, y_predRs)),2), normal)\n",
        "print('Nilai precision Model    : ', bold,round((precision_score(y_tests, y_predRs)),2), normal)\n",
        "print('Nilai recall Model       : ', bold,round((recall_score(y_tests, y_predRs)),2), normal)\n",
        "print('Nilai f1-score Model     : ', bold,round((f1_score(y_tests, y_predRs)),2), normal)\n",
        "print('')\n",
        "print(classification_report(y_tests, y_predRs))"
      ],
      "metadata": {
        "colab": {
          "base_uri": "https://localhost:8080/"
        },
        "id": "IA6am4RjDxah",
        "outputId": "523ef89c-0b28-42ca-a859-5b8d93e8a3a9"
      },
      "execution_count": null,
      "outputs": [
        {
          "output_type": "stream",
          "name": "stdout",
          "text": [
            "Nilai akurasi Model      :  \u001b[1m 0.89 \u001b[0m\n",
            "Nilai precision Model    :  \u001b[1m 0.85 \u001b[0m\n",
            "Nilai recall Model       :  \u001b[1m 0.94 \u001b[0m\n",
            "Nilai f1-score Model     :  \u001b[1m 0.89 \u001b[0m\n",
            "\n",
            "              precision    recall  f1-score   support\n",
            "\n",
            "           0       0.94      0.83      0.88        35\n",
            "           1       0.85      0.94      0.89        35\n",
            "\n",
            "    accuracy                           0.89        70\n",
            "   macro avg       0.89      0.89      0.89        70\n",
            "weighted avg       0.89      0.89      0.89        70\n",
            "\n"
          ]
        }
      ]
    },
    {
      "cell_type": "code",
      "source": [
        "cmRF = confusion_matrix(y_tests, y_predRs)\n",
        "\n",
        "plt.figure(figsize=(10,6))\n",
        "p = sns.heatmap(pd.DataFrame(cmRF), annot=True, cmap=\"YlGn\" ,fmt='g')\n",
        "plt.title('Confusion matrix', y=1.1)\n",
        "plt.ylabel('Actual label')\n",
        "plt.xlabel('Predicted label')"
      ],
      "metadata": {
        "colab": {
          "base_uri": "https://localhost:8080/",
          "height": 425
        },
        "id": "CMFNAnrzEaoR",
        "outputId": "738af151-b677-4cea-9c41-8ba6ccff6aa8"
      },
      "execution_count": null,
      "outputs": [
        {
          "output_type": "execute_result",
          "data": {
            "text/plain": [
              "Text(0.5, 33.0, 'Predicted label')"
            ]
          },
          "metadata": {},
          "execution_count": 43
        },
        {
          "output_type": "display_data",
          "data": {
            "text/plain": [
              "<Figure size 720x432 with 2 Axes>"
            ],
            "image/png": "[encoded data removed]"
          },
          "metadata": {
            "needs_background": "light"
          }
        }
      ]
    },
    {
      "cell_type": "markdown",
      "source": [
        "##### Ada Boost"
      ],
      "metadata": {
        "id": "ZJEi_tiMEmaZ"
      }
    },
    {
      "cell_type": "code",
      "source": [
        "modelABs = AdaBoostClassifier(random_state=0, n_estimators=100)\n",
        "modelABs.fit(X_trains,y_trains)\n",
        "y_predABs = modelABs.predict(X_tests)\n",
        "print('Nilai akurasi Model      : ', bold,round((accuracy_score(y_tests, y_predABs)),2), normal)\n",
        "print('Nilai precision Model    : ', bold,round((precision_score(y_tests, y_predABs)),2), normal)\n",
        "print('Nilai recall Model       : ', bold,round((recall_score(y_tests, y_predABs)),2), normal)\n",
        "print('Nilai f1-score Model     : ', bold,round((f1_score(y_tests, y_predABs)),2), normal)\n",
        "print('')\n",
        "print(classification_report(y_tests, y_predABs))\n"
      ],
      "metadata": {
        "colab": {
          "base_uri": "https://localhost:8080/"
        },
        "id": "6HCYHNL0E05C",
        "outputId": "e6baa21e-4355-4821-a98b-a646355768d9"
      },
      "execution_count": null,
      "outputs": [
        {
          "output_type": "stream",
          "name": "stdout",
          "text": [
            "Nilai akurasi Model      :  \u001b[1m 0.86 \u001b[0m\n",
            "Nilai precision Model    :  \u001b[1m 0.84 \u001b[0m\n",
            "Nilai recall Model       :  \u001b[1m 0.89 \u001b[0m\n",
            "Nilai f1-score Model     :  \u001b[1m 0.86 \u001b[0m\n",
            "\n",
            "              precision    recall  f1-score   support\n",
            "\n",
            "           0       0.88      0.83      0.85        35\n",
            "           1       0.84      0.89      0.86        35\n",
            "\n",
            "    accuracy                           0.86        70\n",
            "   macro avg       0.86      0.86      0.86        70\n",
            "weighted avg       0.86      0.86      0.86        70\n",
            "\n"
          ]
        }
      ]
    },
    {
      "cell_type": "markdown",
      "source": [
        "Tidak dianalisis lebih jauh, karena performasi modelnya kurang baik. Bisa dilihat dari nilai akurasinya"
      ],
      "metadata": {
        "id": "ajm3OcrJnp1I"
      }
    },
    {
      "cell_type": "markdown",
      "source": [
        "##### Extra Trees Classifier"
      ],
      "metadata": {
        "id": "6B0bss3GEmRB"
      }
    },
    {
      "cell_type": "code",
      "source": [
        "modelETCs = ExtraTreesClassifier(random_state=0, n_estimators=100)\n",
        "modelETCs.fit(X_trains, y_trains)\n",
        "y_predETCs = modelETCs.predict(X_tests)\n",
        "print('Nilai akurasi Model      : ', bold,round((accuracy_score(y_tests, y_predETCs)),2), normal)\n",
        "print('Nilai precision Model    : ', bold,round((precision_score(y_tests, y_predETCs)),2), normal)\n",
        "print('Nilai recall Model       : ', bold,round((recall_score(y_tests, y_predETCs)),2), normal)\n",
        "print('Nilai f1-score Model     : ', bold,round((f1_score(y_tests, y_predETCs)),2), normal)\n",
        "print('')\n",
        "print(classification_report(y_tests, y_predETCs))\n"
      ],
      "metadata": {
        "colab": {
          "base_uri": "https://localhost:8080/"
        },
        "id": "9-nZC3buE84K",
        "outputId": "47aa0ea0-c96d-40a2-d821-0271967ed448"
      },
      "execution_count": null,
      "outputs": [
        {
          "output_type": "stream",
          "name": "stdout",
          "text": [
            "Nilai akurasi Model      :  \u001b[1m 0.96 \u001b[0m\n",
            "Nilai precision Model    :  \u001b[1m 0.94 \u001b[0m\n",
            "Nilai recall Model       :  \u001b[1m 0.97 \u001b[0m\n",
            "Nilai f1-score Model     :  \u001b[1m 0.96 \u001b[0m\n",
            "\n",
            "              precision    recall  f1-score   support\n",
            "\n",
            "           0       0.97      0.94      0.96        35\n",
            "           1       0.94      0.97      0.96        35\n",
            "\n",
            "    accuracy                           0.96        70\n",
            "   macro avg       0.96      0.96      0.96        70\n",
            "weighted avg       0.96      0.96      0.96        70\n",
            "\n"
          ]
        }
      ]
    },
    {
      "cell_type": "code",
      "source": [
        "cmETC = confusion_matrix(y_tests, y_predETCs)\n",
        "\n",
        "plt.figure(figsize=(10,6))\n",
        "p = sns.heatmap(pd.DataFrame(cmETC), annot=True, cmap=\"YlGn\" ,fmt='g')\n",
        "plt.title('Confusion matrix', y=1.1)\n",
        "plt.ylabel('Actual label')\n",
        "plt.xlabel('Predicted label')"
      ],
      "metadata": {
        "colab": {
          "base_uri": "https://localhost:8080/",
          "height": 425
        },
        "id": "q8ooe8l7LZKB",
        "outputId": "c4952591-0ef1-424a-c731-20b4ecf27e35"
      },
      "execution_count": null,
      "outputs": [
        {
          "output_type": "execute_result",
          "data": {
            "text/plain": [
              "Text(0.5, 33.0, 'Predicted label')"
            ]
          },
          "metadata": {},
          "execution_count": 46
        },
        {
          "output_type": "display_data",
          "data": {
            "text/plain": [
              "<Figure size 720x432 with 2 Axes>"
            ],
            "image/png": "[encoded data removed]"
          },
          "metadata": {
            "needs_background": "light"
          }
        }
      ]
    },
    {
      "cell_type": "markdown",
      "source": [
        "##### Gradient Boosting"
      ],
      "metadata": {
        "id": "Q1lIZfd8EmBL"
      }
    },
    {
      "cell_type": "code",
      "source": [
        "from sklearn.ensemble import GradientBoostingClassifier\n",
        "\n",
        "modelGBs = GradientBoostingClassifier(n_estimators=100, random_state=0)\n",
        "modelGBs.fit(X_trains, y_trains)\n",
        "y_predGBs = modelGBs.predict(X_tests)\n",
        "print('Nilai akurasi Model      : ', bold,round((accuracy_score(y_tests, y_predGBs)),2), normal)\n",
        "print('Nilai precision Model    : ', bold,round((precision_score(y_tests, y_predGBs)),2), normal)\n",
        "print('Nilai recall Model       : ', bold,round((recall_score(y_tests, y_predGBs)),2), normal)\n",
        "print('Nilai f1-score Model     : ', bold,round((f1_score(y_tests, y_predGBs)),2), normal)\n",
        "print('')\n",
        "print(classification_report(y_tests, y_predGBs))"
      ],
      "metadata": {
        "colab": {
          "base_uri": "https://localhost:8080/"
        },
        "id": "zUvu7KNqFHYT",
        "outputId": "ca2b102c-7880-4900-e654-630a66ae957d"
      },
      "execution_count": null,
      "outputs": [
        {
          "output_type": "stream",
          "name": "stdout",
          "text": [
            "Nilai akurasi Model      :  \u001b[1m 0.87 \u001b[0m\n",
            "Nilai precision Model    :  \u001b[1m 0.86 \u001b[0m\n",
            "Nilai recall Model       :  \u001b[1m 0.89 \u001b[0m\n",
            "Nilai f1-score Model     :  \u001b[1m 0.87 \u001b[0m\n",
            "\n",
            "              precision    recall  f1-score   support\n",
            "\n",
            "           0       0.88      0.86      0.87        35\n",
            "           1       0.86      0.89      0.87        35\n",
            "\n",
            "    accuracy                           0.87        70\n",
            "   macro avg       0.87      0.87      0.87        70\n",
            "weighted avg       0.87      0.87      0.87        70\n",
            "\n"
          ]
        }
      ]
    },
    {
      "cell_type": "code",
      "source": [
        "cmGB = confusion_matrix(y_tests, y_predGBs)\n",
        "\n",
        "plt.figure(figsize=(10,6))\n",
        "p = sns.heatmap(pd.DataFrame(cmGB), annot=True, cmap=\"YlGn\" ,fmt='g')\n",
        "plt.title('Confusion matrix', y=1.1)\n",
        "plt.ylabel('Actual label')\n",
        "plt.xlabel('Predicted label')"
      ],
      "metadata": {
        "colab": {
          "base_uri": "https://localhost:8080/",
          "height": 425
        },
        "id": "_iHRU-P0LjGy",
        "outputId": "906ab916-970e-45a7-d7bc-31c0a01a4c0b"
      },
      "execution_count": null,
      "outputs": [
        {
          "output_type": "execute_result",
          "data": {
            "text/plain": [
              "Text(0.5, 33.0, 'Predicted label')"
            ]
          },
          "metadata": {},
          "execution_count": 48
        },
        {
          "output_type": "display_data",
          "data": {
            "text/plain": [
              "<Figure size 720x432 with 2 Axes>"
            ],
            "image/png": "[encoded data removed]"
          },
          "metadata": {
            "needs_background": "light"
          }
        }
      ]
    },
    {
      "cell_type": "markdown",
      "source": [
        "##### XGBoost"
      ],
      "metadata": {
        "id": "_tlgfNSFBmZB"
      }
    },
    {
      "cell_type": "code",
      "source": [
        "modelXGBs = XGBClassifier(n_estimators=100, random_state=0)\n",
        "modelXGBs.fit(X_trains, y_trains)\n",
        "y_predXGBs = modelXGB.predict(X_tests)\n",
        "print('Nilai akurasi Model      : ', bold,round((accuracy_score(y_tests, y_predXGBs)),2), normal)\n",
        "print('Nilai precision Model    : ', bold,round((precision_score(y_tests, y_predXGBs)),2), normal)\n",
        "print('Nilai recall Model       : ', bold,round((recall_score(y_tests, y_predXGBs)),2), normal)\n",
        "print('Nilai f1-score Model     : ', bold,round((f1_score(y_tests, y_predXGBs)),2), normal)\n",
        "print('')\n",
        "print(classification_report(y_tests, y_predXGBs))"
      ],
      "metadata": {
        "colab": {
          "base_uri": "https://localhost:8080/"
        },
        "id": "012d6vpaBoyA",
        "outputId": "0318f106-224d-4ef3-ef89-6fab4d30cc6c"
      },
      "execution_count": null,
      "outputs": [
        {
          "output_type": "stream",
          "name": "stdout",
          "text": [
            "Nilai akurasi Model      :  \u001b[1m 0.91 \u001b[0m\n",
            "Nilai precision Model    :  \u001b[1m 0.97 \u001b[0m\n",
            "Nilai recall Model       :  \u001b[1m 0.86 \u001b[0m\n",
            "Nilai f1-score Model     :  \u001b[1m 0.91 \u001b[0m\n",
            "\n",
            "              precision    recall  f1-score   support\n",
            "\n",
            "           0       0.87      0.97      0.92        35\n",
            "           1       0.97      0.86      0.91        35\n",
            "\n",
            "    accuracy                           0.91        70\n",
            "   macro avg       0.92      0.91      0.91        70\n",
            "weighted avg       0.92      0.91      0.91        70\n",
            "\n"
          ]
        }
      ]
    },
    {
      "cell_type": "markdown",
      "source": [
        "## F. Feature Importance"
      ],
      "metadata": {
        "id": "foJ7TEjmdOre"
      }
    },
    {
      "cell_type": "markdown",
      "source": [
        "Setelah melakukan analisis pada beberapa metode, maka kami memutuskan untuk menggunakan model Random Forest dan Extra Trees Classifier. Karena metode Random Forest merupakan metode wajib yang harus digunakan dan Extra Tress Classifier sebagai pembandingnya. Berikut performansi dari kedual model tersebut:\n",
        "\n",
        "1. **Random Forest:**<br>\n",
        "Nilai akurasi Model      :   0.89 <br>\n",
        "Nilai precision Model    :   0.85 <br>\n",
        "Nilai recall Model       :   0.94 <br>\n",
        "Nilai f1-score Model     :   0.89 <br>\n",
        "\n",
        "2. **Extra Trees Classifier:**<br>\n",
        "Nilai akurasi Model      :   0.96 <br>\n",
        "Nilai precision Model    :   0.94 <br>\n",
        "Nilai recall Model       :   0.97 <br>\n",
        "Nilai f1-score Model     :   0.96 <br>"
      ],
      "metadata": {
        "id": "RHIv_JC7pRpZ"
      }
    },
    {
      "cell_type": "markdown",
      "source": [
        "Tahap selanjutnya ialah mengecek score menggunakan feature importance berdasarkan masing-masing atribut"
      ],
      "metadata": {
        "id": "PoJqkXSVGjen"
      }
    },
    {
      "cell_type": "markdown",
      "source": [
        "##### Random Forest"
      ],
      "metadata": {
        "id": "bfppqguj0HC2"
      }
    },
    {
      "cell_type": "code",
      "source": [
        "#melihat fitur impotance \n",
        "imp1 = pd.Series(modelRFs.feature_importances_, index=X.columns).sort_values(ascending=False)\n",
        "#memvisualisasikan fitur importance\n",
        "sns.barplot(x=imp1, y=imp1.index)\n",
        "plt.xlabel('Feature Importance Score')\n",
        "plt.ylabel('Features')\n",
        "plt.title('Important Features')\n",
        "plt.show()"
      ],
      "metadata": {
        "colab": {
          "base_uri": "https://localhost:8080/",
          "height": 299
        },
        "id": "CpedcY6CfrS3",
        "outputId": "df9894f1-9b61-4479-a44b-50adcdf391ed"
      },
      "execution_count": null,
      "outputs": [
        {
          "output_type": "display_data",
          "data": {
            "text/plain": [
              "<Figure size 432x288 with 1 Axes>"
            ],
            "image/png": "[encoded data removed]"
          },
          "metadata": {
            "needs_background": "light"
          }
        }
      ]
    },
    {
      "cell_type": "markdown",
      "source": [
        "##### Extra Tress Classifier"
      ],
      "metadata": {
        "id": "Cd3uGw0Lp4jg"
      }
    },
    {
      "cell_type": "code",
      "source": [
        "#melihat fitur impotance \n",
        "imp2 = pd.Series(modelETCs.feature_importances_, index=X.columns).sort_values(ascending=False)\n",
        "#memvisualisasikan fitur importance\n",
        "sns.barplot(x=imp2, y=imp2.index)\n",
        "plt.xlabel('Feature Importance Score')\n",
        "plt.ylabel('Features')\n",
        "plt.title('Important Features')\n",
        "plt.show()"
      ],
      "metadata": {
        "colab": {
          "base_uri": "https://localhost:8080/",
          "height": 299
        },
        "id": "-tWy5zg_p7jP",
        "outputId": "9fa6afd5-20c6-407c-db01-611a7ff38dfb"
      },
      "execution_count": null,
      "outputs": [
        {
          "output_type": "display_data",
          "data": {
            "text/plain": [
              "<Figure size 432x288 with 1 Axes>"
            ],
            "image/png": "[encoded data removed]"
          },
          "metadata": {
            "needs_background": "light"
          }
        }
      ]
    },
    {
      "cell_type": "markdown",
      "source": [
        "### Rebuild Model"
      ],
      "metadata": {
        "id": "I1hj1BJveP4L"
      }
    },
    {
      "cell_type": "markdown",
      "source": [
        "Setelah dilakukan fitur importance dalam mengecek score masing-masing data fitur menggunakan model Random Forest dan Extra Tress Classifier. Ada beberapa fitur yang memiliki score minim, akan tetapi setiap model memiliki score minimm dengan atribut yang berbeda. Untuk menghindari pengurangan performansi sebuah model, maka tidak akan dilakukan drop untuk setiap atribut yang memiliki score minim. Sebagai bukti, kita akan lakukan eksperimen mendrop atribut 5 terbawah karena memiliki score minim pada kedua model"
      ],
      "metadata": {
        "id": "awbqcUBXtwba"
      }
    },
    {
      "cell_type": "code",
      "source": [
        "df_rebuild = df.drop(columns=['sex', 'diabetes', 'anaemia', 'smoking', 'high_blood_pressure'])\n",
        "df_rebuild"
      ],
      "metadata": {
        "colab": {
          "base_uri": "https://localhost:8080/",
          "height": 424
        },
        "id": "wwcreo7jrEpV",
        "outputId": "ff44cc68-5cce-4481-a8b4-d20f6a9260b5"
      },
      "execution_count": null,
      "outputs": [
        {
          "output_type": "execute_result",
          "data": {
            "text/plain": [
              "          age  creatinine_phosphokinase  ejection_fraction  platelets  \\\n",
              "0    1.184794                  0.875822          -1.530746   0.044921   \n",
              "2    0.347356                 -0.696891          -1.530746  -1.309046   \n",
              "3   -0.908800                 -0.823141          -1.530746  -0.678071   \n",
              "5    2.440951                 -1.053998           0.144933  -0.756943   \n",
              "6    1.184794                 -0.336177          -1.949666  -1.769132   \n",
              "..        ...                       ...                ...        ...   \n",
              "291 -0.071363                 -0.069248          -0.273987  -1.690260   \n",
              "292 -0.741313                 -0.538177          -0.022635   1.582923   \n",
              "293  0.179869                 -0.851998          -0.273987  -1.085576   \n",
              "294  0.096125                 -1.003498          -0.022635  -1.401063   \n",
              "298 -0.908800                 -0.516534           0.563852   1.753812   \n",
              "\n",
              "     serum_creatinine  serum_sodium      time  death_event  \n",
              "0            1.933734     -1.567949 -1.661182            1  \n",
              "2            0.337752     -1.801213 -1.622150            1  \n",
              "3            1.933734      0.064900 -1.622150            1  \n",
              "5            2.465727     -1.101421 -1.609139            1  \n",
              "6            0.071755      0.064900 -1.583117            1  \n",
              "..                ...           ...       ...          ...  \n",
              "291          0.603749      0.531429  1.643555            0  \n",
              "292         -0.460239      0.764693  1.643555            0  \n",
              "293         -0.726236     -0.168364  1.799684            0  \n",
              "294         -0.194242      1.464485  1.799684            0  \n",
              "298          1.135743     -0.168364  1.994846            0  \n",
              "\n",
              "[248 rows x 8 columns]"
            ],
            "text/html": [
              "\n",
              "  <div id=\"df-a4b4f095-e2aa-455c-8897-776054ff8dd3\">\n",
              "    <div class=\"colab-df-container\">\n",
              "      <div>\n",
              "<style scoped>\n",
              "    .dataframe tbody tr th:only-of-type {\n",
              "        vertical-align: middle;\n",
              "    }\n",
              "\n",
              "    .dataframe tbody tr th {\n",
              "        vertical-align: top;\n",
              "    }\n",
              "\n",
              "    .dataframe thead th {\n",
              "        text-align: right;\n",
              "    }\n",
              "</style>\n",
              "<table border=\"1\" class=\"dataframe\">\n",
              "  <thead>\n",
              "    <tr style=\"text-align: right;\">\n",
              "      <th></th>\n",
              "      <th>age</th>\n",
              "      <th>creatinine_phosphokinase</th>\n",
              "      <th>ejection_fraction</th>\n",
              "      <th>platelets</th>\n",
              "      <th>serum_creatinine</th>\n",
              "      <th>serum_sodium</th>\n",
              "      <th>time</th>\n",
              "      <th>death_event</th>\n",
              "    </tr>\n",
              "  </thead>\n",
              "  <tbody>\n",
              "    <tr>\n",
              "      <th>0</th>\n",
              "      <td>1.184794</td>\n",
              "      <td>0.875822</td>\n",
              "      <td>-1.530746</td>\n",
              "      <td>0.044921</td>\n",
              "      <td>1.933734</td>\n",
              "      <td>-1.567949</td>\n",
              "      <td>-1.661182</td>\n",
              "      <td>1</td>\n",
              "    </tr>\n",
              "    <tr>\n",
              "      <th>2</th>\n",
              "      <td>0.347356</td>\n",
              "      <td>-0.696891</td>\n",
              "      <td>-1.530746</td>\n",
              "      <td>-1.309046</td>\n",
              "      <td>0.337752</td>\n",
              "      <td>-1.801213</td>\n",
              "      <td>-1.622150</td>\n",
              "      <td>1</td>\n",
              "    </tr>\n",
              "    <tr>\n",
              "      <th>3</th>\n",
              "      <td>-0.908800</td>\n",
              "      <td>-0.823141</td>\n",
              "      <td>-1.530746</td>\n",
              "      <td>-0.678071</td>\n",
              "      <td>1.933734</td>\n",
              "      <td>0.064900</td>\n",
              "      <td>-1.622150</td>\n",
              "      <td>1</td>\n",
              "    </tr>\n",
              "    <tr>\n",
              "      <th>5</th>\n",
              "      <td>2.440951</td>\n",
              "      <td>-1.053998</td>\n",
              "      <td>0.144933</td>\n",
              "      <td>-0.756943</td>\n",
              "      <td>2.465727</td>\n",
              "      <td>-1.101421</td>\n",
              "      <td>-1.609139</td>\n",
              "      <td>1</td>\n",
              "    </tr>\n",
              "    <tr>\n",
              "      <th>6</th>\n",
              "      <td>1.184794</td>\n",
              "      <td>-0.336177</td>\n",
              "      <td>-1.949666</td>\n",
              "      <td>-1.769132</td>\n",
              "      <td>0.071755</td>\n",
              "      <td>0.064900</td>\n",
              "      <td>-1.583117</td>\n",
              "      <td>1</td>\n",
              "    </tr>\n",
              "    <tr>\n",
              "      <th>...</th>\n",
              "      <td>...</td>\n",
              "      <td>...</td>\n",
              "      <td>...</td>\n",
              "      <td>...</td>\n",
              "      <td>...</td>\n",
              "      <td>...</td>\n",
              "      <td>...</td>\n",
              "      <td>...</td>\n",
              "    </tr>\n",
              "    <tr>\n",
              "      <th>291</th>\n",
              "      <td>-0.071363</td>\n",
              "      <td>-0.069248</td>\n",
              "      <td>-0.273987</td>\n",
              "      <td>-1.690260</td>\n",
              "      <td>0.603749</td>\n",
              "      <td>0.531429</td>\n",
              "      <td>1.643555</td>\n",
              "      <td>0</td>\n",
              "    </tr>\n",
              "    <tr>\n",
              "      <th>292</th>\n",
              "      <td>-0.741313</td>\n",
              "      <td>-0.538177</td>\n",
              "      <td>-0.022635</td>\n",
              "      <td>1.582923</td>\n",
              "      <td>-0.460239</td>\n",
              "      <td>0.764693</td>\n",
              "      <td>1.643555</td>\n",
              "      <td>0</td>\n",
              "    </tr>\n",
              "    <tr>\n",
              "      <th>293</th>\n",
              "      <td>0.179869</td>\n",
              "      <td>-0.851998</td>\n",
              "      <td>-0.273987</td>\n",
              "      <td>-1.085576</td>\n",
              "      <td>-0.726236</td>\n",
              "      <td>-0.168364</td>\n",
              "      <td>1.799684</td>\n",
              "      <td>0</td>\n",
              "    </tr>\n",
              "    <tr>\n",
              "      <th>294</th>\n",
              "      <td>0.096125</td>\n",
              "      <td>-1.003498</td>\n",
              "      <td>-0.022635</td>\n",
              "      <td>-1.401063</td>\n",
              "      <td>-0.194242</td>\n",
              "      <td>1.464485</td>\n",
              "      <td>1.799684</td>\n",
              "      <td>0</td>\n",
              "    </tr>\n",
              "    <tr>\n",
              "      <th>298</th>\n",
              "      <td>-0.908800</td>\n",
              "      <td>-0.516534</td>\n",
              "      <td>0.563852</td>\n",
              "      <td>1.753812</td>\n",
              "      <td>1.135743</td>\n",
              "      <td>-0.168364</td>\n",
              "      <td>1.994846</td>\n",
              "      <td>0</td>\n",
              "    </tr>\n",
              "  </tbody>\n",
              "</table>\n",
              "<p>248 rows × 8 columns</p>\n",
              "</div>\n",
              "      <button class=\"colab-df-convert\" onclick=\"convertToInteractive('df-a4b4f095-e2aa-455c-8897-776054ff8dd3')\"\n",
              "              title=\"Convert this dataframe to an interactive table.\"\n",
              "              style=\"display:none;\">\n",
              "        \n",
              "  <svg xmlns=\"http://www.w3.org/2000/svg\" height=\"24px\"viewBox=\"0 0 24 24\"\n",
              "       width=\"24px\">\n",
              "    <path d=\"M0 0h24v24H0V0z\" fill=\"none\"/>\n",
              "    <path d=\"M18.56 5.44l.94 2.06.94-2.06 2.06-.94-2.06-.94-.94-2.06-.94 2.06-2.06.94zm-11 1L8.5 8.5l.94-2.06 2.06-.94-2.06-.94L8.5 2.5l-.94 2.06-2.06.94zm10 10l.94 2.06.94-2.06 2.06-.94-2.06-.94-.94-2.06-.94 2.06-2.06.94z\"/><path d=\"M17.41 7.96l-1.37-1.37c-.4-.4-.92-.59-1.43-.59-.52 0-1.04.2-1.43.59L10.3 9.45l-7.72 7.72c-.78.78-.78 2.05 0 2.83L4 21.41c.39.39.9.59 1.41.59.51 0 1.02-.2 1.41-.59l7.78-7.78 2.81-2.81c.8-.78.8-2.07 0-2.86zM5.41 20L4 18.59l7.72-7.72 1.47 1.35L5.41 20z\"/>\n",
              "  </svg>\n",
              "      </button>\n",
              "      \n",
              "  <style>\n",
              "    .colab-df-container {\n",
              "      display:flex;\n",
              "      flex-wrap:wrap;\n",
              "      gap: 12px;\n",
              "    }\n",
              "\n",
              "    .colab-df-convert {\n",
              "      background-color: #E8F0FE;\n",
              "      border: none;\n",
              "      border-radius: 50%;\n",
              "      cursor: pointer;\n",
              "      display: none;\n",
              "      fill: #1967D2;\n",
              "      height: 32px;\n",
              "      padding: 0 0 0 0;\n",
              "      width: 32px;\n",
              "    }\n",
              "\n",
              "    .colab-df-convert:hover {\n",
              "      background-color: #E2EBFA;\n",
              "      box-shadow: 0px 1px 2px rgba(60, 64, 67, 0.3), 0px 1px 3px 1px rgba(60, 64, 67, 0.15);\n",
              "      fill: #174EA6;\n",
              "    }\n",
              "\n",
              "    [theme=dark] .colab-df-convert {\n",
              "      background-color: #3B4455;\n",
              "      fill: #D2E3FC;\n",
              "    }\n",
              "\n",
              "    [theme=dark] .colab-df-convert:hover {\n",
              "      background-color: #434B5C;\n",
              "      box-shadow: 0px 1px 3px 1px rgba(0, 0, 0, 0.15);\n",
              "      filter: drop-shadow(0px 1px 2px rgba(0, 0, 0, 0.3));\n",
              "      fill: #FFFFFF;\n",
              "    }\n",
              "  </style>\n",
              "\n",
              "      <script>\n",
              "        const buttonEl =\n",
              "          document.querySelector('#df-a4b4f095-e2aa-455c-8897-776054ff8dd3 button.colab-df-convert');\n",
              "        buttonEl.style.display =\n",
              "          google.colab.kernel.accessAllowed ? 'block' : 'none';\n",
              "\n",
              "        async function convertToInteractive(key) {\n",
              "          const element = document.querySelector('#df-a4b4f095-e2aa-455c-8897-776054ff8dd3');\n",
              "          const dataTable =\n",
              "            await google.colab.kernel.invokeFunction('convertToInteractive',\n",
              "                                                     [key], {});\n",
              "          if (!dataTable) return;\n",
              "\n",
              "          const docLinkHtml = 'Like what you see? Visit the ' +\n",
              "            '<a target=\"_blank\" href=https://colab.research.google.com/notebooks/data_table.ipynb>data table notebook</a>'\n",
              "            + ' to learn more about interactive tables.';\n",
              "          element.innerHTML = '';\n",
              "          dataTable['output_type'] = 'display_data';\n",
              "          await google.colab.output.renderOutput(dataTable, element);\n",
              "          const docLink = document.createElement('div');\n",
              "          docLink.innerHTML = docLinkHtml;\n",
              "          element.appendChild(docLink);\n",
              "        }\n",
              "      </script>\n",
              "    </div>\n",
              "  </div>\n",
              "  "
            ]
          },
          "metadata": {},
          "execution_count": 52
        }
      ]
    },
    {
      "cell_type": "code",
      "source": [
        "X = df_rebuild.drop(columns=['death_event'])\n",
        "y = df_rebuild.death_event\n",
        "\n",
        "X_s, y_s = smote_method.fit_resample(X, y)\n",
        "X_trains, X_tests, y_trains, y_tests = train_test_split(X_s, y_s, stratify = y_s, test_size=0.2, random_state=5)"
      ],
      "metadata": {
        "id": "0qDyMtT9rlnd"
      },
      "execution_count": null,
      "outputs": []
    },
    {
      "cell_type": "code",
      "source": [
        "print(X_trains.shape) # Data Latih X\n",
        "print(X_tests.shape) # Data Testing X\n",
        "print(y_trains.shape) # Data Latih Y\n",
        "print(y_tests.shape) # Data Testing Y"
      ],
      "metadata": {
        "colab": {
          "base_uri": "https://localhost:8080/"
        },
        "id": "XEHOhz4KrurI",
        "outputId": "168780a0-03a0-44df-9758-9845c63f2fd2"
      },
      "execution_count": null,
      "outputs": [
        {
          "output_type": "stream",
          "name": "stdout",
          "text": [
            "(280, 7)\n",
            "(70, 7)\n",
            "(280,)\n",
            "(70,)\n"
          ]
        }
      ]
    },
    {
      "cell_type": "markdown",
      "source": [
        "Setelah di rebuild, atribut yang digunakan yaitu sebanyak 7"
      ],
      "metadata": {
        "id": "3rI_R_vHrw64"
      }
    },
    {
      "cell_type": "markdown",
      "source": [
        "##### Rebuild Random Forest"
      ],
      "metadata": {
        "id": "o8w-TmiqrBTo"
      }
    },
    {
      "cell_type": "code",
      "source": [
        "modelRFsr = RandomForestClassifier(random_state=0, n_estimators=100)\n",
        "modelRFsr.fit(X_trains,y_trains)\n",
        "y_predRsr = modelRFsr.predict(X_tests)\n",
        "print('Nilai akurasi Model      : ', bold,round((accuracy_score(y_tests, y_predRsr)),2), normal)\n",
        "print('Nilai precision Model    : ', bold,round((precision_score(y_tests, y_predRsr)),2), normal)\n",
        "print('Nilai recall Model       : ', bold,round((recall_score(y_tests, y_predRsr)),2), normal)\n",
        "print('Nilai f1-score Model     : ', bold,round((f1_score(y_tests, y_predRsr)),2), normal)\n",
        "print(classification_report(y_tests, y_predRsr))"
      ],
      "metadata": {
        "colab": {
          "base_uri": "https://localhost:8080/"
        },
        "id": "8uJMgNBOr6mA",
        "outputId": "b3a51361-6a80-49e1-8bcc-e426bc73359f"
      },
      "execution_count": null,
      "outputs": [
        {
          "output_type": "stream",
          "name": "stdout",
          "text": [
            "Nilai akurasi Model      :  \u001b[1m 0.91 \u001b[0m\n",
            "Nilai precision Model    :  \u001b[1m 0.87 \u001b[0m\n",
            "Nilai recall Model       :  \u001b[1m 0.97 \u001b[0m\n",
            "Nilai f1-score Model     :  \u001b[1m 0.92 \u001b[0m\n",
            "              precision    recall  f1-score   support\n",
            "\n",
            "           0       0.97      0.86      0.91        35\n",
            "           1       0.87      0.97      0.92        35\n",
            "\n",
            "    accuracy                           0.91        70\n",
            "   macro avg       0.92      0.91      0.91        70\n",
            "weighted avg       0.92      0.91      0.91        70\n",
            "\n"
          ]
        }
      ]
    },
    {
      "cell_type": "markdown",
      "source": [
        "##### Rebuild ETC"
      ],
      "metadata": {
        "id": "OZbDrc3isO4J"
      }
    },
    {
      "cell_type": "code",
      "source": [
        "modelETCsr = GradientBoostingClassifier(n_estimators=100, random_state=0)\n",
        "modelETCsr.fit(X_trains, y_trains)\n",
        "y_predETCsr = modelETCsr.predict(X_tests)\n",
        "print('Nilai akurasi Model      : ', bold,round((accuracy_score(y_tests, y_predETCsr)),2), normal)\n",
        "print('Nilai precision Model    : ', bold,round((precision_score(y_tests, y_predETCsr)),2), normal)\n",
        "print('Nilai recall Model       : ', bold,round((recall_score(y_tests, y_predETCsr)),2), normal)\n",
        "print('Nilai f1-score Model     : ', bold,round((f1_score(y_tests, y_predETCsr)),2), normal)\n",
        "print('')\n",
        "print(classification_report(y_tests, y_predETCsr))"
      ],
      "metadata": {
        "colab": {
          "base_uri": "https://localhost:8080/"
        },
        "id": "xJHlQEP7sRRA",
        "outputId": "dda3352d-728c-4021-f307-abec2474550f"
      },
      "execution_count": null,
      "outputs": [
        {
          "output_type": "stream",
          "name": "stdout",
          "text": [
            "Nilai akurasi Model      :  \u001b[1m 0.89 \u001b[0m\n",
            "Nilai precision Model    :  \u001b[1m 0.85 \u001b[0m\n",
            "Nilai recall Model       :  \u001b[1m 0.94 \u001b[0m\n",
            "Nilai f1-score Model     :  \u001b[1m 0.89 \u001b[0m\n",
            "\n",
            "              precision    recall  f1-score   support\n",
            "\n",
            "           0       0.94      0.83      0.88        35\n",
            "           1       0.85      0.94      0.89        35\n",
            "\n",
            "    accuracy                           0.89        70\n",
            "   macro avg       0.89      0.89      0.89        70\n",
            "weighted avg       0.89      0.89      0.89        70\n",
            "\n"
          ]
        }
      ]
    },
    {
      "cell_type": "markdown",
      "source": [
        "## **Summary**"
      ],
      "metadata": {
        "id": "zueKhxDluSRG"
      }
    },
    {
      "cell_type": "markdown",
      "source": [
        "Jadi kesimpulan dari model yang telah di bangun, kami akan tetap menggunakan Model Random Forest dan ETC (Extra Tress Classifier) pada saat belum dilakukan rebuild. Karena performansi dari kedua model tersebut jauh lebih baik sebelum dilakukan rebuild. "
      ],
      "metadata": {
        "id": "vo0cb_iYI1EN"
      }
    },
    {
      "cell_type": "markdown",
      "source": [
        "## G. Model Pengujian"
      ],
      "metadata": {
        "id": "HGXJHCUhgF56"
      }
    },
    {
      "cell_type": "code",
      "source": [
        "data['age'] = data['age'].astype(int)"
      ],
      "metadata": {
        "id": "ki9AgOb5K0eZ"
      },
      "execution_count": null,
      "outputs": []
    },
    {
      "cell_type": "code",
      "source": [
        "data"
      ],
      "metadata": {
        "colab": {
          "base_uri": "https://localhost:8080/",
          "height": 424
        },
        "id": "irmQzq2kLE4q",
        "outputId": "54c51675-3be6-4c11-e0ee-d6a1a66f4600"
      },
      "execution_count": null,
      "outputs": [
        {
          "output_type": "execute_result",
          "data": {
            "text/plain": [
              "     age  anaemia  creatinine_phosphokinase  diabetes  ejection_fraction  \\\n",
              "0     75        0                       582         0                 20   \n",
              "1     55        0                      7861         0                 38   \n",
              "2     65        0                       146         0                 20   \n",
              "3     50        1                       111         0                 20   \n",
              "4     65        1                       160         1                 20   \n",
              "..   ...      ...                       ...       ...                ...   \n",
              "294   62        0                        61         1                 38   \n",
              "295   55        0                      1820         0                 38   \n",
              "296   45        0                      2060         1                 60   \n",
              "297   45        0                      2413         0                 38   \n",
              "298   50        0                       196         0                 45   \n",
              "\n",
              "     high_blood_pressure  platelets  serum_creatinine  serum_sodium  sex  \\\n",
              "0                      1  265000.00               1.9           130    1   \n",
              "1                      0  263358.03               1.1           136    1   \n",
              "2                      0  162000.00               1.3           129    1   \n",
              "3                      0  210000.00               1.9           137    1   \n",
              "4                      0  327000.00               2.7           116    0   \n",
              "..                   ...        ...               ...           ...  ...   \n",
              "294                    1  155000.00               1.1           143    1   \n",
              "295                    0  270000.00               1.2           139    0   \n",
              "296                    0  742000.00               0.8           138    0   \n",
              "297                    0  140000.00               1.4           140    1   \n",
              "298                    0  395000.00               1.6           136    1   \n",
              "\n",
              "     smoking  time  DEATH_EVENT  \n",
              "0          0     4            1  \n",
              "1          0     6            1  \n",
              "2          1     7            1  \n",
              "3          0     7            1  \n",
              "4          0     8            1  \n",
              "..       ...   ...          ...  \n",
              "294        1   270            0  \n",
              "295        0   271            0  \n",
              "296        0   278            0  \n",
              "297        1   280            0  \n",
              "298        1   285            0  \n",
              "\n",
              "[299 rows x 13 columns]"
            ],
            "text/html": [
              "\n",
              "  <div id=\"df-9ea79615-5319-4a42-ae7c-48adc066e550\">\n",
              "    <div class=\"colab-df-container\">\n",
              "      <div>\n",
              "<style scoped>\n",
              "    .dataframe tbody tr th:only-of-type {\n",
              "        vertical-align: middle;\n",
              "    }\n",
              "\n",
              "    .dataframe tbody tr th {\n",
              "        vertical-align: top;\n",
              "    }\n",
              "\n",
              "    .dataframe thead th {\n",
              "        text-align: right;\n",
              "    }\n",
              "</style>\n",
              "<table border=\"1\" class=\"dataframe\">\n",
              "  <thead>\n",
              "    <tr style=\"text-align: right;\">\n",
              "      <th></th>\n",
              "      <th>age</th>\n",
              "      <th>anaemia</th>\n",
              "      <th>creatinine_phosphokinase</th>\n",
              "      <th>diabetes</th>\n",
              "      <th>ejection_fraction</th>\n",
              "      <th>high_blood_pressure</th>\n",
              "      <th>platelets</th>\n",
              "      <th>serum_creatinine</th>\n",
              "      <th>serum_sodium</th>\n",
              "      <th>sex</th>\n",
              "      <th>smoking</th>\n",
              "      <th>time</th>\n",
              "      <th>DEATH_EVENT</th>\n",
              "    </tr>\n",
              "  </thead>\n",
              "  <tbody>\n",
              "    <tr>\n",
              "      <th>0</th>\n",
              "      <td>75</td>\n",
              "      <td>0</td>\n",
              "      <td>582</td>\n",
              "      <td>0</td>\n",
              "      <td>20</td>\n",
              "      <td>1</td>\n",
              "      <td>265000.00</td>\n",
              "      <td>1.9</td>\n",
              "      <td>130</td>\n",
              "      <td>1</td>\n",
              "      <td>0</td>\n",
              "      <td>4</td>\n",
              "      <td>1</td>\n",
              "    </tr>\n",
              "    <tr>\n",
              "      <th>1</th>\n",
              "      <td>55</td>\n",
              "      <td>0</td>\n",
              "      <td>7861</td>\n",
              "      <td>0</td>\n",
              "      <td>38</td>\n",
              "      <td>0</td>\n",
              "      <td>263358.03</td>\n",
              "      <td>1.1</td>\n",
              "      <td>136</td>\n",
              "      <td>1</td>\n",
              "      <td>0</td>\n",
              "      <td>6</td>\n",
              "      <td>1</td>\n",
              "    </tr>\n",
              "    <tr>\n",
              "      <th>2</th>\n",
              "      <td>65</td>\n",
              "      <td>0</td>\n",
              "      <td>146</td>\n",
              "      <td>0</td>\n",
              "      <td>20</td>\n",
              "      <td>0</td>\n",
              "      <td>162000.00</td>\n",
              "      <td>1.3</td>\n",
              "      <td>129</td>\n",
              "      <td>1</td>\n",
              "      <td>1</td>\n",
              "      <td>7</td>\n",
              "      <td>1</td>\n",
              "    </tr>\n",
              "    <tr>\n",
              "      <th>3</th>\n",
              "      <td>50</td>\n",
              "      <td>1</td>\n",
              "      <td>111</td>\n",
              "      <td>0</td>\n",
              "      <td>20</td>\n",
              "      <td>0</td>\n",
              "      <td>210000.00</td>\n",
              "      <td>1.9</td>\n",
              "      <td>137</td>\n",
              "      <td>1</td>\n",
              "      <td>0</td>\n",
              "      <td>7</td>\n",
              "      <td>1</td>\n",
              "    </tr>\n",
              "    <tr>\n",
              "      <th>4</th>\n",
              "      <td>65</td>\n",
              "      <td>1</td>\n",
              "      <td>160</td>\n",
              "      <td>1</td>\n",
              "      <td>20</td>\n",
              "      <td>0</td>\n",
              "      <td>327000.00</td>\n",
              "      <td>2.7</td>\n",
              "      <td>116</td>\n",
              "      <td>0</td>\n",
              "      <td>0</td>\n",
              "      <td>8</td>\n",
              "      <td>1</td>\n",
              "    </tr>\n",
              "    <tr>\n",
              "      <th>...</th>\n",
              "      <td>...</td>\n",
              "      <td>...</td>\n",
              "      <td>...</td>\n",
              "      <td>...</td>\n",
              "      <td>...</td>\n",
              "      <td>...</td>\n",
              "      <td>...</td>\n",
              "      <td>...</td>\n",
              "      <td>...</td>\n",
              "      <td>...</td>\n",
              "      <td>...</td>\n",
              "      <td>...</td>\n",
              "      <td>...</td>\n",
              "    </tr>\n",
              "    <tr>\n",
              "      <th>294</th>\n",
              "      <td>62</td>\n",
              "      <td>0</td>\n",
              "      <td>61</td>\n",
              "      <td>1</td>\n",
              "      <td>38</td>\n",
              "      <td>1</td>\n",
              "      <td>155000.00</td>\n",
              "      <td>1.1</td>\n",
              "      <td>143</td>\n",
              "      <td>1</td>\n",
              "      <td>1</td>\n",
              "      <td>270</td>\n",
              "      <td>0</td>\n",
              "    </tr>\n",
              "    <tr>\n",
              "      <th>295</th>\n",
              "      <td>55</td>\n",
              "      <td>0</td>\n",
              "      <td>1820</td>\n",
              "      <td>0</td>\n",
              "      <td>38</td>\n",
              "      <td>0</td>\n",
              "      <td>270000.00</td>\n",
              "      <td>1.2</td>\n",
              "      <td>139</td>\n",
              "      <td>0</td>\n",
              "      <td>0</td>\n",
              "      <td>271</td>\n",
              "      <td>0</td>\n",
              "    </tr>\n",
              "    <tr>\n",
              "      <th>296</th>\n",
              "      <td>45</td>\n",
              "      <td>0</td>\n",
              "      <td>2060</td>\n",
              "      <td>1</td>\n",
              "      <td>60</td>\n",
              "      <td>0</td>\n",
              "      <td>742000.00</td>\n",
              "      <td>0.8</td>\n",
              "      <td>138</td>\n",
              "      <td>0</td>\n",
              "      <td>0</td>\n",
              "      <td>278</td>\n",
              "      <td>0</td>\n",
              "    </tr>\n",
              "    <tr>\n",
              "      <th>297</th>\n",
              "      <td>45</td>\n",
              "      <td>0</td>\n",
              "      <td>2413</td>\n",
              "      <td>0</td>\n",
              "      <td>38</td>\n",
              "      <td>0</td>\n",
              "      <td>140000.00</td>\n",
              "      <td>1.4</td>\n",
              "      <td>140</td>\n",
              "      <td>1</td>\n",
              "      <td>1</td>\n",
              "      <td>280</td>\n",
              "      <td>0</td>\n",
              "    </tr>\n",
              "    <tr>\n",
              "      <th>298</th>\n",
              "      <td>50</td>\n",
              "      <td>0</td>\n",
              "      <td>196</td>\n",
              "      <td>0</td>\n",
              "      <td>45</td>\n",
              "      <td>0</td>\n",
              "      <td>395000.00</td>\n",
              "      <td>1.6</td>\n",
              "      <td>136</td>\n",
              "      <td>1</td>\n",
              "      <td>1</td>\n",
              "      <td>285</td>\n",
              "      <td>0</td>\n",
              "    </tr>\n",
              "  </tbody>\n",
              "</table>\n",
              "<p>299 rows × 13 columns</p>\n",
              "</div>\n",
              "      <button class=\"colab-df-convert\" onclick=\"convertToInteractive('df-9ea79615-5319-4a42-ae7c-48adc066e550')\"\n",
              "              title=\"Convert this dataframe to an interactive table.\"\n",
              "              style=\"display:none;\">\n",
              "        \n",
              "  <svg xmlns=\"http://www.w3.org/2000/svg\" height=\"24px\"viewBox=\"0 0 24 24\"\n",
              "       width=\"24px\">\n",
              "    <path d=\"M0 0h24v24H0V0z\" fill=\"none\"/>\n",
              "    <path d=\"M18.56 5.44l.94 2.06.94-2.06 2.06-.94-2.06-.94-.94-2.06-.94 2.06-2.06.94zm-11 1L8.5 8.5l.94-2.06 2.06-.94-2.06-.94L8.5 2.5l-.94 2.06-2.06.94zm10 10l.94 2.06.94-2.06 2.06-.94-2.06-.94-.94-2.06-.94 2.06-2.06.94z\"/><path d=\"M17.41 7.96l-1.37-1.37c-.4-.4-.92-.59-1.43-.59-.52 0-1.04.2-1.43.59L10.3 9.45l-7.72 7.72c-.78.78-.78 2.05 0 2.83L4 21.41c.39.39.9.59 1.41.59.51 0 1.02-.2 1.41-.59l7.78-7.78 2.81-2.81c.8-.78.8-2.07 0-2.86zM5.41 20L4 18.59l7.72-7.72 1.47 1.35L5.41 20z\"/>\n",
              "  </svg>\n",
              "      </button>\n",
              "      \n",
              "  <style>\n",
              "    .colab-df-container {\n",
              "      display:flex;\n",
              "      flex-wrap:wrap;\n",
              "      gap: 12px;\n",
              "    }\n",
              "\n",
              "    .colab-df-convert {\n",
              "      background-color: #E8F0FE;\n",
              "      border: none;\n",
              "      border-radius: 50%;\n",
              "      cursor: pointer;\n",
              "      display: none;\n",
              "      fill: #1967D2;\n",
              "      height: 32px;\n",
              "      padding: 0 0 0 0;\n",
              "      width: 32px;\n",
              "    }\n",
              "\n",
              "    .colab-df-convert:hover {\n",
              "      background-color: #E2EBFA;\n",
              "      box-shadow: 0px 1px 2px rgba(60, 64, 67, 0.3), 0px 1px 3px 1px rgba(60, 64, 67, 0.15);\n",
              "      fill: #174EA6;\n",
              "    }\n",
              "\n",
              "    [theme=dark] .colab-df-convert {\n",
              "      background-color: #3B4455;\n",
              "      fill: #D2E3FC;\n",
              "    }\n",
              "\n",
              "    [theme=dark] .colab-df-convert:hover {\n",
              "      background-color: #434B5C;\n",
              "      box-shadow: 0px 1px 3px 1px rgba(0, 0, 0, 0.15);\n",
              "      filter: drop-shadow(0px 1px 2px rgba(0, 0, 0, 0.3));\n",
              "      fill: #FFFFFF;\n",
              "    }\n",
              "  </style>\n",
              "\n",
              "      <script>\n",
              "        const buttonEl =\n",
              "          document.querySelector('#df-9ea79615-5319-4a42-ae7c-48adc066e550 button.colab-df-convert');\n",
              "        buttonEl.style.display =\n",
              "          google.colab.kernel.accessAllowed ? 'block' : 'none';\n",
              "\n",
              "        async function convertToInteractive(key) {\n",
              "          const element = document.querySelector('#df-9ea79615-5319-4a42-ae7c-48adc066e550');\n",
              "          const dataTable =\n",
              "            await google.colab.kernel.invokeFunction('convertToInteractive',\n",
              "                                                     [key], {});\n",
              "          if (!dataTable) return;\n",
              "\n",
              "          const docLinkHtml = 'Like what you see? Visit the ' +\n",
              "            '<a target=\"_blank\" href=https://colab.research.google.com/notebooks/data_table.ipynb>data table notebook</a>'\n",
              "            + ' to learn more about interactive tables.';\n",
              "          element.innerHTML = '';\n",
              "          dataTable['output_type'] = 'display_data';\n",
              "          await google.colab.output.renderOutput(dataTable, element);\n",
              "          const docLink = document.createElement('div');\n",
              "          docLink.innerHTML = docLinkHtml;\n",
              "          element.appendChild(docLink);\n",
              "        }\n",
              "      </script>\n",
              "    </div>\n",
              "  </div>\n",
              "  "
            ]
          },
          "metadata": {},
          "execution_count": 58
        }
      ]
    },
    {
      "cell_type": "code",
      "source": [
        "# Masukan data berdasarkan tabel diatas, sesuaikan inputnya dengan apa yang diminta.\n",
        "\n",
        "age         = int(input('Umur                           :'))\n",
        "anaemia     = int(input('Anemia (Tidak=0, Iya=1)        :'))\n",
        "creatin     = float(input('Creatinine phosphokinase       :'))\n",
        "diabetes    = int(input('Diabtes (Tidak=0, Iya=1)       :'))\n",
        "ejectfrac   = float(input('Ejection Fraction              :'))\n",
        "hipertensi  = int(input('Hipertensi (Tidak=0, Iya=1)    :'))\n",
        "platelets   = float(input('Platelets                      :'))\n",
        "serum_c     = float(input('Serum creatinine               :'))\n",
        "serum_s     = float(input('Serum sodium                   :'))\n",
        "sex         = int(input('Gender (Perempuan=0, Pria=1)   :'))\n",
        "smoking     = int(input('Perokok (Tidak=0, Iya=1)       :'))\n",
        "time        = float(input('Time                           :'))\n",
        "metode      = input('Metode Apa yang akan digunakan :')\n",
        "\n",
        "x_input=[[age, anaemia, creatin, diabetes, ejectfrac, hipertensi, platelets, serum_c, serum_s, sex, smoking, time]]\n",
        "x_input=sc.fit_transform(x_input)\n",
        "x_input=x_input.reshape(12, )\n",
        "\n",
        "if metode == 'Random Forest':\n",
        "    val_predict = modelRFs.predict([x_input])\n",
        "elif metode ==  'ETC':\n",
        "    val_predict = modelETCs.predict([x_input])\n",
        "else:\n",
        "    print('ERROR!')\n",
        "\n",
        "print('')\n",
        "if val_predict == 0:\n",
        "    print('Prediksi adalah 0, yang berarti diprediksi tidak meninggal')\n",
        "elif val_predict == 1:\n",
        "    print('Prediksi adalah 1, yang berarti diprediksi meninggal')\n",
        "else:\n",
        "    print('Error!')"
      ],
      "metadata": {
        "colab": {
          "base_uri": "https://localhost:8080/"
        },
        "id": "Gqw7OeragH-w",
        "outputId": "fd5aee69-f3a6-43b9-997f-1bd427a31e7c"
      },
      "execution_count": null,
      "outputs": [
        {
          "output_type": "stream",
          "name": "stdout",
          "text": [
            "Umur                           :75\n",
            "Anemia (Tidak=0, Iya=1)        :0\n",
            "Creatinine phosphokinase       :582\n",
            "Diabtes (Tidak=0, Iya=1)       :0\n",
            "Ejection Fraction              :20\n",
            "Hipertensi (Tidak=0, Iya=1)    :1\n",
            "Platelets                      :265000\n",
            "Serum creatinine               :1.9\n",
            "Serum sodium                   :130\n",
            "Gender (Perempuan=0, Pria=1)   :1\n",
            "Perokok (Tidak=0, Iya=1)       :0\n",
            "Time                           :4\n",
            "Metode Apa yang akan digunakan :ETC\n",
            "\n",
            "Prediksi adalah 1, yang berarti diprediksi meninggal\n"
          ]
        }
      ]
    },
    {
      "cell_type": "markdown",
      "source": [
        "# H. Kesimpulan"
      ],
      "metadata": {
        "id": "LpSBs52V8kGq"
      }
    },
    {
      "cell_type": "markdown",
      "source": [
        "Berdasarkan hasil analalisis keseluruhan, dapat ditarik kesimpulan bahwa:\n",
        "1. Jumlah pasien yang meninggal akibat penyakit jantung yaitu sebesar 67.89%\n",
        "2. Lebih banyak pasien pengidap penyakit jantung yang mengalami kematian ketika melakukan follow up sebelum kurun waktu 100 hari\n",
        "3. Untuk data feature, kami menggunakan kesuluruhan atribut pada dataset untuk melakukan prediksi klasifikasi, yaitu: umur, anemia, creatinine phosphokinase, diabets, ejection fraction, hipertensi, platelets, serum creatinine, serum sodium, sex, smoking, dan time.\n",
        "4. Karena data yang kami gunakan termasuk kedalam imbalanced data, selanjutnya kami menerapkan Teknik SMOTE untuk menghandling atau memperbaiki imbalanced data tersebut\n",
        "5. Terdapat perbedaan yg siginifikan pada performansi model ensamble ketika sebelum dilakukan Teknik SMOTE dan Sesudahnya.\n",
        "6. Rata-rata setiap model memiliki performansi yang cukup baik ketika telah diterapkan teknik SMOTE, terutama pada nilai akurasi dan presisi\n",
        "7. Setelah melakukan analisis dan beberapa kali eksperimen, kami akhirnya menggunakan 2 metode. Yaitu Random Forest dan Extra Trees Classifier\n",
        "8. Berikut adalah penjabaran performansi dari setiap model yang digunakan:\n",
        "- **Random Forest:**<br>\n",
        "Nilai akurasi Model      :   0.89 <br>\n",
        "Nilai precision Model    :   0.85 <br>\n",
        "Nilai recall Model       :   0.94 <br>\n",
        "Nilai f1-score Model     :   0.89 <br>\n",
        "\n",
        "- **Extra Trees Classifier:**<br>\n",
        "Nilai akurasi Model      :   0.96 <br>\n",
        "Nilai precision Model    :   0.94 <br>\n",
        "Nilai recall Model       :   0.97 <br>\n",
        "Nilai f1-score Model     :   0.96 <br>"
      ],
      "metadata": {
        "id": "IvCu-jdCE3XI"
      }
    },
    {
      "cell_type": "markdown",
      "source": [
        "### Save Model"
      ],
      "metadata": {
        "id": "xp0ar7vqmwtr"
      }
    },
    {
      "cell_type": "code",
      "source": [
        "pickle_file_dir = open(\"modelRF.pkl\", \"wb\")\n",
        "\n",
        "pickle.dump(modelRFs, pickle_file_dir)\n",
        "pickle_file_dir.close()"
      ],
      "metadata": {
        "id": "fgUK42Z_myzs"
      },
      "execution_count": null,
      "outputs": []
    },
    {
      "cell_type": "code",
      "source": [
        "pickle_file_dir = open(\"modelETC.pkl\", \"wb\")\n",
        "\n",
        "pickle.dump(modelETCs, pickle_file_dir)\n",
        "pickle_file_dir.close()"
      ],
      "metadata": {
        "id": "XG1RF3lGm8wE"
      },
      "execution_count": null,
      "outputs": []
    },
    {
      "cell_type": "code",
      "source": [
        "pickle_file_dir = open(\"scaler.pkl\", \"wb\")\n",
        "\n",
        "pickle.dump(sc, pickle_file_dir)\n",
        "pickle_file_dir.close()"
      ],
      "metadata": {
        "id": "zV-2i9FdnAq0"
      },
      "execution_count": null,
      "outputs": []
    }
  ]
}