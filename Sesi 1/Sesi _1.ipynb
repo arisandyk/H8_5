{
 "cells": [
  {
   "cell_type": "markdown",
   "id": "e5fb07e7",
   "metadata": {},
   "source": [
    "## Integers"
   ]
  },
  {
   "cell_type": "code",
   "execution_count": 1,
   "id": "d07e9b0c",
   "metadata": {},
   "outputs": [
    {
     "name": "stdout",
     "output_type": "stream",
     "text": [
      "10\n",
      "<class 'int'>\n"
     ]
    }
   ],
   "source": [
    "print(10)\n",
    "print(type(10))"
   ]
  },
  {
   "cell_type": "markdown",
   "id": "b9ac702b",
   "metadata": {},
   "source": [
    "## Floating-Point Numbers"
   ]
  },
  {
   "cell_type": "code",
   "execution_count": 2,
   "id": "c941a9a8",
   "metadata": {},
   "outputs": [
    {
     "name": "stdout",
     "output_type": "stream",
     "text": [
      "4.2\n",
      "<class 'float'>\n",
      "4.0\n",
      "0.2\n",
      "4000000.0\n",
      "0.00042\n"
     ]
    }
   ],
   "source": [
    "print(4.2)\n",
    "print(type(4.2))\n",
    "print(4.)\n",
    "print(.2)\n",
    "print(.4e7)\n",
    "print(4.2e-4)"
   ]
  },
  {
   "cell_type": "markdown",
   "id": "ae352563",
   "metadata": {},
   "source": [
    "## Strings"
   ]
  },
  {
   "cell_type": "code",
   "execution_count": 3,
   "id": "7d6d0a67",
   "metadata": {},
   "outputs": [
    {
     "name": "stdout",
     "output_type": "stream",
     "text": [
      "Hacktiv8\n",
      "<class 'str'>\n",
      "Ari Sandy\n"
     ]
    }
   ],
   "source": [
    "print(\"Hacktiv8\")\n",
    "print(type(\"Hacktiv8\"))\n",
    "print(\"Ari\" + \" \" + \"Sandy\")"
   ]
  },
  {
   "cell_type": "markdown",
   "id": "29ffa9fe",
   "metadata": {},
   "source": [
    "## Boolean"
   ]
  },
  {
   "cell_type": "code",
   "execution_count": 4,
   "id": "4e2ec535",
   "metadata": {},
   "outputs": [
    {
     "name": "stdout",
     "output_type": "stream",
     "text": [
      "<class 'bool'>\n",
      "<class 'bool'>\n"
     ]
    }
   ],
   "source": [
    "print(type(True))\n",
    "print(type(False))"
   ]
  },
  {
   "cell_type": "markdown",
   "id": "dd511416",
   "metadata": {},
   "source": [
    "## Operators and Expression"
   ]
  },
  {
   "cell_type": "markdown",
   "id": "18ab43c7",
   "metadata": {},
   "source": [
    "### Arithmetic Operators"
   ]
  },
  {
   "cell_type": "code",
   "execution_count": 71,
   "id": "ee0bb73a",
   "metadata": {},
   "outputs": [
    {
     "name": "stdout",
     "output_type": "stream",
     "text": [
      "7\n",
      "1\n",
      "12\n",
      "1.3333333333333333\n",
      "1\n",
      "1\n",
      "64\n"
     ]
    }
   ],
   "source": [
    "a = 4\n",
    "b = 3\n",
    "\n",
    "\n",
    "print(a + b)\n",
    "print(a - b)\n",
    "print(a * b)\n",
    "print(a / b) #hasil dari bagi selalu jenis float walau hasil dibagi rata oleh pembagi\n",
    "print(a // b) #integer division, akan membulatkan\n",
    "print(a % b)\n",
    "print(a ** b)"
   ]
  },
  {
   "cell_type": "markdown",
   "id": "40059f77",
   "metadata": {},
   "source": [
    "### Comparison Operators"
   ]
  },
  {
   "cell_type": "code",
   "execution_count": 10,
   "id": "d6756d30",
   "metadata": {},
   "outputs": [
    {
     "name": "stdout",
     "output_type": "stream",
     "text": [
      "False\n",
      "True\n",
      "True\n",
      "False\n",
      "True\n",
      "True\n",
      "True\n"
     ]
    }
   ],
   "source": [
    "a = 10\n",
    "b = 20\n",
    "print(a ==b)\n",
    "print(a != b)\n",
    "print(a <= b)\n",
    "print(a >= b)\n",
    "\n",
    "a = 30\n",
    "b = 30\n",
    "print(a == b)\n",
    "print(a <= b)\n",
    "print(a >= b)"
   ]
  },
  {
   "cell_type": "markdown",
   "id": "ee831bbf",
   "metadata": {},
   "source": [
    "## String Manipulation"
   ]
  },
  {
   "cell_type": "code",
   "execution_count": 30,
   "id": "571cf3ce",
   "metadata": {},
   "outputs": [
    {
     "name": "stdout",
     "output_type": "stream",
     "text": [
      "foobar\n",
      "foobarbaz\n",
      "Hacktiv8 PTP\n",
      "==========\n",
      "Hacktiv8\n",
      "==========\n",
      "hacktiv8\n",
      "==========\n",
      "hACKtiv8\n",
      "==========\n",
      "Hacktiv8\n",
      "==========\n",
      "HACKTIV8\n"
     ]
    }
   ],
   "source": [
    "# + operators\n",
    "s = 'foo'\n",
    "t = 'bar'\n",
    "u = 'baz'\n",
    "\n",
    "print(s + t)\n",
    "print(s + t + u)\n",
    "print('Hacktiv8 ' + 'PTP')\n",
    "# Case Conversion\n",
    "s = 'HackTIV8'\n",
    "print(\"==========\")\n",
    "# Capitalize\n",
    "print(s.capitalize())\n",
    "print(\"==========\")\n",
    "# Lower\n",
    "print(s.lower())\n",
    "print(\"==========\")\n",
    "# Swapcase\n",
    "print(s.swapcase())\n",
    "print(\"==========\")\n",
    "# Title\n",
    "print(s.title())\n",
    "print(\"==========\")\n",
    "# Uppercase\n",
    "print(s.upper())"
   ]
  },
  {
   "cell_type": "code",
   "execution_count": 27,
   "id": "489d30de",
   "metadata": {},
   "outputs": [
    {
     "data": {
      "text/plain": [
       "'foo.foo.foo.foo.'"
      ]
     },
     "execution_count": 27,
     "metadata": {},
     "output_type": "execute_result"
    }
   ],
   "source": [
    "# * operators\n",
    "s = 'foo.'\n",
    "s * 4"
   ]
  },
  {
   "cell_type": "code",
   "execution_count": 28,
   "id": "346ed082",
   "metadata": {},
   "outputs": [
    {
     "name": "stdout",
     "output_type": "stream",
     "text": [
      "True\n",
      "False\n"
     ]
    }
   ],
   "source": [
    "# in operators\n",
    "s = 'foo'\n",
    "print(s in 'That food for us')\n",
    "print(s in 'That good for us')"
   ]
  },
  {
   "cell_type": "markdown",
   "id": "52d88363",
   "metadata": {},
   "source": [
    "## Lists"
   ]
  },
  {
   "cell_type": "code",
   "execution_count": 12,
   "id": "03a2f064",
   "metadata": {},
   "outputs": [
    {
     "name": "stdout",
     "output_type": "stream",
     "text": [
      "['foo', 'bar', 'baz', 'qux']\n"
     ]
    }
   ],
   "source": [
    "a = ['foo', 'bar', 'baz', 'qux']\n",
    "print(a)"
   ]
  },
  {
   "cell_type": "markdown",
   "id": "af58135f",
   "metadata": {},
   "source": [
    "### Lists Are Ordered"
   ]
  },
  {
   "cell_type": "code",
   "execution_count": 13,
   "id": "6e41a755",
   "metadata": {},
   "outputs": [
    {
     "data": {
      "text/plain": [
       "False"
      ]
     },
     "execution_count": 13,
     "metadata": {},
     "output_type": "execute_result"
    }
   ],
   "source": [
    "a = ['foo', 'bar', 'baz', 'qux']\n",
    "b = ['baz', 'qux', 'bar', 'foo']\n",
    "a == b"
   ]
  },
  {
   "cell_type": "markdown",
   "id": "9cada5ac",
   "metadata": {},
   "source": [
    "### Lists Can Contain Arbitrary Objects"
   ]
  },
  {
   "cell_type": "code",
   "execution_count": 14,
   "id": "4c636f04",
   "metadata": {},
   "outputs": [
    {
     "name": "stdout",
     "output_type": "stream",
     "text": [
      "[21.42, 'foobar', 3, 4, 'bark', False, 3.14159]\n"
     ]
    }
   ],
   "source": [
    "a = [21.42, 'foobar', 3, 4, 'bark', False, 3.14159]\n",
    "print(a)"
   ]
  },
  {
   "cell_type": "markdown",
   "id": "fc8af5c6",
   "metadata": {},
   "source": [
    "### List Elements Can Be Accessed by Index"
   ]
  },
  {
   "cell_type": "code",
   "execution_count": 20,
   "id": "f1fac946",
   "metadata": {},
   "outputs": [
    {
     "name": "stdout",
     "output_type": "stream",
     "text": [
      "foo\n",
      "corge\n",
      "==========\n",
      "['foo', 'bar', 'baz', 'qux', 'quux', 'corge']\n",
      "['foo', 'bar', 'baz', 'qux', 'quux', 'corge', 'grault', 'garply']\n",
      "['foo', 'bar', 'baz', 'qux', 'quux', 'corge', 'foo', 'bar', 'baz', 'qux', 'quux', 'corge']\n",
      "==========\n",
      "['foo', 'bar', 'baz', 'qux', 'quux', 'corge']\n",
      "6\n",
      "bar\n",
      "qux\n",
      "==========\n"
     ]
    }
   ],
   "source": [
    "a = ['foo', 'bar', 'baz', 'qux', 'quux', 'corge']\n",
    "print(a[0])\n",
    "print(a[5])\n",
    "a[2:5]\n",
    "print(\"==========\")\n",
    "#Operator rangkaian (+) dan replikasi (*)\n",
    "print(a)\n",
    "print(a + ['grault', 'garply'])\n",
    "print(a * 2)\n",
    "print(\"==========\")\n",
    "#lenght atau len(), min(), max()\n",
    "print(a)\n",
    "print(len(a))\n",
    "print(min(a))\n",
    "print(max(a))\n",
    "#Max dan Min pada string dilihat dari huruf terbesar (urutan alfabet)\n",
    "print(\"==========\")"
   ]
  },
  {
   "cell_type": "markdown",
   "id": "9c3270d5",
   "metadata": {},
   "source": [
    "### Modifying a Single List Value"
   ]
  },
  {
   "cell_type": "code",
   "execution_count": 37,
   "id": "84735b01",
   "metadata": {},
   "outputs": [
    {
     "name": "stdout",
     "output_type": "stream",
     "text": [
      "['foo', 'bar', 'baz', 'qux', 'quux', 'corge']\n",
      "==========\n",
      "['foo', 'bar', 10, 'qux', 'quux', 'corge']\n",
      "['foo', 'bar', 10, 'qux', 'quux', 20]\n",
      "==========\n",
      "['foo', 'bar', 10, 'quux', 20]\n"
     ]
    }
   ],
   "source": [
    "a = ['foo', 'bar', 'baz', 'qux', 'quux', 'corge']\n",
    "print(a)\n",
    "print(\"==========\")\n",
    "a[2] = 10\n",
    "print(a)\n",
    "a[-1] = 20\n",
    "print(a)\n",
    "print(\"==========\")\n",
    "#Item pada list a dapat dihapus dengan del command\n",
    "del a[3]\n",
    "print(a)"
   ]
  },
  {
   "cell_type": "markdown",
   "id": "49ba5225",
   "metadata": {},
   "source": [
    "### Modifying Multiple List Values"
   ]
  },
  {
   "cell_type": "code",
   "execution_count": 38,
   "id": "6afc56a5",
   "metadata": {},
   "outputs": [
    {
     "name": "stdout",
     "output_type": "stream",
     "text": [
      "['bar', 'baz', 'qux']\n",
      "['foo', 1.1, 2.2, 3.3, 4.4, 5.5, 'quux', 'corge']\n"
     ]
    }
   ],
   "source": [
    "a = ['foo', 'bar', 'baz', 'qux', 'quux', 'corge']\n",
    "print(a[1:4])\n",
    "a[1:4] = [1.1, 2.2, 3.3, 4.4, 5.5]\n",
    "print(a)"
   ]
  },
  {
   "cell_type": "markdown",
   "id": "ba8c0310",
   "metadata": {},
   "source": [
    "## Python Tuples"
   ]
  },
  {
   "cell_type": "markdown",
   "id": "0885254d",
   "metadata": {},
   "source": [
    "### Defining and Using Tuples"
   ]
  },
  {
   "cell_type": "code",
   "execution_count": 41,
   "id": "4639da6b",
   "metadata": {},
   "outputs": [
    {
     "name": "stdout",
     "output_type": "stream",
     "text": [
      "('foo', 'bar', 'baz', 'qux', 'quux', 'corge')\n",
      "foo\n",
      "corge\n"
     ]
    },
    {
     "data": {
      "text/plain": [
       "'foo'"
      ]
     },
     "execution_count": 41,
     "metadata": {},
     "output_type": "execute_result"
    }
   ],
   "source": [
    "t = ('foo', 'bar', 'baz', 'qux', 'quux', 'corge')\n",
    "print(t)\n",
    "print(t[0])\n",
    "print(t[-1])\n",
    "\n",
    "# packing and unpacking (pengepakan dan pembongkaran)\n",
    "(s1, s2, s3, s4) = ('foo', 'bar', 'baz', 'qux')\n",
    "s1"
   ]
  },
  {
   "cell_type": "markdown",
   "id": "e0624175",
   "metadata": {},
   "source": [
    "## Python Dictionary"
   ]
  },
  {
   "cell_type": "markdown",
   "id": "a4cf286c",
   "metadata": {},
   "source": [
    "### Defining a Dictionary and Accessing Dictionary Values"
   ]
  },
  {
   "cell_type": "code",
   "execution_count": 50,
   "id": "ba9213ab",
   "metadata": {},
   "outputs": [
    {
     "name": "stdout",
     "output_type": "stream",
     "text": [
      "Twins\n",
      "Rockies\n"
     ]
    },
    {
     "data": {
      "text/plain": [
       "{'Colorado': 'Rockies',\n",
       " 'Boston': 'Red Sox',\n",
       " 'Minnesota': 'Twins',\n",
       " 'Milwaukee': 'Brewers',\n",
       " 'Seattle': 'Seahawks',\n",
       " 'Kansas City': 'Royals'}"
      ]
     },
     "execution_count": 50,
     "metadata": {},
     "output_type": "execute_result"
    }
   ],
   "source": [
    "MLB_team = {\n",
    "    'Colorado' : 'Rockies',\n",
    "    'Boston' : 'Red Sox',\n",
    "    'Minnesota' : 'Twins',\n",
    "    'Milwaukee' : 'Brewers',\n",
    "    'Seattle' : 'Mariners'\n",
    "}\n",
    "print(MLB_team['Minnesota'])\n",
    "print(MLB_team['Colorado'])\n",
    "\n",
    "# Adding an entry to an existing dictionary is simply a matter of assigning a new key and value\n",
    "# (Menambahkan entri ke kamus yang ada hanyalah masalah menetapkan kunci dan nilai baru)\n",
    "MLB_team['Kansas City'] = 'Royals'\n",
    "MLB_team"
   ]
  },
  {
   "cell_type": "code",
   "execution_count": 54,
   "id": "973acfae",
   "metadata": {},
   "outputs": [
    {
     "data": {
      "text/plain": [
       "{'Colorado': 'Rockies',\n",
       " 'Boston': 'Red Sox',\n",
       " 'Minnesota': 'Twins',\n",
       " 'Milwaukee': 'Brewers',\n",
       " 'Kansas City': 'Royals'}"
      ]
     },
     "execution_count": 54,
     "metadata": {},
     "output_type": "execute_result"
    }
   ],
   "source": [
    "# If you want to update an entry, you can just assign a new value to an existing key\n",
    "MLB_team['Seattle'] = 'Seahawks'\n",
    "MLB_team\n",
    "\n",
    "# To delete an entry, use the del statement, specifying the key to delete\n",
    "del MLB_team['Seattle']\n",
    "MLB_team"
   ]
  },
  {
   "cell_type": "markdown",
   "id": "57abfad9",
   "metadata": {},
   "source": [
    "### Building a Dictionary Incrementally"
   ]
  },
  {
   "cell_type": "code",
   "execution_count": 58,
   "id": "688f1e2b",
   "metadata": {},
   "outputs": [
    {
     "name": "stdout",
     "output_type": "stream",
     "text": [
      "Hack\n",
      "PTP\n",
      "['Ralph', 'Betty', 'Joey']\n",
      "Betty\n",
      "{'dog': 'Fido', 'cat': 'Sox'}\n",
      "Sox\n"
     ]
    }
   ],
   "source": [
    "person = {}\n",
    "type(person)\n",
    "\n",
    "person['fname'] = 'Hack'\n",
    "person['lname'] = 'PTP'\n",
    "person['age'] = 51\n",
    "person['spouse'] = 'Edna'\n",
    "person['children'] = ['Ralph', 'Betty', 'Joey']\n",
    "person['pets'] = {'dog': 'Fido', 'cat': 'Sox'}\n",
    "person"
   ]
  },
  {
   "cell_type": "code",
   "execution_count": 59,
   "id": "9ff022c3",
   "metadata": {},
   "outputs": [
    {
     "name": "stdout",
     "output_type": "stream",
     "text": [
      "Hack\n",
      "PTP\n",
      "['Ralph', 'Betty', 'Joey']\n",
      "Betty\n",
      "{'dog': 'Fido', 'cat': 'Sox'}\n",
      "Sox\n"
     ]
    }
   ],
   "source": [
    "print(person['fname'])\n",
    "print(person['lname'])\n",
    "print(person['children'])\n",
    "print(person['children'][1])\n",
    "print(person['pets'])\n",
    "print(person['pets']['cat'])"
   ]
  },
  {
   "cell_type": "code",
   "execution_count": 60,
   "id": "a4f942b5",
   "metadata": {},
   "outputs": [
    {
     "name": "stdout",
     "output_type": "stream",
     "text": [
      "dict_items([('a', 10), ('b', 20), ('c', 30)])\n",
      "dict_keys(['a', 'b', 'c'])\n",
      "dict_values([10, 20, 30])\n"
     ]
    }
   ],
   "source": [
    "# Built-in Methods (metode bawaan)\n",
    "d = {'a': 10, 'b': 20, 'c': 30}\n",
    "# items\n",
    "print(d.items())\n",
    "# keys\n",
    "print(d.keys())\n",
    "# values\n",
    "print(d.values())"
   ]
  },
  {
   "cell_type": "markdown",
   "id": "ab4804df",
   "metadata": {},
   "source": [
    "## Line Continuation"
   ]
  },
  {
   "cell_type": "code",
   "execution_count": 66,
   "id": "357ca7d8",
   "metadata": {},
   "outputs": [
    {
     "data": {
      "text/plain": [
       "True"
      ]
     },
     "execution_count": 66,
     "metadata": {},
     "output_type": "execute_result"
    }
   ],
   "source": [
    "person1_age = 42\n",
    "person2_age = 16\n",
    "person3_age = 71\n",
    "\n",
    "someone_is_of_working_age = ((person1_age >= 18 and person1_age <= 65) or\n",
    "(person2_age >= 18 and person2_age <= 65) or (person3_age >= 18 and\n",
    "person3_age <= 65))\n",
    "someone_is_of_working_age"
   ]
  },
  {
   "cell_type": "code",
   "execution_count": 65,
   "id": "c09c2ef4",
   "metadata": {},
   "outputs": [
    {
     "data": {
      "text/plain": [
       "True"
      ]
     },
     "execution_count": 65,
     "metadata": {},
     "output_type": "execute_result"
    }
   ],
   "source": [
    "person1_age = 42\n",
    "person2_age = 16\n",
    "person3_age = 71\n",
    "someone_is_of_working_age = (\n",
    "    (person1_age >= 18 and person1_age <= 65)\n",
    "    or (person2_age >= 18 and person2_age <= 65)\n",
    "    or (person3_age >= 18 and person3_age <= 65)\n",
    ")\n",
    "someone_is_of_working_age"
   ]
  },
  {
   "cell_type": "markdown",
   "id": "0d36ee60",
   "metadata": {},
   "source": [
    "## Make Calendar"
   ]
  },
  {
   "cell_type": "code",
   "execution_count": 74,
   "id": "59fe1473",
   "metadata": {},
   "outputs": [
    {
     "name": "stdout",
     "output_type": "stream",
     "text": [
      "Enter Year:2030\n",
      "Enter Month:12\n",
      "   December 2030\n",
      "Mo Tu We Th Fr Sa Su\n",
      "                   1\n",
      " 2  3  4  5  6  7  8\n",
      " 9 10 11 12 13 14 15\n",
      "16 17 18 19 20 21 22\n",
      "23 24 25 26 27 28 29\n",
      "30 31\n",
      "\n"
     ]
    }
   ],
   "source": [
    "import calendar\n",
    "yy = int(input(\"Enter Year:\"))\n",
    "mm = int(input(\"Enter Month:\"))\n",
    "\n",
    "print(calendar.month(yy,mm))"
   ]
  },
  {
   "cell_type": "code",
   "execution_count": null,
   "id": "89b1a694",
   "metadata": {},
   "outputs": [],
   "source": []
  }
 ],
 "metadata": {
  "kernelspec": {
   "display_name": "Python 3 (ipykernel)",
   "language": "python",
   "name": "python3"
  },
  "language_info": {
   "codemirror_mode": {
    "name": "ipython",
    "version": 3
   },
   "file_extension": ".py",
   "mimetype": "text/x-python",
   "name": "python",
   "nbconvert_exporter": "python",
   "pygments_lexer": "ipython3",
   "version": "3.9.7"
  }
 },
 "nbformat": 4,
 "nbformat_minor": 5
}
